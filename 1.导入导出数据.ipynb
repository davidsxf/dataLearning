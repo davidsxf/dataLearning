{
 "cells": [
  {
   "cell_type": "markdown",
   "id": "93570985",
   "metadata": {},
   "source": [
    "# 一、导入导出数据"
   ]
  },
  {
   "cell_type": "markdown",
   "id": "805172e0",
   "metadata": {},
   "source": [
    "## 1. 手动输入数据"
   ]
  },
  {
   "cell_type": "markdown",
   "id": "3b6727ff",
   "metadata": {},
   "source": [
    "### 输入向量"
   ]
  },
  {
   "cell_type": "code",
   "execution_count": 4,
   "id": "1ebd8cce",
   "metadata": {},
   "outputs": [],
   "source": [
    "#创建数值向量\n",
    "numeric_values <- c(1, 3, 5, 8, 9)\n"
   ]
  },
  {
   "cell_type": "code",
   "execution_count": 6,
   "id": "82b751e9",
   "metadata": {},
   "outputs": [
    {
     "data": {
      "text/html": [
       "'numeric'"
      ],
      "text/latex": [
       "'numeric'"
      ],
      "text/markdown": [
       "'numeric'"
      ],
      "text/plain": [
       "[1] \"numeric\""
      ]
     },
     "metadata": {},
     "output_type": "display_data"
    }
   ],
   "source": [
    "#显示向量类的\n",
    "class(numeric_values)"
   ]
  },
  {
   "cell_type": "code",
   "execution_count": 8,
   "id": "bc271081",
   "metadata": {},
   "outputs": [
    {
     "data": {
      "text/html": [
       "<ol class=list-inline>\n",
       "\t<li>1</li>\n",
       "\t<li>3</li>\n",
       "\t<li>5</li>\n",
       "\t<li>8</li>\n",
       "\t<li>9</li>\n",
       "</ol>\n"
      ],
      "text/latex": [
       "\\begin{enumerate*}\n",
       "\\item 1\n",
       "\\item 3\n",
       "\\item 5\n",
       "\\item 8\n",
       "\\item 9\n",
       "\\end{enumerate*}\n"
      ],
      "text/markdown": [
       "1. 1\n",
       "2. 3\n",
       "3. 5\n",
       "4. 8\n",
       "5. 9\n",
       "\n",
       "\n"
      ],
      "text/plain": [
       "[1] 1 3 5 8 9"
      ]
     },
     "metadata": {},
     "output_type": "display_data"
    }
   ],
   "source": [
    "#显示数值向量\n",
    "numeric_values"
   ]
  },
  {
   "cell_type": "code",
   "execution_count": 9,
   "id": "b19e7c85",
   "metadata": {},
   "outputs": [
    {
     "data": {
      "text/html": [
       "8"
      ],
      "text/latex": [
       "8"
      ],
      "text/markdown": [
       "8"
      ],
      "text/plain": [
       "[1] 8"
      ]
     },
     "metadata": {},
     "output_type": "display_data"
    }
   ],
   "source": [
    "#返回向量中的第二个元素\n",
    "numeric_values[4]"
   ]
  },
  {
   "cell_type": "code",
   "execution_count": 13,
   "id": "a0556fa0",
   "metadata": {},
   "outputs": [
    {
     "data": {
      "text/html": [
       "'character'"
      ],
      "text/latex": [
       "'character'"
      ],
      "text/markdown": [
       "'character'"
      ],
      "text/plain": [
       "[1] \"character\""
      ]
     },
     "metadata": {},
     "output_type": "display_data"
    }
   ],
   "source": [
    "#创建字符向量\n",
    "char_values <- c(\"Bob\", \"Mike\", \"Tony\", \"Andy\")\n",
    "\n",
    "#显示变量类别\n",
    "class(char_values)"
   ]
  },
  {
   "cell_type": "markdown",
   "id": "0f6184dc-de52-4908-b07e-16a8b2dc9dbc",
   "metadata": {},
   "source": [
    "### 输入数据框"
   ]
  },
  {
   "cell_type": "code",
   "execution_count": 1,
   "id": "fa3d9ae3-f2b9-476f-bb66-c9f9382375e4",
   "metadata": {},
   "outputs": [
    {
     "data": {
      "text/html": [
       "<table>\n",
       "<thead><tr><th scope=col>team</th><th scope=col>points</th><th scope=col>assists</th></tr></thead>\n",
       "<tbody>\n",
       "\t<tr><td>A </td><td>12</td><td> 4</td></tr>\n",
       "\t<tr><td>A </td><td>15</td><td> 7</td></tr>\n",
       "\t<tr><td>B </td><td>17</td><td> 7</td></tr>\n",
       "\t<tr><td>B </td><td>24</td><td> 8</td></tr>\n",
       "\t<tr><td>C </td><td>27</td><td>12</td></tr>\n",
       "</tbody>\n",
       "</table>\n"
      ],
      "text/latex": [
       "\\begin{tabular}{r|lll}\n",
       " team & points & assists\\\\\n",
       "\\hline\n",
       "\t A  & 12 &  4\\\\\n",
       "\t A  & 15 &  7\\\\\n",
       "\t B  & 17 &  7\\\\\n",
       "\t B  & 24 &  8\\\\\n",
       "\t C  & 27 & 12\\\\\n",
       "\\end{tabular}\n"
      ],
      "text/markdown": [
       "\n",
       "| team | points | assists |\n",
       "|---|---|---|\n",
       "| A  | 12 |  4 |\n",
       "| A  | 15 |  7 |\n",
       "| B  | 17 |  7 |\n",
       "| B  | 24 |  8 |\n",
       "| C  | 27 | 12 |\n",
       "\n"
      ],
      "text/plain": [
       "  team points assists\n",
       "1 A    12      4     \n",
       "2 A    15      7     \n",
       "3 B    17      7     \n",
       "4 B    24      8     \n",
       "5 C    27     12     "
      ]
     },
     "metadata": {},
     "output_type": "display_data"
    }
   ],
   "source": [
    "#创建数据框\n",
    "df <- data.frame(team=c(\"A\", \"A\", \"B\", \"B\", \"C\"),\n",
    "                 points=c(12, 15, 17, 24, 27),\n",
    "                 assists=c(4, 7, 7, 8, 12))\n",
    "\n",
    "#显示数据框内容\n",
    "df"
   ]
  },
  {
   "cell_type": "code",
   "execution_count": 3,
   "id": "56ee0edb-138d-484e-aa50-3f236d6c396f",
   "metadata": {},
   "outputs": [
    {
     "data": {
      "text/html": [
       "'data.frame'"
      ],
      "text/latex": [
       "'data.frame'"
      ],
      "text/markdown": [
       "'data.frame'"
      ],
      "text/plain": [
       "[1] \"data.frame\""
      ]
     },
     "metadata": {},
     "output_type": "display_data"
    },
    {
     "data": {
      "text/html": [
       "8"
      ],
      "text/latex": [
       "8"
      ],
      "text/markdown": [
       "8"
      ],
      "text/plain": [
       "[1] 8"
      ]
     },
     "metadata": {},
     "output_type": "display_data"
    }
   ],
   "source": [
    "#显示数据框的类别\n",
    "class(df)\n",
    "\n",
    "#显示第4行第3列的值\n",
    "df[4, 3]\n"
   ]
  },
  {
   "cell_type": "markdown",
   "id": "1190fc74-2a43-4090-a6a9-e6fa4f17497c",
   "metadata": {},
   "source": [
    "### 输入矩阵"
   ]
  },
  {
   "cell_type": "code",
   "execution_count": 4,
   "id": "068c833d-1c93-4bff-9389-2704b5fc28d1",
   "metadata": {},
   "outputs": [
    {
     "data": {
      "text/html": [
       "<table>\n",
       "<thead><tr><th scope=col>points</th><th scope=col>assists</th></tr></thead>\n",
       "<tbody>\n",
       "\t<tr><td>12</td><td> 4</td></tr>\n",
       "\t<tr><td>15</td><td> 7</td></tr>\n",
       "\t<tr><td>17</td><td> 7</td></tr>\n",
       "\t<tr><td>24</td><td> 8</td></tr>\n",
       "\t<tr><td>27</td><td>12</td></tr>\n",
       "</tbody>\n",
       "</table>\n"
      ],
      "text/latex": [
       "\\begin{tabular}{ll}\n",
       " points & assists\\\\\n",
       "\\hline\n",
       "\t 12 &  4\\\\\n",
       "\t 15 &  7\\\\\n",
       "\t 17 &  7\\\\\n",
       "\t 24 &  8\\\\\n",
       "\t 27 & 12\\\\\n",
       "\\end{tabular}\n"
      ],
      "text/markdown": [
       "\n",
       "| points | assists |\n",
       "|---|---|\n",
       "| 12 |  4 |\n",
       "| 15 |  7 |\n",
       "| 17 |  7 |\n",
       "| 24 |  8 |\n",
       "| 27 | 12 |\n",
       "\n"
      ],
      "text/plain": [
       "     points assists\n",
       "[1,] 12      4     \n",
       "[2,] 15      7     \n",
       "[3,] 17      7     \n",
       "[4,] 24      8     \n",
       "[5,] 27     12     "
      ]
     },
     "metadata": {},
     "output_type": "display_data"
    },
    {
     "data": {
      "text/html": [
       "'matrix'"
      ],
      "text/latex": [
       "'matrix'"
      ],
      "text/markdown": [
       "'matrix'"
      ],
      "text/plain": [
       "[1] \"matrix\""
      ]
     },
     "metadata": {},
     "output_type": "display_data"
    },
    {
     "data": {
      "text/html": [
       "<strong>assists:</strong> 8"
      ],
      "text/latex": [
       "\\textbf{assists:} 8"
      ],
      "text/markdown": [
       "**assists:** 8"
      ],
      "text/plain": [
       "assists \n",
       "      8 "
      ]
     },
     "metadata": {},
     "output_type": "display_data"
    },
    {
     "data": {
      "text/html": [
       "<ol class=list-inline>\n",
       "\t<li>4</li>\n",
       "\t<li>7</li>\n",
       "\t<li>7</li>\n",
       "\t<li>8</li>\n",
       "\t<li>12</li>\n",
       "</ol>\n"
      ],
      "text/latex": [
       "\\begin{enumerate*}\n",
       "\\item 4\n",
       "\\item 7\n",
       "\\item 7\n",
       "\\item 8\n",
       "\\item 12\n",
       "\\end{enumerate*}\n"
      ],
      "text/markdown": [
       "1. 4\n",
       "2. 7\n",
       "3. 7\n",
       "4. 8\n",
       "5. 12\n",
       "\n",
       "\n"
      ],
      "text/plain": [
       "[1]  4  7  7  8 12"
      ]
     },
     "metadata": {},
     "output_type": "display_data"
    }
   ],
   "source": [
    "#创建2行5列矩阵\n",
    "points=c(12, 15, 17, 24, 27)\n",
    "assists=c(4, 7, 7, 8, 12)\n",
    "\n",
    "#column bind the two vectors together to create a matrix\n",
    "mat <- cbind(points, assists)\n",
    "\n",
    "#display matrix\n",
    "mat\n",
    "\n",
    "\n",
    "#display class of mat\n",
    "class(mat)\n",
    "\n",
    "#return value in fourth row and second column\n",
    "mat[4, 2]\n",
    "\n",
    "assists \n"
   ]
  },
  {
   "cell_type": "markdown",
   "id": "8af7a94a-2463-40b2-a470-285f36df8f8d",
   "metadata": {},
   "source": [
    "## 2. 保存和加载RDA文件"
   ]
  },
  {
   "cell_type": "code",
   "execution_count": 5,
   "id": "00d632a2-ed62-4265-a072-be07eadd548f",
   "metadata": {},
   "outputs": [],
   "source": [
    "save(df, file='my_data.rda')"
   ]
  },
  {
   "cell_type": "code",
   "execution_count": null,
   "id": "0da70a89-e50e-40e9-a401-d8a045ca837e",
   "metadata": {},
   "outputs": [],
   "source": [
    "load(file='my_data.rda')"
   ]
  },
  {
   "cell_type": "markdown",
   "id": "23c320bd-2e7d-4d27-99c9-a5f83355c9c5",
   "metadata": {},
   "source": [
    "### 实例"
   ]
  },
  {
   "cell_type": "code",
   "execution_count": 6,
   "id": "c4338cd8-9f8c-4f40-bb2f-fff46f06beee",
   "metadata": {},
   "outputs": [
    {
     "data": {
      "text/html": [
       "<table>\n",
       "<thead><tr><th scope=col>x</th><th scope=col>y</th><th scope=col>z</th></tr></thead>\n",
       "<tbody>\n",
       "\t<tr><td> 1.2629543</td><td> 0.7818592</td><td>-1.0457177</td></tr>\n",
       "\t<tr><td>-0.3262334</td><td>-0.7767766</td><td>-0.8962113</td></tr>\n",
       "\t<tr><td> 1.3297993</td><td>-0.6159899</td><td> 1.2693872</td></tr>\n",
       "\t<tr><td> 1.2724293</td><td> 0.0465803</td><td> 0.5938409</td></tr>\n",
       "\t<tr><td> 0.4146414</td><td>-1.1303858</td><td> 0.7756343</td></tr>\n",
       "\t<tr><td>-1.5399500</td><td> 0.5767188</td><td> 1.5573704</td></tr>\n",
       "</tbody>\n",
       "</table>\n"
      ],
      "text/latex": [
       "\\begin{tabular}{r|lll}\n",
       " x & y & z\\\\\n",
       "\\hline\n",
       "\t  1.2629543 &  0.7818592 & -1.0457177\\\\\n",
       "\t -0.3262334 & -0.7767766 & -0.8962113\\\\\n",
       "\t  1.3297993 & -0.6159899 &  1.2693872\\\\\n",
       "\t  1.2724293 &  0.0465803 &  0.5938409\\\\\n",
       "\t  0.4146414 & -1.1303858 &  0.7756343\\\\\n",
       "\t -1.5399500 &  0.5767188 &  1.5573704\\\\\n",
       "\\end{tabular}\n"
      ],
      "text/markdown": [
       "\n",
       "| x | y | z |\n",
       "|---|---|---|\n",
       "|  1.2629543 |  0.7818592 | -1.0457177 |\n",
       "| -0.3262334 | -0.7767766 | -0.8962113 |\n",
       "|  1.3297993 | -0.6159899 |  1.2693872 |\n",
       "|  1.2724293 |  0.0465803 |  0.5938409 |\n",
       "|  0.4146414 | -1.1303858 |  0.7756343 |\n",
       "| -1.5399500 |  0.5767188 |  1.5573704 |\n",
       "\n"
      ],
      "text/plain": [
       "  x          y          z         \n",
       "1  1.2629543  0.7818592 -1.0457177\n",
       "2 -0.3262334 -0.7767766 -0.8962113\n",
       "3  1.3297993 -0.6159899  1.2693872\n",
       "4  1.2724293  0.0465803  0.5938409\n",
       "5  0.4146414 -1.1303858  0.7756343\n",
       "6 -1.5399500  0.5767188  1.5573704"
      ]
     },
     "metadata": {},
     "output_type": "display_data"
    }
   ],
   "source": [
    "#make this example reproducible\n",
    "set.seed(0)\n",
    "\n",
    "#create data frame\n",
    "df <- data.frame(x=rnorm(100),\n",
    "                 y=rnorm(100),\n",
    "                 z=rnorm(100))\n",
    "\n",
    "#view data frame\n",
    "head(df)"
   ]
  },
  {
   "cell_type": "code",
   "execution_count": 7,
   "id": "0076ce18-3241-45fe-9c18-58f4536ea65f",
   "metadata": {},
   "outputs": [
    {
     "data": {
      "text/html": [
       "'E:/projects/R/R_Guides'"
      ],
      "text/latex": [
       "'E:/projects/R/R\\_Guides'"
      ],
      "text/markdown": [
       "'E:/projects/R/R_Guides'"
      ],
      "text/plain": [
       "[1] \"E:/projects/R/R_Guides\""
      ]
     },
     "metadata": {},
     "output_type": "display_data"
    }
   ],
   "source": [
    "#display working directory\n",
    "getwd()"
   ]
  },
  {
   "cell_type": "code",
   "execution_count": null,
   "id": "c78f9e33-163d-49c8-a88d-05b2a97159fc",
   "metadata": {},
   "outputs": [],
   "source": [
    "#remove data frame from current R environment\n",
    "rm(df)"
   ]
  },
  {
   "cell_type": "markdown",
   "id": "2fe86b08-3654-4940-861b-4ac1307ef72c",
   "metadata": {},
   "source": [
    "## 3.导入csv文件"
   ]
  },
  {
   "cell_type": "markdown",
   "id": "47307a72-686b-466c-a55b-9c93637c404f",
   "metadata": {},
   "source": [
    "假设文件路径是：  C:\\Users\\Bob\\Desktop\\data.csv\n",
    "\n",
    "1. 使用base R中的read.csv (比较慢, 小数据集可以)"
   ]
  },
  {
   "cell_type": "code",
   "execution_count": null,
   "id": "526daa88-4824-499e-8035-5135eadabb97",
   "metadata": {},
   "outputs": [],
   "source": [
    "data1 <- read.csv(\"C:\\\\Users\\\\Bob\\\\Desktop\\\\data.csv\", header=TRUE, stringsAsFactors=FALSE)  #tringsAsFactors=FALSE 后面版本不用\n",
    "str(data1)"
   ]
  },
  {
   "cell_type": "code",
   "execution_count": null,
   "id": "12cf2088-22d4-45e1-9b13-d5b40209346d",
   "metadata": {},
   "outputs": [],
   "source": [
    "#Use read_csv from readr package (2-3x faster than read.csv)\n",
    "\n",
    "library(readr)\n",
    "\n",
    "data2 <- read_csv(\"C:\\\\Users\\\\Bob\\\\Desktop\\\\data.csv\")\n",
    "str(data2)"
   ]
  },
  {
   "cell_type": "code",
   "execution_count": null,
   "id": "50d3a08c-d1c0-4854-8741-b2055c77e0fb",
   "metadata": {},
   "outputs": [],
   "source": [
    "#Use fread from data.table package (2-3x faster than read_csv)\n",
    "\n",
    "library(data.table)\n",
    "\n",
    "data3 <- fread(\"C:\\\\Users\\\\Bob\\\\Desktop\\\\data.csv\")\n",
    "str(data3)\n"
   ]
  },
  {
   "cell_type": "markdown",
   "id": "3c1d6a30-e1c7-48ce-9e95-ee0751441eb1",
   "metadata": {},
   "source": [
    "## 4.从URL读取CSV  "
   ]
  },
  {
   "cell_type": "code",
   "execution_count": null,
   "id": "afea88b2-cf39-4630-941e-92c57b1f7b36",
   "metadata": {},
   "outputs": [],
   "source": [
    "#Method 1: Use Base R\n",
    "\n",
    "data <- read.csv('https://website.com/data.csv')\n",
    "\n",
    "head(data)"
   ]
  },
  {
   "cell_type": "code",
   "execution_count": null,
   "id": "de3ccdf0-0def-416b-a1bc-ebe3e7661867",
   "metadata": {},
   "outputs": [],
   "source": [
    "#Method 2: Use data.table Package\n",
    "\n",
    "library(data.table)\n",
    "\n",
    "data <- fread('https://website.com/data.csv')\n",
    "head(data)"
   ]
  },
  {
   "cell_type": "code",
   "execution_count": null,
   "id": "65d459ab-82a0-4507-91c0-592f116707b3",
   "metadata": {},
   "outputs": [],
   "source": [
    "#Method 3: Use readr Package\n",
    "\n",
    "library(readr)\n",
    "\n",
    "data <- read_csv('https://website.com/data.csv')\n",
    "head(data)"
   ]
  },
  {
   "cell_type": "markdown",
   "id": "701e67cd-9200-452b-aa31-bba7fab780f8",
   "metadata": {},
   "source": [
    "## 5. 合并多个 CSV 文件"
   ]
  },
  {
   "cell_type": "code",
   "execution_count": null,
   "id": "9532de7d-78a8-4b30-844a-58fefe58511a",
   "metadata": {},
   "outputs": [],
   "source": [
    "#加载合并同个文件夹下的多个CSV文件 \n",
    "df <- list.files(path='C:/my/path/to/files') %>% \n",
    "  lapply(read_csv) %>% \n",
    "  bind_rows"
   ]
  },
  {
   "cell_type": "markdown",
   "id": "c44d6aeb-993d-4313-8daf-474be5e4b91a",
   "metadata": {},
   "source": [
    "#### Step 1: Create & Export Multiple Data Frames\n",
    "First, we’ll use the following code to create and export three data frames to CSV files:"
   ]
  },
  {
   "cell_type": "code",
   "execution_count": 10,
   "id": "7092bc22-f310-4dbe-a999-0b945536a5b6",
   "metadata": {},
   "outputs": [],
   "source": [
    "\n",
    "#create three data frames\n",
    "df1 <- data.frame(points=c(4, 5, 5, 6, 8, 9),\n",
    "                  assists=c(3, 2, 4, 4, 6, 3))\n",
    "\n",
    "df2 <- data.frame(points=c(2, 10, 14, 15),\n",
    "                  assists=c(3, 2, 9, 3))\n",
    "\n",
    "df3 <- data.frame(points=c(6, 8, 9),\n",
    "                  assists=c(10, 6, 4))\n",
    "\n",
    "#export all three data frames to CSV files\n",
    "write.csv(df1, './df1.csv', row.names=FALSE)\n",
    "write.csv(df2, './df2.csv', row.names=FALSE)\n",
    "write.csv(df3, './df3.csv', row.names=FALSE)"
   ]
  },
  {
   "cell_type": "markdown",
   "id": "208bbcee-68c5-4988-a9f6-5791ed33fb6b",
   "metadata": {},
   "source": [
    "#### Step 2: Import & Merge Multiple CSV Files\n",
    "Next, we’ll use the following code to import and merge all three CSV files into one data frame in R:"
   ]
  },
  {
   "cell_type": "code",
   "execution_count": 44,
   "id": "3e84e9f6-2d2a-4ae6-84fe-226def44b1f1",
   "metadata": {},
   "outputs": [
    {
     "name": "stderr",
     "output_type": "stream",
     "text": [
      "Parsed with column specification:\n",
      "cols(\n",
      "  points = col_double(),\n",
      "  assists = col_double()\n",
      ")\n"
     ]
    },
    {
     "data": {
      "text/html": [
       "<table>\n",
       "<thead><tr><th scope=col>points</th><th scope=col>assists</th></tr></thead>\n",
       "<tbody>\n",
       "\t<tr><td>6 </td><td>10</td></tr>\n",
       "\t<tr><td>8 </td><td> 6</td></tr>\n",
       "\t<tr><td>9 </td><td> 4</td></tr>\n",
       "</tbody>\n",
       "</table>\n"
      ],
      "text/latex": [
       "\\begin{tabular}{r|ll}\n",
       " points & assists\\\\\n",
       "\\hline\n",
       "\t 6  & 10\\\\\n",
       "\t 8  &  6\\\\\n",
       "\t 9  &  4\\\\\n",
       "\\end{tabular}\n"
      ],
      "text/markdown": [
       "\n",
       "| points | assists |\n",
       "|---|---|\n",
       "| 6  | 10 |\n",
       "| 8  |  6 |\n",
       "| 9  |  4 |\n",
       "\n"
      ],
      "text/plain": [
       "  points assists\n",
       "1 6      10     \n",
       "2 8       6     \n",
       "3 9       4     "
      ]
     },
     "metadata": {},
     "output_type": "display_data"
    }
   ],
   "source": [
    "library(dplyr)\n",
    "library(readr)\n",
    "\n",
    "#加载合并同个文件夹下的多个CSV文件 \n",
    "df <- list.files(pattern=\"*.csv\") %>% \n",
    "  lapply(read_csv) %>% \n",
    "  bind_rows \n",
    "\n",
    "#view resulting data frame\n",
    "df"
   ]
  },
  {
   "cell_type": "markdown",
   "id": "533ecdd4-1c85-4943-83ba-79339656af3e",
   "metadata": {},
   "source": [
    "#### Download Files from the Internet Using R\n"
   ]
  },
  {
   "cell_type": "code",
   "execution_count": null,
   "id": "48154d38-642d-4aa3-8ff2-8ed4dfba9e49",
   "metadata": {},
   "outputs": [],
   "source": [
    "\n",
    "#define URL location\n",
    "url<-\"https://data.cityofnewyork.us/api/views/brsj-szf5/rows.csv?accessType=DOWNLOAD\"\n",
    "Step 2: Define Destination for File\n",
    "Next, I’ll define the destination to save the file to:\n",
    "\n",
    "#define destination for file\n",
    "destfile <- \"C:/Users/Bob/Downloads\"\n",
    "Step 3: Download and View File\n",
    "Next, I’ll use the following code to download the file:\n",
    "\n",
    "#download file and save in specified destination\n",
    "download.file(url, destfile)"
   ]
  },
  {
   "cell_type": "markdown",
   "id": "17eff069-2e68-49f4-9b80-372d40d92e4b",
   "metadata": {
    "tags": []
   },
   "source": [
    "## 6.readLines()"
   ]
  },
  {
   "cell_type": "markdown",
   "id": "22e702fe-fdb6-45d6-a15e-4dd395321ba0",
   "metadata": {},
   "source": [
    "#### 例子1"
   ]
  },
  {
   "cell_type": "code",
   "execution_count": null,
   "id": "986b7ea1-d714-4010-a072-f090e1cfa7ad",
   "metadata": {},
   "outputs": [],
   "source": [
    "#read every line from some_data.txt\n",
    "readLines(\"C:/Users/Bob/Documents/some_data.txt\")\n",
    "\n",
    "[1] \"The first line of the file\"  \"The second line of the file\"\n",
    "[3] \"The third line of the file\"  \"The fourth line of the file\"\n",
    "[5] \"The fifth line of the file\"  \"The sixth line of the file\"  "
   ]
  },
  {
   "cell_type": "markdown",
   "id": "aca702b6-8be7-4655-b3fe-423e509206ae",
   "metadata": {},
   "source": [
    "#### 例子2"
   ]
  },
  {
   "cell_type": "code",
   "execution_count": null,
   "id": "2d7ebcc2-5293-4d86-a665-3caf0ab9b663",
   "metadata": {},
   "outputs": [],
   "source": [
    "#read every line from some_data.txt\n",
    "my_data <- readLines(\"C:/Users/Bob/Documents/some_data.txt\")\n",
    "\n",
    "#create data frame\n",
    "df = data.frame(values=my_data)\n",
    "\n",
    "#view data frame\n",
    "df\n",
    "\n",
    "                       values\n",
    "1  The first line of the file\n",
    "2 The second line of the file\n",
    "3  The third line of the file\n",
    "4 The fourth line of the file\n",
    "5  The fifth line of the file\n",
    "6  The sixth line of the file"
   ]
  },
  {
   "cell_type": "code",
   "execution_count": null,
   "id": "be1b7d04-4b38-4fbd-bc33-7d34f31d9d82",
   "metadata": {},
   "outputs": [],
   "source": [
    "#read first 4 lines from some_data.txt\n",
    "my_data <- readLines(\"C:/Users/Bob/Documents/some_data.txt\", n=4)\n",
    "\n",
    "#display second line only\n",
    "my_data[2]\n",
    "\n",
    "[1] \"The second line of the file\""
   ]
  },
  {
   "cell_type": "markdown",
   "id": "94ed1e50-0e0c-4bc5-9672-d7656e3f5238",
   "metadata": {},
   "source": [
    "## 7.读取Zip Files"
   ]
  },
  {
   "cell_type": "code",
   "execution_count": null,
   "id": "6d7c6bba-2726-4916-b322-98973537edcd",
   "metadata": {},
   "outputs": [],
   "source": [
    "library(readr)\n",
    "\n",
    "#import data1.csv located within my_data.zip\n",
    "df <- read_csv(unzip(\"my_data.zip\", \"data1.csv\"))"
   ]
  },
  {
   "cell_type": "markdown",
   "id": "a9e0315a-a596-4bff-b159-9379ed3c6935",
   "metadata": {},
   "source": [
    "## 8.查看文件list.files() "
   ]
  },
  {
   "cell_type": "code",
   "execution_count": null,
   "id": "9f6d7bcf-85de-4680-aafc-ae664f3a2275",
   "metadata": {},
   "outputs": [],
   "source": [
    "#display all files in my_data_files folder\n",
    "list.files('C:/Users/bob/Documents/my_data_files')\n",
    "\n",
    "[1] \"df1.csv\"       \"df2.csv\"       \"df3.csv\"   \"more_data.txt\" \"some_data.txt\""
   ]
  },
  {
   "cell_type": "code",
   "execution_count": null,
   "id": "c2307b9e-23c6-40fb-b49d-4c401235419b",
   "metadata": {},
   "outputs": [],
   "source": [
    "#display total number of files in my_data_files folder\n",
    "length(list.files('C:/Users/bob/Documents/my_data_files'))\n",
    "\n",
    "[1] 5"
   ]
  },
  {
   "cell_type": "code",
   "execution_count": null,
   "id": "f6f4eb7d-c558-49e5-b4d4-fb979a1309fd",
   "metadata": {},
   "outputs": [],
   "source": [
    "#display first three files in my_data_files folder\n",
    "list.files('C:/Users/bob/Documents/my_data_files')[1:3]\n",
    "\n",
    "[1] \"df1.csv\"       \"df2.csv\"       \"df3.csv\""
   ]
  },
  {
   "cell_type": "code",
   "execution_count": null,
   "id": "cdd7e0e5-9e1d-4951-923c-7b49673c9637",
   "metadata": {},
   "outputs": [],
   "source": [
    "#display all files with CSV extension in my_data_files folder\n",
    "list.files('C:/Users/bob/Documents/my_data_files', pattern='csv')\n",
    "\n",
    "[1] \"df1.csv\" \"df2.csv\" \"df3.csv\""
   ]
  },
  {
   "cell_type": "code",
   "execution_count": null,
   "id": "71ccfeca-4148-49e8-b205-7326e5ceaea4",
   "metadata": {},
   "outputs": [],
   "source": [
    "#display all files that contain 'data' in file name\n",
    "list.files('C:/Users/bob/Documents/my_data_files', pattern='data')\n",
    "\n",
    "[1] \"more_data.txt\" \"some_data.txt\""
   ]
  },
  {
   "cell_type": "markdown",
   "id": "d898ee9f-c0f9-44fe-8db2-6c9ded399dfc",
   "metadata": {},
   "source": [
    "## 9.导入Excel 文件"
   ]
  },
  {
   "cell_type": "code",
   "execution_count": null,
   "id": "bb1717f7-78f6-4df6-8496-cd68ac1e6dd0",
   "metadata": {},
   "outputs": [],
   "source": [
    "#install and load readxl package\n",
    "install.packages('readxl')\n",
    "library(readxl)\n",
    "\n",
    "#import Excel file into R\n",
    "data <- read_excel('C:\\\\Users\\\\Bob\\\\Desktop\\\\data.xlsx')"
   ]
  },
  {
   "cell_type": "markdown",
   "id": "0e57a7ce-ee90-49a7-871e-cc3f7a58a051",
   "metadata": {},
   "source": [
    "## 10.导入 SPSS文件"
   ]
  },
  {
   "cell_type": "code",
   "execution_count": null,
   "id": "8878489b-c7bb-4a4d-a04e-026bf1f9f37a",
   "metadata": {},
   "outputs": [],
   "source": [
    "library(haven)\n",
    "data <- read_sav('C:/Users/bob/Downloads/healthdata.sav')"
   ]
  },
  {
   "cell_type": "markdown",
   "id": "e3fa6bf2-4834-496f-b6a3-dd590c0ab83a",
   "metadata": {},
   "source": [
    "## 11.导出数据框"
   ]
  },
  {
   "cell_type": "code",
   "execution_count": null,
   "id": "a4a19aa1-6eb1-4d33-8a62-18e0993cf0e8",
   "metadata": {},
   "outputs": [],
   "source": [
    "#Use write.csv from base R\n",
    "write.csv(df, \"C:\\\\Users\\\\Bob\\\\Desktop\\\\data.csv\", row.names=FALSE)"
   ]
  },
  {
   "cell_type": "code",
   "execution_count": null,
   "id": "1d5663e9-16fe-4f96-8c75-6d42a8ddd697",
   "metadata": {},
   "outputs": [],
   "source": [
    "#Use write_csv from reader package\n",
    "library(readr)\n",
    "\n",
    "write_csv(df, \"C:\\\\Users\\\\Bob\\\\Desktop\\\\data.csv\")"
   ]
  },
  {
   "cell_type": "code",
   "execution_count": null,
   "id": "e989db1c-435c-44eb-beaa-2f98124c5a9f",
   "metadata": {},
   "outputs": [],
   "source": [
    "#Use fwrite from data.table package（ a faster way）\n",
    "library(data.table)\n",
    "\n",
    "fwrite(df, \"C:\\\\Users\\\\Bob\\\\Desktop\\\\data.csv\")"
   ]
  },
  {
   "cell_type": "markdown",
   "id": "5481cdfa-a5f9-4b1e-a9f4-ab81792f4659",
   "metadata": {},
   "source": [
    "## 12.数据框导出excel"
   ]
  },
  {
   "cell_type": "code",
   "execution_count": null,
   "id": "539d1015-34e0-4375-b6c0-b57a353567b1",
   "metadata": {},
   "outputs": [],
   "source": [
    "#install and load writexl package\n",
    "install.packages('writexl')\n",
    "library(writexl)\n",
    "\n",
    "write_xlsx(df, 'C:\\\\Users\\\\Bob\\\\Desktop\\\\data.xlsx')"
   ]
  },
  {
   "cell_type": "markdown",
   "id": "6a41b569-9aac-4400-8f21-f2319d24a197",
   "metadata": {},
   "source": [
    "## 13.导出excel多个数据表"
   ]
  },
  {
   "cell_type": "code",
   "execution_count": null,
   "id": "4844bb1e-353c-4185-996d-39665b9522e2",
   "metadata": {},
   "outputs": [],
   "source": [
    "#define data frames\n",
    "df1 = data.frame(playerID=c(1, 2, 3, 4),\n",
    "                 team=c('A', 'B', 'B', 'C'))\n",
    "\n",
    "df2 = data.frame(playerID=c(1, 2, 3, 4),\n",
    "                 rebounds=c(7, 8, 8, 14))\n",
    "\n",
    "df3 = data.frame(playerID=c(1, 2, 3, 4),\n",
    "                 points=c(19, 22, 25, 29))"
   ]
  },
  {
   "cell_type": "code",
   "execution_count": null,
   "id": "9bd8d702-7ea7-4793-a0f7-2740dcbfef8c",
   "metadata": {},
   "outputs": [],
   "source": [
    "library(openxlsx)\n",
    "\n",
    "#define sheet names for each data frame\n",
    "dataset_names <- list('Sheet1' = df1, 'Sheet2' = df2, 'Sheet3' = df3)\n",
    "\n",
    "#export each data frame to separate sheets in same Excel file\n",
    "openxlsx::write.xlsx(dataset_names, file = 'mydata.xlsx') "
   ]
  },
  {
   "cell_type": "markdown",
   "id": "dba827bc-fa1c-4fb5-bf22-e6e635ace1bf",
   "metadata": {},
   "source": [
    "## 14.导出多个图形到pdf"
   ]
  },
  {
   "cell_type": "markdown",
   "id": "ce5f7cf8-fe86-417e-8356-73ec1654f109",
   "metadata": {},
   "source": [
    "#### 多图保存到一页"
   ]
  },
  {
   "cell_type": "code",
   "execution_count": null,
   "id": "dd57e770-1564-45b4-a732-247223117819",
   "metadata": {},
   "outputs": [],
   "source": [
    "#specify path to save PDF to\n",
    "destination = 'C:\\\\Users\\\\Bob\\\\Documents\\\\my_plots.pdf'\n",
    "\n",
    "#open PDF\n",
    "pdf(file=destination)\n",
    "\n",
    "#specify to save plots in 2x2 grid\n",
    "par(mfrow = c(2,2))\n",
    "\n",
    "#save plots to PDF\n",
    "for (i in 1:4) {   \n",
    "  x=rnorm(i)  \n",
    "  y=rnorm(i)  \n",
    "  plot(x, y)   \n",
    "}\n",
    "\n",
    "#turn off PDF plotting\n",
    "dev.off() "
   ]
  },
  {
   "cell_type": "markdown",
   "id": "6137f033-068b-4b6e-b639-c4b5945ef679",
   "metadata": {},
   "source": [
    "#### 多图保存到不同页"
   ]
  },
  {
   "cell_type": "code",
   "execution_count": null,
   "id": "c1b70baa-88c6-42f1-b46d-49ca2aaf9664",
   "metadata": {},
   "outputs": [],
   "source": [
    "#specify path to save PDF to\n",
    "destination = 'C:\\\\Users\\\\Bob\\\\Documents\\\\my_plots.pdf'\n",
    "\n",
    "#open PDF\n",
    "pdf(file=destination)\n",
    "\n",
    "#save plots to PDF\n",
    "for (i in 1:4) {   \n",
    "  x=rnorm(i)  \n",
    "  y=rnorm(i)  \n",
    "  plot(x, y)   \n",
    "}\n",
    "\n",
    "#turn off PDF plotting\n",
    "dev.off() "
   ]
  },
  {
   "cell_type": "markdown",
   "id": "33f4cd31-6eee-4477-aafd-494b73b5e62b",
   "metadata": {},
   "source": [
    "## 15.使用colClasses快速导入数据"
   ]
  },
  {
   "cell_type": "code",
   "execution_count": null,
   "id": "e3d39ea1-b6ff-49e9-9d3f-577f4e4c3ef7",
   "metadata": {},
   "outputs": [],
   "source": [
    "#import CSV file\n",
    "df <- read.csv('my_data.csv',\n",
    "               colClasses=c('character', 'numeric', 'numeric'))\n",
    "\n",
    "#view class of each column in data frame\n",
    "str(df)\n",
    "\n",
    "'data.frame':\t14 obs. of  3 variables:\n",
    " $ team    : chr  \"Mavs\" \"Spurs\" \"Hornets\" \"Rockets\" ...\n",
    " $ points  : num  91 99 104 103 105 88 89 93 96 99 ...\n",
    " $ rebounds: num  33 23 26 25 25 26 29 30 34 23 ..."
   ]
  },
  {
   "cell_type": "code",
   "execution_count": null,
   "id": "653716a0-3328-40c6-b902-ee837b5965e4",
   "metadata": {},
   "outputs": [],
   "source": [
    "#import CSV file\n",
    "df <- read.csv('my_data.csv',\n",
    "               colClasses=c('character'))\n",
    "\n",
    "#view class of each column in data frame\n",
    "str(df)\n",
    "\n",
    "'data.frame':\t14 obs. of  3 variables:\n",
    " $ team    : chr  \"Mavs\" \"Spurs\" \"Hornets\" \"Rockets\" ...\n",
    " $ points  : chr  \"91\" \"99\" \"104\" \"103\" ...\n",
    " $ rebounds: chr  \"33\" \"23\" \"26\" \"25\" ..."
   ]
  },
  {
   "cell_type": "markdown",
   "id": "4f678d80-7aa4-4605-a4e2-0bf416016d08",
   "metadata": {},
   "source": [
    "- character: “hey”, “there”, “world”\n",
    "- complex: as.complex(-1), 4i\n",
    "-numeric: as.integer(20), 3L\n",
    "-integer: 4, 12, 158\n",
    "-logical: TRUE, FALSE"
   ]
  },
  {
   "cell_type": "markdown",
   "id": "a6203cbd-fa95-4e87-acea-debf8b4e802b",
   "metadata": {},
   "source": [
    "## 16.使用read.delim（）函数将分隔符的文本文件读入 R。"
   ]
  },
  {
   "cell_type": "code",
   "execution_count": null,
   "id": "ba7adc79-5bb6-4dc4-a177-31ddf58814f8",
   "metadata": {},
   "outputs": [],
   "source": [
    "read.delim(file, header=TRUE, sep=’\\t’)\n"
   ]
  },
  {
   "cell_type": "markdown",
   "id": "de6aa563-6990-4f24-a429-688278657e94",
   "metadata": {},
   "source": [
    "## 17.导出数据框"
   ]
  },
  {
   "cell_type": "code",
   "execution_count": null,
   "id": "9d202b25-e33e-4b47-ae5c-a95daa106976",
   "metadata": {},
   "outputs": [],
   "source": [
    "#export data frame to Desktop\n",
    "write.table(df, file='C:\\\\Users\\\\bob\\\\Desktop\\\\data.txt')"
   ]
  },
  {
   "cell_type": "markdown",
   "id": "5bcab18d-623c-4e0b-877c-52956e764f98",
   "metadata": {},
   "source": [
    "## 18.导出Excel file\n"
   ]
  },
  {
   "cell_type": "code",
   "execution_count": null,
   "id": "44c6b86b-2f38-4fbc-b07e-aa09e6274f3b",
   "metadata": {},
   "outputs": [],
   "source": [
    "write.xlsx(df, 'my_data.xlsx', sheetName = 'basketball_data', row.names=FALSE)"
   ]
  },
  {
   "cell_type": "markdown",
   "id": "7a170899-7f04-4199-8d74-fd89fc73cd5e",
   "metadata": {},
   "source": [
    "## 19.工作目录操作 "
   ]
  },
  {
   "cell_type": "code",
   "execution_count": null,
   "id": "de3aba59-30d3-4c55-a483-de898a4deeed",
   "metadata": {},
   "outputs": [],
   "source": [
    "#display current working directory\n",
    "getwd()\n",
    "\n",
    "[1] \"C:/Users/Bob/Desktop\""
   ]
  },
  {
   "cell_type": "code",
   "execution_count": null,
   "id": "fe1ad778-d84c-4345-8f6e-7cad71e41042",
   "metadata": {},
   "outputs": [],
   "source": [
    "#set working directory\n",
    "setwd('C:/Users/Bob/Documents')"
   ]
  },
  {
   "cell_type": "code",
   "execution_count": null,
   "id": "fe3002af-846d-4beb-9f04-ea56c6589739",
   "metadata": {},
   "outputs": [],
   "source": [
    "#check if file 'analysis3.R' exists in working directory\n",
    "'analysis3.R' %in% list.files()\n",
    "[1] TRUE"
   ]
  }
 ],
 "metadata": {
  "kernelspec": {
   "display_name": "R",
   "language": "R",
   "name": "ir"
  },
  "language_info": {
   "codemirror_mode": "r",
   "file_extension": ".r",
   "mimetype": "text/x-r-source",
   "name": "R",
   "pygments_lexer": "r",
   "version": "3.6.1"
  }
 },
 "nbformat": 4,
 "nbformat_minor": 5
}
