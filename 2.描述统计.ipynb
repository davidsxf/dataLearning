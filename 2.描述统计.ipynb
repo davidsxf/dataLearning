{
 "cells": [
  {
   "cell_type": "markdown",
   "id": "881c1d40-08f9-4627-b23a-cf9f6974618e",
   "metadata": {},
   "source": [
    "# 2.描述统计 "
   ]
  },
  {
   "cell_type": "markdown",
   "id": "2f8fdbd7-119a-4fcd-9ae2-08610735e575",
   "metadata": {},
   "source": [
    "## 1.iris数据集"
   ]
  },
  {
   "cell_type": "markdown",
   "id": "ccef31d1-7e17-42af-a124-e357008dfe6a",
   "metadata": {},
   "source": [
    "### 加载iris"
   ]
  },
  {
   "cell_type": "code",
   "execution_count": 2,
   "id": "bc8e4af2-ef13-4b7c-a24f-a590a1b3ab90",
   "metadata": {},
   "outputs": [
    {
     "data": {
      "text/html": [
       "<table>\n",
       "<thead><tr><th scope=col>Sepal.Length</th><th scope=col>Sepal.Width</th><th scope=col>Petal.Length</th><th scope=col>Petal.Width</th><th scope=col>Species</th></tr></thead>\n",
       "<tbody>\n",
       "\t<tr><td>5.1   </td><td>3.5   </td><td>1.4   </td><td>0.2   </td><td>setosa</td></tr>\n",
       "\t<tr><td>4.9   </td><td>3.0   </td><td>1.4   </td><td>0.2   </td><td>setosa</td></tr>\n",
       "\t<tr><td>4.7   </td><td>3.2   </td><td>1.3   </td><td>0.2   </td><td>setosa</td></tr>\n",
       "\t<tr><td>4.6   </td><td>3.1   </td><td>1.5   </td><td>0.2   </td><td>setosa</td></tr>\n",
       "\t<tr><td>5.0   </td><td>3.6   </td><td>1.4   </td><td>0.2   </td><td>setosa</td></tr>\n",
       "\t<tr><td>5.4   </td><td>3.9   </td><td>1.7   </td><td>0.4   </td><td>setosa</td></tr>\n",
       "</tbody>\n",
       "</table>\n"
      ],
      "text/latex": [
       "\\begin{tabular}{r|lllll}\n",
       " Sepal.Length & Sepal.Width & Petal.Length & Petal.Width & Species\\\\\n",
       "\\hline\n",
       "\t 5.1    & 3.5    & 1.4    & 0.2    & setosa\\\\\n",
       "\t 4.9    & 3.0    & 1.4    & 0.2    & setosa\\\\\n",
       "\t 4.7    & 3.2    & 1.3    & 0.2    & setosa\\\\\n",
       "\t 4.6    & 3.1    & 1.5    & 0.2    & setosa\\\\\n",
       "\t 5.0    & 3.6    & 1.4    & 0.2    & setosa\\\\\n",
       "\t 5.4    & 3.9    & 1.7    & 0.4    & setosa\\\\\n",
       "\\end{tabular}\n"
      ],
      "text/markdown": [
       "\n",
       "| Sepal.Length | Sepal.Width | Petal.Length | Petal.Width | Species |\n",
       "|---|---|---|---|---|\n",
       "| 5.1    | 3.5    | 1.4    | 0.2    | setosa |\n",
       "| 4.9    | 3.0    | 1.4    | 0.2    | setosa |\n",
       "| 4.7    | 3.2    | 1.3    | 0.2    | setosa |\n",
       "| 4.6    | 3.1    | 1.5    | 0.2    | setosa |\n",
       "| 5.0    | 3.6    | 1.4    | 0.2    | setosa |\n",
       "| 5.4    | 3.9    | 1.7    | 0.4    | setosa |\n",
       "\n"
      ],
      "text/plain": [
       "  Sepal.Length Sepal.Width Petal.Length Petal.Width Species\n",
       "1 5.1          3.5         1.4          0.2         setosa \n",
       "2 4.9          3.0         1.4          0.2         setosa \n",
       "3 4.7          3.2         1.3          0.2         setosa \n",
       "4 4.6          3.1         1.5          0.2         setosa \n",
       "5 5.0          3.6         1.4          0.2         setosa \n",
       "6 5.4          3.9         1.7          0.4         setosa "
      ]
     },
     "metadata": {},
     "output_type": "display_data"
    }
   ],
   "source": [
    "data(iris)\n",
    "#view first six rows of iris dataset\n",
    "head(iris)"
   ]
  },
  {
   "cell_type": "markdown",
   "id": "f48e5a5b-1f31-465b-9c48-02c8d8efc9af",
   "metadata": {},
   "source": [
    "### 描述数据集"
   ]
  },
  {
   "cell_type": "code",
   "execution_count": 4,
   "id": "c59ffa93-aed3-4e5b-a0a0-5c5829e6bf1c",
   "metadata": {},
   "outputs": [
    {
     "data": {
      "text/plain": [
       "  Sepal.Length    Sepal.Width     Petal.Length    Petal.Width   \n",
       " Min.   :4.300   Min.   :2.000   Min.   :1.000   Min.   :0.100  \n",
       " 1st Qu.:5.100   1st Qu.:2.800   1st Qu.:1.600   1st Qu.:0.300  \n",
       " Median :5.800   Median :3.000   Median :4.350   Median :1.300  \n",
       " Mean   :5.843   Mean   :3.057   Mean   :3.758   Mean   :1.199  \n",
       " 3rd Qu.:6.400   3rd Qu.:3.300   3rd Qu.:5.100   3rd Qu.:1.800  \n",
       " Max.   :7.900   Max.   :4.400   Max.   :6.900   Max.   :2.500  \n",
       "       Species  \n",
       " setosa    :50  \n",
       " versicolor:50  \n",
       " virginica :50  \n",
       "                \n",
       "                \n",
       "                "
      ]
     },
     "metadata": {},
     "output_type": "display_data"
    }
   ],
   "source": [
    "#summarize iris dataset\n",
    "summary(iris)"
   ]
  },
  {
   "cell_type": "code",
   "execution_count": 5,
   "id": "f5ebe9e7-457c-4978-a530-2ba21d4e24da",
   "metadata": {},
   "outputs": [
    {
     "data": {
      "text/html": [
       "<ol class=list-inline>\n",
       "\t<li>150</li>\n",
       "\t<li>5</li>\n",
       "</ol>\n"
      ],
      "text/latex": [
       "\\begin{enumerate*}\n",
       "\\item 150\n",
       "\\item 5\n",
       "\\end{enumerate*}\n"
      ],
      "text/markdown": [
       "1. 150\n",
       "2. 5\n",
       "\n",
       "\n"
      ],
      "text/plain": [
       "[1] 150   5"
      ]
     },
     "metadata": {},
     "output_type": "display_data"
    }
   ],
   "source": [
    "#display rows and columns\n",
    "dim(iris)"
   ]
  },
  {
   "cell_type": "code",
   "execution_count": 6,
   "id": "77683538-a7d8-4a9d-a64b-06179f5267fa",
   "metadata": {},
   "outputs": [
    {
     "data": {
      "text/html": [
       "<ol class=list-inline>\n",
       "\t<li>'Sepal.Length'</li>\n",
       "\t<li>'Sepal.Width'</li>\n",
       "\t<li>'Petal.Length'</li>\n",
       "\t<li>'Petal.Width'</li>\n",
       "\t<li>'Species'</li>\n",
       "</ol>\n"
      ],
      "text/latex": [
       "\\begin{enumerate*}\n",
       "\\item 'Sepal.Length'\n",
       "\\item 'Sepal.Width'\n",
       "\\item 'Petal.Length'\n",
       "\\item 'Petal.Width'\n",
       "\\item 'Species'\n",
       "\\end{enumerate*}\n"
      ],
      "text/markdown": [
       "1. 'Sepal.Length'\n",
       "2. 'Sepal.Width'\n",
       "3. 'Petal.Length'\n",
       "4. 'Petal.Width'\n",
       "5. 'Species'\n",
       "\n",
       "\n"
      ],
      "text/plain": [
       "[1] \"Sepal.Length\" \"Sepal.Width\"  \"Petal.Length\" \"Petal.Width\"  \"Species\"     "
      ]
     },
     "metadata": {},
     "output_type": "display_data"
    }
   ],
   "source": [
    "#display column names\n",
    "names(iris)"
   ]
  },
  {
   "cell_type": "code",
   "execution_count": 7,
   "id": "88827528-2264-4874-965b-ccc8bcb35490",
   "metadata": {},
   "outputs": [
    {
     "data": {
      "image/png": "[encoded data removed]",
      "text/plain": [
       "Plot with title \"Histogram\""
      ]
     },
     "metadata": {},
     "output_type": "display_data"
    }
   ],
   "source": [
    "#create histogram of values for sepal length\n",
    "hist(iris$Sepal.Length,\n",
    "     col='steelblue',\n",
    "     main='Histogram',\n",
    "     xlab='Length',\n",
    "     ylab='Frequency')"
   ]
  },
  {
   "cell_type": "code",
   "execution_count": 8,
   "id": "07c632b6-4e67-4462-ae27-61a006d81cd7",
   "metadata": {},
   "outputs": [
    {
     "data": {
      "image/png": "[encoded data removed]",
      "text/plain": [
       "Plot with title \"Scatterplot\""
      ]
     },
     "metadata": {},
     "output_type": "display_data"
    }
   ],
   "source": [
    "#create scatterplot of sepal width vs. sepal length\n",
    "plot(iris$Sepal.Width, iris$Sepal.Length,\n",
    "     col='steelblue',\n",
    "     main='Scatterplot',\n",
    "     xlab='Sepal Width',\n",
    "     ylab='Sepal Length',\n",
    "     pch=19)"
   ]
  },
  {
   "cell_type": "code",
   "execution_count": 9,
   "id": "2cdcbe5a-9a31-41ef-8a78-6795df0f6e12",
   "metadata": {},
   "outputs": [
    {
     "data": {
      "image/png": "[encoded data removed]",
      "text/plain": [
       "Plot with title \"Sepal Length by Species\""
      ]
     },
     "metadata": {},
     "output_type": "display_data"
    }
   ],
   "source": [
    "#create scatterplot of sepal width vs. sepal length\n",
    "boxplot(Sepal.Length~Species,\n",
    "        data=iris,\n",
    "        main='Sepal Length by Species',\n",
    "        xlab='Species',\n",
    "        ylab='Sepal Length',\n",
    "        col='steelblue',\n",
    "        border='black')"
   ]
  },
  {
   "cell_type": "markdown",
   "id": "2deeaf35-fd28-45a3-b7f8-03527b179836",
   "metadata": {},
   "source": [
    "## 2.mtcars数据集"
   ]
  },
  {
   "cell_type": "code",
   "execution_count": 5,
   "id": "6385be0e-2189-4b30-97a0-86cda38c5e62",
   "metadata": {},
   "outputs": [
    {
     "data": {
      "text/html": [
       "<table>\n",
       "<thead><tr><th></th><th scope=col>mpg</th><th scope=col>cyl</th><th scope=col>disp</th><th scope=col>hp</th><th scope=col>drat</th><th scope=col>wt</th><th scope=col>qsec</th><th scope=col>vs</th><th scope=col>am</th><th scope=col>gear</th><th scope=col>carb</th></tr></thead>\n",
       "<tbody>\n",
       "\t<tr><th scope=row>Mazda RX4</th><td>21.0 </td><td>6    </td><td>160  </td><td>110  </td><td>3.90 </td><td>2.620</td><td>16.46</td><td>0    </td><td>1    </td><td>4    </td><td>4    </td></tr>\n",
       "\t<tr><th scope=row>Mazda RX4 Wag</th><td>21.0 </td><td>6    </td><td>160  </td><td>110  </td><td>3.90 </td><td>2.875</td><td>17.02</td><td>0    </td><td>1    </td><td>4    </td><td>4    </td></tr>\n",
       "\t<tr><th scope=row>Datsun 710</th><td>22.8 </td><td>4    </td><td>108  </td><td> 93  </td><td>3.85 </td><td>2.320</td><td>18.61</td><td>1    </td><td>1    </td><td>4    </td><td>1    </td></tr>\n",
       "\t<tr><th scope=row>Hornet 4 Drive</th><td>21.4 </td><td>6    </td><td>258  </td><td>110  </td><td>3.08 </td><td>3.215</td><td>19.44</td><td>1    </td><td>0    </td><td>3    </td><td>1    </td></tr>\n",
       "\t<tr><th scope=row>Hornet Sportabout</th><td>18.7 </td><td>8    </td><td>360  </td><td>175  </td><td>3.15 </td><td>3.440</td><td>17.02</td><td>0    </td><td>0    </td><td>3    </td><td>2    </td></tr>\n",
       "\t<tr><th scope=row>Valiant</th><td>18.1 </td><td>6    </td><td>225  </td><td>105  </td><td>2.76 </td><td>3.460</td><td>20.22</td><td>1    </td><td>0    </td><td>3    </td><td>1    </td></tr>\n",
       "</tbody>\n",
       "</table>\n"
      ],
      "text/latex": [
       "\\begin{tabular}{r|lllllllllll}\n",
       "  & mpg & cyl & disp & hp & drat & wt & qsec & vs & am & gear & carb\\\\\n",
       "\\hline\n",
       "\tMazda RX4 & 21.0  & 6     & 160   & 110   & 3.90  & 2.620 & 16.46 & 0     & 1     & 4     & 4    \\\\\n",
       "\tMazda RX4 Wag & 21.0  & 6     & 160   & 110   & 3.90  & 2.875 & 17.02 & 0     & 1     & 4     & 4    \\\\\n",
       "\tDatsun 710 & 22.8  & 4     & 108   &  93   & 3.85  & 2.320 & 18.61 & 1     & 1     & 4     & 1    \\\\\n",
       "\tHornet 4 Drive & 21.4  & 6     & 258   & 110   & 3.08  & 3.215 & 19.44 & 1     & 0     & 3     & 1    \\\\\n",
       "\tHornet Sportabout & 18.7  & 8     & 360   & 175   & 3.15  & 3.440 & 17.02 & 0     & 0     & 3     & 2    \\\\\n",
       "\tValiant & 18.1  & 6     & 225   & 105   & 2.76  & 3.460 & 20.22 & 1     & 0     & 3     & 1    \\\\\n",
       "\\end{tabular}\n"
      ],
      "text/markdown": [
       "\n",
       "| <!--/--> | mpg | cyl | disp | hp | drat | wt | qsec | vs | am | gear | carb |\n",
       "|---|---|---|---|---|---|---|---|---|---|---|---|\n",
       "| Mazda RX4 | 21.0  | 6     | 160   | 110   | 3.90  | 2.620 | 16.46 | 0     | 1     | 4     | 4     |\n",
       "| Mazda RX4 Wag | 21.0  | 6     | 160   | 110   | 3.90  | 2.875 | 17.02 | 0     | 1     | 4     | 4     |\n",
       "| Datsun 710 | 22.8  | 4     | 108   |  93   | 3.85  | 2.320 | 18.61 | 1     | 1     | 4     | 1     |\n",
       "| Hornet 4 Drive | 21.4  | 6     | 258   | 110   | 3.08  | 3.215 | 19.44 | 1     | 0     | 3     | 1     |\n",
       "| Hornet Sportabout | 18.7  | 8     | 360   | 175   | 3.15  | 3.440 | 17.02 | 0     | 0     | 3     | 2     |\n",
       "| Valiant | 18.1  | 6     | 225   | 105   | 2.76  | 3.460 | 20.22 | 1     | 0     | 3     | 1     |\n",
       "\n"
      ],
      "text/plain": [
       "                  mpg  cyl disp hp  drat wt    qsec  vs am gear carb\n",
       "Mazda RX4         21.0 6   160  110 3.90 2.620 16.46 0  1  4    4   \n",
       "Mazda RX4 Wag     21.0 6   160  110 3.90 2.875 17.02 0  1  4    4   \n",
       "Datsun 710        22.8 4   108   93 3.85 2.320 18.61 1  1  4    1   \n",
       "Hornet 4 Drive    21.4 6   258  110 3.08 3.215 19.44 1  0  3    1   \n",
       "Hornet Sportabout 18.7 8   360  175 3.15 3.440 17.02 0  0  3    2   \n",
       "Valiant           18.1 6   225  105 2.76 3.460 20.22 1  0  3    1   "
      ]
     },
     "metadata": {},
     "output_type": "display_data"
    }
   ],
   "source": [
    "data(mtcars)\n",
    "head(mtcars)"
   ]
  },
  {
   "cell_type": "code",
   "execution_count": 6,
   "id": "84fb2609-314f-4929-a062-fe005499dc8e",
   "metadata": {},
   "outputs": [
    {
     "data": {
      "image/png": "[encoded data removed]",
      "text/plain": [
       "Plot with title \"Distribution of mpg values\""
      ]
     },
     "metadata": {},
     "output_type": "display_data"
    }
   ],
   "source": [
    "#create boxplot of values for mpg\n",
    "boxplot(mtcars$mpg,\n",
    "        main='Distribution of mpg values',\n",
    "        ylab='mpg',\n",
    "        col='steelblue',\n",
    "        border='black')"
   ]
  },
  {
   "cell_type": "markdown",
   "id": "514af36f-877b-4a21-856a-eb2d92dd2f93",
   "metadata": {},
   "source": [
    "## 3.diamonds 数据集"
   ]
  },
  {
   "cell_type": "code",
   "execution_count": null,
   "id": "ceb957c0-4136-4e26-a92b-7c460a919fc8",
   "metadata": {},
   "outputs": [],
   "source": [
    "install.packages('ggplot2')"
   ]
  },
  {
   "cell_type": "code",
   "execution_count": 7,
   "id": "56566a42-d030-491a-bca8-5ffd64307921",
   "metadata": {},
   "outputs": [],
   "source": [
    "#install ggplot2 if not already installed\n",
    "#install.packages('ggplot2')\n",
    "\n",
    "#load ggplot2\n",
    "library(ggplot2)\n",
    "\n",
    "data(diamonds)\n"
   ]
  },
  {
   "cell_type": "code",
   "execution_count": 8,
   "id": "64564454-abbf-4012-9cb1-ecdf75144de7",
   "metadata": {},
   "outputs": [
    {
     "data": {
      "text/html": [
       "<table>\n",
       "<thead><tr><th scope=col>carat</th><th scope=col>cut</th><th scope=col>color</th><th scope=col>clarity</th><th scope=col>depth</th><th scope=col>table</th><th scope=col>price</th><th scope=col>x</th><th scope=col>y</th><th scope=col>z</th></tr></thead>\n",
       "<tbody>\n",
       "\t<tr><td>0.23     </td><td>Ideal    </td><td>E        </td><td>SI2      </td><td>61.5     </td><td>55       </td><td>326      </td><td>3.95     </td><td>3.98     </td><td>2.43     </td></tr>\n",
       "\t<tr><td>0.21     </td><td>Premium  </td><td>E        </td><td>SI1      </td><td>59.8     </td><td>61       </td><td>326      </td><td>3.89     </td><td>3.84     </td><td>2.31     </td></tr>\n",
       "\t<tr><td>0.23     </td><td>Good     </td><td>E        </td><td>VS1      </td><td>56.9     </td><td>65       </td><td>327      </td><td>4.05     </td><td>4.07     </td><td>2.31     </td></tr>\n",
       "\t<tr><td>0.29     </td><td>Premium  </td><td>I        </td><td>VS2      </td><td>62.4     </td><td>58       </td><td>334      </td><td>4.20     </td><td>4.23     </td><td>2.63     </td></tr>\n",
       "\t<tr><td>0.31     </td><td>Good     </td><td>J        </td><td>SI2      </td><td>63.3     </td><td>58       </td><td>335      </td><td>4.34     </td><td>4.35     </td><td>2.75     </td></tr>\n",
       "\t<tr><td>0.24     </td><td>Very Good</td><td>J        </td><td>VVS2     </td><td>62.8     </td><td>57       </td><td>336      </td><td>3.94     </td><td>3.96     </td><td>2.48     </td></tr>\n",
       "</tbody>\n",
       "</table>\n"
      ],
      "text/latex": [
       "\\begin{tabular}{r|llllllllll}\n",
       " carat & cut & color & clarity & depth & table & price & x & y & z\\\\\n",
       "\\hline\n",
       "\t 0.23      & Ideal     & E         & SI2       & 61.5      & 55        & 326       & 3.95      & 3.98      & 2.43     \\\\\n",
       "\t 0.21      & Premium   & E         & SI1       & 59.8      & 61        & 326       & 3.89      & 3.84      & 2.31     \\\\\n",
       "\t 0.23      & Good      & E         & VS1       & 56.9      & 65        & 327       & 4.05      & 4.07      & 2.31     \\\\\n",
       "\t 0.29      & Premium   & I         & VS2       & 62.4      & 58        & 334       & 4.20      & 4.23      & 2.63     \\\\\n",
       "\t 0.31      & Good      & J         & SI2       & 63.3      & 58        & 335       & 4.34      & 4.35      & 2.75     \\\\\n",
       "\t 0.24      & Very Good & J         & VVS2      & 62.8      & 57        & 336       & 3.94      & 3.96      & 2.48     \\\\\n",
       "\\end{tabular}\n"
      ],
      "text/markdown": [
       "\n",
       "| carat | cut | color | clarity | depth | table | price | x | y | z |\n",
       "|---|---|---|---|---|---|---|---|---|---|\n",
       "| 0.23      | Ideal     | E         | SI2       | 61.5      | 55        | 326       | 3.95      | 3.98      | 2.43      |\n",
       "| 0.21      | Premium   | E         | SI1       | 59.8      | 61        | 326       | 3.89      | 3.84      | 2.31      |\n",
       "| 0.23      | Good      | E         | VS1       | 56.9      | 65        | 327       | 4.05      | 4.07      | 2.31      |\n",
       "| 0.29      | Premium   | I         | VS2       | 62.4      | 58        | 334       | 4.20      | 4.23      | 2.63      |\n",
       "| 0.31      | Good      | J         | SI2       | 63.3      | 58        | 335       | 4.34      | 4.35      | 2.75      |\n",
       "| 0.24      | Very Good | J         | VVS2      | 62.8      | 57        | 336       | 3.94      | 3.96      | 2.48      |\n",
       "\n"
      ],
      "text/plain": [
       "  carat cut       color clarity depth table price x    y    z   \n",
       "1 0.23  Ideal     E     SI2     61.5  55    326   3.95 3.98 2.43\n",
       "2 0.21  Premium   E     SI1     59.8  61    326   3.89 3.84 2.31\n",
       "3 0.23  Good      E     VS1     56.9  65    327   4.05 4.07 2.31\n",
       "4 0.29  Premium   I     VS2     62.4  58    334   4.20 4.23 2.63\n",
       "5 0.31  Good      J     SI2     63.3  58    335   4.34 4.35 2.75\n",
       "6 0.24  Very Good J     VVS2    62.8  57    336   3.94 3.96 2.48"
      ]
     },
     "metadata": {},
     "output_type": "display_data"
    }
   ],
   "source": [
    "head(diamonds)"
   ]
  },
  {
   "cell_type": "code",
   "execution_count": 9,
   "id": "97d5d4d6-1aff-4dd4-8318-75b231ab2f12",
   "metadata": {},
   "outputs": [
    {
     "name": "stderr",
     "output_type": "stream",
     "text": [
      "`stat_bin()` using `bins = 30`. Pick better value with `binwidth`.\n"
     ]
    },
    {
     "data": {
      "image/png": "[encoded data removed]",
      "text/plain": [
       "plot without title"
      ]
     },
     "metadata": {},
     "output_type": "display_data"
    }
   ],
   "source": [
    "#create histogram of values for price\n",
    "ggplot(data=diamonds, aes(x=price)) +\n",
    "  geom_histogram(fill=\"steelblue\", color=\"black\") +\n",
    "  ggtitle(\"Histogram of Price Values\")"
   ]
  },
  {
   "cell_type": "code",
   "execution_count": 16,
   "id": "113ba6fd-d91e-43c6-92ba-e917c9906e7d",
   "metadata": {},
   "outputs": [
    {
     "data": {
      "image/png": "[encoded data removed]",
      "text/plain": [
       "plot without title"
      ]
     },
     "metadata": {},
     "output_type": "display_data"
    }
   ],
   "source": [
    "#create scatterplot of carat vs. price, using cut as color variable\n",
    "ggplot(data=diamonds, aes(x=carat, y=price, color=cut)) + \n",
    "  geom_point()"
   ]
  },
  {
   "cell_type": "code",
   "execution_count": 17,
   "id": "d4e7b330-f53d-42b8-847a-45bcd8fdb496",
   "metadata": {},
   "outputs": [
    {
     "data": {
      "image/png": "[encoded data removed]",
      "text/plain": [
       "plot without title"
      ]
     },
     "metadata": {},
     "output_type": "display_data"
    }
   ],
   "source": [
    "#create scatterplot of price, grouped by cut\n",
    "ggplot(data=diamonds, aes(x=cut, y=price)) + \n",
    "  geom_boxplot(fill=\"steelblue\")"
   ]
  },
  {
   "cell_type": "markdown",
   "id": "b12fc2e2-b280-491f-97af-ba359b42538e",
   "metadata": {},
   "source": [
    "## 4.描述Tables"
   ]
  },
  {
   "cell_type": "code",
   "execution_count": 1,
   "id": "f9c228c1-f2b3-47fe-a7f7-3663c118753c",
   "metadata": {},
   "outputs": [
    {
     "data": {
      "text/html": [
       "<table>\n",
       "<thead><tr><th scope=col>team</th><th scope=col>points</th><th scope=col>rebounds</th><th scope=col>steals</th></tr></thead>\n",
       "<tbody>\n",
       "\t<tr><td>A </td><td>15</td><td> 7</td><td>1 </td></tr>\n",
       "\t<tr><td>A </td><td>22</td><td> 8</td><td>1 </td></tr>\n",
       "\t<tr><td>B </td><td>29</td><td> 6</td><td>2 </td></tr>\n",
       "\t<tr><td>B </td><td>41</td><td> 6</td><td>3 </td></tr>\n",
       "\t<tr><td>C </td><td>30</td><td> 7</td><td>5 </td></tr>\n",
       "\t<tr><td>C </td><td>11</td><td> 9</td><td>7 </td></tr>\n",
       "\t<tr><td>C </td><td>19</td><td>13</td><td>5 </td></tr>\n",
       "</tbody>\n",
       "</table>\n"
      ],
      "text/latex": [
       "\\begin{tabular}{r|llll}\n",
       " team & points & rebounds & steals\\\\\n",
       "\\hline\n",
       "\t A  & 15 &  7 & 1 \\\\\n",
       "\t A  & 22 &  8 & 1 \\\\\n",
       "\t B  & 29 &  6 & 2 \\\\\n",
       "\t B  & 41 &  6 & 3 \\\\\n",
       "\t C  & 30 &  7 & 5 \\\\\n",
       "\t C  & 11 &  9 & 7 \\\\\n",
       "\t C  & 19 & 13 & 5 \\\\\n",
       "\\end{tabular}\n"
      ],
      "text/markdown": [
       "\n",
       "| team | points | rebounds | steals |\n",
       "|---|---|---|---|\n",
       "| A  | 15 |  7 | 1  |\n",
       "| A  | 22 |  8 | 1  |\n",
       "| B  | 29 |  6 | 2  |\n",
       "| B  | 41 |  6 | 3  |\n",
       "| C  | 30 |  7 | 5  |\n",
       "| C  | 11 |  9 | 7  |\n",
       "| C  | 19 | 13 | 5  |\n",
       "\n"
      ],
      "text/plain": [
       "  team points rebounds steals\n",
       "1 A    15      7       1     \n",
       "2 A    22      8       1     \n",
       "3 B    29      6       2     \n",
       "4 B    41      6       3     \n",
       "5 C    30      7       5     \n",
       "6 C    11      9       7     \n",
       "7 C    19     13       5     "
      ]
     },
     "metadata": {},
     "output_type": "display_data"
    }
   ],
   "source": [
    "#create data frame\n",
    "df <- data.frame(team=c('A', 'A', 'B', 'B', 'C', 'C', 'C'),\n",
    "                 points=c(15, 22, 29, 41, 30, 11, 19),\n",
    "                 rebounds=c(7, 8, 6, 6, 7, 9, 13),\n",
    "                 steals=c(1, 1, 2, 3, 5, 7, 5))\n",
    "\n",
    "#view data frame\n",
    "df"
   ]
  },
  {
   "cell_type": "code",
   "execution_count": null,
   "id": "a9d77d11-cb88-4969-9cd9-f0b4a789cd81",
   "metadata": {},
   "outputs": [],
   "source": [
    "install.packages('psych')"
   ]
  },
  {
   "cell_type": "code",
   "execution_count": 11,
   "id": "8ab3db44-d9fb-4ca7-b240-b35232e4eeef",
   "metadata": {},
   "outputs": [
    {
     "data": {
      "text/html": [
       "<table>\n",
       "<thead><tr><th></th><th scope=col>vars</th><th scope=col>n</th><th scope=col>mean</th><th scope=col>sd</th><th scope=col>median</th><th scope=col>trimmed</th><th scope=col>mad</th><th scope=col>min</th><th scope=col>max</th><th scope=col>range</th><th scope=col>skew</th><th scope=col>kurtosis</th><th scope=col>se</th></tr></thead>\n",
       "<tbody>\n",
       "\t<tr><th scope=row>team*</th><td>1         </td><td>8         </td><td> 1.500    </td><td> 0.5345225</td><td> 1.5      </td><td> 1.500    </td><td> 0.7413   </td><td> 1        </td><td> 2        </td><td> 1        </td><td> 0.0000000</td><td>-2.2343750</td><td>0.1889822 </td></tr>\n",
       "\t<tr><th scope=row>points</th><td>2         </td><td>8         </td><td>85.125    </td><td>10.8816687</td><td>87.0      </td><td>85.125    </td><td>12.6021   </td><td>68        </td><td>99        </td><td>31        </td><td>-0.2535731</td><td>-1.6236258</td><td>3.8472509 </td></tr>\n",
       "\t<tr><th scope=row>assists</th><td>3         </td><td>8         </td><td>31.750    </td><td> 6.7135258</td><td>31.0      </td><td>31.750    </td><td> 4.4478   </td><td>22        </td><td>45        </td><td>23        </td><td> 0.5530412</td><td>-0.5145382</td><td>2.3735898 </td></tr>\n",
       "\t<tr><th scope=row>rebounds</th><td>4         </td><td>8         </td><td>28.875    </td><td> 3.8335921</td><td>29.5      </td><td>28.875    </td><td> 1.4826   </td><td>24        </td><td>36        </td><td>12        </td><td> 0.2964002</td><td>-0.8516158</td><td>1.3553795 </td></tr>\n",
       "</tbody>\n",
       "</table>\n"
      ],
      "text/latex": [
       "\\begin{tabular}{r|lllllllllllll}\n",
       "  & vars & n & mean & sd & median & trimmed & mad & min & max & range & skew & kurtosis & se\\\\\n",
       "\\hline\n",
       "\tteam* & 1          & 8          &  1.500     &  0.5345225 &  1.5       &  1.500     &  0.7413    &  1         &  2         &  1         &  0.0000000 & -2.2343750 & 0.1889822 \\\\\n",
       "\tpoints & 2          & 8          & 85.125     & 10.8816687 & 87.0       & 85.125     & 12.6021    & 68         & 99         & 31         & -0.2535731 & -1.6236258 & 3.8472509 \\\\\n",
       "\tassists & 3          & 8          & 31.750     &  6.7135258 & 31.0       & 31.750     &  4.4478    & 22         & 45         & 23         &  0.5530412 & -0.5145382 & 2.3735898 \\\\\n",
       "\trebounds & 4          & 8          & 28.875     &  3.8335921 & 29.5       & 28.875     &  1.4826    & 24         & 36         & 12         &  0.2964002 & -0.8516158 & 1.3553795 \\\\\n",
       "\\end{tabular}\n"
      ],
      "text/markdown": [
       "\n",
       "| <!--/--> | vars | n | mean | sd | median | trimmed | mad | min | max | range | skew | kurtosis | se |\n",
       "|---|---|---|---|---|---|---|---|---|---|---|---|---|---|\n",
       "| team* | 1          | 8          |  1.500     |  0.5345225 |  1.5       |  1.500     |  0.7413    |  1         |  2         |  1         |  0.0000000 | -2.2343750 | 0.1889822  |\n",
       "| points | 2          | 8          | 85.125     | 10.8816687 | 87.0       | 85.125     | 12.6021    | 68         | 99         | 31         | -0.2535731 | -1.6236258 | 3.8472509  |\n",
       "| assists | 3          | 8          | 31.750     |  6.7135258 | 31.0       | 31.750     |  4.4478    | 22         | 45         | 23         |  0.5530412 | -0.5145382 | 2.3735898  |\n",
       "| rebounds | 4          | 8          | 28.875     |  3.8335921 | 29.5       | 28.875     |  1.4826    | 24         | 36         | 12         |  0.2964002 | -0.8516158 | 1.3553795  |\n",
       "\n"
      ],
      "text/plain": [
       "         vars n mean   sd         median trimmed mad     min max range\n",
       "team*    1    8  1.500  0.5345225  1.5    1.500   0.7413  1   2   1   \n",
       "points   2    8 85.125 10.8816687 87.0   85.125  12.6021 68  99  31   \n",
       "assists  3    8 31.750  6.7135258 31.0   31.750   4.4478 22  45  23   \n",
       "rebounds 4    8 28.875  3.8335921 29.5   28.875   1.4826 24  36  12   \n",
       "         skew       kurtosis   se       \n",
       "team*     0.0000000 -2.2343750 0.1889822\n",
       "points   -0.2535731 -1.6236258 3.8472509\n",
       "assists   0.5530412 -0.5145382 2.3735898\n",
       "rebounds  0.2964002 -0.8516158 1.3553795"
      ]
     },
     "metadata": {},
     "output_type": "display_data"
    }
   ],
   "source": [
    "library(psych) \n",
    "\n",
    "#create summary table\n",
    "describe(df)\n"
   ]
  },
  {
   "cell_type": "markdown",
   "id": "37709f3a-272c-4745-a410-bc23ecc9a10c",
   "metadata": {
    "tags": []
   },
   "source": [
    "- vars: column number\n",
    "-n: Number of valid cases\n",
    "-mean: The mean value\n",
    "-median: The median value\n",
    "-trimmed: The trimmed mean (default trims 10% of observations from each end)\n",
    "-mad: The median absolute deviation (from the median)\n",
    "-min: The minimum value\n",
    "-max: The maximum value\n",
    "-range: The range of values (max – min)\n",
    "-skew: The skewness\n",
    "-kurtosis: The kurtosis\n",
    "-se: The standard error"
   ]
  },
  {
   "cell_type": "code",
   "execution_count": 3,
   "id": "aeab53c6-f4b4-45d1-af6e-6f409dafa6d5",
   "metadata": {},
   "outputs": [
    {
     "name": "stderr",
     "output_type": "stream",
     "text": [
      "Warning message in FUN(newX[, i], ...):\n",
      "\"min里所有的参数都不存在; 回覆Inf\"Warning message in FUN(newX[, i], ...):\n",
      "\"max里所有的参数都不存在；回覆-Inf\""
     ]
    },
    {
     "data": {
      "text/html": [
       "<table>\n",
       "<thead><tr><th></th><th scope=col>vars</th><th scope=col>n</th><th scope=col>mean</th><th scope=col>sd</th><th scope=col>min</th><th scope=col>max</th><th scope=col>range</th><th scope=col>se</th></tr></thead>\n",
       "<tbody>\n",
       "\t<tr><th scope=row>team</th><td>1        </td><td>7        </td><td>      NaN</td><td>       NA</td><td>Inf      </td><td>-Inf     </td><td>-Inf     </td><td>       NA</td></tr>\n",
       "\t<tr><th scope=row>points</th><td>2        </td><td>7        </td><td>23.857143</td><td>10.237652</td><td> 11      </td><td>  41     </td><td>  30     </td><td>3.8694688</td></tr>\n",
       "\t<tr><th scope=row>rebounds</th><td>3        </td><td>7        </td><td> 8.000000</td><td> 2.449490</td><td>  6      </td><td>  13     </td><td>   7     </td><td>0.9258201</td></tr>\n",
       "\t<tr><th scope=row>steals</th><td>4        </td><td>7        </td><td> 3.428571</td><td> 2.299068</td><td>  1      </td><td>   7     </td><td>   6     </td><td>0.8689661</td></tr>\n",
       "</tbody>\n",
       "</table>\n"
      ],
      "text/latex": [
       "\\begin{tabular}{r|llllllll}\n",
       "  & vars & n & mean & sd & min & max & range & se\\\\\n",
       "\\hline\n",
       "\tteam & 1         & 7         &       NaN &        NA & Inf       & -Inf      & -Inf      &        NA\\\\\n",
       "\tpoints & 2         & 7         & 23.857143 & 10.237652 &  11       &   41      &   30      & 3.8694688\\\\\n",
       "\trebounds & 3         & 7         &  8.000000 &  2.449490 &   6       &   13      &    7      & 0.9258201\\\\\n",
       "\tsteals & 4         & 7         &  3.428571 &  2.299068 &   1       &    7      &    6      & 0.8689661\\\\\n",
       "\\end{tabular}\n"
      ],
      "text/markdown": [
       "\n",
       "| <!--/--> | vars | n | mean | sd | min | max | range | se |\n",
       "|---|---|---|---|---|---|---|---|---|\n",
       "| team | 1         | 7         |       NaN |        NA | Inf       | -Inf      | -Inf      |        NA |\n",
       "| points | 2         | 7         | 23.857143 | 10.237652 |  11       |   41      |   30      | 3.8694688 |\n",
       "| rebounds | 3         | 7         |  8.000000 |  2.449490 |   6       |   13      |    7      | 0.9258201 |\n",
       "| steals | 4         | 7         |  3.428571 |  2.299068 |   1       |    7      |    6      | 0.8689661 |\n",
       "\n"
      ],
      "text/plain": [
       "         vars n mean      sd        min max  range se       \n",
       "team     1    7       NaN        NA Inf -Inf -Inf         NA\n",
       "points   2    7 23.857143 10.237652  11   41   30  3.8694688\n",
       "rebounds 3    7  8.000000  2.449490   6   13    7  0.9258201\n",
       "steals   4    7  3.428571  2.299068   1    7    6  0.8689661"
      ]
     },
     "metadata": {},
     "output_type": "display_data"
    }
   ],
   "source": [
    "#create smaller summary table\n",
    "describe(df, fast=TRUE)"
   ]
  },
  {
   "cell_type": "code",
   "execution_count": 24,
   "id": "182cc752-fb16-4896-bad1-23ca36110adc",
   "metadata": {},
   "outputs": [
    {
     "data": {
      "text/html": [
       "<table>\n",
       "<thead><tr><th></th><th scope=col>vars</th><th scope=col>n</th><th scope=col>mean</th><th scope=col>sd</th><th scope=col>min</th><th scope=col>max</th><th scope=col>range</th><th scope=col>se</th></tr></thead>\n",
       "<tbody>\n",
       "\t<tr><th scope=row>points</th><td>1        </td><td>7        </td><td>23.85714 </td><td>10.23765 </td><td>11       </td><td>41       </td><td>30       </td><td>3.8694688</td></tr>\n",
       "\t<tr><th scope=row>rebounds</th><td>2        </td><td>7        </td><td> 8.00000 </td><td> 2.44949 </td><td> 6       </td><td>13       </td><td> 7       </td><td>0.9258201</td></tr>\n",
       "</tbody>\n",
       "</table>\n"
      ],
      "text/latex": [
       "\\begin{tabular}{r|llllllll}\n",
       "  & vars & n & mean & sd & min & max & range & se\\\\\n",
       "\\hline\n",
       "\tpoints & 1         & 7         & 23.85714  & 10.23765  & 11        & 41        & 30        & 3.8694688\\\\\n",
       "\trebounds & 2         & 7         &  8.00000  &  2.44949  &  6        & 13        &  7        & 0.9258201\\\\\n",
       "\\end{tabular}\n"
      ],
      "text/markdown": [
       "\n",
       "| <!--/--> | vars | n | mean | sd | min | max | range | se |\n",
       "|---|---|---|---|---|---|---|---|---|\n",
       "| points | 1         | 7         | 23.85714  | 10.23765  | 11        | 41        | 30        | 3.8694688 |\n",
       "| rebounds | 2         | 7         |  8.00000  |  2.44949  |  6        | 13        |  7        | 0.9258201 |\n",
       "\n"
      ],
      "text/plain": [
       "         vars n mean     sd       min max range se       \n",
       "points   1    7 23.85714 10.23765 11  41  30    3.8694688\n",
       "rebounds 2    7  8.00000  2.44949  6  13   7    0.9258201"
      ]
     },
     "metadata": {},
     "output_type": "display_data"
    }
   ],
   "source": [
    "#create summary table for just 'points' and 'rebounds' columns\n",
    "describe(df[ , c('points', 'rebounds')], fast=TRUE)\n"
   ]
  },
  {
   "cell_type": "code",
   "execution_count": 25,
   "id": "8ca46ef8-9aed-48aa-b4a5-8778df4a6d16",
   "metadata": {},
   "outputs": [
    {
     "name": "stderr",
     "output_type": "stream",
     "text": [
      "Warning message in FUN(newX[, i], ...):\n",
      "\"min里所有的参数都不存在; 回覆Inf\"Warning message in FUN(newX[, i], ...):\n",
      "\"max里所有的参数都不存在；回覆-Inf\"Warning message in FUN(newX[, i], ...):\n",
      "\"min里所有的参数都不存在; 回覆Inf\"Warning message in FUN(newX[, i], ...):\n",
      "\"max里所有的参数都不存在；回覆-Inf\"Warning message in FUN(newX[, i], ...):\n",
      "\"min里所有的参数都不存在; 回覆Inf\"Warning message in FUN(newX[, i], ...):\n",
      "\"max里所有的参数都不存在；回覆-Inf\""
     ]
    },
    {
     "data": {
      "text/plain": [
       "\n",
       " Descriptive statistics by group \n",
       "group: A\n",
       "         vars n mean   sd min  max range  se\n",
       "team        1 2  NaN   NA Inf -Inf  -Inf  NA\n",
       "points      2 2 18.5 4.95  15   22     7 3.5\n",
       "rebounds    3 2  7.5 0.71   7    8     1 0.5\n",
       "steals      4 2  1.0 0.00   1    1     0 0.0\n",
       "------------------------------------------------------------ \n",
       "group: B\n",
       "         vars n mean   sd min  max range  se\n",
       "team        1 2  NaN   NA Inf -Inf  -Inf  NA\n",
       "points      2 2 35.0 8.49  29   41    12 6.0\n",
       "rebounds    3 2  6.0 0.00   6    6     0 0.0\n",
       "steals      4 2  2.5 0.71   2    3     1 0.5\n",
       "------------------------------------------------------------ \n",
       "group: C\n",
       "         vars n  mean   sd min  max range   se\n",
       "team        1 3   NaN   NA Inf -Inf  -Inf   NA\n",
       "points      2 3 20.00 9.54  11   30    19 5.51\n",
       "rebounds    3 3  9.67 3.06   7   13     6 1.76\n",
       "steals      4 3  5.67 1.15   5    7     2 0.67"
      ]
     },
     "metadata": {},
     "output_type": "display_data"
    }
   ],
   "source": [
    "#create summary table, grouped by 'team' variable\n",
    "describeBy(df, group=df$team, fast=TRUE)"
   ]
  },
  {
   "cell_type": "markdown",
   "id": "3f96740c-3c0a-4ae8-8b18-a65d20102fed",
   "metadata": {},
   "source": [
    "## 5.分组描述"
   ]
  },
  {
   "cell_type": "markdown",
   "id": "ecf66f42-b908-40b1-b8b1-043ae56645cd",
   "metadata": {},
   "source": [
    "### 方法1 Use tapply() from Base R"
   ]
  },
  {
   "cell_type": "code",
   "execution_count": 4,
   "id": "82beb89f-053e-472a-af31-57d34228a165",
   "metadata": {},
   "outputs": [
    {
     "data": {
      "text/plain": [
       "$A\n",
       "   Min. 1st Qu.  Median    Mean 3rd Qu.    Max. \n",
       "  68.00   81.50   87.00   85.25   90.75   99.00 \n",
       "\n",
       "$B\n",
       "   Min. 1st Qu.  Median    Mean 3rd Qu.    Max. \n",
       "   74.0    77.0    85.5    85.0    93.5    95.0 \n"
      ]
     },
     "metadata": {},
     "output_type": "display_data"
    }
   ],
   "source": [
    "#create data frame\n",
    "df <- data.frame(team=c('A', 'A', 'A', 'A', 'B', 'B', 'B', 'B'),\n",
    "                 points=c(99, 68, 86, 88, 95, 74, 78, 93),\n",
    "                 assists=c(22, 28, 31, 35, 34, 45, 28, 31),\n",
    "                 rebounds=c(30, 28, 24, 24, 30, 36, 30, 29))\n",
    "\n",
    "#calculate summary statistics of 'points' grouped by 'team'\n",
    "tapply(df$points, df$team, summary)"
   ]
  },
  {
   "cell_type": "markdown",
   "id": "1d16ae98-bacf-4ebe-a400-38cf064658f4",
   "metadata": {},
   "source": [
    "### 方法2 ，使用 group_by() from dplyr 包"
   ]
  },
  {
   "cell_type": "code",
   "execution_count": 12,
   "id": "698cacc3-549d-468a-accf-f2eb9ba9e8cc",
   "metadata": {},
   "outputs": [
    {
     "name": "stderr",
     "output_type": "stream",
     "text": [
      "Registered S3 methods overwritten by 'ggplot2':\n",
      "  method         from \n",
      "  [.quosures     rlang\n",
      "  c.quosures     rlang\n",
      "  print.quosures rlang\n",
      "Registered S3 method overwritten by 'rvest':\n",
      "  method            from\n",
      "  read_xml.response xml2\n",
      "-- Attaching packages --------------------------------------- tidyverse 1.2.1 --\n",
      "v ggplot2 3.1.1     v readr   1.3.1\n",
      "v tibble  2.1.1     v purrr   0.3.2\n",
      "v tidyr   0.8.3     v stringr 1.4.0\n",
      "v ggplot2 3.1.1     v forcats 0.4.0\n",
      "-- Conflicts ------------------------------------------ tidyverse_conflicts() --\n",
      "x ggplot2::%+%()   masks psych::%+%()\n",
      "x ggplot2::alpha() masks psych::alpha()\n",
      "x dplyr::filter()  masks stats::filter()\n",
      "x dplyr::lag()     masks stats::lag()\n"
     ]
    },
    {
     "data": {
      "text/html": [
       "<table>\n",
       "<thead><tr><th scope=col>team</th><th scope=col>min</th><th scope=col>q1</th><th scope=col>median</th><th scope=col>mean</th><th scope=col>q3</th><th scope=col>max</th></tr></thead>\n",
       "<tbody>\n",
       "\t<tr><td>A    </td><td>68   </td><td>81.5 </td><td>87.0 </td><td>85.25</td><td>90.75</td><td>99   </td></tr>\n",
       "\t<tr><td>B    </td><td>74   </td><td>77.0 </td><td>85.5 </td><td>85.00</td><td>93.50</td><td>95   </td></tr>\n",
       "</tbody>\n",
       "</table>\n"
      ],
      "text/latex": [
       "\\begin{tabular}{r|lllllll}\n",
       " team & min & q1 & median & mean & q3 & max\\\\\n",
       "\\hline\n",
       "\t A     & 68    & 81.5  & 87.0  & 85.25 & 90.75 & 99   \\\\\n",
       "\t B     & 74    & 77.0  & 85.5  & 85.00 & 93.50 & 95   \\\\\n",
       "\\end{tabular}\n"
      ],
      "text/markdown": [
       "\n",
       "| team | min | q1 | median | mean | q3 | max |\n",
       "|---|---|---|---|---|---|---|\n",
       "| A     | 68    | 81.5  | 87.0  | 85.25 | 90.75 | 99    |\n",
       "| B     | 74    | 77.0  | 85.5  | 85.00 | 93.50 | 95    |\n",
       "\n"
      ],
      "text/plain": [
       "  team min q1   median mean  q3    max\n",
       "1 A    68  81.5 87.0   85.25 90.75 99 \n",
       "2 B    74  77.0 85.5   85.00 93.50 95 "
      ]
     },
     "metadata": {},
     "output_type": "display_data"
    }
   ],
   "source": [
    "library(dplyr)\n",
    "library(tidyverse)\n",
    "\n",
    "#create data frame\n",
    "df <- data.frame(team=c('A', 'A', 'A', 'A', 'B', 'B', 'B', 'B'),\n",
    "                 points=c(99, 68, 86, 88, 95, 74, 78, 93),\n",
    "                 assists=c(22, 28, 31, 35, 34, 45, 28, 31),\n",
    "                 rebounds=c(30, 28, 24, 24, 30, 36, 30, 29))\n",
    "\n",
    "#calculate summary statistics of 'points' grouped by 'team'\n",
    "df %>%\n",
    "  group_by(team) %>% \n",
    "  summarize(min = min(points),\n",
    "            q1 = quantile(points, 0.25),\n",
    "            median = median(points),\n",
    "            mean = mean(points),\n",
    "            q3 = quantile(points, 0.75),\n",
    "            max = max(points))"
   ]
  },
  {
   "cell_type": "markdown",
   "id": "d0dcd2b9-c2fd-47cc-ab0b-6092b636f250",
   "metadata": {},
   "source": [
    "## 6.按组计算相关性"
   ]
  },
  {
   "cell_type": "code",
   "execution_count": 7,
   "id": "516f3a9f",
   "metadata": {},
   "outputs": [
    {
     "name": "stdout",
     "output_type": "stream",
     "text": [
      "package 'ellipsis' successfully unpacked and MD5 sums checked\n",
      "\n",
      "The downloaded binary packages are in\n",
      "\tC:\\Users\\sxf\\AppData\\Local\\Temp\\RtmpkRGBgT\\downloaded_packages\n"
     ]
    }
   ],
   "source": [
    " install.packages(\"ellipsis\", version =\"0.3.2\",repos =\"http://cran.us.r-project.org\")"
   ]
  },
  {
   "cell_type": "code",
   "execution_count": 13,
   "id": "bb017e98-6f1f-43f9-bd4d-d0e6b7e9c542",
   "metadata": {},
   "outputs": [
    {
     "ename": "ERROR",
     "evalue": "Error: Column `group_var` is unknown\n",
     "output_type": "error",
     "traceback": [
      "Error: Column `group_var` is unknown\nTraceback:\n",
      "1. df %>% group_by(group_var) %>% summarize(cor = cor(var1, var2))",
      "2. withVisible(eval(quote(`_fseq`(`_lhs`)), env, env))",
      "3. eval(quote(`_fseq`(`_lhs`)), env, env)",
      "4. eval(quote(`_fseq`(`_lhs`)), env, env)",
      "5. `_fseq`(`_lhs`)",
      "6. freduce(value, `_function_list`)",
      "7. function_list[[i]](value)",
      "8. group_by(., group_var)",
      "9. group_by.data.frame(., group_var)",
      "10. grouped_df(groups$data, groups$group_names, .drop)",
      "11. grouped_df_impl(data, unname(vars), drop)"
     ]
    }
   ],
   "source": [
    "library(dplyr)\n",
    "\n",
    "df %>%\n",
    "  group_by(group_var) %>%\n",
    "  summarize(cor=cor(var1, var2))"
   ]
  },
  {
   "cell_type": "code",
   "execution_count": 14,
   "id": "adc871da-5e7b-444f-ab8f-5c1330128f76",
   "metadata": {},
   "outputs": [
    {
     "data": {
      "text/html": [
       "<table>\n",
       "<thead><tr><th scope=col>team</th><th scope=col>points</th><th scope=col>assists</th></tr></thead>\n",
       "<tbody>\n",
       "\t<tr><td>A </td><td>18</td><td> 2</td></tr>\n",
       "\t<tr><td>A </td><td>22</td><td> 7</td></tr>\n",
       "\t<tr><td>A </td><td>19</td><td> 9</td></tr>\n",
       "\t<tr><td>A </td><td>14</td><td> 3</td></tr>\n",
       "\t<tr><td>B </td><td>14</td><td>12</td></tr>\n",
       "\t<tr><td>B </td><td>11</td><td>10</td></tr>\n",
       "\t<tr><td>B </td><td>20</td><td>14</td></tr>\n",
       "\t<tr><td>B </td><td>28</td><td>21</td></tr>\n",
       "</tbody>\n",
       "</table>\n"
      ],
      "text/latex": [
       "\\begin{tabular}{r|lll}\n",
       " team & points & assists\\\\\n",
       "\\hline\n",
       "\t A  & 18 &  2\\\\\n",
       "\t A  & 22 &  7\\\\\n",
       "\t A  & 19 &  9\\\\\n",
       "\t A  & 14 &  3\\\\\n",
       "\t B  & 14 & 12\\\\\n",
       "\t B  & 11 & 10\\\\\n",
       "\t B  & 20 & 14\\\\\n",
       "\t B  & 28 & 21\\\\\n",
       "\\end{tabular}\n"
      ],
      "text/markdown": [
       "\n",
       "| team | points | assists |\n",
       "|---|---|---|\n",
       "| A  | 18 |  2 |\n",
       "| A  | 22 |  7 |\n",
       "| A  | 19 |  9 |\n",
       "| A  | 14 |  3 |\n",
       "| B  | 14 | 12 |\n",
       "| B  | 11 | 10 |\n",
       "| B  | 20 | 14 |\n",
       "| B  | 28 | 21 |\n",
       "\n"
      ],
      "text/plain": [
       "  team points assists\n",
       "1 A    18      2     \n",
       "2 A    22      7     \n",
       "3 A    19      9     \n",
       "4 A    14      3     \n",
       "5 B    14     12     \n",
       "6 B    11     10     \n",
       "7 B    20     14     \n",
       "8 B    28     21     "
      ]
     },
     "metadata": {},
     "output_type": "display_data"
    }
   ],
   "source": [
    "#create data frame\n",
    "df <- data.frame(team=c('A', 'A', 'A', 'A', 'B', 'B', 'B', 'B'),\n",
    "                 points=c(18, 22, 19, 14, 14, 11, 20, 28),\n",
    "                 assists=c(2, 7, 9, 3, 12, 10, 14, 21))\n",
    "\n",
    "#view data frame\n",
    "df"
   ]
  },
  {
   "cell_type": "code",
   "execution_count": 15,
   "id": "0f5d7e5f-368a-487d-85ff-f05d315c3713",
   "metadata": {},
   "outputs": [
    {
     "data": {
      "text/html": [
       "<table>\n",
       "<thead><tr><th scope=col>team</th><th scope=col>cor</th></tr></thead>\n",
       "<tbody>\n",
       "\t<tr><td>A        </td><td>0.6030534</td></tr>\n",
       "\t<tr><td>B        </td><td>0.9817980</td></tr>\n",
       "</tbody>\n",
       "</table>\n"
      ],
      "text/latex": [
       "\\begin{tabular}{r|ll}\n",
       " team & cor\\\\\n",
       "\\hline\n",
       "\t A         & 0.6030534\\\\\n",
       "\t B         & 0.9817980\\\\\n",
       "\\end{tabular}\n"
      ],
      "text/markdown": [
       "\n",
       "| team | cor |\n",
       "|---|---|\n",
       "| A         | 0.6030534 |\n",
       "| B         | 0.9817980 |\n",
       "\n"
      ],
      "text/plain": [
       "  team cor      \n",
       "1 A    0.6030534\n",
       "2 B    0.9817980"
      ]
     },
     "metadata": {},
     "output_type": "display_data"
    }
   ],
   "source": [
    "library(dplyr)\n",
    "\n",
    "df %>%\n",
    "  group_by(team) %>%\n",
    "  summarize(cor=cor(points, assists))\n",
    "\n",
    "#A队的得分和助攻之间的相关系数为0.603。"
   ]
  },
  {
   "cell_type": "markdown",
   "id": "534f6c54-4594-450a-87f5-96559a5d2e75",
   "metadata": {},
   "source": [
    "## 7.相关矩阵和缺失值"
   ]
  },
  {
   "cell_type": "code",
   "execution_count": null,
   "id": "c4de8f27-39d2-44ab-b8e3-b6b088cdb1c3",
   "metadata": {},
   "outputs": [],
   "source": []
  },
  {
   "cell_type": "code",
   "execution_count": 16,
   "id": "36ee45c8-5e54-4d7f-8628-704eee855e67",
   "metadata": {},
   "outputs": [],
   "source": [
    "library(tidyverse)\n",
    "\n",
    "#load diamonds dataset\n",
    "data(diamonds)"
   ]
  },
  {
   "cell_type": "code",
   "execution_count": 17,
   "id": "187a297a-5401-4410-932d-aa0844292dc6",
   "metadata": {},
   "outputs": [
    {
     "data": {
      "text/html": [
       "<table>\n",
       "<thead><tr><th></th><th scope=col>carat</th><th scope=col>depth</th><th scope=col>table</th><th scope=col>price</th><th scope=col>x</th><th scope=col>y</th><th scope=col>z</th></tr></thead>\n",
       "<tbody>\n",
       "\t<tr><th scope=row>carat</th><td>1.00 </td><td> 0.03</td><td> 0.18</td><td> 0.92</td><td> 0.98</td><td> 0.95</td><td>0.95 </td></tr>\n",
       "\t<tr><th scope=row>depth</th><td>0.03 </td><td> 1.00</td><td>-0.30</td><td>-0.01</td><td>-0.03</td><td>-0.03</td><td>0.09 </td></tr>\n",
       "\t<tr><th scope=row>table</th><td>0.18 </td><td>-0.30</td><td> 1.00</td><td> 0.13</td><td> 0.20</td><td> 0.18</td><td>0.15 </td></tr>\n",
       "\t<tr><th scope=row>price</th><td>0.92 </td><td>-0.01</td><td> 0.13</td><td> 1.00</td><td> 0.88</td><td> 0.87</td><td>0.86 </td></tr>\n",
       "\t<tr><th scope=row>x</th><td>0.98 </td><td>-0.03</td><td> 0.20</td><td> 0.88</td><td> 1.00</td><td> 0.97</td><td>0.97 </td></tr>\n",
       "\t<tr><th scope=row>y</th><td>0.95 </td><td>-0.03</td><td> 0.18</td><td> 0.87</td><td> 0.97</td><td> 1.00</td><td>0.95 </td></tr>\n",
       "\t<tr><th scope=row>z</th><td>0.95 </td><td> 0.09</td><td> 0.15</td><td> 0.86</td><td> 0.97</td><td> 0.95</td><td>1.00 </td></tr>\n",
       "</tbody>\n",
       "</table>\n"
      ],
      "text/latex": [
       "\\begin{tabular}{r|lllllll}\n",
       "  & carat & depth & table & price & x & y & z\\\\\n",
       "\\hline\n",
       "\tcarat & 1.00  &  0.03 &  0.18 &  0.92 &  0.98 &  0.95 & 0.95 \\\\\n",
       "\tdepth & 0.03  &  1.00 & -0.30 & -0.01 & -0.03 & -0.03 & 0.09 \\\\\n",
       "\ttable & 0.18  & -0.30 &  1.00 &  0.13 &  0.20 &  0.18 & 0.15 \\\\\n",
       "\tprice & 0.92  & -0.01 &  0.13 &  1.00 &  0.88 &  0.87 & 0.86 \\\\\n",
       "\tx & 0.98  & -0.03 &  0.20 &  0.88 &  1.00 &  0.97 & 0.97 \\\\\n",
       "\ty & 0.95  & -0.03 &  0.18 &  0.87 &  0.97 &  1.00 & 0.95 \\\\\n",
       "\tz & 0.95  &  0.09 &  0.15 &  0.86 &  0.97 &  0.95 & 1.00 \\\\\n",
       "\\end{tabular}\n"
      ],
      "text/markdown": [
       "\n",
       "| <!--/--> | carat | depth | table | price | x | y | z |\n",
       "|---|---|---|---|---|---|---|---|\n",
       "| carat | 1.00  |  0.03 |  0.18 |  0.92 |  0.98 |  0.95 | 0.95  |\n",
       "| depth | 0.03  |  1.00 | -0.30 | -0.01 | -0.03 | -0.03 | 0.09  |\n",
       "| table | 0.18  | -0.30 |  1.00 |  0.13 |  0.20 |  0.18 | 0.15  |\n",
       "| price | 0.92  | -0.01 |  0.13 |  1.00 |  0.88 |  0.87 | 0.86  |\n",
       "| x | 0.98  | -0.03 |  0.20 |  0.88 |  1.00 |  0.97 | 0.97  |\n",
       "| y | 0.95  | -0.03 |  0.18 |  0.87 |  0.97 |  1.00 | 0.95  |\n",
       "| z | 0.95  |  0.09 |  0.15 |  0.86 |  0.97 |  0.95 | 1.00  |\n",
       "\n"
      ],
      "text/plain": [
       "      carat depth table price x     y     z   \n",
       "carat 1.00   0.03  0.18  0.92  0.98  0.95 0.95\n",
       "depth 0.03   1.00 -0.30 -0.01 -0.03 -0.03 0.09\n",
       "table 0.18  -0.30  1.00  0.13  0.20  0.18 0.15\n",
       "price 0.92  -0.01  0.13  1.00  0.88  0.87 0.86\n",
       "x     0.98  -0.03  0.20  0.88  1.00  0.97 0.97\n",
       "y     0.95  -0.03  0.18  0.87  0.97  1.00 0.95\n",
       "z     0.95   0.09  0.15  0.86  0.97  0.95 1.00"
      ]
     },
     "metadata": {},
     "output_type": "display_data"
    }
   ],
   "source": [
    "#create correlation matrix of (rounded to 2 decimal places)\n",
    "round(cor(diamonds[c('carat', 'depth', 'table', 'price', 'x', 'y', 'z')]), 2)"
   ]
  },
  {
   "cell_type": "code",
   "execution_count": 18,
   "id": "a01f870f-d534-4cbf-a1a5-bee08652ed7c",
   "metadata": {},
   "outputs": [
    {
     "data": {
      "text/html": [
       "<dl class=dl-horizontal>\n",
       "\t<dt>carat</dt>\n",
       "\t\t<dd>0</dd>\n",
       "\t<dt>cut</dt>\n",
       "\t\t<dd>0</dd>\n",
       "\t<dt>color</dt>\n",
       "\t\t<dd>0</dd>\n",
       "\t<dt>clarity</dt>\n",
       "\t\t<dd>0</dd>\n",
       "\t<dt>depth</dt>\n",
       "\t\t<dd>0</dd>\n",
       "\t<dt>table</dt>\n",
       "\t\t<dd>0</dd>\n",
       "\t<dt>price</dt>\n",
       "\t\t<dd>0</dd>\n",
       "\t<dt>x</dt>\n",
       "\t\t<dd>0</dd>\n",
       "\t<dt>y</dt>\n",
       "\t\t<dd>0</dd>\n",
       "\t<dt>z</dt>\n",
       "\t\t<dd>0</dd>\n",
       "</dl>\n"
      ],
      "text/latex": [
       "\\begin{description*}\n",
       "\\item[carat] 0\n",
       "\\item[cut] 0\n",
       "\\item[color] 0\n",
       "\\item[clarity] 0\n",
       "\\item[depth] 0\n",
       "\\item[table] 0\n",
       "\\item[price] 0\n",
       "\\item[x] 0\n",
       "\\item[y] 0\n",
       "\\item[z] 0\n",
       "\\end{description*}\n"
      ],
      "text/markdown": [
       "carat\n",
       ":   0cut\n",
       ":   0color\n",
       ":   0clarity\n",
       ":   0depth\n",
       ":   0table\n",
       ":   0price\n",
       ":   0x\n",
       ":   0y\n",
       ":   0z\n",
       ":   0\n",
       "\n"
      ],
      "text/plain": [
       "  carat     cut   color clarity   depth   table   price       x       y       z \n",
       "      0       0       0       0       0       0       0       0       0       0 "
      ]
     },
     "metadata": {},
     "output_type": "display_data"
    }
   ],
   "source": [
    "#count total missing values in each column\n",
    "sapply(diamonds, function(x) sum(is.na(x)))"
   ]
  },
  {
   "cell_type": "markdown",
   "id": "ffdcb391-aca0-458e-ae29-fe8830e3b664",
   "metadata": {},
   "source": [
    "## 8.关闭科学记数法（默认关闭，scipen=0无效）"
   ]
  },
  {
   "cell_type": "code",
   "execution_count": 33,
   "id": "f3038c31-3fd2-4665-b6f0-507e88ed2b9e",
   "metadata": {},
   "outputs": [
    {
     "data": {
      "text/html": [
       "123449987655"
      ],
      "text/latex": [
       "123449987655"
      ],
      "text/markdown": [
       "123449987655"
      ],
      "text/plain": [
       "[1] 123449987655"
      ]
     },
     "metadata": {},
     "output_type": "display_data"
    }
   ],
   "source": [
    "#turn off scientific notation for all variables\n",
    "options(scipen=999) \n",
    "\n",
    "#perform multiplication\n",
    "x <- 9999999 * 12345\n",
    "\n",
    "#view results\n",
    "x\n"
   ]
  },
  {
   "cell_type": "code",
   "execution_count": 35,
   "id": "ca0f8e65-9132-41a2-ac12-7eb7109eb856",
   "metadata": {},
   "outputs": [
    {
     "data": {
      "text/html": [
       "123449987655"
      ],
      "text/latex": [
       "123449987655"
      ],
      "text/markdown": [
       "123449987655"
      ],
      "text/plain": [
       "[1] 1.2345e+11"
      ]
     },
     "metadata": {},
     "output_type": "display_data"
    }
   ],
   "source": [
    "#perform multiplication\n",
    "x <- 9999999 * 12345\n",
    "\n",
    "#view results\n",
    "x"
   ]
  },
  {
   "cell_type": "code",
   "execution_count": 36,
   "id": "0da414aa-a726-44eb-b25b-0142acfcbc55",
   "metadata": {},
   "outputs": [
    {
     "data": {
      "text/html": [
       "'123449987655'"
      ],
      "text/latex": [
       "'123449987655'"
      ],
      "text/markdown": [
       "'123449987655'"
      ],
      "text/plain": [
       "[1] \"123449987655\""
      ]
     },
     "metadata": {},
     "output_type": "display_data"
    },
    {
     "data": {
      "text/html": [
       "9999989000001"
      ],
      "text/latex": [
       "9999989000001"
      ],
      "text/markdown": [
       "9999989000001"
      ],
      "text/plain": [
       "[1] 9.999989e+12"
      ]
     },
     "metadata": {},
     "output_type": "display_data"
    }
   ],
   "source": [
    "#perform multiplication\n",
    "x <- 9999999 * 12345\n",
    "\n",
    "#display results and turn of scientific notation\n",
    "format(x, scientific = F)\n",
    "\n",
    "\n",
    "#perform another multiplication\n",
    "y <- 9999999 * 999999\n",
    "\n",
    "#view results\n",
    "y"
   ]
  },
  {
   "cell_type": "markdown",
   "id": "3c9ae60f-c054-44e7-9a23-aef2614750f3",
   "metadata": {},
   "source": [
    "## 9.计算Z-Scores"
   ]
  },
  {
   "cell_type": "code",
   "execution_count": null,
   "id": "26d98f91-fc9f-4003-a0c9-85ce12d2e501",
   "metadata": {},
   "outputs": [],
   "source": [
    "z = (X – μ) / σ"
   ]
  },
  {
   "cell_type": "code",
   "execution_count": 37,
   "id": "8e24c4c4-d7e1-46ef-8bb3-a9767d5e6179",
   "metadata": {},
   "outputs": [
    {
     "data": {
      "text/html": [
       "<ol class=list-inline>\n",
       "\t<li>-1.3228756555323</li>\n",
       "\t<li>-1.13389341902768</li>\n",
       "\t<li>-1.13389341902768</li>\n",
       "\t<li>-0.188982236504614</li>\n",
       "\t<li>0</li>\n",
       "\t<li>0</li>\n",
       "\t<li>0.377964473009227</li>\n",
       "\t<li>0.566946709513841</li>\n",
       "\t<li>1.13389341902768</li>\n",
       "\t<li>1.70084012854152</li>\n",
       "</ol>\n"
      ],
      "text/latex": [
       "\\begin{enumerate*}\n",
       "\\item -1.3228756555323\n",
       "\\item -1.13389341902768\n",
       "\\item -1.13389341902768\n",
       "\\item -0.188982236504614\n",
       "\\item 0\n",
       "\\item 0\n",
       "\\item 0.377964473009227\n",
       "\\item 0.566946709513841\n",
       "\\item 1.13389341902768\n",
       "\\item 1.70084012854152\n",
       "\\end{enumerate*}\n"
      ],
      "text/markdown": [
       "1. -1.3228756555323\n",
       "2. -1.13389341902768\n",
       "3. -1.13389341902768\n",
       "4. -0.188982236504614\n",
       "5. 0\n",
       "6. 0\n",
       "7. 0.377964473009227\n",
       "8. 0.566946709513841\n",
       "9. 1.13389341902768\n",
       "10. 1.70084012854152\n",
       "\n",
       "\n"
      ],
      "text/plain": [
       " [1] -1.3228757 -1.1338934 -1.1338934 -0.1889822  0.0000000  0.0000000\n",
       " [7]  0.3779645  0.5669467  1.1338934  1.7008401"
      ]
     },
     "metadata": {},
     "output_type": "display_data"
    }
   ],
   "source": [
    "#create vector of data\n",
    "data <- c(6, 7, 7, 12, 13, 13, 15, 16, 19, 22)\n",
    "\n",
    "#find z-score for each data value \n",
    "z_scores <- (data-mean(data))/sd(data)\n",
    "\n",
    "#display z-scores \n",
    "z_scores"
   ]
  },
  {
   "cell_type": "code",
   "execution_count": 38,
   "id": "e7562294-b6d3-4c04-a5ba-a1b38223e0cd",
   "metadata": {},
   "outputs": [
    {
     "data": {
      "text/html": [
       "<ol class=list-inline>\n",
       "\t<li>0.619190362238852</li>\n",
       "\t<li>1.46354085620092</li>\n",
       "\t<li>-1.2383807244777</li>\n",
       "\t<li>-0.900640526892875</li>\n",
       "\t<li>-0.225160131723219</li>\n",
       "\t<li>0.281450164654024</li>\n",
       "</ol>\n"
      ],
      "text/latex": [
       "\\begin{enumerate*}\n",
       "\\item 0.619190362238852\n",
       "\\item 1.46354085620092\n",
       "\\item -1.2383807244777\n",
       "\\item -0.900640526892875\n",
       "\\item -0.225160131723219\n",
       "\\item 0.281450164654024\n",
       "\\end{enumerate*}\n"
      ],
      "text/markdown": [
       "1. 0.619190362238852\n",
       "2. 1.46354085620092\n",
       "3. -1.2383807244777\n",
       "4. -0.900640526892875\n",
       "5. -0.225160131723219\n",
       "6. 0.281450164654024\n",
       "\n",
       "\n"
      ],
      "text/plain": [
       "[1]  0.6191904  1.4635409 -1.2383807 -0.9006405 -0.2251601  0.2814502"
      ]
     },
     "metadata": {},
     "output_type": "display_data"
    }
   ],
   "source": [
    "#create dataframe\n",
    "df <- data.frame(assists = c(4, 4, 6, 7, 9, 13),\n",
    "                 points = c(24, 29, 13, 15, 19, 22),\n",
    "                 rebounds = c(5, 5, 7, 8, 14, 15))\n",
    "\n",
    "#find z-score for each data value in the 'points' column\n",
    "z_scores <- (df$points-mean(df$points))/sd(df$points)\n",
    "\n",
    "#display z-scores \n",
    "z_scores"
   ]
  },
  {
   "cell_type": "code",
   "execution_count": 39,
   "id": "a0344fc5-e39c-4c67-b9fa-1eb2e0954ecb",
   "metadata": {},
   "outputs": [
    {
     "data": {
      "text/html": [
       "<table>\n",
       "<thead><tr><th scope=col>assists</th><th scope=col>points</th><th scope=col>rebounds</th></tr></thead>\n",
       "<tbody>\n",
       "\t<tr><td>-0.92315712</td><td> 0.6191904 </td><td>-0.9035079 </td></tr>\n",
       "\t<tr><td>-0.92315712</td><td> 1.4635409 </td><td>-0.9035079 </td></tr>\n",
       "\t<tr><td>-0.34011052</td><td>-1.2383807 </td><td>-0.4517540 </td></tr>\n",
       "\t<tr><td>-0.04858722</td><td>-0.9006405 </td><td>-0.2258770 </td></tr>\n",
       "\t<tr><td> 0.53445939</td><td>-0.2251601 </td><td> 1.1293849 </td></tr>\n",
       "\t<tr><td> 1.70055260</td><td> 0.2814502 </td><td> 1.3552619 </td></tr>\n",
       "</tbody>\n",
       "</table>\n"
      ],
      "text/latex": [
       "\\begin{tabular}{lll}\n",
       " assists & points & rebounds\\\\\n",
       "\\hline\n",
       "\t -0.92315712 &  0.6191904  & -0.9035079 \\\\\n",
       "\t -0.92315712 &  1.4635409  & -0.9035079 \\\\\n",
       "\t -0.34011052 & -1.2383807  & -0.4517540 \\\\\n",
       "\t -0.04858722 & -0.9006405  & -0.2258770 \\\\\n",
       "\t  0.53445939 & -0.2251601  &  1.1293849 \\\\\n",
       "\t  1.70055260 &  0.2814502  &  1.3552619 \\\\\n",
       "\\end{tabular}\n"
      ],
      "text/markdown": [
       "\n",
       "| assists | points | rebounds |\n",
       "|---|---|---|\n",
       "| -0.92315712 |  0.6191904  | -0.9035079  |\n",
       "| -0.92315712 |  1.4635409  | -0.9035079  |\n",
       "| -0.34011052 | -1.2383807  | -0.4517540  |\n",
       "| -0.04858722 | -0.9006405  | -0.2258770  |\n",
       "|  0.53445939 | -0.2251601  |  1.1293849  |\n",
       "|  1.70055260 |  0.2814502  |  1.3552619  |\n",
       "\n"
      ],
      "text/plain": [
       "     assists     points     rebounds  \n",
       "[1,] -0.92315712  0.6191904 -0.9035079\n",
       "[2,] -0.92315712  1.4635409 -0.9035079\n",
       "[3,] -0.34011052 -1.2383807 -0.4517540\n",
       "[4,] -0.04858722 -0.9006405 -0.2258770\n",
       "[5,]  0.53445939 -0.2251601  1.1293849\n",
       "[6,]  1.70055260  0.2814502  1.3552619"
      ]
     },
     "metadata": {},
     "output_type": "display_data"
    }
   ],
   "source": [
    "#create dataframe\n",
    "df <- data.frame(assists = c(4, 4, 6, 7, 9, 13),\n",
    "                 points = c(24, 29, 13, 15, 19, 22),\n",
    "                 rebounds = c(5, 5, 7, 8, 14, 15))\n",
    "\n",
    "#find z-scores of each column\n",
    "sapply(df, function(df) (df-mean(df))/sd(df))"
   ]
  },
  {
   "cell_type": "markdown",
   "id": "6d641b76-95ac-4f6f-8ffa-21f5b27fd15c",
   "metadata": {},
   "source": [
    "## 10.计算序数（ordinal）变量相关性（Polychoric）"
   ]
  },
  {
   "cell_type": "markdown",
   "id": "cc2a3ec1-a4c6-4da6-bc12-f8ba6beb3a7d",
   "metadata": {},
   "source": [
    "> 在序数尺度上测量的变量的一些示例包括：\n",
    "\n",
    "- 满意度‎‎：非常不满意，不满意，中立，满意，非常满意‎\n",
    "-收入水平‎‎：低收入、中等收入、高收入‎\n",
    "-工作场所状态‎‎：入门分析师、分析师 I、分析师 II、首席分析师‎\n",
    "-疼痛程度‎‎：少量、中量、高量‎"
   ]
  },
  {
   "cell_type": "markdown",
   "id": "46b26a35-9b92-4e75-bb5b-bf777d9f9f5a",
   "metadata": {},
   "source": [
    "> 相关性的值范围为 -1 到 1，其中：\n",
    "\n",
    "- -1‎‎ 表示完全负相关‎\n",
    "-0‎‎ 表示无相关性‎\n",
    "-1‎‎ 表示完美的正相关‎"
   ]
  },
  {
   "cell_type": "markdown",
   "id": "b1c928b5-17d1-4ecf-a4f7-4c6e356461e7",
   "metadata": {},
   "source": [
    "\n",
    "假设想知道两个不同的电影评级机构的电影评级之间是否具有高度相关性。\n",
    "\n",
    "我们要求每个机构以1到3的等级对20部不同的电影进行评级，其中：‎\n",
    "\n",
    "- 1‎‎ 表示“坏”‎\n",
    "-2‎‎表示“平庸”‎\n",
    "-3‎‎ 表示“好”‎"
   ]
  },
  {
   "cell_type": "code",
   "execution_count": null,
   "id": "b21baf2c-17aa-4f55-b2a6-eb5fb9b1b531",
   "metadata": {},
   "outputs": [],
   "source": [
    "install.packages('polycor')"
   ]
  },
  {
   "cell_type": "code",
   "execution_count": 20,
   "id": "18a6b2af-b5ea-4fa6-beae-85b5e2d119b8",
   "metadata": {},
   "outputs": [
    {
     "name": "stderr",
     "output_type": "stream",
     "text": [
      "\n",
      "Attaching package: 'polycor'\n",
      "\n",
      "The following object is masked from 'package:psych':\n",
      "\n",
      "    polyserial\n",
      "\n"
     ]
    },
    {
     "data": {
      "text/html": [
       "0.7828327618789"
      ],
      "text/latex": [
       "0.7828327618789"
      ],
      "text/markdown": [
       "0.7828327618789"
      ],
      "text/plain": [
       "[1] 0.7828328"
      ]
     },
     "metadata": {},
     "output_type": "display_data"
    }
   ],
   "source": [
    "library(polycor)\n",
    "\n",
    "#define movie ratings for each agency\n",
    "agency1 <- c(1, 1, 2, 2, 3, 2, 2, 3, 2, 3, 3, 2, 1, 2, 2, 1, 1, 1, 2, 2)\n",
    "agency2 <- c(1, 1, 2, 1, 3, 3, 3, 2, 2, 3, 3, 3, 2, 2, 2, 1, 2, 1, 3, 3)\n",
    "\n",
    "#calculate polychoric correlation between ratings\n",
    "polychor(agency1, agency2)"
   ]
  },
  {
   "cell_type": "markdown",
   "id": "a08f3473-7113-4722-bbe2-28558b8e8255",
   "metadata": {
    "tags": []
   },
   "source": [
    "> 我们随机调查了20名在两家餐厅用餐的顾客，并要求他们以1到5的等级对整体满意度进行评级，其中：‎\n",
    "\n",
    "- 1‎‎ 表示“非常不满意”‎\n",
    "-2‎‎ 表示“不满意”‎\n",
    "-3‎‎ 表示“中性”‎\n",
    "-4‎‎ 表示“满意”‎\n",
    "-5‎‎表示“非常满意”‎"
   ]
  },
  {
   "cell_type": "code",
   "execution_count": 7,
   "id": "f5766a52-5a42-437b-af58-3a8222d45773",
   "metadata": {},
   "outputs": [
    {
     "data": {
      "text/html": [
       "-0.132277370224444"
      ],
      "text/latex": [
       "-0.132277370224444"
      ],
      "text/markdown": [
       "-0.132277370224444"
      ],
      "text/plain": [
       "[1] -0.1322774"
      ]
     },
     "metadata": {},
     "output_type": "display_data"
    }
   ],
   "source": [
    "library(polycor)\n",
    "\n",
    "#define ratings for each restaurant\n",
    "restaurant1 <- c(1, 1, 2, 2, 2, 3, 3, 3, 2, 2, 3, 4, 4, 5, 5, 4, 3, 4, 5, 5)\n",
    "restaurant2 <- c(4, 3, 3, 4, 3, 3, 4, 5, 4, 4, 4, 5, 5, 4, 2, 1, 1, 2, 1, 4)\n",
    "\n",
    "#calculate polychoric correlation between ratings\n",
    "polychor(restaurant1, restaurant2)"
   ]
  },
  {
   "cell_type": "markdown",
   "id": "6ef6bfdf-9bc4-432d-ab30-0bcbb6bc1da0",
   "metadata": {},
   "source": [
    "## 11.计算偏相关‎"
   ]
  },
  {
   "cell_type": "markdown",
   "id": "08aeb554-3813-4d30-9c53-b997204e1e2f",
   "metadata": {},
   "source": [
    "> 在统计学中，我们经常使用‎‎皮尔逊相关系数‎‎来测量两个变量之间的线性关系。但是，有时我们有兴趣在‎‎控制第三个变量的同时理解两个变量‎‎之间的关系。‎\n",
    "\n"
   ]
  },
  {
   "cell_type": "markdown",
   "id": "487bd4fb-158e-4102-b0d6-f0a64bbe7aa5",
   "metadata": {},
   "source": [
    "例如，假设我们要测量学生学习的小时数与他们期末考试分数之间的关联，同时控制学生在课堂上的当前成绩。\n",
    "在这种情况下，我们可以使用‎‎偏相关‎‎来衡量学习小时数与期末考试分数之间的关系。"
   ]
  },
  {
   "cell_type": "code",
   "execution_count": 22,
   "id": "642d2ae3-adac-420e-a6ba-5e30755ab87d",
   "metadata": {},
   "outputs": [
    {
     "data": {
      "text/html": [
       "<table>\n",
       "<thead><tr><th scope=col>currentGrade</th><th scope=col>hours</th><th scope=col>examScore</th></tr></thead>\n",
       "<tbody>\n",
       "\t<tr><td>82</td><td>4 </td><td>88</td></tr>\n",
       "\t<tr><td>88</td><td>3 </td><td>85</td></tr>\n",
       "\t<tr><td>75</td><td>6 </td><td>76</td></tr>\n",
       "\t<tr><td>74</td><td>5 </td><td>70</td></tr>\n",
       "\t<tr><td>93</td><td>4 </td><td>92</td></tr>\n",
       "\t<tr><td>97</td><td>5 </td><td>94</td></tr>\n",
       "\t<tr><td>83</td><td>8 </td><td>89</td></tr>\n",
       "\t<tr><td>90</td><td>7 </td><td>85</td></tr>\n",
       "\t<tr><td>90</td><td>4 </td><td>90</td></tr>\n",
       "\t<tr><td>80</td><td>6 </td><td>93</td></tr>\n",
       "</tbody>\n",
       "</table>\n"
      ],
      "text/latex": [
       "\\begin{tabular}{r|lll}\n",
       " currentGrade & hours & examScore\\\\\n",
       "\\hline\n",
       "\t 82 & 4  & 88\\\\\n",
       "\t 88 & 3  & 85\\\\\n",
       "\t 75 & 6  & 76\\\\\n",
       "\t 74 & 5  & 70\\\\\n",
       "\t 93 & 4  & 92\\\\\n",
       "\t 97 & 5  & 94\\\\\n",
       "\t 83 & 8  & 89\\\\\n",
       "\t 90 & 7  & 85\\\\\n",
       "\t 90 & 4  & 90\\\\\n",
       "\t 80 & 6  & 93\\\\\n",
       "\\end{tabular}\n"
      ],
      "text/markdown": [
       "\n",
       "| currentGrade | hours | examScore |\n",
       "|---|---|---|\n",
       "| 82 | 4  | 88 |\n",
       "| 88 | 3  | 85 |\n",
       "| 75 | 6  | 76 |\n",
       "| 74 | 5  | 70 |\n",
       "| 93 | 4  | 92 |\n",
       "| 97 | 5  | 94 |\n",
       "| 83 | 8  | 89 |\n",
       "| 90 | 7  | 85 |\n",
       "| 90 | 4  | 90 |\n",
       "| 80 | 6  | 93 |\n",
       "\n"
      ],
      "text/plain": [
       "   currentGrade hours examScore\n",
       "1  82           4     88       \n",
       "2  88           3     85       \n",
       "3  75           6     76       \n",
       "4  74           5     70       \n",
       "5  93           4     92       \n",
       "6  97           5     94       \n",
       "7  83           8     89       \n",
       "8  90           7     85       \n",
       "9  90           4     90       \n",
       "10 80           6     93       "
      ]
     },
     "metadata": {},
     "output_type": "display_data"
    }
   ],
   "source": [
    "#create data frame\n",
    "df <- data.frame(currentGrade = c(82, 88, 75, 74, 93, 97, 83, 90, 90, 80),\n",
    "                 hours = c(4, 3, 6, 5, 4, 5, 8, 7, 4, 6),\n",
    "                 examScore = c(88, 85, 76, 70, 92, 94, 89, 85, 90, 93))\n",
    "\n",
    "#view data frame\n",
    "df"
   ]
  },
  {
   "cell_type": "code",
   "execution_count": 1,
   "id": "231e0aee-00b3-4167-925c-4f26ff0ad272",
   "metadata": {},
   "outputs": [
    {
     "name": "stderr",
     "output_type": "stream",
     "text": [
      "Warning message in readRDS(dest):\n",
      "\"lzma decoding result 10\""
     ]
    },
    {
     "name": "stdout",
     "output_type": "stream",
     "text": [
      "package 'ppcor' successfully unpacked and MD5 sums checked\n",
      "\n",
      "The downloaded binary packages are in\n",
      "\tC:\\Users\\sxf\\AppData\\Local\\Temp\\RtmpE9TLi4\\downloaded_packages\n"
     ]
    }
   ],
   "source": [
    "install.packages('ppcor')"
   ]
  },
  {
   "cell_type": "code",
   "execution_count": 23,
   "id": "b9082a64-4e57-4a2a-8b12-b8721fb0458d",
   "metadata": {},
   "outputs": [
    {
     "data": {
      "text/html": [
       "<dl>\n",
       "\t<dt>$estimate</dt>\n",
       "\t\t<dd><table>\n",
       "<thead><tr><th></th><th scope=col>currentGrade</th><th scope=col>hours</th><th scope=col>examScore</th></tr></thead>\n",
       "<tbody>\n",
       "\t<tr><th scope=row>currentGrade</th><td> 1.0000000</td><td>-0.3112341</td><td>0.7355673 </td></tr>\n",
       "\t<tr><th scope=row>hours</th><td>-0.3112341</td><td> 1.0000000</td><td>0.1906258 </td></tr>\n",
       "\t<tr><th scope=row>examScore</th><td> 0.7355673</td><td> 0.1906258</td><td>1.0000000 </td></tr>\n",
       "</tbody>\n",
       "</table>\n",
       "</dd>\n",
       "\t<dt>$p.value</dt>\n",
       "\t\t<dd><table>\n",
       "<thead><tr><th></th><th scope=col>currentGrade</th><th scope=col>hours</th><th scope=col>examScore</th></tr></thead>\n",
       "<tbody>\n",
       "\t<tr><th scope=row>currentGrade</th><td>0.00000000</td><td>0.4149353 </td><td>0.02389896</td></tr>\n",
       "\t<tr><th scope=row>hours</th><td>0.41493532</td><td>0.0000000 </td><td>0.62322848</td></tr>\n",
       "\t<tr><th scope=row>examScore</th><td>0.02389896</td><td>0.6232285 </td><td>0.00000000</td></tr>\n",
       "</tbody>\n",
       "</table>\n",
       "</dd>\n",
       "\t<dt>$statistic</dt>\n",
       "\t\t<dd><table>\n",
       "<thead><tr><th></th><th scope=col>currentGrade</th><th scope=col>hours</th><th scope=col>examScore</th></tr></thead>\n",
       "<tbody>\n",
       "\t<tr><th scope=row>currentGrade</th><td> 0.0000000</td><td>-0.8664833</td><td>2.8727185 </td></tr>\n",
       "\t<tr><th scope=row>hours</th><td>-0.8664833</td><td> 0.0000000</td><td>0.5137696 </td></tr>\n",
       "\t<tr><th scope=row>examScore</th><td> 2.8727185</td><td> 0.5137696</td><td>0.0000000 </td></tr>\n",
       "</tbody>\n",
       "</table>\n",
       "</dd>\n",
       "\t<dt>$n</dt>\n",
       "\t\t<dd>10</dd>\n",
       "\t<dt>$gp</dt>\n",
       "\t\t<dd>1</dd>\n",
       "\t<dt>$method</dt>\n",
       "\t\t<dd>'pearson'</dd>\n",
       "</dl>\n"
      ],
      "text/latex": [
       "\\begin{description}\n",
       "\\item[\\$estimate] \\begin{tabular}{r|lll}\n",
       "  & currentGrade & hours & examScore\\\\\n",
       "\\hline\n",
       "\tcurrentGrade &  1.0000000 & -0.3112341 & 0.7355673 \\\\\n",
       "\thours & -0.3112341 &  1.0000000 & 0.1906258 \\\\\n",
       "\texamScore &  0.7355673 &  0.1906258 & 1.0000000 \\\\\n",
       "\\end{tabular}\n",
       "\n",
       "\\item[\\$p.value] \\begin{tabular}{r|lll}\n",
       "  & currentGrade & hours & examScore\\\\\n",
       "\\hline\n",
       "\tcurrentGrade & 0.00000000 & 0.4149353  & 0.02389896\\\\\n",
       "\thours & 0.41493532 & 0.0000000  & 0.62322848\\\\\n",
       "\texamScore & 0.02389896 & 0.6232285  & 0.00000000\\\\\n",
       "\\end{tabular}\n",
       "\n",
       "\\item[\\$statistic] \\begin{tabular}{r|lll}\n",
       "  & currentGrade & hours & examScore\\\\\n",
       "\\hline\n",
       "\tcurrentGrade &  0.0000000 & -0.8664833 & 2.8727185 \\\\\n",
       "\thours & -0.8664833 &  0.0000000 & 0.5137696 \\\\\n",
       "\texamScore &  2.8727185 &  0.5137696 & 0.0000000 \\\\\n",
       "\\end{tabular}\n",
       "\n",
       "\\item[\\$n] 10\n",
       "\\item[\\$gp] 1\n",
       "\\item[\\$method] 'pearson'\n",
       "\\end{description}\n"
      ],
      "text/markdown": [
       "$estimate\n",
       ":   \n",
       "| <!--/--> | currentGrade | hours | examScore |\n",
       "|---|---|---|---|\n",
       "| currentGrade |  1.0000000 | -0.3112341 | 0.7355673  |\n",
       "| hours | -0.3112341 |  1.0000000 | 0.1906258  |\n",
       "| examScore |  0.7355673 |  0.1906258 | 1.0000000  |\n",
       "\n",
       "\n",
       "$p.value\n",
       ":   \n",
       "| <!--/--> | currentGrade | hours | examScore |\n",
       "|---|---|---|---|\n",
       "| currentGrade | 0.00000000 | 0.4149353  | 0.02389896 |\n",
       "| hours | 0.41493532 | 0.0000000  | 0.62322848 |\n",
       "| examScore | 0.02389896 | 0.6232285  | 0.00000000 |\n",
       "\n",
       "\n",
       "$statistic\n",
       ":   \n",
       "| <!--/--> | currentGrade | hours | examScore |\n",
       "|---|---|---|---|\n",
       "| currentGrade |  0.0000000 | -0.8664833 | 2.8727185  |\n",
       "| hours | -0.8664833 |  0.0000000 | 0.5137696  |\n",
       "| examScore |  2.8727185 |  0.5137696 | 0.0000000  |\n",
       "\n",
       "\n",
       "$n\n",
       ":   10\n",
       "$gp\n",
       ":   1\n",
       "$method\n",
       ":   'pearson'\n",
       "\n",
       "\n"
      ],
      "text/plain": [
       "$estimate\n",
       "             currentGrade      hours examScore\n",
       "currentGrade    1.0000000 -0.3112341 0.7355673\n",
       "hours          -0.3112341  1.0000000 0.1906258\n",
       "examScore       0.7355673  0.1906258 1.0000000\n",
       "\n",
       "$p.value\n",
       "             currentGrade     hours  examScore\n",
       "currentGrade   0.00000000 0.4149353 0.02389896\n",
       "hours          0.41493532 0.0000000 0.62322848\n",
       "examScore      0.02389896 0.6232285 0.00000000\n",
       "\n",
       "$statistic\n",
       "             currentGrade      hours examScore\n",
       "currentGrade    0.0000000 -0.8664833 2.8727185\n",
       "hours          -0.8664833  0.0000000 0.5137696\n",
       "examScore       2.8727185  0.5137696 0.0000000\n",
       "\n",
       "$n\n",
       "[1] 10\n",
       "\n",
       "$gp\n",
       "[1] 1\n",
       "\n",
       "$method\n",
       "[1] \"pearson\"\n"
      ]
     },
     "metadata": {},
     "output_type": "display_data"
    }
   ],
   "source": [
    "\n",
    "library(ppcor)\n",
    "#calculate partial correlations\n",
    "pcor(df)"
   ]
  },
  {
   "cell_type": "markdown",
   "id": "34ef3145-2483-42db-843e-35af7b677c73",
   "metadata": {},
   "source": [
    "**学习小时数与期末考试成绩之间的偏相关：**\n",
    "\n",
    "‎学习小时数与期末考试成绩之间的部分相关性为‎‎.191‎‎，这是一个小的正相关。随着学习时间的增加，假设当前成绩保持不变，考试成绩也往往会增加。‎\n",
    "\n",
    "‎此偏相关关系的 p 值为 ‎‎.623‎‎，在 α = 0.05 时不具有统计显著性。‎"
   ]
  },
  {
   "cell_type": "markdown",
   "id": "14552060-007e-48b6-a9b0-f672425218bf",
   "metadata": {},
   "source": [
    "**当前成绩与期末考试成绩之间的偏相关：‎**\n",
    "\n",
    "‎当前成绩与期末考试分数之间的偏相关为‎‎.736‎‎，这是一个很强的正相关。随着当前成绩的提高，考试成绩也趋于增加，假设学习的时间保持不变。‎\n",
    "    此偏相关关系的 p 值为 ‎‎.024‎‎，在 α = 0.05 时具有统计显著性。‎"
   ]
  },
  {
   "cell_type": "markdown",
   "id": "4dce8e89-8a0d-483b-b50c-0869665d853e",
   "metadata": {},
   "source": [
    "**当前成绩与学习小时数之间的部分相关性：‎**\n",
    "\n",
    "‎当前成绩和学习小时数与期末考试分数之间的部分相关性为‎‎-.311‎‎，这是一个轻微的负相关。随着当前成绩的提高，假设期末考试分数保持不变，期末考试分数往往会下降。‎\n",
    "\n",
    "‎此偏相关关系的 p 值为 ‎‎0.415‎‎，在 α = 0.05 时不具有统计显著性。‎\n",
    "\n",
    "‎输出还告诉我们，用于计算偏相关的方法是“皮尔逊”。在 pcor（） 函数中，我们还可以指定 “kendall” 或 “pearson” 作为计算相关性的替代方法。‎"
   ]
  },
  {
   "cell_type": "markdown",
   "id": "4b06199a-18ea-4444-83b0-06afbf4da610",
   "metadata": {},
   "source": [
    "## 12.点-双序列相关性‎"
   ]
  },
  {
   "cell_type": "markdown",
   "id": "d92dcc2c-d4d4-48ae-94fc-f2eb2a94e23b",
   "metadata": {},
   "source": [
    "**‎点-双序列相关性‎‎用于度量二元变量 x 和连续变量 y 之间的关系。**"
   ]
  },
  {
   "cell_type": "markdown",
   "id": "fdf016ee-9b57-4386-9e7a-7bf36c332964",
   "metadata": {},
   "source": [
    "‎与‎‎皮尔逊相关系数‎‎类似‎‎，点-双序列相关系数的值介于 -1 和 1 之间，其中：‎\n",
    "\n",
    "- -1 表示两个变量之间完全负相关‎\n",
    "-0 表示两个变量之间没有相关性‎\n",
    "-1 表示两个变量之间完全正相关‎"
   ]
  },
  {
   "cell_type": "code",
   "execution_count": 24,
   "id": "197d560d-8190-4c64-9ab3-1ab2f5408a66",
   "metadata": {},
   "outputs": [],
   "source": [
    "x <- c(0, 1, 1, 0, 0, 0, 1, 0, 1, 1, 0)\n",
    "\n",
    "y <- c(12, 14, 17, 17, 11, 22, 23, 11, 19, 8, 12)"
   ]
  },
  {
   "cell_type": "code",
   "execution_count": 25,
   "id": "ac85b074-d517-452d-b258-157acf427a60",
   "metadata": {},
   "outputs": [
    {
     "data": {
      "text/plain": [
       "\n",
       "\tPearson's product-moment correlation\n",
       "\n",
       "data:  x and y\n",
       "t = 0.67064, df = 9, p-value = 0.5193\n",
       "alternative hypothesis: true correlation is not equal to 0\n",
       "95 percent confidence interval:\n",
       " -0.4391885  0.7233704\n",
       "sample estimates:\n",
       "      cor \n",
       "0.2181635 \n"
      ]
     },
     "metadata": {},
     "output_type": "display_data"
    }
   ],
   "source": [
    "#calculate point-biserial correlation\n",
    "cor.test(x, y)"
   ]
  },
  {
   "cell_type": "markdown",
   "id": "a03d9425-b6d4-467a-9577-5f5e5eef46c1",
   "metadata": {
    "tags": []
   },
   "source": [
    "‎从输出中，我们可以观察到以下内容：‎\n",
    "\n",
    "- ‎点-双序列相关系数为 ‎**‎0.218‎**\n",
    "- ‎相应的 p 值为 ‎**‎0.5193‎**\n",
    "\n",
    "‎由于相关系数为正，这表明当变量 x 采用值“1”时，与变量 x 采用值“0”时相比，变量 y 往往具有更高的值。‎\n",
    "\n",
    "‎但是，由于此相关性的 p 值不小于 .05，因此此相关性在统计意义上不显著。‎\n",
    "\n",
    "‎请注意，输出还为真实相关系数提供了 95% 的置信区间，结果为：‎\n",
    "\n",
    "**‎95% C.I. = （-0.439， 0.723）‎**\n",
    "\n",
    "‎由于此置信区间包含零，这进一步证明了相关系数在统计意义上不显著。‎"
   ]
  },
  {
   "cell_type": "markdown",
   "id": "46eb9e52-f593-49c1-89e0-9b3f700dde88",
   "metadata": {},
   "source": [
    "## 13.计算时间序列互相关"
   ]
  },
  {
   "cell_type": "markdown",
   "id": "448b3cce-1e84-4c0c-847b-2ca49f67fa9a",
   "metadata": {},
   "source": [
    "**‎互相关‎**‎是一种度量时间序列与另一个时间序列的滞后版本之间相似程度的方法。‎\n",
    "\n",
    "‎这种类型的相关性对于计算很有用，因为它可以告诉我们一个时间序列的值是否预测另一个时间序列的未来值。 ‎‎换句话说，它可以告诉我们一个时间序列是否是另一个时间序列的领先指标。‎\n",
    "\n",
    "‎这种类型的关联用于许多不同的领域，包括：‎\n",
    "\n",
    "**‎经济学：‎**‎消费者信心指数（CCI）被认为是一个国家国内生产总值（GDP）的领先指标。例如，如果 CCI 在给定月份内较高，则 GDP 可能会在 ‎*‎x‎*‎ 个月后更高。‎\n",
    "\n",
    "**‎商：‎**‎营销支出通常被认为是企业未来收入的领先指标。例如，如果一家企业在一个季度内在营销上花费了异常高的金额，那么预计‎*‎x季度后‎*‎总收入将很高。‎\n",
    "\n",
    "**‎生物学：‎**‎海洋污染总量被认为是某种海龟种群的领先指标。例如，如果在给定年份内污染较高，那么预计‎*‎x‎*‎年后海龟的总数量将较低。‎\n",
    "\n",
    "‎下面的示例演示如何计算 R 中两个时间序列之间的互相关。‎"
   ]
  },
  {
   "cell_type": "markdown",
   "id": "4b889588-6a0b-4e30-9a86-ffb348893bf8",
   "metadata": {},
   "source": [
    "**示例：如何在 R 中计算互相关‎**\n",
    "\n",
    "‎假设我们在R中有以下时间序列，显示连续12个月内某家公司的总营销支出（以千为单位）以及总收入（以千为单位）："
   ]
  },
  {
   "cell_type": "code",
   "execution_count": 26,
   "id": "ce37c672-fead-42e5-8373-7926ee0cb666",
   "metadata": {},
   "outputs": [],
   "source": [
    "#define data\n",
    "marketing <- c(3, 4, 5, 5, 7, 9, 13, 15, 12, 10, 8, 8)\n",
    "revenue <- c(21, 19, 22, 24, 25, 29, 30, 34, 37, 40, 35, 30) "
   ]
  },
  {
   "cell_type": "markdown",
   "id": "e49a2da5-3855-4cf5-8256-934ccbd3b0ea",
   "metadata": {},
   "source": [
    "我们可以通过使用 ‎‎ccf（）‎‎ 函数计算两个时间序列之间每个滞后的互相关，如下所示："
   ]
  },
  {
   "cell_type": "code",
   "execution_count": 28,
   "id": "0c821f3e-8dd3-47b5-aa8e-be53d20a5749",
   "metadata": {},
   "outputs": [
    {
     "data": {
      "image/png": "[encoded data removed]",
      "text/plain": [
       "Plot with title \"marketing & revenue\""
      ]
     },
     "metadata": {},
     "output_type": "display_data"
    }
   ],
   "source": [
    "#calculate cross correlation\n",
    "ccf(marketing, revenue)"
   ]
  },
  {
   "cell_type": "markdown",
   "id": "ef7a1c09-2621-4619-abc0-99b292ccba95",
   "metadata": {},
   "source": [
    "此图显示两个时间序列在各种滞后处的相关性。‎\n",
    "\n",
    "‎为了显示实际的相关值，我们可以使用以下语法：‎"
   ]
  },
  {
   "cell_type": "code",
   "execution_count": 20,
   "id": "0b24040e-9eff-44f0-9a9f-bc617af4fd5a",
   "metadata": {},
   "outputs": [
    {
     "name": "stdout",
     "output_type": "stream",
     "text": [
      "\n",
      "Autocorrelations of series 'X', by lag\n",
      "\n",
      "    -7     -6     -5     -4     -3     -2     -1      0      1      2      3 \n",
      "-0.430 -0.351 -0.190  0.123  0.489  0.755  0.868  0.771  0.462  0.194 -0.061 \n",
      "     4      5      6      7 \n",
      "-0.282 -0.445 -0.492 -0.358 \n"
     ]
    },
    {
     "data": {
      "image/png": "[encoded data removed]",
      "text/plain": [
       "Plot with title \"marketing & revenue\""
      ]
     },
     "metadata": {},
     "output_type": "display_data"
    }
   ],
   "source": [
    "#display cross correlation values\n",
    "print(ccf(marketing, revenue))"
   ]
  },
  {
   "cell_type": "markdown",
   "id": "4bfc07c4-d8a6-4e52-bd83-0453c56ce012",
   "metadata": {},
   "source": [
    "下面介绍了如何解释此输出：‎\n",
    "\n",
    "- ‎滞后 0 处的互相关为 ‎**‎0.771‎**‎。‎\n",
    "- ‎滞后 1 处的互相关为 ‎**‎0.462‎**‎。‎\n",
    "- ‎滞后 2 处的互相关为 ‎**‎0.194‎**‎。‎\n",
    "- ‎滞后 3 处的互相关为 ‎**‎-0.061‎**‎。‎\n",
    "\n",
    "‎等等。‎\n",
    "\n",
    "‎请注意，两个时间序列之间的相关性在滞后 -2 到 2 之间非常为正，这告诉我们，给定月份的营销支出可以很好地预测一到两个月后的收入。‎"
   ]
  },
  {
   "cell_type": "markdown",
   "id": "21e0b098-6fb7-44cc-97ef-eb1a785dc678",
   "metadata": {},
   "source": [
    "## 14.计算斯皮尔曼秩相关性"
   ]
  },
  {
   "cell_type": "markdown",
   "id": "437f42d8-7355-408e-9f29-f52d1c066a32",
   "metadata": {},
   "source": [
    "‎在统计学中，‎**‎相关性‎**‎是指两个变量之间关系的强度和方向。相关系数的值范围可以从 -1 到 1，并具有以下解释：‎\n",
    "\n",
    "- **‎ -1：‎**‎两个变量之间的完美负关系‎\n",
    "- **‎0：‎**‎两个变量之间无关系‎\n",
    "- **‎1：‎**‎两个变量之间的完美正相关‎\n",
    "\n",
    "‎一种特殊类型的相关性称为 ‎**‎Spearman Rank Correlation‎**‎，用于测量两个排名变量之间的相关性。（例如，学生的数学考试成绩与课堂科学考试成绩的排名）。‎\n",
    "\n",
    "‎为了计算R中两个变量之间的Spearman秩相关性，我们可以使用以下基本语法：‎"
   ]
  },
  {
   "cell_type": "code",
   "execution_count": null,
   "id": "26797663-afbd-418f-887d-580d8621dcb7",
   "metadata": {},
   "outputs": [],
   "source": [
    "corr <- cor.test(x, y, method = 'spearman')"
   ]
  },
  {
   "cell_type": "markdown",
   "id": "59ce6863-b209-4e91-bdc8-c1efda07b7c0",
   "metadata": {},
   "source": [
    "**示例 1：向量之间的斯皮尔曼秩相关性‎**\n",
    "\n",
    "‎下面的代码演示如何计算 R 中两个向量之间的 Spearman 秩相关性：‎"
   ]
  },
  {
   "cell_type": "code",
   "execution_count": 22,
   "id": "ec54765a-17a6-4a02-8311-c12ba677af4e",
   "metadata": {},
   "outputs": [
    {
     "data": {
      "text/plain": [
       "\n",
       "\tSpearman's rank correlation rho\n",
       "\n",
       "data:  x and y\n",
       "S = 234, p-value = 0.2324\n",
       "alternative hypothesis: true rho is not equal to 0\n",
       "sample estimates:\n",
       "       rho \n",
       "-0.4181818 \n"
      ]
     },
     "metadata": {},
     "output_type": "display_data"
    }
   ],
   "source": [
    "#define data\n",
    "x <- c(70, 78, 90, 87, 84, 86, 91, 74, 83, 85)\n",
    "y <- c(90, 94, 79, 86, 84, 83, 88, 92, 76, 75)\n",
    "\n",
    "#calculate Spearman rank correlation between x and y\n",
    "cor.test(x, y, method = 'spearman')"
   ]
  },
  {
   "cell_type": "markdown",
   "id": "57e74e3f-2319-4e81-b22d-8c8ff2828907",
   "metadata": {},
   "source": [
    "‎从输出中我们可以看到，斯皮尔曼秩相关性为 ‎**‎-0.41818‎**‎，相应的 p 值为 ‎**‎0.2324‎**‎。‎\n",
    "\n",
    "‎这表明两个向量之间存在负相关关系。‎\n",
    "\n",
    "‎但是，由于相关性的 p 值不小于 0.05，因此相关性在统计意义上不显著。‎"
   ]
  },
  {
   "cell_type": "markdown",
   "id": "59280f93-2468-4511-aa2d-a2f94d970f29",
   "metadata": {},
   "source": [
    "**‎示例 2：数据帧中列之间的斯皮尔曼秩关联‎**\n",
    "\n",
    "‎下面的代码演示如何计算数据框中两列之间的 Spearman 秩相关性：‎"
   ]
  },
  {
   "cell_type": "code",
   "execution_count": 23,
   "id": "1bc9bf64-ed3b-440d-87f4-dcff3dfbdfb5",
   "metadata": {},
   "outputs": [
    {
     "data": {
      "text/plain": [
       "\n",
       "\tSpearman's rank correlation rho\n",
       "\n",
       "data:  df$points and df$assists\n",
       "S = 36, p-value = 0.01165\n",
       "alternative hypothesis: true rho is not equal to 0\n",
       "sample estimates:\n",
       "      rho \n",
       "0.7818182 \n"
      ]
     },
     "metadata": {},
     "output_type": "display_data"
    }
   ],
   "source": [
    "#define data frame\n",
    "df <- data.frame(team=c('A', 'B', 'C', 'D', 'E', 'F', 'G', 'H', 'I', 'J'),\n",
    "                 points=c(67, 70, 75, 78, 73, 89, 84, 99, 90, 91),\n",
    "                 assists=c(22, 27, 30, 23, 25, 31, 38, 35, 34, 32))\n",
    "\n",
    "#calculate Spearman rank correlation between x and y\n",
    "cor.test(df$points, df$assists, method = 'spearman')"
   ]
  },
  {
   "cell_type": "markdown",
   "id": "083e377b-da12-4a55-8452-c8a78379291b",
   "metadata": {},
   "source": [
    "\n",
    "\n",
    "‎从输出中我们可以看到，斯皮尔曼秩相关性为 ‎**‎0.7818‎**‎，相应的 p 值为 ‎**‎0.01165‎**‎。‎\n",
    "\n",
    "‎这表明两个向量之间存在很强的正相关关系。‎\n",
    "\n",
    "‎由于相关性的 p 值小于 0.05，因此相关性在统计意义上显著。‎"
   ]
  },
  {
   "cell_type": "markdown",
   "id": "ab471168-d9b1-40b3-b32c-162ade4d5926",
   "metadata": {},
   "source": [
    "## 15.计算类内相关系数"
   ]
  },
  {
   "cell_type": "markdown",
   "id": "49a26633-1b7c-485b-8393-0f883f406913",
   "metadata": {},
   "source": [
    "\n",
    "\n",
    "[‎类内相关系数‎](https://www.statology.org/intraclass-correlation-coefficient/)‎ （ICC） 用于确定不同评分者是否可以对项目或受试者进行可靠评分。‎\n",
    "\n",
    "‎ICC 的值范围为 0 到 1，其中 0 表示评分者之间没有‎[‎可靠性‎](https://www.statology.org/reliability-analysis/)‎，1 表示完全可靠性。‎\n",
    "\n",
    "‎在 R 中计算 ICC 的最简单方法是使用 ‎**‎irr‎**‎ 包中的 ‎**‎icc（）‎**‎ 函数，该函数使用以下语法：‎\n",
    "\n",
    "**‎icc（额定值、型号、类型、单位）‎**\n",
    "\n",
    "‎哪里：‎\n",
    "\n",
    "- **‎评级：‎**‎评级的数据帧或矩阵‎\n",
    "- **‎型：‎**‎要使用的模型的类型。选项包括“单向”或“双向”‎\n",
    "- **‎类型：‎**‎评分员之间要计算的关系的类型。选项包括“一致性”或“协议”‎\n",
    "- **‎单位：‎**‎分析单位。选项包括“单”或“平均”‎"
   ]
  },
  {
   "cell_type": "markdown",
   "id": "9053c968-fb6d-479b-b357-17069d348e8e",
   "metadata": {},
   "source": [
    "**步骤 1：创建数据‎**\n",
    "\n",
    "‎假设四位不同的评委被要求对10次不同大学入学考试的质量进行评级。我们可以创建以下数据帧来保存评委的评级：‎"
   ]
  },
  {
   "cell_type": "code",
   "execution_count": 4,
   "id": "b6fdc41b-8482-40f6-9778-38149b22fe2e",
   "metadata": {},
   "outputs": [],
   "source": [
    "#create data\n",
    "data <- data.frame(A=c(1, 1, 3, 6, 6, 7, 8, 9, 8, 7),\n",
    "                   B=c(2, 3, 8, 4, 5, 5, 7, 9, 8, 8),\n",
    "                   C=c(0, 4, 1, 5, 5, 6, 6, 9, 8, 8),\n",
    "                   D=c(1, 2, 3, 3, 6, 4, 6, 8, 8, 9))"
   ]
  },
  {
   "cell_type": "markdown",
   "id": "709ba2b2-cfa6-4cad-bcf4-a79c47733155",
   "metadata": {},
   "source": [
    " **‎步骤 2：计算类内相关系数‎**\n",
    "\n",
    "‎假设这四位评委是从一群合格的入学考试评委中随机挑选出来的，我们想衡量评委之间的绝对一致性，并且我们有兴趣从单一评分者的角度使用评级作为我们衡量的基础。‎\n",
    "\n",
    "‎我们可以在 R 中使用以下代码来拟合‎**‎双向模型‎**‎，使用‎**‎绝对一致‎**‎作为评分者之间的关系，并使用 ‎**‎single‎**‎ 作为我们的兴趣单位：‎"
   ]
  },
  {
   "cell_type": "code",
   "execution_count": 7,
   "id": "961beed6-e90e-4eb4-8ef0-0a1662cf4586",
   "metadata": {},
   "outputs": [
    {
     "name": "stderr",
     "output_type": "stream",
     "text": [
      "also installing the dependency 'lpSolve'\n",
      "\n"
     ]
    },
    {
     "name": "stdout",
     "output_type": "stream",
     "text": [
      "package 'lpSolve' successfully unpacked and MD5 sums checked\n",
      "package 'irr' successfully unpacked and MD5 sums checked\n",
      "\n",
      "The downloaded binary packages are in\n",
      "\tC:\\Users\\sxf\\AppData\\Local\\Temp\\RtmpE9TLi4\\downloaded_packages\n"
     ]
    }
   ],
   "source": [
    "install.packages('irr')"
   ]
  },
  {
   "cell_type": "code",
   "execution_count": 28,
   "id": "ccbd58ab-b24a-40ff-8db1-4c3c73aa1231",
   "metadata": {},
   "outputs": [
    {
     "name": "stderr",
     "output_type": "stream",
     "text": [
      "Warning message:\n",
      "\"package 'irr' was built under R version 3.6.2\"Loading required package: lpSolve\n",
      "Warning message:\n",
      "\"package 'lpSolve' was built under R version 3.6.2\""
     ]
    },
    {
     "data": {
      "text/plain": [
       " Single Score Intraclass Correlation\n",
       "\n",
       "   Model: twoway \n",
       "   Type : agreement \n",
       "\n",
       "   Subjects = 10 \n",
       "     Raters = 4 \n",
       "   ICC(A,1) = 0.782\n",
       "\n",
       " F-Test, H0: r0 = 0 ; H1: r0 > 0 \n",
       "    F(9,30) = 15.3 , p = 5.93e-09 \n",
       "\n",
       " 95%-Confidence Interval for ICC Population Values:\n",
       "  0.554 < ICC < 0.931"
      ]
     },
     "metadata": {},
     "output_type": "display_data"
    }
   ],
   "source": [
    "#load the interrater reliability package\n",
    "library(irr)\n",
    "\n",
    "#define data\n",
    "data <- data.frame(A=c(1, 1, 3, 6, 6, 7, 8, 9, 8, 7),\n",
    "                   B=c(2, 3, 8, 4, 5, 5, 7, 9, 8, 8),\n",
    "                   C=c(0, 4, 1, 5, 5, 6, 6, 9, 8, 8),\n",
    "                   D=c(1, 2, 3, 3, 6, 4, 6, 8, 8, 9))\n",
    "\n",
    "#calculate ICC\n",
    "icc(data, model = \"twoway\", type = \"agreement\", unit = \"single\")"
   ]
  },
  {
   "cell_type": "markdown",
   "id": "e9524802-4941-4383-9863-274ca4e7a45f",
   "metadata": {},
   "source": [
    "‎类内相关系数 （ICC） 为 ‎**‎0.782‎**‎。‎\n",
    "\n",
    "‎以下是如何解释类内相关系数的值，根据‎[‎Koo & Li‎](https://pubmed.ncbi.nlm.nih.gov/27330520/)‎：‎\n",
    "\n",
    "- **‎小于 0.50：‎**‎可靠性差‎\n",
    "- **‎介于 0.5 和 0.75 之间：‎**‎中等可靠性‎\n",
    "- **‎介于 0.75 和 0.9 之间：‎**‎良好的可靠性‎\n",
    "- **‎大于 0.9：‎**‎出色的可靠性‎\n",
    "\n",
    "‎因此，我们的结论是，ICC为‎**‎0.782‎**‎表明，不同的评分者可以对考试进行“良好”的可靠性评级。‎"
   ]
  },
  {
   "cell_type": "code",
   "execution_count": null,
   "id": "4ebb169b-a9da-4755-b72a-c24b3b1ca7e0",
   "metadata": {},
   "outputs": [],
   "source": []
  },
  {
   "cell_type": "markdown",
   "id": "65157d5b-bcf5-496a-aebd-a0d66b73eb01",
   "metadata": {},
   "source": [
    "## 16.多个变量之间的相关性"
   ]
  },
  {
   "cell_type": "code",
   "execution_count": 29,
   "id": "ca61aba6-ea9a-447c-b7b1-eae171140552",
   "metadata": {},
   "outputs": [
    {
     "data": {
      "text/html": [
       "<table>\n",
       "<thead><tr><th scope=col>a</th><th scope=col>b</th><th scope=col>c</th><th scope=col>d</th></tr></thead>\n",
       "<tbody>\n",
       "\t<tr><td> 2</td><td>23</td><td>13</td><td>6 </td></tr>\n",
       "\t<tr><td> 3</td><td>24</td><td>14</td><td>6 </td></tr>\n",
       "\t<tr><td> 3</td><td>24</td><td>14</td><td>7 </td></tr>\n",
       "\t<tr><td> 5</td><td>23</td><td>14</td><td>8 </td></tr>\n",
       "\t<tr><td> 6</td><td>17</td><td>15</td><td>8 </td></tr>\n",
       "\t<tr><td> 9</td><td>28</td><td>17</td><td>8 </td></tr>\n",
       "\t<tr><td>14</td><td>38</td><td>18</td><td>7 </td></tr>\n",
       "\t<tr><td>15</td><td>34</td><td>19</td><td>6 </td></tr>\n",
       "\t<tr><td>19</td><td>35</td><td>22</td><td>5 </td></tr>\n",
       "\t<tr><td>21</td><td>39</td><td>20</td><td>3 </td></tr>\n",
       "\t<tr><td>22</td><td>41</td><td>24</td><td>3 </td></tr>\n",
       "\t<tr><td>23</td><td>43</td><td>26</td><td>2 </td></tr>\n",
       "</tbody>\n",
       "</table>\n"
      ],
      "text/latex": [
       "\\begin{tabular}{r|llll}\n",
       " a & b & c & d\\\\\n",
       "\\hline\n",
       "\t  2 & 23 & 13 & 6 \\\\\n",
       "\t  3 & 24 & 14 & 6 \\\\\n",
       "\t  3 & 24 & 14 & 7 \\\\\n",
       "\t  5 & 23 & 14 & 8 \\\\\n",
       "\t  6 & 17 & 15 & 8 \\\\\n",
       "\t  9 & 28 & 17 & 8 \\\\\n",
       "\t 14 & 38 & 18 & 7 \\\\\n",
       "\t 15 & 34 & 19 & 6 \\\\\n",
       "\t 19 & 35 & 22 & 5 \\\\\n",
       "\t 21 & 39 & 20 & 3 \\\\\n",
       "\t 22 & 41 & 24 & 3 \\\\\n",
       "\t 23 & 43 & 26 & 2 \\\\\n",
       "\\end{tabular}\n"
      ],
      "text/markdown": [
       "\n",
       "| a | b | c | d |\n",
       "|---|---|---|---|\n",
       "|  2 | 23 | 13 | 6  |\n",
       "|  3 | 24 | 14 | 6  |\n",
       "|  3 | 24 | 14 | 7  |\n",
       "|  5 | 23 | 14 | 8  |\n",
       "|  6 | 17 | 15 | 8  |\n",
       "|  9 | 28 | 17 | 8  |\n",
       "| 14 | 38 | 18 | 7  |\n",
       "| 15 | 34 | 19 | 6  |\n",
       "| 19 | 35 | 22 | 5  |\n",
       "| 21 | 39 | 20 | 3  |\n",
       "| 22 | 41 | 24 | 3  |\n",
       "| 23 | 43 | 26 | 2  |\n",
       "\n"
      ],
      "text/plain": [
       "   a  b  c  d\n",
       "1   2 23 13 6\n",
       "2   3 24 14 6\n",
       "3   3 24 14 7\n",
       "4   5 23 14 8\n",
       "5   6 17 15 8\n",
       "6   9 28 17 8\n",
       "7  14 38 18 7\n",
       "8  15 34 19 6\n",
       "9  19 35 22 5\n",
       "10 21 39 20 3\n",
       "11 22 41 24 3\n",
       "12 23 43 26 2"
      ]
     },
     "metadata": {},
     "output_type": "display_data"
    }
   ],
   "source": [
    "#create data frame\n",
    "a <- c(2, 3, 3, 5, 6, 9, 14, 15, 19, 21, 22, 23)\n",
    "b <- c(23, 24, 24, 23, 17, 28, 38, 34, 35, 39, 41, 43)\n",
    "c <- c(13, 14, 14, 14, 15, 17, 18, 19, 22, 20, 24, 26)\n",
    "d <- c(6, 6, 7, 8, 8, 8, 7, 6, 5, 3, 3, 2)\n",
    "df <- data.frame(a,b,c,d)\n",
    "df"
   ]
  },
  {
   "cell_type": "markdown",
   "id": "2f6b13fc-fb7d-4e3a-bdba-b122510a24ab",
   "metadata": {},
   "source": [
    "**‎示例 1：两个变量之间的相关性‎**\n",
    "\n",
    "‎下面的代码演示如何计算数据框中两个变量之间的相关性：‎"
   ]
  },
  {
   "cell_type": "code",
   "execution_count": 24,
   "id": "60495a2e-829a-453e-8cff-533b563118bc",
   "metadata": {},
   "outputs": [
    {
     "data": {
      "text/html": [
       "0.927986900999467"
      ],
      "text/latex": [
       "0.927986900999467"
      ],
      "text/markdown": [
       "0.927986900999467"
      ],
      "text/plain": [
       "[1] 0.9279869"
      ]
     },
     "metadata": {},
     "output_type": "display_data"
    }
   ],
   "source": [
    "cor(df$a, df$b)"
   ]
  },
  {
   "cell_type": "markdown",
   "id": "24e8d9fc-a665-43cb-96e9-097a0a468eec",
   "metadata": {},
   "source": [
    "**‎示例 2：多个变量之间的相关性‎**\n",
    "\n",
    "‎以下代码显示了如何计算数据框中三个变量之间的相关性：‎"
   ]
  },
  {
   "cell_type": "code",
   "execution_count": 26,
   "id": "564102ef-65f0-49b8-aadd-5f6a8be7518f",
   "metadata": {},
   "outputs": [
    {
     "data": {
      "text/html": [
       "<table>\n",
       "<thead><tr><th></th><th scope=col>a</th><th scope=col>b</th><th scope=col>c</th></tr></thead>\n",
       "<tbody>\n",
       "\t<tr><th scope=row>a</th><td>1.0000000</td><td>0.9279869</td><td>0.9604329</td></tr>\n",
       "\t<tr><th scope=row>b</th><td>0.9279869</td><td>1.0000000</td><td>0.8942139</td></tr>\n",
       "\t<tr><th scope=row>c</th><td>0.9604329</td><td>0.8942139</td><td>1.0000000</td></tr>\n",
       "</tbody>\n",
       "</table>\n"
      ],
      "text/latex": [
       "\\begin{tabular}{r|lll}\n",
       "  & a & b & c\\\\\n",
       "\\hline\n",
       "\ta & 1.0000000 & 0.9279869 & 0.9604329\\\\\n",
       "\tb & 0.9279869 & 1.0000000 & 0.8942139\\\\\n",
       "\tc & 0.9604329 & 0.8942139 & 1.0000000\\\\\n",
       "\\end{tabular}\n"
      ],
      "text/markdown": [
       "\n",
       "| <!--/--> | a | b | c |\n",
       "|---|---|---|---|\n",
       "| a | 1.0000000 | 0.9279869 | 0.9604329 |\n",
       "| b | 0.9279869 | 1.0000000 | 0.8942139 |\n",
       "| c | 0.9604329 | 0.8942139 | 1.0000000 |\n",
       "\n"
      ],
      "text/plain": [
       "  a         b         c        \n",
       "a 1.0000000 0.9279869 0.9604329\n",
       "b 0.9279869 1.0000000 0.8942139\n",
       "c 0.9604329 0.8942139 1.0000000"
      ]
     },
     "metadata": {},
     "output_type": "display_data"
    }
   ],
   "source": [
    "cor(df[, c('a', 'b', 'c')])"
   ]
  },
  {
   "cell_type": "markdown",
   "id": "8f5783c7-29c5-4a11-becf-8da25a6334e5",
   "metadata": {},
   "source": [
    "‎解释输出的方法如下：‎\n",
    "\n",
    "- *‎a‎*‎ 和 ‎*‎b‎*‎ 之间的相关性为 0.9279869。‎\n",
    "- *‎a‎*‎ 和 ‎*‎c‎*‎ 之间的相关性为 0.9604329。‎\n",
    "- *‎b‎*‎ 和 ‎*‎c‎*‎ 之间的相关性为 0.8942139。"
   ]
  },
  {
   "cell_type": "markdown",
   "id": "54b96f2d-3031-4278-b912-47f584e6c017",
   "metadata": {},
   "source": [
    "**‎示例 4：仅数值变量之间的相关性‎**\n",
    "\n",
    "‎下面的代码演示如何仅计算数据框中数值变量之间的相关性：‎"
   ]
  },
  {
   "cell_type": "code",
   "execution_count": 27,
   "id": "44a44361-7fa6-4e2f-ab87-3f13f44710ed",
   "metadata": {},
   "outputs": [
    {
     "data": {
      "text/html": [
       "<table>\n",
       "<thead><tr><th></th><th scope=col>a</th><th scope=col>b</th><th scope=col>c</th><th scope=col>d</th></tr></thead>\n",
       "<tbody>\n",
       "\t<tr><th scope=row>a</th><td> 1.0000000</td><td> 0.9279869</td><td> 0.9604329</td><td>-0.7915488</td></tr>\n",
       "\t<tr><th scope=row>b</th><td> 0.9279869</td><td> 1.0000000</td><td> 0.8942139</td><td>-0.7917973</td></tr>\n",
       "\t<tr><th scope=row>c</th><td> 0.9604329</td><td> 0.8942139</td><td> 1.0000000</td><td>-0.8063549</td></tr>\n",
       "\t<tr><th scope=row>d</th><td>-0.7915488</td><td>-0.7917973</td><td>-0.8063549</td><td> 1.0000000</td></tr>\n",
       "</tbody>\n",
       "</table>\n"
      ],
      "text/latex": [
       "\\begin{tabular}{r|llll}\n",
       "  & a & b & c & d\\\\\n",
       "\\hline\n",
       "\ta &  1.0000000 &  0.9279869 &  0.9604329 & -0.7915488\\\\\n",
       "\tb &  0.9279869 &  1.0000000 &  0.8942139 & -0.7917973\\\\\n",
       "\tc &  0.9604329 &  0.8942139 &  1.0000000 & -0.8063549\\\\\n",
       "\td & -0.7915488 & -0.7917973 & -0.8063549 &  1.0000000\\\\\n",
       "\\end{tabular}\n"
      ],
      "text/markdown": [
       "\n",
       "| <!--/--> | a | b | c | d |\n",
       "|---|---|---|---|---|\n",
       "| a |  1.0000000 |  0.9279869 |  0.9604329 | -0.7915488 |\n",
       "| b |  0.9279869 |  1.0000000 |  0.8942139 | -0.7917973 |\n",
       "| c |  0.9604329 |  0.8942139 |  1.0000000 | -0.8063549 |\n",
       "| d | -0.7915488 | -0.7917973 | -0.8063549 |  1.0000000 |\n",
       "\n"
      ],
      "text/plain": [
       "  a          b          c          d         \n",
       "a  1.0000000  0.9279869  0.9604329 -0.7915488\n",
       "b  0.9279869  1.0000000  0.8942139 -0.7917973\n",
       "c  0.9604329  0.8942139  1.0000000 -0.8063549\n",
       "d -0.7915488 -0.7917973 -0.8063549  1.0000000"
      ]
     },
     "metadata": {},
     "output_type": "display_data"
    }
   ],
   "source": [
    "cor(df[,unlist(lapply(df, is.numeric))])"
   ]
  },
  {
   "cell_type": "markdown",
   "id": "9de9adb0-6187-4330-833f-5fa9e07ac494",
   "metadata": {},
   "source": [
    "### 显示相关图"
   ]
  },
  {
   "cell_type": "code",
   "execution_count": 29,
   "id": "34feefd4-36e2-4af5-9fd2-44d40162a5e5",
   "metadata": {},
   "outputs": [],
   "source": [
    "install.packages('psych')"
   ]
  },
  {
   "cell_type": "code",
   "execution_count": 30,
   "id": "5743edd6-4dc3-40a4-b10c-c8549012e627",
   "metadata": {},
   "outputs": [
    {
     "data": {
      "image/png": "[encoded data removed]",
      "text/plain": [
       "plot without title"
      ]
     },
     "metadata": {},
     "output_type": "display_data"
    }
   ],
   "source": [
    "#load psych package\n",
    "library(psych)\n",
    "\n",
    "#create pairs plot\n",
    "pairs.panels(df)"
   ]
  },
  {
   "cell_type": "markdown",
   "id": "7e1dcde7-6b66-4eca-95cc-589cb1a37a69",
   "metadata": {},
   "source": [
    "## 17.创建相关矩阵"
   ]
  },
  {
   "cell_type": "markdown",
   "id": "392c0ccb-1994-4e89-896d-65541480e826",
   "metadata": {},
   "source": [
    "[‎相关矩阵‎](https://www.statology.org/how-to-read-a-correlation-matrix/)‎是一个正方形表，用于显示数据集中变量之间的‎[‎相关系数‎](https://www.statology.org/pearson-correlation-coefficient/)‎。‎\n",
    "\n",
    "‎它提供了一种快速方法来了解数据集中变量之间存在的线性关系的强度。‎\n",
    "\n",
    "‎在 R 中创建相关矩阵有四种常用方法：‎\n",
    "\n",
    "**‎方法 1：cor 函数（用于获取相关系数的简单矩阵）‎**"
   ]
  },
  {
   "cell_type": "code",
   "execution_count": 31,
   "id": "33b548c5-aa62-4203-9966-df9ad6c1761a",
   "metadata": {},
   "outputs": [
    {
     "data": {
      "text/html": [
       "<table>\n",
       "<thead><tr><th></th><th scope=col>a</th><th scope=col>b</th><th scope=col>c</th><th scope=col>d</th></tr></thead>\n",
       "<tbody>\n",
       "\t<tr><th scope=row>a</th><td> 1.0000000</td><td> 0.9279869</td><td> 0.9604329</td><td>-0.7915488</td></tr>\n",
       "\t<tr><th scope=row>b</th><td> 0.9279869</td><td> 1.0000000</td><td> 0.8942139</td><td>-0.7917973</td></tr>\n",
       "\t<tr><th scope=row>c</th><td> 0.9604329</td><td> 0.8942139</td><td> 1.0000000</td><td>-0.8063549</td></tr>\n",
       "\t<tr><th scope=row>d</th><td>-0.7915488</td><td>-0.7917973</td><td>-0.8063549</td><td> 1.0000000</td></tr>\n",
       "</tbody>\n",
       "</table>\n"
      ],
      "text/latex": [
       "\\begin{tabular}{r|llll}\n",
       "  & a & b & c & d\\\\\n",
       "\\hline\n",
       "\ta &  1.0000000 &  0.9279869 &  0.9604329 & -0.7915488\\\\\n",
       "\tb &  0.9279869 &  1.0000000 &  0.8942139 & -0.7917973\\\\\n",
       "\tc &  0.9604329 &  0.8942139 &  1.0000000 & -0.8063549\\\\\n",
       "\td & -0.7915488 & -0.7917973 & -0.8063549 &  1.0000000\\\\\n",
       "\\end{tabular}\n"
      ],
      "text/markdown": [
       "\n",
       "| <!--/--> | a | b | c | d |\n",
       "|---|---|---|---|---|\n",
       "| a |  1.0000000 |  0.9279869 |  0.9604329 | -0.7915488 |\n",
       "| b |  0.9279869 |  1.0000000 |  0.8942139 | -0.7917973 |\n",
       "| c |  0.9604329 |  0.8942139 |  1.0000000 | -0.8063549 |\n",
       "| d | -0.7915488 | -0.7917973 | -0.8063549 |  1.0000000 |\n",
       "\n"
      ],
      "text/plain": [
       "  a          b          c          d         \n",
       "a  1.0000000  0.9279869  0.9604329 -0.7915488\n",
       "b  0.9279869  1.0000000  0.8942139 -0.7917973\n",
       "c  0.9604329  0.8942139  1.0000000 -0.8063549\n",
       "d -0.7915488 -0.7917973 -0.8063549  1.0000000"
      ]
     },
     "metadata": {},
     "output_type": "display_data"
    }
   ],
   "source": [
    "cor(df)"
   ]
  },
  {
   "cell_type": "markdown",
   "id": "959740eb-0bdc-49d5-88ed-235aed041c32",
   "metadata": {},
   "source": [
    "**‎方法 2：rcorr 函数（用于获取相关系数的 p 值）‎**"
   ]
  },
  {
   "cell_type": "code",
   "execution_count": 32,
   "id": "7869bf32-b8d9-4160-aa52-d8fe422a5c02",
   "metadata": {},
   "outputs": [
    {
     "name": "stderr",
     "output_type": "stream",
     "text": [
      "Warning message:\n",
      "\"package 'Hmisc' was built under R version 3.6.3\"Loading required package: lattice\n"
     ]
    },
    {
     "ename": "ERROR",
     "evalue": "Error: package 'survival' required by 'Hmisc' could not be found\n",
     "output_type": "error",
     "traceback": [
      "Error: package 'survival' required by 'Hmisc' could not be found\nTraceback:\n",
      "1. library(Hmisc)",
      "2. .getRequiredPackages2(pkgInfo, quietly = quietly)",
      "3. stop(gettextf(\"package %s required by %s could not be found\", \n .     sQuote(pkg), sQuote(pkgname)), call. = FALSE, domain = NA)"
     ]
    }
   ],
   "source": [
    "library(Hmisc)\n",
    "\n",
    "rcorr(as.matrix(df))"
   ]
  },
  {
   "cell_type": "markdown",
   "id": "d7e98dee-91df-4c7a-9c67-c347746e6af6",
   "metadata": {},
   "source": [
    "**‎方法 3：corrplot 函数（用于可视化相关矩阵）‎**"
   ]
  },
  {
   "cell_type": "code",
   "execution_count": 33,
   "id": "4a7658ee-2d43-4035-844a-c51129a0af95",
   "metadata": {},
   "outputs": [
    {
     "name": "stderr",
     "output_type": "stream",
     "text": [
      "corrplot 0.92 loaded\n"
     ]
    },
    {
     "data": {
      "image/png": "[encoded data removed]",
      "text/plain": [
       "Plot with title \"\""
      ]
     },
     "metadata": {},
     "output_type": "display_data"
    }
   ],
   "source": [
    "library(corrplot)\n",
    "\n",
    "corrplot(cor(df))"
   ]
  },
  {
   "cell_type": "markdown",
   "id": "a840f866-398d-45ca-a2b2-9480da3e838b",
   "metadata": {},
   "source": [
    "**方法4：ggcorrplot函数（用于可视化相关矩阵）‎**"
   ]
  },
  {
   "cell_type": "code",
   "execution_count": null,
   "id": "8f7f65a1-ebf8-493a-8961-657cdaea0544",
   "metadata": {},
   "outputs": [],
   "source": [
    "library(ggcorrplot)\n",
    "\n",
    "ggcorrplot(cor(df))"
   ]
  },
  {
   "cell_type": "code",
   "execution_count": 34,
   "id": "00a662eb-553d-4e80-a050-7636d2e2dcdd",
   "metadata": {},
   "outputs": [
    {
     "data": {
      "text/html": [
       "<table>\n",
       "<thead><tr><th scope=col>assists</th><th scope=col>rebounds</th><th scope=col>points</th></tr></thead>\n",
       "<tbody>\n",
       "\t<tr><td> 4</td><td>12</td><td>22</td></tr>\n",
       "\t<tr><td> 5</td><td>14</td><td>24</td></tr>\n",
       "\t<tr><td> 5</td><td>13</td><td>26</td></tr>\n",
       "\t<tr><td> 6</td><td> 7</td><td>26</td></tr>\n",
       "\t<tr><td> 7</td><td> 8</td><td>29</td></tr>\n",
       "\t<tr><td> 8</td><td> 8</td><td>32</td></tr>\n",
       "\t<tr><td> 8</td><td> 9</td><td>20</td></tr>\n",
       "\t<tr><td>10</td><td>13</td><td>14</td></tr>\n",
       "</tbody>\n",
       "</table>\n"
      ],
      "text/latex": [
       "\\begin{tabular}{r|lll}\n",
       " assists & rebounds & points\\\\\n",
       "\\hline\n",
       "\t  4 & 12 & 22\\\\\n",
       "\t  5 & 14 & 24\\\\\n",
       "\t  5 & 13 & 26\\\\\n",
       "\t  6 &  7 & 26\\\\\n",
       "\t  7 &  8 & 29\\\\\n",
       "\t  8 &  8 & 32\\\\\n",
       "\t  8 &  9 & 20\\\\\n",
       "\t 10 & 13 & 14\\\\\n",
       "\\end{tabular}\n"
      ],
      "text/markdown": [
       "\n",
       "| assists | rebounds | points |\n",
       "|---|---|---|\n",
       "|  4 | 12 | 22 |\n",
       "|  5 | 14 | 24 |\n",
       "|  5 | 13 | 26 |\n",
       "|  6 |  7 | 26 |\n",
       "|  7 |  8 | 29 |\n",
       "|  8 |  8 | 32 |\n",
       "|  8 |  9 | 20 |\n",
       "| 10 | 13 | 14 |\n",
       "\n"
      ],
      "text/plain": [
       "  assists rebounds points\n",
       "1  4      12       22    \n",
       "2  5      14       24    \n",
       "3  5      13       26    \n",
       "4  6       7       26    \n",
       "5  7       8       29    \n",
       "6  8       8       32    \n",
       "7  8       9       20    \n",
       "8 10      13       14    "
      ]
     },
     "metadata": {},
     "output_type": "display_data"
    }
   ],
   "source": [
    "#create data frame\n",
    "df <- data.frame(assists=c(4, 5, 5, 6, 7, 8, 8, 10),\n",
    "                 rebounds=c(12, 14, 13, 7, 8, 8, 9, 13),\n",
    "                 points=c(22, 24, 26, 26, 29, 32, 20, 14))\n",
    "\n",
    "#view data frame\n",
    "df"
   ]
  },
  {
   "cell_type": "code",
   "execution_count": 35,
   "id": "4341a779-f2e9-44ac-ab4c-8c038a2e4b35",
   "metadata": {},
   "outputs": [
    {
     "data": {
      "text/html": [
       "<table>\n",
       "<thead><tr><th></th><th scope=col>assists</th><th scope=col>rebounds</th><th scope=col>points</th></tr></thead>\n",
       "<tbody>\n",
       "\t<tr><th scope=row>assists</th><td> 1.0000000</td><td>-0.2448608</td><td>-0.3295730</td></tr>\n",
       "\t<tr><th scope=row>rebounds</th><td>-0.2448608</td><td> 1.0000000</td><td>-0.5220917</td></tr>\n",
       "\t<tr><th scope=row>points</th><td>-0.3295730</td><td>-0.5220917</td><td> 1.0000000</td></tr>\n",
       "</tbody>\n",
       "</table>\n"
      ],
      "text/latex": [
       "\\begin{tabular}{r|lll}\n",
       "  & assists & rebounds & points\\\\\n",
       "\\hline\n",
       "\tassists &  1.0000000 & -0.2448608 & -0.3295730\\\\\n",
       "\trebounds & -0.2448608 &  1.0000000 & -0.5220917\\\\\n",
       "\tpoints & -0.3295730 & -0.5220917 &  1.0000000\\\\\n",
       "\\end{tabular}\n"
      ],
      "text/markdown": [
       "\n",
       "| <!--/--> | assists | rebounds | points |\n",
       "|---|---|---|---|\n",
       "| assists |  1.0000000 | -0.2448608 | -0.3295730 |\n",
       "| rebounds | -0.2448608 |  1.0000000 | -0.5220917 |\n",
       "| points | -0.3295730 | -0.5220917 |  1.0000000 |\n",
       "\n"
      ],
      "text/plain": [
       "         assists    rebounds   points    \n",
       "assists   1.0000000 -0.2448608 -0.3295730\n",
       "rebounds -0.2448608  1.0000000 -0.5220917\n",
       "points   -0.3295730 -0.5220917  1.0000000"
      ]
     },
     "metadata": {},
     "output_type": "display_data"
    }
   ],
   "source": [
    "#create correlation matrix\n",
    "cor(df)"
   ]
  },
  {
   "cell_type": "markdown",
   "id": "72118ac0-8153-4f86-a6ba-d7d1e11db713",
   "metadata": {},
   "source": [
    "‎沿表对角线的相关系数均等于 1，因为每个变量都与自身完全相关。‎\n",
    "\n",
    "‎所有其他相关系数都表示变量的不同成对组合之间的相关性。例如：‎\n",
    "\n",
    "- ‎助攻和篮板之间的相关系数为‎**‎-0.245‎**‎。‎\n",
    "- ‎助攻和得分之间的相关系数为‎**‎-0.330‎**‎。‎\n",
    "- ‎篮板和点数之间的相关系数为‎**‎-0.522‎**‎。‎"
   ]
  },
  {
   "cell_type": "code",
   "execution_count": 42,
   "id": "2e1bb31e-f363-4abc-b36f-106cd24a5557",
   "metadata": {},
   "outputs": [
    {
     "name": "stderr",
     "output_type": "stream",
     "text": [
      "Warning message:\n",
      "\"dependency 'foreign' is not available\""
     ]
    },
    {
     "name": "stdout",
     "output_type": "stream",
     "text": [
      "\n",
      "  There is a binary version available but the source version is later:\n",
      "      binary source needs_compilation\n",
      "Hmisc  4.5-0  4.7-0              TRUE\n",
      "\n",
      "  Binaries will be installed\n",
      "package 'Hmisc' successfully unpacked and MD5 sums checked\n",
      "\n",
      "The downloaded binary packages are in\n",
      "\tC:\\Users\\sxf\\AppData\\Local\\Temp\\RtmpE9TLi4\\downloaded_packages\n"
     ]
    }
   ],
   "source": [
    "install.packages('Hmisc')"
   ]
  },
  {
   "cell_type": "code",
   "execution_count": null,
   "id": "b2a23fe2-c7b1-4293-9486-de5339659203",
   "metadata": {},
   "outputs": [],
   "source": [
    "library(Hmisc)\n",
    "\n",
    "#create matrix of correlation coefficients and p-values\n",
    "rcorr(as.matrix(df))"
   ]
  },
  {
   "cell_type": "markdown",
   "id": "8240be25-142b-4fb7-aa18-2a46e35d7d83",
   "metadata": {},
   "source": [
    "\n",
    "\n",
    "- ‎第一个矩阵显示变量之间的相关系数，第二个矩阵显示相应的 p 值。‎\n",
    "\n",
    "  ‎例如，助攻和篮板之间的相关系数为 ‎**‎-0.24‎**‎，此相关系数的 p 值为 ‎**‎0.5589‎**‎。‎\n",
    "\n",
    "  ‎这告诉我们，两个变量之间的相关性为负，但这不是统计上显着的相关性，因为p值不小于.05。‎1"
   ]
  },
  {
   "cell_type": "code",
   "execution_count": null,
   "id": "f8a94693-9b31-45b1-9f57-1db200d57742",
   "metadata": {},
   "outputs": [],
   "source": [
    "方法三："
   ]
  },
  {
   "cell_type": "code",
   "execution_count": 44,
   "id": "7a5360da-e2c5-4271-b961-418d6ebc997e",
   "metadata": {},
   "outputs": [
    {
     "name": "stdout",
     "output_type": "stream",
     "text": [
      "\n",
      "  There is a binary version available but the source version is later:\n",
      "         binary source needs_compilation\n",
      "corrplot   0.88   0.92             FALSE\n",
      "\n"
     ]
    },
    {
     "name": "stderr",
     "output_type": "stream",
     "text": [
      "installing the source package 'corrplot'\n",
      "\n"
     ]
    }
   ],
   "source": [
    "install.packages('corrplot')"
   ]
  },
  {
   "cell_type": "code",
   "execution_count": 45,
   "id": "c19888ea-7111-4707-8e5d-5ff621e4d41a",
   "metadata": {},
   "outputs": [
    {
     "name": "stderr",
     "output_type": "stream",
     "text": [
      "corrplot 0.92 loaded\n"
     ]
    },
    {
     "data": {
      "image/png": "[encoded data removed]",
      "text/plain": [
       "Plot with title \"\""
      ]
     },
     "metadata": {},
     "output_type": "display_data"
    }
   ],
   "source": [
    "library(corrplot)\n",
    "\n",
    "#visualize correlation matrix\n",
    "corrplot(cor(df))"
   ]
  },
  {
   "cell_type": "markdown",
   "id": "530514e0-5a0c-46ad-8b47-377b80829c8a",
   "metadata": {},
   "source": [
    "‎相关矩阵中圆圈的颜色和大小有助于我们可视化每个变量之间的相关性。‎\n",
    "\n",
    "‎例如，助攻和篮板变量相交的圆圈很小，呈浅红色，这告诉我们相关性低且为负。"
   ]
  },
  {
   "cell_type": "markdown",
   "id": "55a0335d-d8f2-4e65-ab34-dc80d3d56d5a",
   "metadata": {},
   "source": [
    "‎示例 4"
   ]
  },
  {
   "cell_type": "code",
   "execution_count": null,
   "id": "e0464a89-376f-472a-88b6-68bdf0a00313",
   "metadata": {},
   "outputs": [],
   "source": [
    "install.packages('ggcorrplot')"
   ]
  },
  {
   "cell_type": "code",
   "execution_count": 48,
   "id": "eff908ea-1fbc-4112-ad1f-faa6393af3d3",
   "metadata": {},
   "outputs": [
    {
     "name": "stderr",
     "output_type": "stream",
     "text": [
      "Warning message:\n",
      "\"package 'ggcorrplot' was built under R version 3.6.3\""
     ]
    },
    {
     "data": {
      "image/png": "[encoded data removed]",
      "text/plain": [
       "plot without title"
      ]
     },
     "metadata": {},
     "output_type": "display_data"
    }
   ],
   "source": [
    "library(ggcorrplot)\n",
    "\n",
    "#visualize correlation matrix\n",
    "ggcorrplot(cor(df))"
   ]
  },
  {
   "cell_type": "markdown",
   "id": "e1950a76-c960-4d53-b770-ac6338c8f9b7",
   "metadata": {},
   "source": [
    "‎相关矩阵中正方形的颜色有助于我们可视化每个变量之间的相关性。‎"
   ]
  },
  {
   "cell_type": "markdown",
   "id": "8becbaf0-caba-4ac2-9279-bec35b3e9f67",
   "metadata": {},
   "source": [
    "## 18.协方差矩阵"
   ]
  },
  {
   "cell_type": "markdown",
   "id": "fee3ebd7-28e6-4a96-a1fc-4a5f1c5cfdf0",
   "metadata": {},
   "source": [
    "**‎协方差‎**‎是衡量一个变量的变化如何与第二个变量的变化相关联的度量。具体来说，它是两个变量线性关联程度的度量。‎\n",
    "\n",
    "**‎协方差矩阵‎**‎是显示许多不同变量之间的协方差的正方形矩阵。这是了解数据集中不同变量如何关联的有用方法。‎\n",
    "\n",
    "‎下面的示例演示如何在 R 中创建协方差矩阵。‎"
   ]
  },
  {
   "cell_type": "markdown",
   "id": "a20d43e3-87cb-4704-8b8c-99656a72d720",
   "metadata": {},
   "source": [
    "‎首先，我们将创建一个数据框，其中包含 10 名不同学生在数学、科学和历史三个科目上的考试成绩。‎"
   ]
  },
  {
   "cell_type": "code",
   "execution_count": 36,
   "id": "cdb54254-b9a8-4de9-ba2d-a2b496a9ba03",
   "metadata": {},
   "outputs": [
    {
     "data": {
      "text/html": [
       "<table>\n",
       "<thead><tr><th scope=col>math</th><th scope=col>science</th><th scope=col>history</th></tr></thead>\n",
       "<tbody>\n",
       "\t<tr><td>84</td><td>85</td><td>97</td></tr>\n",
       "\t<tr><td>82</td><td>82</td><td>94</td></tr>\n",
       "\t<tr><td>81</td><td>72</td><td>93</td></tr>\n",
       "\t<tr><td>89</td><td>77</td><td>95</td></tr>\n",
       "\t<tr><td>73</td><td>75</td><td>88</td></tr>\n",
       "\t<tr><td>94</td><td>89</td><td>82</td></tr>\n",
       "\t<tr><td>92</td><td>95</td><td>78</td></tr>\n",
       "\t<tr><td>70</td><td>84</td><td>84</td></tr>\n",
       "\t<tr><td>88</td><td>77</td><td>69</td></tr>\n",
       "\t<tr><td>95</td><td>94</td><td>78</td></tr>\n",
       "</tbody>\n",
       "</table>\n"
      ],
      "text/latex": [
       "\\begin{tabular}{r|lll}\n",
       " math & science & history\\\\\n",
       "\\hline\n",
       "\t 84 & 85 & 97\\\\\n",
       "\t 82 & 82 & 94\\\\\n",
       "\t 81 & 72 & 93\\\\\n",
       "\t 89 & 77 & 95\\\\\n",
       "\t 73 & 75 & 88\\\\\n",
       "\t 94 & 89 & 82\\\\\n",
       "\t 92 & 95 & 78\\\\\n",
       "\t 70 & 84 & 84\\\\\n",
       "\t 88 & 77 & 69\\\\\n",
       "\t 95 & 94 & 78\\\\\n",
       "\\end{tabular}\n"
      ],
      "text/markdown": [
       "\n",
       "| math | science | history |\n",
       "|---|---|---|\n",
       "| 84 | 85 | 97 |\n",
       "| 82 | 82 | 94 |\n",
       "| 81 | 72 | 93 |\n",
       "| 89 | 77 | 95 |\n",
       "| 73 | 75 | 88 |\n",
       "| 94 | 89 | 82 |\n",
       "| 92 | 95 | 78 |\n",
       "| 70 | 84 | 84 |\n",
       "| 88 | 77 | 69 |\n",
       "| 95 | 94 | 78 |\n",
       "\n"
      ],
      "text/plain": [
       "   math science history\n",
       "1  84   85      97     \n",
       "2  82   82      94     \n",
       "3  81   72      93     \n",
       "4  89   77      95     \n",
       "5  73   75      88     \n",
       "6  94   89      82     \n",
       "7  92   95      78     \n",
       "8  70   84      84     \n",
       "9  88   77      69     \n",
       "10 95   94      78     "
      ]
     },
     "metadata": {},
     "output_type": "display_data"
    }
   ],
   "source": [
    "#create data frame\n",
    "data <- data.frame(math = c(84, 82, 81, 89, 73, 94, 92, 70, 88, 95),\n",
    "                   science = c(85, 82, 72, 77, 75, 89, 95, 84, 77, 94),\n",
    "                   history = c(97, 94, 93, 95, 88, 82, 78, 84, 69, 78))\n",
    "\n",
    "#view data frame\n",
    "data"
   ]
  },
  {
   "cell_type": "code",
   "execution_count": 37,
   "id": "20ad831c-a353-48ae-97ce-12dabbbafa86",
   "metadata": {},
   "outputs": [
    {
     "data": {
      "text/html": [
       "<table>\n",
       "<thead><tr><th></th><th scope=col>math</th><th scope=col>science</th><th scope=col>history</th></tr></thead>\n",
       "<tbody>\n",
       "\t<tr><th scope=row>math</th><td> 72.17778</td><td> 36.88889</td><td>-27.15556</td></tr>\n",
       "\t<tr><th scope=row>science</th><td> 36.88889</td><td> 62.66667</td><td>-26.77778</td></tr>\n",
       "\t<tr><th scope=row>history</th><td>-27.15556</td><td>-26.77778</td><td> 83.95556</td></tr>\n",
       "</tbody>\n",
       "</table>\n"
      ],
      "text/latex": [
       "\\begin{tabular}{r|lll}\n",
       "  & math & science & history\\\\\n",
       "\\hline\n",
       "\tmath &  72.17778 &  36.88889 & -27.15556\\\\\n",
       "\tscience &  36.88889 &  62.66667 & -26.77778\\\\\n",
       "\thistory & -27.15556 & -26.77778 &  83.95556\\\\\n",
       "\\end{tabular}\n"
      ],
      "text/markdown": [
       "\n",
       "| <!--/--> | math | science | history |\n",
       "|---|---|---|---|\n",
       "| math |  72.17778 |  36.88889 | -27.15556 |\n",
       "| science |  36.88889 |  62.66667 | -26.77778 |\n",
       "| history | -27.15556 | -26.77778 |  83.95556 |\n",
       "\n"
      ],
      "text/plain": [
       "        math      science   history  \n",
       "math     72.17778  36.88889 -27.15556\n",
       "science  36.88889  62.66667 -26.77778\n",
       "history -27.15556 -26.77778  83.95556"
      ]
     },
     "metadata": {},
     "output_type": "display_data"
    }
   ],
   "source": [
    "#create covariance matrix\n",
    "cov(data)"
   ]
  },
  {
   "cell_type": "markdown",
   "id": "207454e4-17f0-410c-9f97-300daa78e3b8",
   "metadata": {},
   "source": [
    "‎沿矩阵对角线的值只是每个的方差。例如：‎\n",
    "\n",
    "- ‎数学分数的方差为 72.18‎\n",
    "- ‎科学分数的方差为 62.67‎\n",
    "- ‎历史分数的方差为 83.96‎"
   ]
  },
  {
   "cell_type": "markdown",
   "id": "e8df96c2-5564-4de4-b6b9-3b7245def3cf",
   "metadata": {},
   "source": [
    "‎矩阵中的其他值表示各个主题之间的协方差。例如：‎\n",
    "\n",
    "- ‎数学和科学分数之间的协方差为 36.89‎\n",
    "- ‎数学和历史分数之间的协方差为 -27.16‎\n",
    "- ‎科学和历史分数之间的协方差为 -26.78‎\n",
    "\n",
    "‎协方差的‎**‎正数‎**‎表示两个变量倾向于同时增加或减少。例如，数学和科学具有正协方差（36.89），这表明在数学上得分高的学生在科学上也往往得分高。相反，数学得分低的学生也往往在科学上得分低。‎\n",
    "\n",
    "‎协方差的‎**‎负数‎**‎表示当一个变量增加时，第二个变量趋于减小。例如，数学和历史具有负协方差（-27.16），这表明数学得分高的学生往往在历史方面得分较低。相反，数学得分低的学生往往在历史上得分高。‎"
   ]
  },
  {
   "cell_type": "markdown",
   "id": "583f71ad-4fd2-43cd-b962-86260757f4ca",
   "metadata": {},
   "source": [
    "## 19.计算样本和总体方差"
   ]
  },
  {
   "cell_type": "code",
   "execution_count": 51,
   "id": "e68edcc6-5179-4e0d-8b0c-cc4cbb02cdb4",
   "metadata": {},
   "outputs": [],
   "source": [
    "#define dataset\n",
    "data <- c(2, 4, 4, 7, 8, 12, 14, 15, 19, 22)"
   ]
  },
  {
   "cell_type": "code",
   "execution_count": 52,
   "id": "b9e2c96f-41cf-4503-8c06-9660b8c2f14a",
   "metadata": {},
   "outputs": [
    {
     "data": {
      "text/html": [
       "46.0111111111111"
      ],
      "text/latex": [
       "46.0111111111111"
      ],
      "text/markdown": [
       "46.0111111111111"
      ],
      "text/plain": [
       "[1] 46.01111"
      ]
     },
     "metadata": {},
     "output_type": "display_data"
    }
   ],
   "source": [
    "#calculate sample variance\n",
    "var(data)"
   ]
  },
  {
   "cell_type": "markdown",
   "id": "9383dd30-3b9c-48aa-a405-ea4e93f24eb4",
   "metadata": {},
   "source": [
    "‎我们可以通过简单地将样本‎‎方‎‎差乘以（n-1）/n来计算总体方差，如下所示：‎"
   ]
  },
  {
   "cell_type": "code",
   "execution_count": 53,
   "id": "13795b61-844a-47d3-ae5c-5aaec972ce9f",
   "metadata": {},
   "outputs": [
    {
     "data": {
      "text/html": [
       "41.41"
      ],
      "text/latex": [
       "41.41"
      ],
      "text/markdown": [
       "41.41"
      ],
      "text/plain": [
       "[1] 41.41"
      ]
     },
     "metadata": {},
     "output_type": "display_data"
    }
   ],
   "source": [
    "#determine length of data\n",
    "n <- length(data)\n",
    "\n",
    "#calculate population variance\n",
    "var(data) * (n-1)/n"
   ]
  },
  {
   "cell_type": "markdown",
   "id": "07a737c2-19a9-43bb-816a-02694e1621d5",
   "metadata": {},
   "source": [
    "‎请注意，总体方差将始终小于样本方差。‎\n",
    "\n",
    "‎在实践中，我们通常计算数据集的样本方差，因为收集整个总体的数据是不寻常的。‎"
   ]
  },
  {
   "cell_type": "code",
   "execution_count": 38,
   "id": "6024600d-6e36-4cc2-898c-2215784fe643",
   "metadata": {},
   "outputs": [
    {
     "data": {
      "text/html": [
       "<table>\n",
       "<thead><tr><th scope=col>a</th><th scope=col>b</th><th scope=col>c</th></tr></thead>\n",
       "<tbody>\n",
       "\t<tr><td> 1</td><td> 2</td><td> 6</td></tr>\n",
       "\t<tr><td> 3</td><td> 4</td><td> 6</td></tr>\n",
       "\t<tr><td> 4</td><td> 4</td><td> 7</td></tr>\n",
       "\t<tr><td> 4</td><td> 5</td><td> 8</td></tr>\n",
       "\t<tr><td> 6</td><td> 5</td><td> 8</td></tr>\n",
       "\t<tr><td> 7</td><td> 6</td><td> 9</td></tr>\n",
       "\t<tr><td> 8</td><td> 7</td><td> 9</td></tr>\n",
       "\t<tr><td>12</td><td>16</td><td>12</td></tr>\n",
       "</tbody>\n",
       "</table>\n"
      ],
      "text/latex": [
       "\\begin{tabular}{r|lll}\n",
       " a & b & c\\\\\n",
       "\\hline\n",
       "\t  1 &  2 &  6\\\\\n",
       "\t  3 &  4 &  6\\\\\n",
       "\t  4 &  4 &  7\\\\\n",
       "\t  4 &  5 &  8\\\\\n",
       "\t  6 &  5 &  8\\\\\n",
       "\t  7 &  6 &  9\\\\\n",
       "\t  8 &  7 &  9\\\\\n",
       "\t 12 & 16 & 12\\\\\n",
       "\\end{tabular}\n"
      ],
      "text/markdown": [
       "\n",
       "| a | b | c |\n",
       "|---|---|---|\n",
       "|  1 |  2 |  6 |\n",
       "|  3 |  4 |  6 |\n",
       "|  4 |  4 |  7 |\n",
       "|  4 |  5 |  8 |\n",
       "|  6 |  5 |  8 |\n",
       "|  7 |  6 |  9 |\n",
       "|  8 |  7 |  9 |\n",
       "| 12 | 16 | 12 |\n",
       "\n"
      ],
      "text/plain": [
       "  a  b  c \n",
       "1  1  2  6\n",
       "2  3  4  6\n",
       "3  4  4  7\n",
       "4  4  5  8\n",
       "5  6  5  8\n",
       "6  7  6  9\n",
       "7  8  7  9\n",
       "8 12 16 12"
      ]
     },
     "metadata": {},
     "output_type": "display_data"
    }
   ],
   "source": [
    "#计算多列样本方差\n",
    "#create data frame\n",
    "data <- data.frame(a=c(1, 3, 4, 4, 6, 7, 8, 12),\n",
    "                   b=c(2, 4, 4, 5, 5, 6, 7, 16),\n",
    "                   c=c(6, 6, 7, 8, 8, 9, 9, 12))\n",
    "\n",
    "#view data frame\n",
    "data"
   ]
  },
  {
   "cell_type": "code",
   "execution_count": 39,
   "id": "5a00ea4a-0780-475c-acc5-45dd7d34dd70",
   "metadata": {},
   "outputs": [
    {
     "data": {
      "text/html": [
       "<dl class=dl-horizontal>\n",
       "\t<dt>a</dt>\n",
       "\t\t<dd>11.6964285714286</dd>\n",
       "\t<dt>b</dt>\n",
       "\t\t<dd>18.125</dd>\n",
       "\t<dt>c</dt>\n",
       "\t\t<dd>3.83928571428571</dd>\n",
       "</dl>\n"
      ],
      "text/latex": [
       "\\begin{description*}\n",
       "\\item[a] 11.6964285714286\n",
       "\\item[b] 18.125\n",
       "\\item[c] 3.83928571428571\n",
       "\\end{description*}\n"
      ],
      "text/markdown": [
       "a\n",
       ":   11.6964285714286b\n",
       ":   18.125c\n",
       ":   3.83928571428571\n",
       "\n"
      ],
      "text/plain": [
       "        a         b         c \n",
       "11.696429 18.125000  3.839286 "
      ]
     },
     "metadata": {},
     "output_type": "display_data"
    }
   ],
   "source": [
    "#find sample variance of each column\n",
    "sapply(data, var)"
   ]
  },
  {
   "cell_type": "code",
   "execution_count": 40,
   "id": "b13e9aeb",
   "metadata": {},
   "outputs": [
    {
     "data": {
      "text/html": [
       "<table>\n",
       "<thead><tr><th></th><th scope=col>a</th><th scope=col>b</th><th scope=col>c</th></tr></thead>\n",
       "<tbody>\n",
       "\t<tr><th scope=row>a</th><td>11.696429</td><td>13.482143</td><td>6.482143 </td></tr>\n",
       "\t<tr><th scope=row>b</th><td>13.482143</td><td>18.125000</td><td>7.839286 </td></tr>\n",
       "\t<tr><th scope=row>c</th><td> 6.482143</td><td> 7.839286</td><td>3.839286 </td></tr>\n",
       "</tbody>\n",
       "</table>\n"
      ],
      "text/latex": [
       "\\begin{tabular}{r|lll}\n",
       "  & a & b & c\\\\\n",
       "\\hline\n",
       "\ta & 11.696429 & 13.482143 & 6.482143 \\\\\n",
       "\tb & 13.482143 & 18.125000 & 7.839286 \\\\\n",
       "\tc &  6.482143 &  7.839286 & 3.839286 \\\\\n",
       "\\end{tabular}\n"
      ],
      "text/markdown": [
       "\n",
       "| <!--/--> | a | b | c |\n",
       "|---|---|---|---|\n",
       "| a | 11.696429 | 13.482143 | 6.482143  |\n",
       "| b | 13.482143 | 18.125000 | 7.839286  |\n",
       "| c |  6.482143 |  7.839286 | 3.839286  |\n",
       "\n"
      ],
      "text/plain": [
       "  a         b         c       \n",
       "a 11.696429 13.482143 6.482143\n",
       "b 13.482143 18.125000 7.839286\n",
       "c  6.482143  7.839286 3.839286"
      ]
     },
     "metadata": {},
     "output_type": "display_data"
    }
   ],
   "source": [
    "var(data)"
   ]
  },
  {
   "cell_type": "code",
   "execution_count": 41,
   "id": "9513fcdf",
   "metadata": {},
   "outputs": [
    {
     "data": {
      "text/html": [
       "<table>\n",
       "<thead><tr><th></th><th scope=col>a</th><th scope=col>b</th><th scope=col>c</th></tr></thead>\n",
       "<tbody>\n",
       "\t<tr><th scope=row>a</th><td>11.696429</td><td>13.482143</td><td>6.482143 </td></tr>\n",
       "\t<tr><th scope=row>b</th><td>13.482143</td><td>18.125000</td><td>7.839286 </td></tr>\n",
       "\t<tr><th scope=row>c</th><td> 6.482143</td><td> 7.839286</td><td>3.839286 </td></tr>\n",
       "</tbody>\n",
       "</table>\n"
      ],
      "text/latex": [
       "\\begin{tabular}{r|lll}\n",
       "  & a & b & c\\\\\n",
       "\\hline\n",
       "\ta & 11.696429 & 13.482143 & 6.482143 \\\\\n",
       "\tb & 13.482143 & 18.125000 & 7.839286 \\\\\n",
       "\tc &  6.482143 &  7.839286 & 3.839286 \\\\\n",
       "\\end{tabular}\n"
      ],
      "text/markdown": [
       "\n",
       "| <!--/--> | a | b | c |\n",
       "|---|---|---|---|\n",
       "| a | 11.696429 | 13.482143 | 6.482143  |\n",
       "| b | 13.482143 | 18.125000 | 7.839286  |\n",
       "| c |  6.482143 |  7.839286 | 3.839286  |\n",
       "\n"
      ],
      "text/plain": [
       "  a         b         c       \n",
       "a 11.696429 13.482143 6.482143\n",
       "b 13.482143 18.125000 7.839286\n",
       "c  6.482143  7.839286 3.839286"
      ]
     },
     "metadata": {},
     "output_type": "display_data"
    }
   ],
   "source": [
    "cov(data) #协方差"
   ]
  },
  {
   "cell_type": "code",
   "execution_count": 56,
   "id": "abd73f0b-88b5-4fbe-9671-a73e6436f3a9",
   "metadata": {},
   "outputs": [
    {
     "data": {
      "text/html": [
       "<dl class=dl-horizontal>\n",
       "\t<dt>a</dt>\n",
       "\t\t<dd>3.42000417710689</dd>\n",
       "\t<dt>b</dt>\n",
       "\t\t<dd>4.2573465914816</dd>\n",
       "\t<dt>c</dt>\n",
       "\t\t<dd>1.95940953204931</dd>\n",
       "</dl>\n"
      ],
      "text/latex": [
       "\\begin{description*}\n",
       "\\item[a] 3.42000417710689\n",
       "\\item[b] 4.2573465914816\n",
       "\\item[c] 1.95940953204931\n",
       "\\end{description*}\n"
      ],
      "text/markdown": [
       "a\n",
       ":   3.42000417710689b\n",
       ":   4.2573465914816c\n",
       ":   1.95940953204931\n",
       "\n"
      ],
      "text/plain": [
       "       a        b        c \n",
       "3.420004 4.257347 1.959410 "
      ]
     },
     "metadata": {},
     "output_type": "display_data"
    }
   ],
   "source": [
    "#计算标准差\n",
    "#find sample standard deviation of each column\n",
    "sapply(data, sd)"
   ]
  },
  {
   "cell_type": "markdown",
   "id": "9e212747-c42c-4599-98d6-28a14be116a7",
   "metadata": {},
   "source": [
    "## 20.删除 R 中的异常值"
   ]
  },
  {
   "cell_type": "markdown",
   "id": "81f67d40-a18a-445d-be5b-feb170f1d5ef",
   "metadata": {},
   "source": [
    "‎异常值‎‎是异常远离数据集中其他值的观测值。异常值可能会有问题，因为它们会影响分析结果。‎"
   ]
  },
  {
   "cell_type": "markdown",
   "id": "884d57fa-b555-4e80-85b5-69b936b375a6",
   "metadata": {},
   "source": [
    " **如何识别 R 中的异常值‎**\n",
    "\n",
    "‎在删除异常值之前，必须首先确定您认为哪些是异常值。有两种常见的方法可以做到这一点：‎\n",
    "\n",
    "**‎1. 使用四分位距。‎**\n",
    "\n",
    "‎四分位数范围 （IQR） 是数据集中第 75 个百分位 （Q3） 和第 25 个百分位 （Q1） 之间的差值。它测量中间50%值的散布。‎\n",
    "\n",
    "‎如果观测值是大于第三个四分位数 （Q3） 的四分位数范围 1.5 倍，或小于第一个四分位数 （Q1） 的四分位数范围的 1.5 倍，则可以将该观测值定义为异常值。‎\n",
    "\n",
    "**Outliers = Observations > Q3 + 1.5\\*IQR or < Q1 – 1.5\\*IQR**"
   ]
  },
  {
   "cell_type": "markdown",
   "id": "59a4cd73-9a28-463d-827a-9a127cf406c7",
   "metadata": {},
   "source": [
    "**‎2. 使用 z 得分。‎**\n",
    "\n",
    "[‎z 得分‎](https://www.statology.org/z-score-r/)‎告诉您给定值与平均值有多少个标准差。我们使用以下公式计算 z 得分：‎\n",
    "\n",
    "**z** = (X – μ) / σ\n",
    "\n",
    "- ‎X 是单个原始数据值‎\n",
    "- ‎μ是总体均值‎\n",
    "- ‎σ是总体标准差‎\n",
    "\n",
    "‎如果观测值的 z 得分小于 -3 或大于 3，则可以将其定义为异常值。‎\n",
    "\n",
    "**Outliers = Observations with z-scores > 3 or < -3**\n",
    "\n",
    "**‎如何删除 R 中的异常值‎**\n",
    "\n",
    "‎确定您认为的异常值后，可以识别它们并从数据集中删除它们。为了说明如何执行此操作，我们将使用以下数据框：‎"
   ]
  },
  {
   "cell_type": "code",
   "execution_count": 58,
   "id": "044143bd-a7ae-4a07-91d0-e9a28229afce",
   "metadata": {},
   "outputs": [
    {
     "data": {
      "text/html": [
       "<table>\n",
       "<thead><tr><th scope=col>A</th><th scope=col>B</th><th scope=col>C</th></tr></thead>\n",
       "<tbody>\n",
       "\t<tr><td>13.78886</td><td>19.13945</td><td>31.33304</td></tr>\n",
       "\t<tr><td> 9.02130</td><td>25.52332</td><td>30.03579</td></tr>\n",
       "\t<tr><td>13.98940</td><td>19.52971</td><td>29.97216</td></tr>\n",
       "\t<tr><td>13.81729</td><td>15.83059</td><td>29.09287</td></tr>\n",
       "\t<tr><td>11.24392</td><td>15.58069</td><td>31.47707</td></tr>\n",
       "\t<tr><td> 5.38015</td><td>19.79144</td><td>28.19184</td></tr>\n",
       "</tbody>\n",
       "</table>\n"
      ],
      "text/latex": [
       "\\begin{tabular}{r|lll}\n",
       " A & B & C\\\\\n",
       "\\hline\n",
       "\t 13.78886 & 19.13945 & 31.33304\\\\\n",
       "\t  9.02130 & 25.52332 & 30.03579\\\\\n",
       "\t 13.98940 & 19.52971 & 29.97216\\\\\n",
       "\t 13.81729 & 15.83059 & 29.09287\\\\\n",
       "\t 11.24392 & 15.58069 & 31.47707\\\\\n",
       "\t  5.38015 & 19.79144 & 28.19184\\\\\n",
       "\\end{tabular}\n"
      ],
      "text/markdown": [
       "\n",
       "| A | B | C |\n",
       "|---|---|---|\n",
       "| 13.78886 | 19.13945 | 31.33304 |\n",
       "|  9.02130 | 25.52332 | 30.03579 |\n",
       "| 13.98940 | 19.52971 | 29.97216 |\n",
       "| 13.81729 | 15.83059 | 29.09287 |\n",
       "| 11.24392 | 15.58069 | 31.47707 |\n",
       "|  5.38015 | 19.79144 | 28.19184 |\n",
       "\n"
      ],
      "text/plain": [
       "  A        B        C       \n",
       "1 13.78886 19.13945 31.33304\n",
       "2  9.02130 25.52332 30.03579\n",
       "3 13.98940 19.52971 29.97216\n",
       "4 13.81729 15.83059 29.09287\n",
       "5 11.24392 15.58069 31.47707\n",
       "6  5.38015 19.79144 28.19184"
      ]
     },
     "metadata": {},
     "output_type": "display_data"
    }
   ],
   "source": [
    "#make this example reproducible \n",
    "set.seed(0)\n",
    "\n",
    "#create data frame with three columns A', 'B', 'C' \n",
    "df <- data.frame(A=rnorm(1000, mean=10, sd=3),\n",
    "                 B=rnorm(1000, mean=20, sd=3),\n",
    "                 C=rnorm(1000, mean=30, sd=3))\n",
    "\n",
    "#view first six rows of data frame\n",
    "head(df)"
   ]
  },
  {
   "cell_type": "code",
   "execution_count": 62,
   "id": "78286786-0eee-4f8c-9aba-2bc68a24863d",
   "metadata": {},
   "outputs": [
    {
     "data": {
      "text/html": [
       "<ol class=list-inline>\n",
       "\t<li>1000</li>\n",
       "\t<li>3</li>\n",
       "</ol>\n"
      ],
      "text/latex": [
       "\\begin{enumerate*}\n",
       "\\item 1000\n",
       "\\item 3\n",
       "\\end{enumerate*}\n"
      ],
      "text/markdown": [
       "1. 1000\n",
       "2. 3\n",
       "\n",
       "\n"
      ],
      "text/plain": [
       "[1] 1000    3"
      ]
     },
     "metadata": {},
     "output_type": "display_data"
    }
   ],
   "source": [
    "dim(df)"
   ]
  },
  {
   "cell_type": "markdown",
   "id": "ae44226f-6d73-4727-b4a2-d793539946ec",
   "metadata": {},
   "source": [
    "**Z-score method:**\n",
    "\n",
    "‎以下代码显示如何计算数据框中每列中每个值的 z 得分，然后删除至少具有一个绝对值大于 3 的 z 得分的行：‎"
   ]
  },
  {
   "cell_type": "code",
   "execution_count": 60,
   "id": "5bfe1842-9fe0-4fb5-a994-01d61ad47931",
   "metadata": {},
   "outputs": [
    {
     "data": {
      "text/html": [
       "<table>\n",
       "<thead><tr><th scope=col>A</th><th scope=col>B</th><th scope=col>C</th></tr></thead>\n",
       "<tbody>\n",
       "\t<tr><td>1.2813403 </td><td>0.25350805</td><td>0.39419878</td></tr>\n",
       "\t<tr><td>0.3110243 </td><td>1.80496734</td><td>0.05890232</td></tr>\n",
       "\t<tr><td>1.3483190 </td><td>0.12766847</td><td>0.08112630</td></tr>\n",
       "\t<tr><td>1.2908343 </td><td>1.32044506</td><td>0.38824414</td></tr>\n",
       "\t<tr><td>0.4313316 </td><td>1.40102642</td><td>0.44450451</td></tr>\n",
       "\t<tr><td>1.5271674 </td><td>0.04327186</td><td>0.70295309</td></tr>\n",
       "</tbody>\n",
       "</table>\n"
      ],
      "text/latex": [
       "\\begin{tabular}{r|lll}\n",
       " A & B & C\\\\\n",
       "\\hline\n",
       "\t 1.2813403  & 0.25350805 & 0.39419878\\\\\n",
       "\t 0.3110243  & 1.80496734 & 0.05890232\\\\\n",
       "\t 1.3483190  & 0.12766847 & 0.08112630\\\\\n",
       "\t 1.2908343  & 1.32044506 & 0.38824414\\\\\n",
       "\t 0.4313316  & 1.40102642 & 0.44450451\\\\\n",
       "\t 1.5271674  & 0.04327186 & 0.70295309\\\\\n",
       "\\end{tabular}\n"
      ],
      "text/markdown": [
       "\n",
       "| A | B | C |\n",
       "|---|---|---|\n",
       "| 1.2813403  | 0.25350805 | 0.39419878 |\n",
       "| 0.3110243  | 1.80496734 | 0.05890232 |\n",
       "| 1.3483190  | 0.12766847 | 0.08112630 |\n",
       "| 1.2908343  | 1.32044506 | 0.38824414 |\n",
       "| 0.4313316  | 1.40102642 | 0.44450451 |\n",
       "| 1.5271674  | 0.04327186 | 0.70295309 |\n",
       "\n"
      ],
      "text/plain": [
       "  A         B          C         \n",
       "1 1.2813403 0.25350805 0.39419878\n",
       "2 0.3110243 1.80496734 0.05890232\n",
       "3 1.3483190 0.12766847 0.08112630\n",
       "4 1.2908343 1.32044506 0.38824414\n",
       "5 0.4313316 1.40102642 0.44450451\n",
       "6 1.5271674 0.04327186 0.70295309"
      ]
     },
     "metadata": {},
     "output_type": "display_data"
    }
   ],
   "source": [
    "#find absolute value of z-score for each value in each column\n",
    "z_scores <- as.data.frame(sapply(df, function(df) (abs(df-mean(df))/sd(df))))\n",
    "\n",
    "#view first six rows of z_scores data frame\n",
    "head(z_scores)"
   ]
  },
  {
   "cell_type": "code",
   "execution_count": 61,
   "id": "ca24f961-8345-4b80-ad21-6a6a00177897",
   "metadata": {},
   "outputs": [
    {
     "data": {
      "text/html": [
       "<ol class=list-inline>\n",
       "\t<li>994</li>\n",
       "\t<li>3</li>\n",
       "</ol>\n"
      ],
      "text/latex": [
       "\\begin{enumerate*}\n",
       "\\item 994\n",
       "\\item 3\n",
       "\\end{enumerate*}\n"
      ],
      "text/markdown": [
       "1. 994\n",
       "2. 3\n",
       "\n",
       "\n"
      ],
      "text/plain": [
       "[1] 994   3"
      ]
     },
     "metadata": {},
     "output_type": "display_data"
    }
   ],
   "source": [
    "#only keep rows in dataframe with all z-scores less than absolute value of 3 \n",
    "no_outliers <- z_scores[!rowSums(z_scores>3), ]\n",
    "\n",
    "#view row and column count of new data frame\n",
    "dim(no_outliers)"
   ]
  },
  {
   "cell_type": "markdown",
   "id": "0f1b7607-2e14-4e90-bb84-3c17a961eed4",
   "metadata": {},
   "source": [
    "‎原始数据框有 1，000 行和 3 列。新数据框有 994 行和 3 列，这告诉我们删除了 6 行，因为它们的一列中至少有一个 z 得分的绝对值大于 3。‎"
   ]
  },
  {
   "cell_type": "markdown",
   "id": "5932515c-6860-4d32-8063-d93755e216bd",
   "metadata": {},
   "source": [
    "**‎四分位距法：‎**\n",
    "\n",
    "‎在某些情况下，我们可能只对识别数据帧的一列中的异常值感兴趣。例如，假设我们只想删除在数据框的“A”列中具有异常值的行。‎\n",
    "\n",
    "‎下面的代码演示如何从数据框中删除列“A”中值为大于第三个四分位数 （Q3） 的四分位数间范围的 1.5 倍或小于第一个四分位数 （Q1） 的四分位数间范围的 1.5 倍的行。‎"
   ]
  },
  {
   "cell_type": "code",
   "execution_count": 63,
   "id": "ca16de79-2f3a-4582-adc5-805b39254ce7",
   "metadata": {},
   "outputs": [
    {
     "data": {
      "text/html": [
       "<ol class=list-inline>\n",
       "\t<li>994</li>\n",
       "\t<li>3</li>\n",
       "</ol>\n"
      ],
      "text/latex": [
       "\\begin{enumerate*}\n",
       "\\item 994\n",
       "\\item 3\n",
       "\\end{enumerate*}\n"
      ],
      "text/markdown": [
       "1. 994\n",
       "2. 3\n",
       "\n",
       "\n"
      ],
      "text/plain": [
       "[1] 994   3"
      ]
     },
     "metadata": {},
     "output_type": "display_data"
    }
   ],
   "source": [
    "#find Q1, Q3, and interquartile range for values in column A\n",
    "Q1 <- quantile(df$A, .25)\n",
    "Q3 <- quantile(df$A, .75)\n",
    "IQR <- IQR(df$A)\n",
    "\n",
    "#only keep rows in dataframe that have values within 1.5*IQR of Q1 and Q3\n",
    "no_outliers <- subset(df, df$A> (Q1 - 1.5*IQR) & df$A< (Q3 + 1.5*IQR))\n",
    "\n",
    "#view row and column count of new data frame\n",
    "dim(no_outliers) "
   ]
  },
  {
   "cell_type": "markdown",
   "id": "57ccdd81-02c7-460f-862b-d52ce4c5d6e9",
   "metadata": {},
   "source": [
    "‎原始数据框有 1，000 行和 3 列。新数据框有 994 行和 3 列，这告诉我们删除了 6 行，因为它们在列 A 中至少有一个异常值。‎\n",
    "\n",
    "### **‎何时删除异常值‎**\n",
    "\n",
    "‎如果存在一个或多个异常值，则应首先验证它们不是数据输入错误的结果。有时，个人在记录数据时只是输入了错误的数据值。‎\n",
    "\n",
    "‎如果异常值被证明是数据输入错误的结果，您可以决定为其分配一个新值，例如数据集‎[‎的均值或中位数‎](https://www.statology.org/measures-central-tendency/)‎。‎\n",
    "\n",
    "‎如果该值是真正的异常值，则可以选择将其删除，前提是它会对整体分析产生重大影响。只需确保在最终报告或分析中提及您删除了异常值即可。‎"
   ]
  },
  {
   "cell_type": "markdown",
   "id": "9956590d-bc59-4e3b-972f-6fce1332f167",
   "metadata": {},
   "source": [
    "## 21.均值的标准误‎"
   ]
  },
  {
   "cell_type": "markdown",
   "id": "b979b13b-c8ff-4f49-b6e7-d36e078faa5d",
   "metadata": {},
   "source": [
    "**均值的标准误差‎**‎是衡量值在数据集中的分布程度的一种方法。它的计算公式为：‎\n",
    "\n",
    "**Standard error = s / √n**\n",
    "\n",
    "其中：‎\n",
    "\n",
    "- **‎s‎**‎：样本标准偏差‎\n",
    "- **‎n‎**‎：样本大小‎"
   ]
  },
  {
   "cell_type": "markdown",
   "id": "33be21e9-fa1e-44fb-822a-de14e0f3145d",
   "metadata": {},
   "source": [
    "**‎方法 1： 使用 Plotrix 库‎**\n",
    "\n",
    "‎计算均值标准误差的第一种方法是使用 Plotrix 库中的内置 ‎[‎std.error（）‎](https://www.rdocumentation.org/packages/plotrix/versions/3.7-8/topics/std.error)‎ 函数。‎\n",
    "\n",
    "‎下面的代码演示如何使用这个函数：‎\n",
    "\n"
   ]
  },
  {
   "cell_type": "code",
   "execution_count": 42,
   "id": "52a59309-57aa-4cee-ba74-b14dc6190e67",
   "metadata": {},
   "outputs": [
    {
     "ename": "ERROR",
     "evalue": "Error in library(plotrix): there is no package called 'plotrix'\n",
     "output_type": "error",
     "traceback": [
      "Error in library(plotrix): there is no package called 'plotrix'\nTraceback:\n",
      "1. library(plotrix)"
     ]
    }
   ],
   "source": [
    "#load plotrix library\n",
    "library(plotrix)\n",
    "\n",
    "#define dataset\n",
    "data <- c(3, 4, 4, 5, 7, 8, 12, 14, 14, 15, 17, 19, 22, 24, 24, 24, 25, 28, 28, 29)\n",
    "\n",
    "#calculate standard error of the mean \n",
    "std.error(data)\n"
   ]
  },
  {
   "cell_type": "markdown",
   "id": "3bb6474e-5545-4ee4-8ea4-02b14d5d3361",
   "metadata": {},
   "source": [
    "**‎方法 2：定义自己的函数‎**\n",
    "\n",
    "‎计算数据集均值标准误差的另一种方法是简单地定义自己的函数。‎"
   ]
  },
  {
   "cell_type": "code",
   "execution_count": 43,
   "id": "a27b93c2-9d6b-4110-add8-db80bc23f4d2",
   "metadata": {},
   "outputs": [
    {
     "data": {
      "text/html": [
       "2.00144684508088"
      ],
      "text/latex": [
       "2.00144684508088"
      ],
      "text/markdown": [
       "2.00144684508088"
      ],
      "text/plain": [
       "[1] 2.001447"
      ]
     },
     "metadata": {},
     "output_type": "display_data"
    }
   ],
   "source": [
    "#define standard error of mean function\n",
    "std.error <- function(x) sd(x)/sqrt(length(x))\n",
    "\n",
    "#define dataset\n",
    "data <- c(3, 4, 4, 5, 7, 8, 12, 14, 14, 15, 17, 19, 22, 24, 24, 24, 25, 28, 28, 29)\n",
    "\n",
    "#calculate standard error of the mean \n",
    "std.error(data)"
   ]
  },
  {
   "cell_type": "markdown",
   "id": "47cdd720-f9e0-4d37-98a6-7f45c453705c",
   "metadata": {},
   "source": [
    "**‎如何解释均值的标准误差‎**\n",
    "\n",
    "‎均值的标准误差只是衡量值在均值周围的分布程度的度量。在解释均值的标准误差时，需要记住两件事：‎\n",
    "\n",
    "**‎1. 平均值的标准误越大，数据集中平均值周围的分布值就越大。‎**\n",
    "\n",
    "为了说明这一点，请考虑我们是否将前一个数据集中的最后一个值更改为更大的数字：‎"
   ]
  },
  {
   "cell_type": "code",
   "execution_count": 67,
   "id": "cb096ae2-dca3-4a70-9257-3c4d7241a818",
   "metadata": {},
   "outputs": [
    {
     "data": {
      "text/html": [
       "6.97826512899347"
      ],
      "text/latex": [
       "6.97826512899347"
      ],
      "text/markdown": [
       "6.97826512899347"
      ],
      "text/plain": [
       "[1] 6.978265"
      ]
     },
     "metadata": {},
     "output_type": "display_data"
    }
   ],
   "source": [
    "#define dataset\n",
    "data <- c(3, 4, 4, 5, 7, 8, 12, 14, 14, 15, 17, 19, 22, 24, 24, 24, 25, 28, 28, 150)\n",
    "\n",
    "#calculate standard error of the mean \n",
    "std.error(data)\n"
   ]
  },
  {
   "cell_type": "markdown",
   "id": "58254ab4-27bf-4afd-b877-cc1f6a2a5d39",
   "metadata": {},
   "source": [
    "请注意标准误差如何从 ‎**‎2.001447 ‎**‎跳到 ‎**‎6.978265‎**‎。这表明，与之前的数据集相比，此数据集中的值在平均值周围分布得更广。‎\n",
    "\n",
    "**‎2. 随着样本数量的增加，均值的标准误趋于减小。‎**\n",
    "\n",
    "‎为了说明这一点，请考虑以下两个数据集的均值标准误差："
   ]
  },
  {
   "cell_type": "code",
   "execution_count": 68,
   "id": "5c7598ff-b0ab-4c18-abba-931770a49d80",
   "metadata": {},
   "outputs": [
    {
     "data": {
      "text/html": [
       "0.707106781186548"
      ],
      "text/latex": [
       "0.707106781186548"
      ],
      "text/markdown": [
       "0.707106781186548"
      ],
      "text/plain": [
       "[1] 0.7071068"
      ]
     },
     "metadata": {},
     "output_type": "display_data"
    },
    {
     "data": {
      "text/html": [
       "0.471404520791032"
      ],
      "text/latex": [
       "0.471404520791032"
      ],
      "text/markdown": [
       "0.471404520791032"
      ],
      "text/plain": [
       "[1] 0.4714045"
      ]
     },
     "metadata": {},
     "output_type": "display_data"
    }
   ],
   "source": [
    "#define first dataset and find SEM\n",
    "data1 <- c(1, 2, 3, 4, 5)\n",
    "std.error(data1)\n",
    "\n",
    "\n",
    "#define second dataset and find SEM\n",
    "data2 <- c(1, 2, 3, 4, 5, 1, 2, 3, 4, 5)\n",
    "std.error(data2)\n",
    "\n"
   ]
  },
  {
   "cell_type": "markdown",
   "id": "88aae1bd-b71a-4d7a-9502-797f74643b14",
   "metadata": {},
   "source": [
    "‎第二个数据集只是重复两次的第一个数据集。因此，两个数据集具有相同的均值，但第二个数据集的样本量较大，因此其标准误差较小。‎"
   ]
  },
  {
   "cell_type": "markdown",
   "id": "fcd52749-cc03-461e-9631-2a4bdcc8ff17",
   "metadata": {},
   "source": [
    "## 22.计算修剪的平均值"
   ]
  },
  {
   "cell_type": "markdown",
   "id": "dded3e1d-3b66-4ea4-ba37-f6c6ed6335f2",
   "metadata": {},
   "source": [
    "**‎修剪的平均值‎**‎是从数据集中删除最小值和最大值的特定百分比后计算的数据集的平均值。‎\n",
    "\n",
    "‎例如，10% 的修剪均值表示移除 10% 最小值和 10% 最大值后的数据集均值。‎"
   ]
  },
  {
   "cell_type": "code",
   "execution_count": null,
   "id": "204d896e-26b6-41ba-80e3-121bf9e4fae6",
   "metadata": {},
   "outputs": [],
   "source": [
    "#calculate 10% trimmed mean\n",
    "mean(x, trim=0.1)"
   ]
  },
  {
   "cell_type": "code",
   "execution_count": 69,
   "id": "071e39ac-99b1-4267-9188-e4154be5acd0",
   "metadata": {},
   "outputs": [
    {
     "data": {
      "text/html": [
       "12.375"
      ],
      "text/latex": [
       "12.375"
      ],
      "text/markdown": [
       "12.375"
      ],
      "text/plain": [
       "[1] 12.375"
      ]
     },
     "metadata": {},
     "output_type": "display_data"
    }
   ],
   "source": [
    "#define data\n",
    "data = c(22, 25, 29, 11, 14, 18, 13, 13, 17, 11, 8, 8, 7, 12, 15, 6, 8, 7, 9, 12)\n",
    "\n",
    "#calculate 10% trimmed mean\n",
    "mean(data, trim=0.1)"
   ]
  },
  {
   "cell_type": "markdown",
   "id": "604648d8-7400-4943-aa96-044ab3357ee9",
   "metadata": {},
   "source": [
    "‎10% 的修剪均值为 ‎‎12.375‎‎。‎\n",
    "\n",
    "‎这是从数据集中删除最小 10% 和最大 10% 的值后数据集的平均值。‎"
   ]
  },
  {
   "cell_type": "code",
   "execution_count": 70,
   "id": "606b6450-1cbd-415e-a74f-adabfe8a72cc",
   "metadata": {},
   "outputs": [
    {
     "data": {
      "text/html": [
       "20.25"
      ],
      "text/latex": [
       "20.25"
      ],
      "text/markdown": [
       "20.25"
      ],
      "text/plain": [
       "[1] 20.25"
      ]
     },
     "metadata": {},
     "output_type": "display_data"
    }
   ],
   "source": [
    "#create data frame\n",
    "df = data.frame(points=c(25, 12, 15, 14, 19, 23, 25, 29),\n",
    "                assists=c(5, 7, 7, 9, 12, 9, 9, 4),\n",
    "                rebounds=c(11, 8, 10, 6, 6, 5, 9, 12))\n",
    "\n",
    "#calculate 5% trimmed mean of points\n",
    "mean(df$points, trim=0.05)"
   ]
  },
  {
   "cell_type": "markdown",
   "id": "5f67e6bd-a6a9-4797-ada1-04a54878a4c8",
   "metadata": {},
   "source": [
    "这是删除最小 5% 和最大 5% 的值后“点”列的平均值。"
   ]
  },
  {
   "cell_type": "code",
   "execution_count": 71,
   "id": "e20bd186-99f3-49b4-9997-98843ef71452",
   "metadata": {},
   "outputs": [
    {
     "data": {
      "text/html": [
       "<dl class=dl-horizontal>\n",
       "\t<dt>points</dt>\n",
       "\t\t<dd>20.25</dd>\n",
       "\t<dt>assists</dt>\n",
       "\t\t<dd>7.75</dd>\n",
       "</dl>\n"
      ],
      "text/latex": [
       "\\begin{description*}\n",
       "\\item[points] 20.25\n",
       "\\item[assists] 7.75\n",
       "\\end{description*}\n"
      ],
      "text/markdown": [
       "points\n",
       ":   20.25assists\n",
       ":   7.75\n",
       "\n"
      ],
      "text/plain": [
       " points assists \n",
       "  20.25    7.75 "
      ]
     },
     "metadata": {},
     "output_type": "display_data"
    }
   ],
   "source": [
    "#create data frame\n",
    "df = data.frame(points=c(25, 12, 15, 14, 19, 23, 25, 29),\n",
    "                assists=c(5, 7, 7, 9, 12, 9, 9, 4),\n",
    "                rebounds=c(11, 8, 10, 6, 6, 5, 9, 12))\n",
    "\n",
    "#calculate 5% trimmed mean of points and assists\n",
    "sapply(df[c('points', 'assists')], function(x) mean(x, trim=0.05))"
   ]
  },
  {
   "cell_type": "markdown",
   "id": "ac7186b6-67eb-4bcb-9ba7-298df6e3b755",
   "metadata": {},
   "source": [
    "‎从输出中我们可以看到：‎\n",
    "\n",
    "- ‎“点”列的 5% 修剪平均值为 ‎**‎20.25‎**‎。‎\n",
    "- ‎“助攻”列的 5% 修剪平均值为 ‎**‎7.75‎**‎。‎\n",
    "\n",
    "**‎相关：‎**[‎R中的apperction（），lapply（），sapply（）和tapply（）指南‎](https://www.statology.org/a-guide-to-apply-lapply-sapply-and-tapply-in-r/)"
   ]
  },
  {
   "cell_type": "markdown",
   "id": "053ed4ed-6cd5-4248-b4b9-b476109137c8",
   "metadata": {},
   "source": [
    "## 23.条件平均值"
   ]
  },
  {
   "cell_type": "code",
   "execution_count": 72,
   "id": "8d65978a-f5a6-494f-8b72-d35aeb7e2069",
   "metadata": {},
   "outputs": [
    {
     "data": {
      "text/html": [
       "<table>\n",
       "<thead><tr><th scope=col>team</th><th scope=col>points</th><th scope=col>assists</th></tr></thead>\n",
       "<tbody>\n",
       "\t<tr><td>A </td><td>99</td><td>33</td></tr>\n",
       "\t<tr><td>A </td><td>90</td><td>28</td></tr>\n",
       "\t<tr><td>A </td><td>93</td><td>31</td></tr>\n",
       "\t<tr><td>B </td><td>86</td><td>39</td></tr>\n",
       "\t<tr><td>B </td><td>88</td><td>34</td></tr>\n",
       "\t<tr><td>B </td><td>82</td><td>30</td></tr>\n",
       "</tbody>\n",
       "</table>\n"
      ],
      "text/latex": [
       "\\begin{tabular}{r|lll}\n",
       " team & points & assists\\\\\n",
       "\\hline\n",
       "\t A  & 99 & 33\\\\\n",
       "\t A  & 90 & 28\\\\\n",
       "\t A  & 93 & 31\\\\\n",
       "\t B  & 86 & 39\\\\\n",
       "\t B  & 88 & 34\\\\\n",
       "\t B  & 82 & 30\\\\\n",
       "\\end{tabular}\n"
      ],
      "text/markdown": [
       "\n",
       "| team | points | assists |\n",
       "|---|---|---|\n",
       "| A  | 99 | 33 |\n",
       "| A  | 90 | 28 |\n",
       "| A  | 93 | 31 |\n",
       "| B  | 86 | 39 |\n",
       "| B  | 88 | 34 |\n",
       "| B  | 82 | 30 |\n",
       "\n"
      ],
      "text/plain": [
       "  team points assists\n",
       "1 A    99     33     \n",
       "2 A    90     28     \n",
       "3 A    93     31     \n",
       "4 B    86     39     \n",
       "5 B    88     34     \n",
       "6 B    82     30     "
      ]
     },
     "metadata": {},
     "output_type": "display_data"
    }
   ],
   "source": [
    "#create data frame\n",
    "df <- data.frame(team=c('A', 'A', 'A', 'B', 'B', 'B'),\n",
    "                 points=c(99, 90, 93, 86, 88, 82),\n",
    "                 assists=c(33, 28, 31, 39, 34, 30))\n",
    "\n",
    "#view data frame\n",
    "df"
   ]
  },
  {
   "cell_type": "code",
   "execution_count": 73,
   "id": "87245762-49d1-4833-a7a0-52f5b1cc7d45",
   "metadata": {},
   "outputs": [
    {
     "data": {
      "text/html": [
       "94"
      ],
      "text/latex": [
       "94"
      ],
      "text/markdown": [
       "94"
      ],
      "text/plain": [
       "[1] 94"
      ]
     },
     "metadata": {},
     "output_type": "display_data"
    }
   ],
   "source": [
    "#calculate mean of 'points' column for rows where team equals 'A'\n",
    "mean(df[df$team == 'A', 'points'])"
   ]
  },
  {
   "cell_type": "markdown",
   "id": "f7394640-2c55-44f7-82cd-3a8b7b1c0503",
   "metadata": {},
   "source": [
    "‎“团队”等于“A”的行的“点”列中的平均值为 ‎**‎94‎**‎。‎\n",
    "\n",
    "‎我们可以通过仅计算“团队”等于“A”的行的点值平均值来手动验证这一点：‎\n",
    "\n",
    "- Average of Points: (99 + 90 + 93) / 3 = **94**"
   ]
  },
  {
   "cell_type": "code",
   "execution_count": 74,
   "id": "2318b527-7767-405a-bb21-557b7e819f97",
   "metadata": {},
   "outputs": [
    {
     "data": {
      "text/html": [
       "30.6666666666667"
      ],
      "text/latex": [
       "30.6666666666667"
      ],
      "text/markdown": [
       "30.6666666666667"
      ],
      "text/plain": [
       "[1] 30.66667"
      ]
     },
     "metadata": {},
     "output_type": "display_data"
    }
   ],
   "source": [
    "#calculate mean of 'assists' column for rows where 'points' >= 90\n",
    "mean(df[df$points >= 90, 'assists'])"
   ]
  },
  {
   "cell_type": "markdown",
   "id": "7e4abfc2-15e6-41b7-bdd5-1f41da0d9393",
   "metadata": {},
   "source": [
    "## 24.累积平均值"
   ]
  },
  {
   "cell_type": "markdown",
   "id": "fded69b1-d441-42af-bb65-7269f8c413e5",
   "metadata": {},
   "source": [
    "‎累积平均值‎‎告诉我们一系列值的平均值，直到某个点。‎"
   ]
  },
  {
   "cell_type": "markdown",
   "id": "ca3582de-c809-4f3a-93e2-f2ba3cf7669c",
   "metadata": {},
   "source": [
    "- Method 1: Use Base R\n",
    "\n",
    "cum_avg <- cumsum(x) / seq_along(x)\n",
    "\n",
    "- Method 2: Use dplyr\n",
    "\n",
    "library(dplyr)\n",
    "\n",
    "cum_avg <- cummean(x)"
   ]
  },
  {
   "cell_type": "code",
   "execution_count": 1,
   "id": "0ab5f80b-43a4-4e64-aa2d-bfe277d90e4a",
   "metadata": {},
   "outputs": [
    {
     "data": {
      "text/html": [
       "<table>\n",
       "<thead><tr><th scope=col>day</th><th scope=col>sales</th></tr></thead>\n",
       "<tbody>\n",
       "\t<tr><td>1</td><td>3</td></tr>\n",
       "\t<tr><td>2</td><td>6</td></tr>\n",
       "\t<tr><td>3</td><td>0</td></tr>\n",
       "\t<tr><td>4</td><td>2</td></tr>\n",
       "\t<tr><td>5</td><td>4</td></tr>\n",
       "\t<tr><td>6</td><td>1</td></tr>\n",
       "</tbody>\n",
       "</table>\n"
      ],
      "text/latex": [
       "\\begin{tabular}{r|ll}\n",
       " day & sales\\\\\n",
       "\\hline\n",
       "\t 1 & 3\\\\\n",
       "\t 2 & 6\\\\\n",
       "\t 3 & 0\\\\\n",
       "\t 4 & 2\\\\\n",
       "\t 5 & 4\\\\\n",
       "\t 6 & 1\\\\\n",
       "\\end{tabular}\n"
      ],
      "text/markdown": [
       "\n",
       "| day | sales |\n",
       "|---|---|\n",
       "| 1 | 3 |\n",
       "| 2 | 6 |\n",
       "| 3 | 0 |\n",
       "| 4 | 2 |\n",
       "| 5 | 4 |\n",
       "| 6 | 1 |\n",
       "\n"
      ],
      "text/plain": [
       "  day sales\n",
       "1 1   3    \n",
       "2 2   6    \n",
       "3 3   0    \n",
       "4 4   2    \n",
       "5 5   4    \n",
       "6 6   1    "
      ]
     },
     "metadata": {},
     "output_type": "display_data"
    }
   ],
   "source": [
    "#create data frame\n",
    "df <- data.frame(day=seq(1:16),\n",
    "                 sales=c(3, 6, 0, 2, 4, 1, 0, 1, 4, 7, 3, 3, 8, 3, 5, 5))\n",
    "\n",
    "#view head of data frame\n",
    "head(df)"
   ]
  },
  {
   "cell_type": "markdown",
   "id": "c3b22492-f5b7-4655-8bee-e963ef08310b",
   "metadata": {},
   "source": [
    "**‎示例 1：使用基数 R 计算累积平均值‎**\n",
    "\n",
    "‎我们可以使用以下代码向数据框添加一个新列，该列显示累计销售额的平均值：‎"
   ]
  },
  {
   "cell_type": "code",
   "execution_count": 2,
   "id": "f4c877f7-b3fb-4a19-b0fd-96a0505022ba",
   "metadata": {},
   "outputs": [
    {
     "data": {
      "text/html": [
       "<table>\n",
       "<thead><tr><th scope=col>day</th><th scope=col>sales</th><th scope=col>cum_avg_sales</th></tr></thead>\n",
       "<tbody>\n",
       "\t<tr><td> 1      </td><td>3       </td><td>3.000000</td></tr>\n",
       "\t<tr><td> 2      </td><td>6       </td><td>4.500000</td></tr>\n",
       "\t<tr><td> 3      </td><td>0       </td><td>3.000000</td></tr>\n",
       "\t<tr><td> 4      </td><td>2       </td><td>2.750000</td></tr>\n",
       "\t<tr><td> 5      </td><td>4       </td><td>3.000000</td></tr>\n",
       "\t<tr><td> 6      </td><td>1       </td><td>2.666667</td></tr>\n",
       "\t<tr><td> 7      </td><td>0       </td><td>2.285714</td></tr>\n",
       "\t<tr><td> 8      </td><td>1       </td><td>2.125000</td></tr>\n",
       "\t<tr><td> 9      </td><td>4       </td><td>2.333333</td></tr>\n",
       "\t<tr><td>10      </td><td>7       </td><td>2.800000</td></tr>\n",
       "\t<tr><td>11      </td><td>3       </td><td>2.818182</td></tr>\n",
       "\t<tr><td>12      </td><td>3       </td><td>2.833333</td></tr>\n",
       "\t<tr><td>13      </td><td>8       </td><td>3.230769</td></tr>\n",
       "\t<tr><td>14      </td><td>3       </td><td>3.214286</td></tr>\n",
       "\t<tr><td>15      </td><td>5       </td><td>3.333333</td></tr>\n",
       "\t<tr><td>16      </td><td>5       </td><td>3.437500</td></tr>\n",
       "</tbody>\n",
       "</table>\n"
      ],
      "text/latex": [
       "\\begin{tabular}{r|lll}\n",
       " day & sales & cum\\_avg\\_sales\\\\\n",
       "\\hline\n",
       "\t  1       & 3        & 3.000000\\\\\n",
       "\t  2       & 6        & 4.500000\\\\\n",
       "\t  3       & 0        & 3.000000\\\\\n",
       "\t  4       & 2        & 2.750000\\\\\n",
       "\t  5       & 4        & 3.000000\\\\\n",
       "\t  6       & 1        & 2.666667\\\\\n",
       "\t  7       & 0        & 2.285714\\\\\n",
       "\t  8       & 1        & 2.125000\\\\\n",
       "\t  9       & 4        & 2.333333\\\\\n",
       "\t 10       & 7        & 2.800000\\\\\n",
       "\t 11       & 3        & 2.818182\\\\\n",
       "\t 12       & 3        & 2.833333\\\\\n",
       "\t 13       & 8        & 3.230769\\\\\n",
       "\t 14       & 3        & 3.214286\\\\\n",
       "\t 15       & 5        & 3.333333\\\\\n",
       "\t 16       & 5        & 3.437500\\\\\n",
       "\\end{tabular}\n"
      ],
      "text/markdown": [
       "\n",
       "| day | sales | cum_avg_sales |\n",
       "|---|---|---|\n",
       "|  1       | 3        | 3.000000 |\n",
       "|  2       | 6        | 4.500000 |\n",
       "|  3       | 0        | 3.000000 |\n",
       "|  4       | 2        | 2.750000 |\n",
       "|  5       | 4        | 3.000000 |\n",
       "|  6       | 1        | 2.666667 |\n",
       "|  7       | 0        | 2.285714 |\n",
       "|  8       | 1        | 2.125000 |\n",
       "|  9       | 4        | 2.333333 |\n",
       "| 10       | 7        | 2.800000 |\n",
       "| 11       | 3        | 2.818182 |\n",
       "| 12       | 3        | 2.833333 |\n",
       "| 13       | 8        | 3.230769 |\n",
       "| 14       | 3        | 3.214286 |\n",
       "| 15       | 5        | 3.333333 |\n",
       "| 16       | 5        | 3.437500 |\n",
       "\n"
      ],
      "text/plain": [
       "   day sales cum_avg_sales\n",
       "1   1  3     3.000000     \n",
       "2   2  6     4.500000     \n",
       "3   3  0     3.000000     \n",
       "4   4  2     2.750000     \n",
       "5   5  4     3.000000     \n",
       "6   6  1     2.666667     \n",
       "7   7  0     2.285714     \n",
       "8   8  1     2.125000     \n",
       "9   9  4     2.333333     \n",
       "10 10  7     2.800000     \n",
       "11 11  3     2.818182     \n",
       "12 12  3     2.833333     \n",
       "13 13  8     3.230769     \n",
       "14 14  3     3.214286     \n",
       "15 15  5     3.333333     \n",
       "16 16  5     3.437500     "
      ]
     },
     "metadata": {},
     "output_type": "display_data"
    }
   ],
   "source": [
    "#add new column that contains cumulative avg. of sales\n",
    "df$cum_avg_sales <- cumsum(df$sales) / seq_along(df$sales) \n",
    "\n",
    "#view updated data frame\n",
    "df\n"
   ]
  },
  {
   "cell_type": "markdown",
   "id": "2374d6d0-cc54-4f2d-acd8-7f72295a7d76",
   "metadata": {},
   "source": [
    "\n",
    "\n",
    "​\t‎我们将累积平均值解释为：‎\n",
    "\n",
    "- ‎第一个销售值的累积平均值为 ‎**‎3‎**‎。‎\n",
    "- ‎前两个销售值的累积平均值为 ‎**‎4.5‎**‎。‎\n",
    "- ‎前三个销售值的累积平均值为 ‎**‎3‎**‎。‎\n",
    "- ‎前四个销售值的累积平均值为 ‎**‎2.75‎**‎。‎\n",
    "\n",
    "‎等等。‎"
   ]
  },
  {
   "cell_type": "code",
   "execution_count": null,
   "id": "04437133-adb0-4d5e-8649-2847ede2e5a6",
   "metadata": {},
   "outputs": [],
   "source": [
    "library(dplyr)\n",
    "\n",
    "#add new column that contains cumulative avg. of sales\n",
    "df$cum_avg_sales <- cummean(df$sales) \n",
    "\n",
    "#view updated data frame\n",
    "df"
   ]
  },
  {
   "cell_type": "markdown",
   "id": "1430dc6d-ffcf-4b3a-99c1-c05ae2e6257b",
   "metadata": {},
   "source": [
    "## 25.计算Bootstrap 标准差"
   ]
  },
  {
   "cell_type": "markdown",
   "id": "d81bc014-2e14-4c59-b61e-f32c6b545baa",
   "metadata": {},
   "source": [
    "**‎自举‎**‎是一种可用于估计均值标准误的方法。‎\n",
    "\n",
    "‎计算自举标准误差的基本过程如下：‎\n",
    "\n",
    "- ‎从给定数据集中取‎*‎k‎*‎个重复‎[‎样本并进行替换‎](https://www.statology.org/sampling-with-vs-without-replacement/)‎。‎\n",
    "- ‎对于每个样本，计算标准误差：s/√‎‎n‎\n",
    "- ‎这导致标准误差的 ‎*‎k‎*‎ 个不同的估计值。要查找自举标准误差，请取 ‎*‎k‎*‎ 个标准误差的平均值。‎\n",
    "\n",
    "‎以下示例说明了可用于计算 R 中的自举标准误差的两种不同方法。‎"
   ]
  },
  {
   "cell_type": "code",
   "execution_count": 45,
   "id": "c6522834-cc31-4f97-9a2c-de3a2aea4778",
   "metadata": {},
   "outputs": [
    {
     "name": "stdout",
     "output_type": "stream",
     "text": [
      "package 'boot' successfully unpacked and MD5 sums checked\n",
      "\n",
      "The downloaded binary packages are in\n",
      "\tC:\\Users\\sxf\\AppData\\Local\\Temp\\RtmpkRGBgT\\downloaded_packages\n"
     ]
    }
   ],
   "source": [
    "install.packages('boot')"
   ]
  },
  {
   "cell_type": "code",
   "execution_count": 47,
   "id": "de6bfdb9-f40d-498f-bdb6-f6f91513286d",
   "metadata": {},
   "outputs": [
    {
     "data": {
      "text/plain": [
       "\n",
       "ORDINARY NONPARAMETRIC BOOTSTRAP\n",
       "\n",
       "\n",
       "Call:\n",
       "boot(data = x, statistic = meanFunc, R = 1000)\n",
       "\n",
       "\n",
       "Bootstrap Statistics :\n",
       "    original  bias    std. error\n",
       "t1*     21.5  0.0747    2.546223"
      ]
     },
     "metadata": {},
     "output_type": "display_data"
    }
   ],
   "source": [
    "#make this example reproducible\n",
    "set.seed(10)\n",
    "\n",
    "#load boot library\n",
    "library(boot)\n",
    "\n",
    "#define dataset\n",
    "x <- c(12, 14, 14, 15, 18, 21, 25, 29, 32, 35)\n",
    "\n",
    "#define function to calculate mean\n",
    "meanFunc <- function(x,i){mean(x[i])}\n",
    "\n",
    "#calculate standard error using 100 bootstrapped samples\n",
    "boot(x, meanFunc, 100)"
   ]
  },
  {
   "cell_type": "markdown",
   "id": "c287cf4b-7699-4a59-8fa3-4c46b9205f26",
   "metadata": {},
   "source": [
    "‎“原始”值 ‎**‎21.5‎**‎ 显示原始数据集的平均值。“std. error” 值 ‎**‎2.379263‎**‎ 显示均值的自举法标准误差。‎\n",
    "\n",
    "‎请注意，在本例中，我们使用 100 个自举样本来估计均值的标准误差，但我们可以使用 1，000 或 10，000 个或任何数量的自举样本。‎"
   ]
  },
  {
   "cell_type": "markdown",
   "id": "6cc5167f",
   "metadata": {},
   "source": [
    "## 26.数据分箱"
   ]
  },
  {
   "cell_type": "markdown",
   "id": "5798d9db",
   "metadata": {},
   "source": [
    "### 方法 1: Use cut() Function"
   ]
  },
  {
   "cell_type": "code",
   "execution_count": null,
   "id": "18cea7d8",
   "metadata": {},
   "outputs": [],
   "source": [
    "library(dplyr)\n",
    "\n",
    "#perform binning with custom breaks\n",
    "df %>% mutate(new_bin = cut(variable_name, breaks=c(0, 10, 20, 30)))\n",
    "\n",
    "#perform binning with specific number of bins\n",
    "df %>% mutate(new_bin = cut(variable_name, breaks=3))"
   ]
  },
  {
   "cell_type": "markdown",
   "id": "ca2378fb",
   "metadata": {},
   "source": [
    "### 方法 2: Use ntile() Function"
   ]
  },
  {
   "cell_type": "code",
   "execution_count": null,
   "id": "12f5f36f",
   "metadata": {},
   "outputs": [],
   "source": [
    "library(dplyr)\n",
    "\n",
    "#perform binning with specific number of bins\n",
    "df %>% mutate(new_bin = ntile(variable_name, n=3))"
   ]
  },
  {
   "cell_type": "markdown",
   "id": "db4ef0b4",
   "metadata": {},
   "source": [
    "### 实例"
   ]
  },
  {
   "cell_type": "code",
   "execution_count": 48,
   "id": "7889d4e6",
   "metadata": {},
   "outputs": [
    {
     "data": {
      "text/html": [
       "<table>\n",
       "<thead><tr><th scope=col>points</th><th scope=col>assists</th><th scope=col>rebounds</th></tr></thead>\n",
       "<tbody>\n",
       "\t<tr><td> 4</td><td>2 </td><td>7 </td></tr>\n",
       "\t<tr><td> 4</td><td>5 </td><td>7 </td></tr>\n",
       "\t<tr><td> 7</td><td>4 </td><td>4 </td></tr>\n",
       "\t<tr><td> 8</td><td>7 </td><td>6 </td></tr>\n",
       "\t<tr><td>12</td><td>7 </td><td>3 </td></tr>\n",
       "\t<tr><td>13</td><td>8 </td><td>8 </td></tr>\n",
       "</tbody>\n",
       "</table>\n"
      ],
      "text/latex": [
       "\\begin{tabular}{r|lll}\n",
       " points & assists & rebounds\\\\\n",
       "\\hline\n",
       "\t  4 & 2  & 7 \\\\\n",
       "\t  4 & 5  & 7 \\\\\n",
       "\t  7 & 4  & 4 \\\\\n",
       "\t  8 & 7  & 6 \\\\\n",
       "\t 12 & 7  & 3 \\\\\n",
       "\t 13 & 8  & 8 \\\\\n",
       "\\end{tabular}\n"
      ],
      "text/markdown": [
       "\n",
       "| points | assists | rebounds |\n",
       "|---|---|---|\n",
       "|  4 | 2  | 7  |\n",
       "|  4 | 5  | 7  |\n",
       "|  7 | 4  | 4  |\n",
       "|  8 | 7  | 6  |\n",
       "| 12 | 7  | 3  |\n",
       "| 13 | 8  | 8  |\n",
       "\n"
      ],
      "text/plain": [
       "  points assists rebounds\n",
       "1  4     2       7       \n",
       "2  4     5       7       \n",
       "3  7     4       4       \n",
       "4  8     7       6       \n",
       "5 12     7       3       \n",
       "6 13     8       8       "
      ]
     },
     "metadata": {},
     "output_type": "display_data"
    }
   ],
   "source": [
    "#create data frame\n",
    "df <- data.frame(points=c(4, 4, 7, 8, 12, 13, 15, 18, 22, 23, 23, 25),\n",
    "                 assists=c(2, 5, 4, 7, 7, 8, 5, 4, 5, 11, 13, 8),\n",
    "                 rebounds=c(7, 7, 4, 6, 3, 8, 9, 9, 12, 11, 8, 9))\n",
    "\n",
    "#view head of data frame\n",
    "head(df)"
   ]
  },
  {
   "cell_type": "code",
   "execution_count": 49,
   "id": "a9e7ed8b",
   "metadata": {},
   "outputs": [
    {
     "data": {
      "text/html": [
       "<table>\n",
       "<thead><tr><th scope=col>points</th><th scope=col>assists</th><th scope=col>rebounds</th><th scope=col>points_bin</th></tr></thead>\n",
       "<tbody>\n",
       "\t<tr><td> 4     </td><td> 2     </td><td> 7     </td><td>(0,10] </td></tr>\n",
       "\t<tr><td> 4     </td><td> 5     </td><td> 7     </td><td>(0,10] </td></tr>\n",
       "\t<tr><td> 7     </td><td> 4     </td><td> 4     </td><td>(0,10] </td></tr>\n",
       "\t<tr><td> 8     </td><td> 7     </td><td> 6     </td><td>(0,10] </td></tr>\n",
       "\t<tr><td>12     </td><td> 7     </td><td> 3     </td><td>(10,20]</td></tr>\n",
       "\t<tr><td>13     </td><td> 8     </td><td> 8     </td><td>(10,20]</td></tr>\n",
       "\t<tr><td>15     </td><td> 5     </td><td> 9     </td><td>(10,20]</td></tr>\n",
       "\t<tr><td>18     </td><td> 4     </td><td> 9     </td><td>(10,20]</td></tr>\n",
       "\t<tr><td>22     </td><td> 5     </td><td>12     </td><td>(20,30]</td></tr>\n",
       "\t<tr><td>23     </td><td>11     </td><td>11     </td><td>(20,30]</td></tr>\n",
       "\t<tr><td>23     </td><td>13     </td><td> 8     </td><td>(20,30]</td></tr>\n",
       "\t<tr><td>25     </td><td> 8     </td><td> 9     </td><td>(20,30]</td></tr>\n",
       "</tbody>\n",
       "</table>\n"
      ],
      "text/latex": [
       "\\begin{tabular}{r|llll}\n",
       " points & assists & rebounds & points\\_bin\\\\\n",
       "\\hline\n",
       "\t  4        &  2        &  7        & (0,10{]} \\\\\n",
       "\t  4        &  5        &  7        & (0,10{]} \\\\\n",
       "\t  7        &  4        &  4        & (0,10{]} \\\\\n",
       "\t  8        &  7        &  6        & (0,10{]} \\\\\n",
       "\t 12        &  7        &  3        & (10,20{]}\\\\\n",
       "\t 13        &  8        &  8        & (10,20{]}\\\\\n",
       "\t 15        &  5        &  9        & (10,20{]}\\\\\n",
       "\t 18        &  4        &  9        & (10,20{]}\\\\\n",
       "\t 22        &  5        & 12        & (20,30{]}\\\\\n",
       "\t 23        & 11        & 11        & (20,30{]}\\\\\n",
       "\t 23        & 13        &  8        & (20,30{]}\\\\\n",
       "\t 25        &  8        &  9        & (20,30{]}\\\\\n",
       "\\end{tabular}\n"
      ],
      "text/markdown": [
       "\n",
       "| points | assists | rebounds | points_bin |\n",
       "|---|---|---|---|\n",
       "|  4      |  2      |  7      | (0,10]  |\n",
       "|  4      |  5      |  7      | (0,10]  |\n",
       "|  7      |  4      |  4      | (0,10]  |\n",
       "|  8      |  7      |  6      | (0,10]  |\n",
       "| 12      |  7      |  3      | (10,20] |\n",
       "| 13      |  8      |  8      | (10,20] |\n",
       "| 15      |  5      |  9      | (10,20] |\n",
       "| 18      |  4      |  9      | (10,20] |\n",
       "| 22      |  5      | 12      | (20,30] |\n",
       "| 23      | 11      | 11      | (20,30] |\n",
       "| 23      | 13      |  8      | (20,30] |\n",
       "| 25      |  8      |  9      | (20,30] |\n",
       "\n"
      ],
      "text/plain": [
       "   points assists rebounds points_bin\n",
       "1   4      2       7       (0,10]    \n",
       "2   4      5       7       (0,10]    \n",
       "3   7      4       4       (0,10]    \n",
       "4   8      7       6       (0,10]    \n",
       "5  12      7       3       (10,20]   \n",
       "6  13      8       8       (10,20]   \n",
       "7  15      5       9       (10,20]   \n",
       "8  18      4       9       (10,20]   \n",
       "9  22      5      12       (20,30]   \n",
       "10 23     11      11       (20,30]   \n",
       "11 23     13       8       (20,30]   \n",
       "12 25      8       9       (20,30]   "
      ]
     },
     "metadata": {},
     "output_type": "display_data"
    }
   ],
   "source": [
    "library(dplyr)\n",
    "\n",
    "#perform data binning on points variable\n",
    "df %>% mutate(points_bin = cut(points, breaks=c(0, 10, 20, 30)))"
   ]
  },
  {
   "cell_type": "markdown",
   "id": "40f4387a",
   "metadata": {},
   "source": [
    "‎请注意，数据框的每一行都已根据点列中的值放置在三个条柱之一中。‎\n",
    "\n",
    "‎我们还可以指定用于创建相同宽度的条柱的中断次数，其范围从‎‎点‎‎列的最小值到最大值：‎"
   ]
  },
  {
   "cell_type": "code",
   "execution_count": 50,
   "id": "8d7cbc73",
   "metadata": {},
   "outputs": [
    {
     "data": {
      "text/html": [
       "<table>\n",
       "<thead><tr><th scope=col>points</th><th scope=col>assists</th><th scope=col>rebounds</th><th scope=col>points_bin</th></tr></thead>\n",
       "<tbody>\n",
       "\t<tr><td> 4       </td><td> 2       </td><td> 7       </td><td>(3.98,11]</td></tr>\n",
       "\t<tr><td> 4       </td><td> 5       </td><td> 7       </td><td>(3.98,11]</td></tr>\n",
       "\t<tr><td> 7       </td><td> 4       </td><td> 4       </td><td>(3.98,11]</td></tr>\n",
       "\t<tr><td> 8       </td><td> 7       </td><td> 6       </td><td>(3.98,11]</td></tr>\n",
       "\t<tr><td>12       </td><td> 7       </td><td> 3       </td><td>(11,18]  </td></tr>\n",
       "\t<tr><td>13       </td><td> 8       </td><td> 8       </td><td>(11,18]  </td></tr>\n",
       "\t<tr><td>15       </td><td> 5       </td><td> 9       </td><td>(11,18]  </td></tr>\n",
       "\t<tr><td>18       </td><td> 4       </td><td> 9       </td><td>(11,18]  </td></tr>\n",
       "\t<tr><td>22       </td><td> 5       </td><td>12       </td><td>(18,25]  </td></tr>\n",
       "\t<tr><td>23       </td><td>11       </td><td>11       </td><td>(18,25]  </td></tr>\n",
       "\t<tr><td>23       </td><td>13       </td><td> 8       </td><td>(18,25]  </td></tr>\n",
       "\t<tr><td>25       </td><td> 8       </td><td> 9       </td><td>(18,25]  </td></tr>\n",
       "</tbody>\n",
       "</table>\n"
      ],
      "text/latex": [
       "\\begin{tabular}{r|llll}\n",
       " points & assists & rebounds & points\\_bin\\\\\n",
       "\\hline\n",
       "\t  4          &  2          &  7          & (3.98,11{]}\\\\\n",
       "\t  4          &  5          &  7          & (3.98,11{]}\\\\\n",
       "\t  7          &  4          &  4          & (3.98,11{]}\\\\\n",
       "\t  8          &  7          &  6          & (3.98,11{]}\\\\\n",
       "\t 12          &  7          &  3          & (11,18{]}  \\\\\n",
       "\t 13          &  8          &  8          & (11,18{]}  \\\\\n",
       "\t 15          &  5          &  9          & (11,18{]}  \\\\\n",
       "\t 18          &  4          &  9          & (11,18{]}  \\\\\n",
       "\t 22          &  5          & 12          & (18,25{]}  \\\\\n",
       "\t 23          & 11          & 11          & (18,25{]}  \\\\\n",
       "\t 23          & 13          &  8          & (18,25{]}  \\\\\n",
       "\t 25          &  8          &  9          & (18,25{]}  \\\\\n",
       "\\end{tabular}\n"
      ],
      "text/markdown": [
       "\n",
       "| points | assists | rebounds | points_bin |\n",
       "|---|---|---|---|\n",
       "|  4        |  2        |  7        | (3.98,11] |\n",
       "|  4        |  5        |  7        | (3.98,11] |\n",
       "|  7        |  4        |  4        | (3.98,11] |\n",
       "|  8        |  7        |  6        | (3.98,11] |\n",
       "| 12        |  7        |  3        | (11,18]   |\n",
       "| 13        |  8        |  8        | (11,18]   |\n",
       "| 15        |  5        |  9        | (11,18]   |\n",
       "| 18        |  4        |  9        | (11,18]   |\n",
       "| 22        |  5        | 12        | (18,25]   |\n",
       "| 23        | 11        | 11        | (18,25]   |\n",
       "| 23        | 13        |  8        | (18,25]   |\n",
       "| 25        |  8        |  9        | (18,25]   |\n",
       "\n"
      ],
      "text/plain": [
       "   points assists rebounds points_bin\n",
       "1   4      2       7       (3.98,11] \n",
       "2   4      5       7       (3.98,11] \n",
       "3   7      4       4       (3.98,11] \n",
       "4   8      7       6       (3.98,11] \n",
       "5  12      7       3       (11,18]   \n",
       "6  13      8       8       (11,18]   \n",
       "7  15      5       9       (11,18]   \n",
       "8  18      4       9       (11,18]   \n",
       "9  22      5      12       (18,25]   \n",
       "10 23     11      11       (18,25]   \n",
       "11 23     13       8       (18,25]   \n",
       "12 25      8       9       (18,25]   "
      ]
     },
     "metadata": {},
     "output_type": "display_data"
    }
   ],
   "source": [
    "library(dplyr)\n",
    "\n",
    "#perform data binning on points variable\n",
    "df %>% mutate(points_bin = cut(points, breaks=3))"
   ]
  },
  {
   "cell_type": "code",
   "execution_count": 51,
   "id": "d697da9c",
   "metadata": {},
   "outputs": [
    {
     "data": {
      "text/html": [
       "<table>\n",
       "<thead><tr><th scope=col>points</th><th scope=col>assists</th><th scope=col>rebounds</th><th scope=col>points_bin</th></tr></thead>\n",
       "<tbody>\n",
       "\t<tr><td> 4</td><td> 2</td><td> 7</td><td>1 </td></tr>\n",
       "\t<tr><td> 4</td><td> 5</td><td> 7</td><td>1 </td></tr>\n",
       "\t<tr><td> 7</td><td> 4</td><td> 4</td><td>1 </td></tr>\n",
       "\t<tr><td> 8</td><td> 7</td><td> 6</td><td>1 </td></tr>\n",
       "\t<tr><td>12</td><td> 7</td><td> 3</td><td>2 </td></tr>\n",
       "\t<tr><td>13</td><td> 8</td><td> 8</td><td>2 </td></tr>\n",
       "\t<tr><td>15</td><td> 5</td><td> 9</td><td>2 </td></tr>\n",
       "\t<tr><td>18</td><td> 4</td><td> 9</td><td>2 </td></tr>\n",
       "\t<tr><td>22</td><td> 5</td><td>12</td><td>3 </td></tr>\n",
       "\t<tr><td>23</td><td>11</td><td>11</td><td>3 </td></tr>\n",
       "\t<tr><td>23</td><td>13</td><td> 8</td><td>3 </td></tr>\n",
       "\t<tr><td>25</td><td> 8</td><td> 9</td><td>3 </td></tr>\n",
       "</tbody>\n",
       "</table>\n"
      ],
      "text/latex": [
       "\\begin{tabular}{r|llll}\n",
       " points & assists & rebounds & points\\_bin\\\\\n",
       "\\hline\n",
       "\t  4 &  2 &  7 & 1 \\\\\n",
       "\t  4 &  5 &  7 & 1 \\\\\n",
       "\t  7 &  4 &  4 & 1 \\\\\n",
       "\t  8 &  7 &  6 & 1 \\\\\n",
       "\t 12 &  7 &  3 & 2 \\\\\n",
       "\t 13 &  8 &  8 & 2 \\\\\n",
       "\t 15 &  5 &  9 & 2 \\\\\n",
       "\t 18 &  4 &  9 & 2 \\\\\n",
       "\t 22 &  5 & 12 & 3 \\\\\n",
       "\t 23 & 11 & 11 & 3 \\\\\n",
       "\t 23 & 13 &  8 & 3 \\\\\n",
       "\t 25 &  8 &  9 & 3 \\\\\n",
       "\\end{tabular}\n"
      ],
      "text/markdown": [
       "\n",
       "| points | assists | rebounds | points_bin |\n",
       "|---|---|---|---|\n",
       "|  4 |  2 |  7 | 1  |\n",
       "|  4 |  5 |  7 | 1  |\n",
       "|  7 |  4 |  4 | 1  |\n",
       "|  8 |  7 |  6 | 1  |\n",
       "| 12 |  7 |  3 | 2  |\n",
       "| 13 |  8 |  8 | 2  |\n",
       "| 15 |  5 |  9 | 2  |\n",
       "| 18 |  4 |  9 | 2  |\n",
       "| 22 |  5 | 12 | 3  |\n",
       "| 23 | 11 | 11 | 3  |\n",
       "| 23 | 13 |  8 | 3  |\n",
       "| 25 |  8 |  9 | 3  |\n",
       "\n"
      ],
      "text/plain": [
       "   points assists rebounds points_bin\n",
       "1   4      2       7       1         \n",
       "2   4      5       7       1         \n",
       "3   7      4       4       1         \n",
       "4   8      7       6       1         \n",
       "5  12      7       3       2         \n",
       "6  13      8       8       2         \n",
       "7  15      5       9       2         \n",
       "8  18      4       9       2         \n",
       "9  22      5      12       3         \n",
       "10 23     11      11       3         \n",
       "11 23     13       8       3         \n",
       "12 25      8       9       3         "
      ]
     },
     "metadata": {},
     "output_type": "display_data"
    }
   ],
   "source": [
    "#方法2\n",
    "library(dplyr)\n",
    "\n",
    "#perform data binning on points variable\n",
    "df %>% mutate(points_bin = ntile(points, n=3))"
   ]
  },
  {
   "cell_type": "markdown",
   "id": "cbe42605",
   "metadata": {},
   "source": [
    "‎请注意，已根据‎‎点‎‎列的值为每行分配了一个从 1 到 3 的条柱。‎"
   ]
  },
  {
   "cell_type": "markdown",
   "id": "95eff47b",
   "metadata": {},
   "source": [
    "‎当您希望在每行中显示一个整数值而不是显示条柱范围的间隔时，最好使用 ‎‎ntile（）‎‎ 函数。‎"
   ]
  },
  {
   "cell_type": "markdown",
   "id": "df40220c",
   "metadata": {},
   "source": [
    "## 27.计算 Cohen's d"
   ]
  },
  {
   "cell_type": "markdown",
   "id": "43f6a1c4",
   "metadata": {},
   "source": [
    "‎在统计学中，我们经常使用‎[‎p值‎](https://www.statology.org/p-values-statistical-significance/)‎来确定两组的平均值之间是否存在统计学上的显着差异。‎\n",
    "\n",
    "‎然而，虽然p值可以告诉我们两组之间是否存在统计学上显着的差异，‎[‎但效应大小‎](https://www.statology.org/effect-size/)‎可以告诉我们这种差异实际上有多大。‎\n",
    "\n",
    "‎效应大小的最常见测量之一是‎**‎Cohens d‎**‎，其计算公式为：‎"
   ]
  },
  {
   "cell_type": "markdown",
   "id": "3f63d7c0",
   "metadata": {},
   "source": [
    "Cohen’s d = (x1 – x2) / √(s12 + s22) / 2"
   ]
  },
  {
   "cell_type": "markdown",
   "id": "620dfcb7",
   "metadata": {},
   "source": [
    "- x1 , x2: mean of sample 1 and sample 2, respectively\n",
    "- s12, s22: variance of sample 1 and sample 2, respectively\n",
    "\n",
    "Using this formula, here is how we interpret Cohen’s d:\n",
    "\n",
    "- A *d* of **0.5** indicates that the two group means differ by 0.5 standard deviations.\n",
    "- A *d* of **1** indicates that the group means differ by 1 standard deviation.\n",
    "- A *d* of **2** indicates that the group means differ by 2 standard deviations.\n",
    "\n",
    "And so on."
   ]
  },
  {
   "cell_type": "markdown",
   "id": "152b8df0",
   "metadata": {},
   "source": [
    "‎这是解释科恩d的另一种方法：效应大小为0.5意味着第1组中普通人的值比第2组中的普通人高出0.5个标准差。‎"
   ]
  },
  {
   "cell_type": "markdown",
   "id": "955371f7",
   "metadata": {},
   "source": [
    "\n",
    "\n",
    "- ‎在解释科恩的d时，我们经常使用以下经验法则：‎\n",
    "\n",
    "  - ‎值为 ‎**‎0.2‎**‎ 表示较小的效应大小。‎\n",
    "  - ‎值 ‎**‎0.5‎**‎ 表示中等效应大小。‎\n",
    "  - ‎值为 ‎**‎0.8‎**‎ 表示较大的效应大小。‎\n",
    "\n",
    "  ‎下面的示例演示如何在 R 中计算 Cohen 的 d。‎"
   ]
  },
  {
   "cell_type": "code",
   "execution_count": 52,
   "id": "59c092e5",
   "metadata": {},
   "outputs": [
    {
     "ename": "ERROR",
     "evalue": "Error in library(lsr): there is no package called 'lsr'\n",
     "output_type": "error",
     "traceback": [
      "Error in library(lsr): there is no package called 'lsr'\nTraceback:\n",
      "1. library(lsr)"
     ]
    }
   ],
   "source": [
    "#方法1\n",
    "library(lsr)\n",
    "\n",
    "#define plant growth values for each group\n",
    "group1 <- c(8, 9, 11, 11, 12, 14, 15, 16, 16, 18, 20, 21)\n",
    "group2 <- c(7, 9, 10, 10, 11, 11, 12, 14, 14, 16, 20, 23)\n",
    "\n",
    "#calculate Cohen's d\n",
    "cohensD(group1, group2)"
   ]
  },
  {
   "cell_type": "code",
   "execution_count": 53,
   "id": "6545eede",
   "metadata": {},
   "outputs": [
    {
     "ename": "ERROR",
     "evalue": "Error in library(effsize): there is no package called 'effsize'\n",
     "output_type": "error",
     "traceback": [
      "Error in library(effsize): there is no package called 'effsize'\nTraceback:\n",
      "1. library(effsize)"
     ]
    }
   ],
   "source": [
    "#方法2\n",
    "library(effsize)\n",
    "\n",
    "#define plant growth values for each group\n",
    "group1 <- c(8, 9, 11, 11, 12, 14, 15, 16, 16, 18, 20, 21)\n",
    "group2 <- c(7, 9, 10, 10, 11, 11, 12, 14, 14, 16, 20, 23)\n",
    "\n",
    "#calculate Cohen's d\n",
    "cohen.d(group1, group2)"
   ]
  },
  {
   "cell_type": "markdown",
   "id": "30a51c7d",
   "metadata": {},
   "source": [
    "\n",
    "\n",
    "‎请注意，这两种方法产生相同的结果：Cohen 的 d 是 ‎**‎0.2635‎**‎。‎\n",
    "\n",
    "‎我们将其解释为接受肥料#1的植物的平均高度比接受肥料#2的植物的平均高度大‎**‎0.2635‎**‎个标准差。‎\n",
    "\n",
    "‎使用前面提到的经验法则，我们将这解释为一个小效应量。‎\n",
    "\n",
    "‎换言之，无论两种肥料之间的平均植物生长是否存在统计学上的显着差异，组间的实际差异都是微不足道的。‎"
   ]
  },
  {
   "cell_type": "markdown",
   "id": "d13180fe",
   "metadata": {},
   "source": [
    "## 28.在列中查找唯一值"
   ]
  },
  {
   "cell_type": "code",
   "execution_count": 54,
   "id": "90bd2fe8",
   "metadata": {},
   "outputs": [
    {
     "data": {
      "text/html": [
       "<table>\n",
       "<thead><tr><th scope=col>team</th><th scope=col>points</th><th scope=col>assists</th><th scope=col>rebounds</th></tr></thead>\n",
       "<tbody>\n",
       "\t<tr><td>A </td><td>90</td><td>33</td><td>30</td></tr>\n",
       "\t<tr><td>A </td><td>99</td><td>33</td><td>28</td></tr>\n",
       "\t<tr><td>B </td><td>90</td><td>31</td><td>24</td></tr>\n",
       "\t<tr><td>B </td><td>85</td><td>39</td><td>24</td></tr>\n",
       "\t<tr><td>C </td><td>90</td><td>34</td><td>28</td></tr>\n",
       "\t<tr><td>C </td><td>85</td><td>34</td><td>28</td></tr>\n",
       "</tbody>\n",
       "</table>\n"
      ],
      "text/latex": [
       "\\begin{tabular}{r|llll}\n",
       " team & points & assists & rebounds\\\\\n",
       "\\hline\n",
       "\t A  & 90 & 33 & 30\\\\\n",
       "\t A  & 99 & 33 & 28\\\\\n",
       "\t B  & 90 & 31 & 24\\\\\n",
       "\t B  & 85 & 39 & 24\\\\\n",
       "\t C  & 90 & 34 & 28\\\\\n",
       "\t C  & 85 & 34 & 28\\\\\n",
       "\\end{tabular}\n"
      ],
      "text/markdown": [
       "\n",
       "| team | points | assists | rebounds |\n",
       "|---|---|---|---|\n",
       "| A  | 90 | 33 | 30 |\n",
       "| A  | 99 | 33 | 28 |\n",
       "| B  | 90 | 31 | 24 |\n",
       "| B  | 85 | 39 | 24 |\n",
       "| C  | 90 | 34 | 28 |\n",
       "| C  | 85 | 34 | 28 |\n",
       "\n"
      ],
      "text/plain": [
       "  team points assists rebounds\n",
       "1 A    90     33      30      \n",
       "2 A    99     33      28      \n",
       "3 B    90     31      24      \n",
       "4 B    85     39      24      \n",
       "5 C    90     34      28      \n",
       "6 C    85     34      28      "
      ]
     },
     "metadata": {},
     "output_type": "display_data"
    }
   ],
   "source": [
    "#create data frame\n",
    "df <- data.frame(team=c('A', 'A', 'B', 'B', 'C', 'C'),\n",
    "                 points=c(90, 99, 90, 85, 90, 85),\n",
    "                 assists=c(33, 33, 31, 39, 34, 34),\n",
    "                 rebounds=c(30, 28, 24, 24, 28, 28))\n",
    "\n",
    "#view data frame\n",
    "df"
   ]
  },
  {
   "cell_type": "code",
   "execution_count": 56,
   "id": "49ca4d94",
   "metadata": {},
   "outputs": [
    {
     "data": {
      "text/html": [
       "<ol class=list-inline>\n",
       "\t<li>A</li>\n",
       "\t<li>B</li>\n",
       "\t<li>C</li>\n",
       "</ol>\n",
       "\n",
       "<details>\n",
       "\t<summary style=display:list-item;cursor:pointer>\n",
       "\t\t<strong>Levels</strong>:\n",
       "\t</summary>\n",
       "\t<ol class=list-inline>\n",
       "\t\t<li>'A'</li>\n",
       "\t\t<li>'B'</li>\n",
       "\t\t<li>'C'</li>\n",
       "\t</ol>\n",
       "</details>"
      ],
      "text/latex": [
       "\\begin{enumerate*}\n",
       "\\item A\n",
       "\\item B\n",
       "\\item C\n",
       "\\end{enumerate*}\n",
       "\n",
       "\\emph{Levels}: \\begin{enumerate*}\n",
       "\\item 'A'\n",
       "\\item 'B'\n",
       "\\item 'C'\n",
       "\\end{enumerate*}\n"
      ],
      "text/markdown": [
       "1. A\n",
       "2. B\n",
       "3. C\n",
       "\n",
       "\n",
       "\n",
       "**Levels**: 1. 'A'\n",
       "2. 'B'\n",
       "3. 'C'\n",
       "\n",
       "\n"
      ],
      "text/plain": [
       "[1] A B C\n",
       "Levels: A B C"
      ]
     },
     "metadata": {},
     "output_type": "display_data"
    }
   ],
   "source": [
    "#实例1\n",
    "#find unique values in 'team' column\n",
    "unique(df$team)"
   ]
  },
  {
   "cell_type": "code",
   "execution_count": 57,
   "id": "e41475c8",
   "metadata": {},
   "outputs": [
    {
     "data": {
      "text/html": [
       "<ol class=list-inline>\n",
       "\t<li>90</li>\n",
       "\t<li>99</li>\n",
       "\t<li>85</li>\n",
       "</ol>\n"
      ],
      "text/latex": [
       "\\begin{enumerate*}\n",
       "\\item 90\n",
       "\\item 99\n",
       "\\item 85\n",
       "\\end{enumerate*}\n"
      ],
      "text/markdown": [
       "1. 90\n",
       "2. 99\n",
       "3. 85\n",
       "\n",
       "\n"
      ],
      "text/plain": [
       "[1] 90 99 85"
      ]
     },
     "metadata": {},
     "output_type": "display_data"
    }
   ],
   "source": [
    "#find unique values in 'points' column\n",
    "unique(df$points)"
   ]
  },
  {
   "cell_type": "code",
   "execution_count": 58,
   "id": "3ed7fd4e",
   "metadata": {},
   "outputs": [
    {
     "data": {
      "text/html": [
       "<ol class=list-inline>\n",
       "\t<li>85</li>\n",
       "\t<li>90</li>\n",
       "\t<li>99</li>\n",
       "</ol>\n"
      ],
      "text/latex": [
       "\\begin{enumerate*}\n",
       "\\item 85\n",
       "\\item 90\n",
       "\\item 99\n",
       "\\end{enumerate*}\n"
      ],
      "text/markdown": [
       "1. 85\n",
       "2. 90\n",
       "3. 99\n",
       "\n",
       "\n"
      ],
      "text/plain": [
       "[1] 85 90 99"
      ]
     },
     "metadata": {},
     "output_type": "display_data"
    }
   ],
   "source": [
    "#find and sort unique values in 'points' column\n",
    "sort(unique(df$points))"
   ]
  },
  {
   "cell_type": "code",
   "execution_count": 59,
   "id": "214466a7",
   "metadata": {},
   "outputs": [
    {
     "data": {
      "text/html": [
       "<ol class=list-inline>\n",
       "\t<li>99</li>\n",
       "\t<li>90</li>\n",
       "\t<li>85</li>\n",
       "</ol>\n"
      ],
      "text/latex": [
       "\\begin{enumerate*}\n",
       "\\item 99\n",
       "\\item 90\n",
       "\\item 85\n",
       "\\end{enumerate*}\n"
      ],
      "text/markdown": [
       "1. 99\n",
       "2. 90\n",
       "3. 85\n",
       "\n",
       "\n"
      ],
      "text/plain": [
       "[1] 99 90 85"
      ]
     },
     "metadata": {},
     "output_type": "display_data"
    }
   ],
   "source": [
    "#find and sort unique values in 'points' column\n",
    "sort(unique(df$points), decreasing=TRUE)"
   ]
  },
  {
   "cell_type": "code",
   "execution_count": 60,
   "id": "0677ba75",
   "metadata": {},
   "outputs": [
    {
     "data": {
      "text/plain": [
       "\n",
       "85 90 99 \n",
       " 2  3  1 "
      ]
     },
     "metadata": {},
     "output_type": "display_data"
    }
   ],
   "source": [
    "#find and count unique values in 'points' column\n",
    "table(df$points)"
   ]
  },
  {
   "cell_type": "markdown",
   "id": "cce2e73a",
   "metadata": {},
   "source": [
    "‎从输出中我们可以看到：‎\n",
    "\n",
    "‎值 85 出现 ‎‎2‎‎ 次。‎\n",
    "‎值 90 出现 ‎‎3‎‎ 次。‎\n",
    "‎值 99 出现 ‎‎1‎‎ 次。‎"
   ]
  },
  {
   "cell_type": "markdown",
   "id": "62334cc0-edf0-4fb0-9116-f8d5f1055694",
   "metadata": {},
   "source": [
    "## 29.多列找唯一值"
   ]
  },
  {
   "cell_type": "code",
   "execution_count": 1,
   "id": "51ad8bf4-5a71-49a8-8601-929a73ebce95",
   "metadata": {},
   "outputs": [
    {
     "data": {
      "text/html": [
       "<table>\n",
       "<thead><tr><th scope=col>conf</th><th scope=col>pos</th><th scope=col>points</th></tr></thead>\n",
       "<tbody>\n",
       "\t<tr><td>East</td><td>G   </td><td>33  </td></tr>\n",
       "\t<tr><td>East</td><td>G   </td><td>28  </td></tr>\n",
       "\t<tr><td>East</td><td>F   </td><td>31  </td></tr>\n",
       "\t<tr><td>West</td><td>G   </td><td>39  </td></tr>\n",
       "\t<tr><td>West</td><td>F   </td><td>34  </td></tr>\n",
       "\t<tr><td>West</td><td>F   </td><td>40  </td></tr>\n",
       "</tbody>\n",
       "</table>\n"
      ],
      "text/latex": [
       "\\begin{tabular}{r|lll}\n",
       " conf & pos & points\\\\\n",
       "\\hline\n",
       "\t East & G    & 33  \\\\\n",
       "\t East & G    & 28  \\\\\n",
       "\t East & F    & 31  \\\\\n",
       "\t West & G    & 39  \\\\\n",
       "\t West & F    & 34  \\\\\n",
       "\t West & F    & 40  \\\\\n",
       "\\end{tabular}\n"
      ],
      "text/markdown": [
       "\n",
       "| conf | pos | points |\n",
       "|---|---|---|\n",
       "| East | G    | 33   |\n",
       "| East | G    | 28   |\n",
       "| East | F    | 31   |\n",
       "| West | G    | 39   |\n",
       "| West | F    | 34   |\n",
       "| West | F    | 40   |\n",
       "\n"
      ],
      "text/plain": [
       "  conf pos points\n",
       "1 East G   33    \n",
       "2 East G   28    \n",
       "3 East F   31    \n",
       "4 West G   39    \n",
       "5 West F   34    \n",
       "6 West F   40    "
      ]
     },
     "metadata": {},
     "output_type": "display_data"
    }
   ],
   "source": [
    "#create data frame\n",
    "df <- data.frame(conf=c('East', 'East', 'East', 'West', 'West', 'West'),\n",
    "                 pos=c('G', 'G', 'F', 'G', 'F', 'F'),\n",
    "                 points=c(33, 28, 31, 39, 34, 40))\n",
    "\n",
    "#view data frame\n",
    "df"
   ]
  },
  {
   "cell_type": "code",
   "execution_count": 2,
   "id": "b67130b4-de4e-46f6-8b14-aa3f75dfe707",
   "metadata": {},
   "outputs": [
    {
     "data": {
      "text/html": [
       "<table>\n",
       "<thead><tr><th></th><th scope=col>conf</th><th scope=col>pos</th></tr></thead>\n",
       "<tbody>\n",
       "\t<tr><th scope=row>1</th><td>East</td><td>G   </td></tr>\n",
       "\t<tr><th scope=row>3</th><td>East</td><td>F   </td></tr>\n",
       "\t<tr><th scope=row>4</th><td>West</td><td>G   </td></tr>\n",
       "\t<tr><th scope=row>5</th><td>West</td><td>F   </td></tr>\n",
       "</tbody>\n",
       "</table>\n"
      ],
      "text/latex": [
       "\\begin{tabular}{r|ll}\n",
       "  & conf & pos\\\\\n",
       "\\hline\n",
       "\t1 & East & G   \\\\\n",
       "\t3 & East & F   \\\\\n",
       "\t4 & West & G   \\\\\n",
       "\t5 & West & F   \\\\\n",
       "\\end{tabular}\n"
      ],
      "text/markdown": [
       "\n",
       "| <!--/--> | conf | pos |\n",
       "|---|---|---|\n",
       "| 1 | East | G    |\n",
       "| 3 | East | F    |\n",
       "| 4 | West | G    |\n",
       "| 5 | West | F    |\n",
       "\n"
      ],
      "text/plain": [
       "  conf pos\n",
       "1 East G  \n",
       "3 East F  \n",
       "4 West G  \n",
       "5 West F  "
      ]
     },
     "metadata": {},
     "output_type": "display_data"
    }
   ],
   "source": [
    "#方法一\n",
    "df_unique <- unique(df[c('conf', 'pos')])\n",
    "\n",
    "#view results\n",
    "df_unique "
   ]
  },
  {
   "cell_type": "code",
   "execution_count": 3,
   "id": "4e77d7e7-99e8-4790-82df-ff14c951f9fc",
   "metadata": {},
   "outputs": [
    {
     "data": {
      "text/html": [
       "<table>\n",
       "<thead><tr><th></th><th scope=col>conf</th><th scope=col>pos</th><th scope=col>points</th></tr></thead>\n",
       "<tbody>\n",
       "\t<tr><th scope=row>1</th><td>East</td><td>G   </td><td>33  </td></tr>\n",
       "\t<tr><th scope=row>3</th><td>East</td><td>F   </td><td>31  </td></tr>\n",
       "\t<tr><th scope=row>4</th><td>West</td><td>G   </td><td>39  </td></tr>\n",
       "\t<tr><th scope=row>5</th><td>West</td><td>F   </td><td>34  </td></tr>\n",
       "</tbody>\n",
       "</table>\n"
      ],
      "text/latex": [
       "\\begin{tabular}{r|lll}\n",
       "  & conf & pos & points\\\\\n",
       "\\hline\n",
       "\t1 & East & G    & 33  \\\\\n",
       "\t3 & East & F    & 31  \\\\\n",
       "\t4 & West & G    & 39  \\\\\n",
       "\t5 & West & F    & 34  \\\\\n",
       "\\end{tabular}\n"
      ],
      "text/markdown": [
       "\n",
       "| <!--/--> | conf | pos | points |\n",
       "|---|---|---|---|\n",
       "| 1 | East | G    | 33   |\n",
       "| 3 | East | F    | 31   |\n",
       "| 4 | West | G    | 39   |\n",
       "| 5 | West | F    | 34   |\n",
       "\n"
      ],
      "text/plain": [
       "  conf pos points\n",
       "1 East G   33    \n",
       "3 East F   31    \n",
       "4 West G   39    \n",
       "5 West F   34    "
      ]
     },
     "metadata": {},
     "output_type": "display_data"
    }
   ],
   "source": [
    "#方法二\n",
    "#find unique rows across conf and pos columns\n",
    "df_unique <- df[!duplicated(df[c('conf', 'pos')]),]\n",
    "\n",
    "#view results\n",
    "df_unique "
   ]
  },
  {
   "cell_type": "markdown",
   "id": "f91f0175-ecb5-4c62-8c6f-dd0637e4964c",
   "metadata": {},
   "source": [
    "‎请注意，在 ‎‎conf‎‎ 和 ‎‎pos‎‎ 列中仅存在唯一行，并且保留‎‎点‎‎列中的值。‎\n",
    "\n",
    "‎请务必注意，仅保留第一个唯一匹配项的值。‎\n",
    "\n",
    "‎例如，前两列中有两行包含“East”和“G”，但最终数据框中仅保留了此唯一组合首次出现的点值 （33）。‎\n",
    "\n",
    "‎同样，前两列中有两行包含“West”和“F”，但最终数据框中仅保留了首次出现此唯一组合的点值 （34）。‎"
   ]
  },
  {
   "cell_type": "markdown",
   "id": "4350de55-6a14-44fb-8122-95a32a14f472",
   "metadata": {},
   "source": [
    "## 30.COUNTIF "
   ]
  },
  {
   "cell_type": "code",
   "execution_count": 5,
   "id": "ded31662-73b2-4dff-9c73-5e104aecc2b9",
   "metadata": {},
   "outputs": [
    {
     "data": {
      "text/html": [
       "<table>\n",
       "<thead><tr><th scope=col>team</th><th scope=col>points</th><th scope=col>rebounds</th></tr></thead>\n",
       "<tbody>\n",
       "\t<tr><td>Mavs  </td><td>14    </td><td> 8    </td></tr>\n",
       "\t<tr><td>Mavs  </td><td>NA    </td><td> 5    </td></tr>\n",
       "\t<tr><td>Spurs </td><td> 8    </td><td> 5    </td></tr>\n",
       "\t<tr><td>Spurs </td><td>17    </td><td> 9    </td></tr>\n",
       "\t<tr><td>Lakers</td><td>22    </td><td>12    </td></tr>\n",
       "</tbody>\n",
       "</table>\n"
      ],
      "text/latex": [
       "\\begin{tabular}{r|lll}\n",
       " team & points & rebounds\\\\\n",
       "\\hline\n",
       "\t Mavs   & 14     &  8    \\\\\n",
       "\t Mavs   & NA     &  5    \\\\\n",
       "\t Spurs  &  8     &  5    \\\\\n",
       "\t Spurs  & 17     &  9    \\\\\n",
       "\t Lakers & 22     & 12    \\\\\n",
       "\\end{tabular}\n"
      ],
      "text/markdown": [
       "\n",
       "| team | points | rebounds |\n",
       "|---|---|---|\n",
       "| Mavs   | 14     |  8     |\n",
       "| Mavs   | NA     |  5     |\n",
       "| Spurs  |  8     |  5     |\n",
       "| Spurs  | 17     |  9     |\n",
       "| Lakers | 22     | 12     |\n",
       "\n"
      ],
      "text/plain": [
       "  team   points rebounds\n",
       "1 Mavs   14      8      \n",
       "2 Mavs   NA      5      \n",
       "3 Spurs   8      5      \n",
       "4 Spurs  17      9      \n",
       "5 Lakers 22     12      "
      ]
     },
     "metadata": {},
     "output_type": "display_data"
    }
   ],
   "source": [
    "#create data frame\n",
    "data <- data.frame(team=c('Mavs', 'Mavs', 'Spurs', 'Spurs', 'Lakers'),\n",
    "                   points=c(14, NA, 8, 17, 22),\n",
    "                   rebounds=c(8, 5, 5, 9, 12))\n",
    "\n",
    "#view data frame\n",
    "data"
   ]
  },
  {
   "cell_type": "code",
   "execution_count": 6,
   "id": "8575e1ea-6b37-47d6-ad09-beeab52f1ade",
   "metadata": {},
   "outputs": [
    {
     "data": {
      "text/html": [
       "2"
      ],
      "text/latex": [
       "2"
      ],
      "text/markdown": [
       "2"
      ],
      "text/plain": [
       "[1] 2"
      ]
     },
     "metadata": {},
     "output_type": "display_data"
    }
   ],
   "source": [
    "sum(data$team == 'Mavs')"
   ]
  },
  {
   "cell_type": "code",
   "execution_count": 7,
   "id": "a1310132-ee96-4cb7-af4f-591a9ed41bd7",
   "metadata": {},
   "outputs": [
    {
     "data": {
      "text/html": [
       "3"
      ],
      "text/latex": [
       "3"
      ],
      "text/markdown": [
       "3"
      ],
      "text/plain": [
       "[1] 3"
      ]
     },
     "metadata": {},
     "output_type": "display_data"
    }
   ],
   "source": [
    "sum(data$team == 'Mavs' | data$team == 'Lakers')\n"
   ]
  },
  {
   "cell_type": "code",
   "execution_count": 8,
   "id": "20573ce7-2b90-439a-b157-22adebb1d590",
   "metadata": {},
   "outputs": [
    {
     "data": {
      "text/html": [
       "3"
      ],
      "text/latex": [
       "3"
      ],
      "text/markdown": [
       "3"
      ],
      "text/plain": [
       "[1] 3"
      ]
     },
     "metadata": {},
     "output_type": "display_data"
    }
   ],
   "source": [
    "sum(data$points > 10, na.rm=TRUE)"
   ]
  },
  {
   "cell_type": "code",
   "execution_count": 9,
   "id": "60bc13d9-454c-4f0f-a480-ee26e0b77151",
   "metadata": {},
   "outputs": [
    {
     "data": {
      "text/html": [
       "4"
      ],
      "text/latex": [
       "4"
      ],
      "text/markdown": [
       "4"
      ],
      "text/plain": [
       "[1] 4"
      ]
     },
     "metadata": {},
     "output_type": "display_data"
    }
   ],
   "source": [
    "sum(data$rebounds <= 9, na.rm=TRUE)"
   ]
  },
  {
   "cell_type": "code",
   "execution_count": 10,
   "id": "5b29089d-605d-4654-8eed-b564aba7d570",
   "metadata": {},
   "outputs": [
    {
     "data": {
      "text/html": [
       "2"
      ],
      "text/latex": [
       "2"
      ],
      "text/markdown": [
       "2"
      ],
      "text/plain": [
       "[1] 2"
      ]
     },
     "metadata": {},
     "output_type": "display_data"
    }
   ],
   "source": [
    "sum(data$points > 10 & data$points < 20, na.rm=TRUE)"
   ]
  },
  {
   "cell_type": "code",
   "execution_count": 11,
   "id": "5fd08fea-4e2e-4541-b2fc-dbe559dd350b",
   "metadata": {},
   "outputs": [
    {
     "data": {
      "text/html": [
       "1"
      ],
      "text/latex": [
       "1"
      ],
      "text/markdown": [
       "1"
      ],
      "text/plain": [
       "[1] 1"
      ]
     },
     "metadata": {},
     "output_type": "display_data"
    }
   ],
   "source": [
    "sum(data$rebounds > 8 & data$rebounds < 10, na.rm=TRUE)\n"
   ]
  },
  {
   "cell_type": "markdown",
   "id": "63b99c59-d109-4de4-9f2f-e3e2e2e3c74f",
   "metadata": {},
   "source": [
    "## 31. SUMIF"
   ]
  },
  {
   "cell_type": "code",
   "execution_count": 14,
   "id": "6e3f6eee-a9eb-412c-9a90-333c5540ad3d",
   "metadata": {},
   "outputs": [
    {
     "data": {
      "text/html": [
       "<table>\n",
       "<thead><tr><th scope=col>team</th><th scope=col>pts</th><th scope=col>rebs</th><th scope=col>blocks</th></tr></thead>\n",
       "<tbody>\n",
       "\t<tr><td>a </td><td> 5</td><td>8 </td><td>1 </td></tr>\n",
       "\t<tr><td>a </td><td> 8</td><td>8 </td><td>2 </td></tr>\n",
       "\t<tr><td>b </td><td>14</td><td>9 </td><td>2 </td></tr>\n",
       "\t<tr><td>b </td><td>18</td><td>3 </td><td>1 </td></tr>\n",
       "\t<tr><td>b </td><td> 5</td><td>8 </td><td>0 </td></tr>\n",
       "\t<tr><td>c </td><td> 7</td><td>7 </td><td>4 </td></tr>\n",
       "\t<tr><td>c </td><td> 7</td><td>4 </td><td>1 </td></tr>\n",
       "</tbody>\n",
       "</table>\n"
      ],
      "text/latex": [
       "\\begin{tabular}{r|llll}\n",
       " team & pts & rebs & blocks\\\\\n",
       "\\hline\n",
       "\t a  &  5 & 8  & 1 \\\\\n",
       "\t a  &  8 & 8  & 2 \\\\\n",
       "\t b  & 14 & 9  & 2 \\\\\n",
       "\t b  & 18 & 3  & 1 \\\\\n",
       "\t b  &  5 & 8  & 0 \\\\\n",
       "\t c  &  7 & 7  & 4 \\\\\n",
       "\t c  &  7 & 4  & 1 \\\\\n",
       "\\end{tabular}\n"
      ],
      "text/markdown": [
       "\n",
       "| team | pts | rebs | blocks |\n",
       "|---|---|---|---|\n",
       "| a  |  5 | 8  | 1  |\n",
       "| a  |  8 | 8  | 2  |\n",
       "| b  | 14 | 9  | 2  |\n",
       "| b  | 18 | 3  | 1  |\n",
       "| b  |  5 | 8  | 0  |\n",
       "| c  |  7 | 7  | 4  |\n",
       "| c  |  7 | 4  | 1  |\n",
       "\n"
      ],
      "text/plain": [
       "  team pts rebs blocks\n",
       "1 a     5  8    1     \n",
       "2 a     8  8    2     \n",
       "3 b    14  9    2     \n",
       "4 b    18  3    1     \n",
       "5 b     5  8    0     \n",
       "6 c     7  7    4     \n",
       "7 c     7  4    1     "
      ]
     },
     "metadata": {},
     "output_type": "display_data"
    }
   ],
   "source": [
    "#create data frame\n",
    "df <- data.frame(team=c('a', 'a', 'b', 'b', 'b', 'c', 'c'),\n",
    "                 pts=c(5, 8, 14, 18, 5, 7, 7),\n",
    "                 rebs=c(8, 8, 9, 3, 8, 7, 4),\n",
    "                 blocks=c(1, 2, 2, 1, 0, 4, 1))\n",
    "\n",
    "#view data frame\n",
    "df"
   ]
  },
  {
   "cell_type": "code",
   "execution_count": 15,
   "id": "b2834c56-8da0-49b2-91be-9ab2d2cc9310",
   "metadata": {},
   "outputs": [
    {
     "data": {
      "text/html": [
       "<table>\n",
       "<thead><tr><th scope=col>team</th><th scope=col>pts</th></tr></thead>\n",
       "<tbody>\n",
       "\t<tr><td>a </td><td>13</td></tr>\n",
       "\t<tr><td>b </td><td>37</td></tr>\n",
       "\t<tr><td>c </td><td>14</td></tr>\n",
       "</tbody>\n",
       "</table>\n"
      ],
      "text/latex": [
       "\\begin{tabular}{r|ll}\n",
       " team & pts\\\\\n",
       "\\hline\n",
       "\t a  & 13\\\\\n",
       "\t b  & 37\\\\\n",
       "\t c  & 14\\\\\n",
       "\\end{tabular}\n"
      ],
      "text/markdown": [
       "\n",
       "| team | pts |\n",
       "|---|---|\n",
       "| a  | 13 |\n",
       "| b  | 37 |\n",
       "| c  | 14 |\n",
       "\n"
      ],
      "text/plain": [
       "  team pts\n",
       "1 a    13 \n",
       "2 b    37 \n",
       "3 c    14 "
      ]
     },
     "metadata": {},
     "output_type": "display_data"
    }
   ],
   "source": [
    "aggregate(pts ~ team, data=df, sum)\n"
   ]
  },
  {
   "cell_type": "code",
   "execution_count": 16,
   "id": "a1c3a4d0-614e-44ea-b430-3d58ac23f844",
   "metadata": {},
   "outputs": [
    {
     "data": {
      "text/html": [
       "<table>\n",
       "<thead><tr><th scope=col>team</th><th scope=col>pts</th><th scope=col>rebs</th></tr></thead>\n",
       "<tbody>\n",
       "\t<tr><td>a </td><td>13</td><td>16</td></tr>\n",
       "\t<tr><td>b </td><td>37</td><td>20</td></tr>\n",
       "\t<tr><td>c </td><td>14</td><td>11</td></tr>\n",
       "</tbody>\n",
       "</table>\n"
      ],
      "text/latex": [
       "\\begin{tabular}{r|lll}\n",
       " team & pts & rebs\\\\\n",
       "\\hline\n",
       "\t a  & 13 & 16\\\\\n",
       "\t b  & 37 & 20\\\\\n",
       "\t c  & 14 & 11\\\\\n",
       "\\end{tabular}\n"
      ],
      "text/markdown": [
       "\n",
       "| team | pts | rebs |\n",
       "|---|---|---|\n",
       "| a  | 13 | 16 |\n",
       "| b  | 37 | 20 |\n",
       "| c  | 14 | 11 |\n",
       "\n"
      ],
      "text/plain": [
       "  team pts rebs\n",
       "1 a    13  16  \n",
       "2 b    37  20  \n",
       "3 c    14  11  "
      ]
     },
     "metadata": {},
     "output_type": "display_data"
    }
   ],
   "source": [
    "aggregate(cbind(pts, rebs) ~ team, data=df, sum)"
   ]
  },
  {
   "cell_type": "code",
   "execution_count": 17,
   "id": "64210ce7-8d65-4e2b-b88d-50fbb7c5bff3",
   "metadata": {},
   "outputs": [
    {
     "data": {
      "text/html": [
       "<table>\n",
       "<thead><tr><th scope=col>team</th><th scope=col>pts</th><th scope=col>rebs</th><th scope=col>blocks</th></tr></thead>\n",
       "<tbody>\n",
       "\t<tr><td>a </td><td>13</td><td>16</td><td>3 </td></tr>\n",
       "\t<tr><td>b </td><td>37</td><td>20</td><td>3 </td></tr>\n",
       "\t<tr><td>c </td><td>14</td><td>11</td><td>5 </td></tr>\n",
       "</tbody>\n",
       "</table>\n"
      ],
      "text/latex": [
       "\\begin{tabular}{r|llll}\n",
       " team & pts & rebs & blocks\\\\\n",
       "\\hline\n",
       "\t a  & 13 & 16 & 3 \\\\\n",
       "\t b  & 37 & 20 & 3 \\\\\n",
       "\t c  & 14 & 11 & 5 \\\\\n",
       "\\end{tabular}\n"
      ],
      "text/markdown": [
       "\n",
       "| team | pts | rebs | blocks |\n",
       "|---|---|---|---|\n",
       "| a  | 13 | 16 | 3  |\n",
       "| b  | 37 | 20 | 3  |\n",
       "| c  | 14 | 11 | 5  |\n",
       "\n"
      ],
      "text/plain": [
       "  team pts rebs blocks\n",
       "1 a    13  16   3     \n",
       "2 b    37  20   3     \n",
       "3 c    14  11   5     "
      ]
     },
     "metadata": {},
     "output_type": "display_data"
    }
   ],
   "source": [
    "aggregate(. ~ team, data=df, sum)\n"
   ]
  },
  {
   "cell_type": "markdown",
   "id": "447e38a3-0696-46c1-96dd-1ef6deed98c4",
   "metadata": {},
   "source": [
    "## 32.使用 paste & paste0 函数来连接字符串‎"
   ]
  },
  {
   "cell_type": "markdown",
   "id": "eb36bf72-a8d5-462c-9ecd-e4ba1717e498",
   "metadata": {},
   "source": [
    "‎paste（）‎‎ 函数使用‎‎空格‎‎作为默认分隔符来连接字符串。‎\n",
    "\n",
    "‎paste0（）‎‎ 函数连接字符串，‎‎不使用空格‎‎作为默认分隔符。‎"
   ]
  },
  {
   "cell_type": "code",
   "execution_count": 18,
   "id": "a0ef0eda-2494-4a8d-afee-18e25d232748",
   "metadata": {},
   "outputs": [
    {
     "data": {
      "text/html": [
       "'Iridemybike25times'"
      ],
      "text/latex": [
       "'Iridemybike25times'"
      ],
      "text/markdown": [
       "'Iridemybike25times'"
      ],
      "text/plain": [
       "[1] \"Iridemybike25times\""
      ]
     },
     "metadata": {},
     "output_type": "display_data"
    }
   ],
   "source": [
    "#concatenate several elements into one string\n",
    "paste0(\"I\", \"ride\", \"my\", \"bike\", 25, \"times\")"
   ]
  },
  {
   "cell_type": "code",
   "execution_count": 19,
   "id": "5ee3a006-d242-451c-b033-40986e0ecca7",
   "metadata": {},
   "outputs": [
    {
     "data": {
      "text/html": [
       "'I ride my bike 25 times'"
      ],
      "text/latex": [
       "'I ride my bike 25 times'"
      ],
      "text/markdown": [
       "'I ride my bike 25 times'"
      ],
      "text/plain": [
       "[1] \"I ride my bike 25 times\""
      ]
     },
     "metadata": {},
     "output_type": "display_data"
    }
   ],
   "source": [
    "#concatenate several elements into one string\n",
    "paste(\"I\", \"ride\", \"my\", \"bike\", 25, \"times\")"
   ]
  },
  {
   "cell_type": "code",
   "execution_count": 20,
   "id": "10b12796-bc80-4d57-8f73-adc872e7245f",
   "metadata": {},
   "outputs": [
    {
     "data": {
      "text/html": [
       "'I_ride_my_bike_25_times'"
      ],
      "text/latex": [
       "'I\\_ride\\_my\\_bike\\_25\\_times'"
      ],
      "text/markdown": [
       "'I_ride_my_bike_25_times'"
      ],
      "text/plain": [
       "[1] \"I_ride_my_bike_25_times\""
      ]
     },
     "metadata": {},
     "output_type": "display_data"
    }
   ],
   "source": [
    "#concatenate elements using _ as separator\n",
    "paste(\"I\", \"ride\", \"my\", \"bike\", 25, \"times\", sep=\"_\")"
   ]
  },
  {
   "cell_type": "code",
   "execution_count": 21,
   "id": "ebaaa3d2-e982-4d78-953c-bfe399a35ba3",
   "metadata": {},
   "outputs": [
    {
     "data": {
      "text/html": [
       "'A_1 and B_2 and C_3'"
      ],
      "text/latex": [
       "'A\\_1 and B\\_2 and C\\_3'"
      ],
      "text/markdown": [
       "'A_1 and B_2 and C_3'"
      ],
      "text/plain": [
       "[1] \"A_1 and B_2 and C_3\""
      ]
     },
     "metadata": {},
     "output_type": "display_data"
    }
   ],
   "source": [
    "#concatenate elements using sep and collapse arguments\n",
    "paste(c(\"A\", \"B\", \"C\"), c(1, 2, 3), sep=\"_\", collapse=\" and \")"
   ]
  },
  {
   "cell_type": "markdown",
   "id": "1b086aa6-cde6-443f-9eaa-d728d1f6580a",
   "metadata": {},
   "source": [
    "## 33.do.call "
   ]
  },
  {
   "cell_type": "markdown",
   "id": "8c523f4f-fc6e-4178-89ed-30332e36b8bf",
   "metadata": {},
   "source": [
    "可以使用 R 中的 ‎‎do.call（）‎‎ 将给定函数作为一个整体应用于list。‎"
   ]
  },
  {
   "cell_type": "code",
   "execution_count": 22,
   "id": "f18b77f5-78a8-4135-8551-48810c6eab4a",
   "metadata": {},
   "outputs": [
    {
     "data": {
      "text/html": [
       "48"
      ],
      "text/latex": [
       "48"
      ],
      "text/markdown": [
       "48"
      ],
      "text/plain": [
       "[1] 48"
      ]
     },
     "metadata": {},
     "output_type": "display_data"
    }
   ],
   "source": [
    "#create list\n",
    "values_list <- list(A=c(1, 2, 3), B=c(7, 5, 10), C=c(9, 9, 2))\n",
    "\n",
    "#calculate sum of values in list\n",
    "do.call(sum, values_list)"
   ]
  },
  {
   "cell_type": "code",
   "execution_count": 23,
   "id": "31c81674-b2bb-4f72-ae3e-4b39956cfebc",
   "metadata": {},
   "outputs": [
    {
     "ename": "ERROR",
     "evalue": "Error in sum(values_list): 'type'(list)参数不对\n",
     "output_type": "error",
     "traceback": [
      "Error in sum(values_list): 'type'(list)参数不对\nTraceback:\n"
     ]
    }
   ],
   "source": [
    "#create list\n",
    "values_list <- list(A=c(1, 2, 3), B=c(7, 5, 10), C=c(9, 9, 2))\n",
    "\n",
    "#attempt to sum values in list\n",
    "sum(values_list)"
   ]
  },
  {
   "cell_type": "code",
   "execution_count": 24,
   "id": "c6fe4104-2724-4df8-8324-b42bdefaef3e",
   "metadata": {},
   "outputs": [
    {
     "data": {
      "text/html": [
       "10.5"
      ],
      "text/latex": [
       "10.5"
      ],
      "text/markdown": [
       "10.5"
      ],
      "text/plain": [
       "[1] 10.5"
      ]
     },
     "metadata": {},
     "output_type": "display_data"
    }
   ],
   "source": [
    "#define argument to use in do.call\n",
    "args <- list(1:20, na.rm=TRUE)\n",
    "\n",
    "#calculate mean of values in list\n",
    "do.call(mean, args)"
   ]
  },
  {
   "cell_type": "code",
   "execution_count": 25,
   "id": "1d55c821-09c0-4a3f-b65b-d494b41be52c",
   "metadata": {},
   "outputs": [
    {
     "name": "stderr",
     "output_type": "stream",
     "text": [
      "Warning message in mean.default(list(1:20), na.rm = TRUE):\n",
      "\"argument is not numeric or logical: returning NA\""
     ]
    },
    {
     "data": {
      "text/html": [
       "&lt;NA&gt;"
      ],
      "text/latex": [
       "<NA>"
      ],
      "text/markdown": [
       "&lt;NA&gt;"
      ],
      "text/plain": [
       "[1] NA"
      ]
     },
     "metadata": {},
     "output_type": "display_data"
    }
   ],
   "source": [
    "#attempt to calculate mean of values in list\n",
    "mean(list(1:20), na.rm=TRUE)"
   ]
  },
  {
   "cell_type": "code",
   "execution_count": 26,
   "id": "232e20b1-3a16-43ee-90ab-80b1e424e214",
   "metadata": {},
   "outputs": [
    {
     "data": {
      "text/html": [
       "<table>\n",
       "<thead><tr><th scope=col>team</th><th scope=col>points</th></tr></thead>\n",
       "<tbody>\n",
       "\t<tr><td>A </td><td>22</td></tr>\n",
       "\t<tr><td>B </td><td>27</td></tr>\n",
       "\t<tr><td>C </td><td>38</td></tr>\n",
       "\t<tr><td>D </td><td>22</td></tr>\n",
       "\t<tr><td>E </td><td>14</td></tr>\n",
       "\t<tr><td>F </td><td>20</td></tr>\n",
       "\t<tr><td>G </td><td>11</td></tr>\n",
       "\t<tr><td>H </td><td>15</td></tr>\n",
       "\t<tr><td>I </td><td>18</td></tr>\n",
       "</tbody>\n",
       "</table>\n"
      ],
      "text/latex": [
       "\\begin{tabular}{r|ll}\n",
       " team & points\\\\\n",
       "\\hline\n",
       "\t A  & 22\\\\\n",
       "\t B  & 27\\\\\n",
       "\t C  & 38\\\\\n",
       "\t D  & 22\\\\\n",
       "\t E  & 14\\\\\n",
       "\t F  & 20\\\\\n",
       "\t G  & 11\\\\\n",
       "\t H  & 15\\\\\n",
       "\t I  & 18\\\\\n",
       "\\end{tabular}\n"
      ],
      "text/markdown": [
       "\n",
       "| team | points |\n",
       "|---|---|\n",
       "| A  | 22 |\n",
       "| B  | 27 |\n",
       "| C  | 38 |\n",
       "| D  | 22 |\n",
       "| E  | 14 |\n",
       "| F  | 20 |\n",
       "| G  | 11 |\n",
       "| H  | 15 |\n",
       "| I  | 18 |\n",
       "\n"
      ],
      "text/plain": [
       "  team points\n",
       "1 A    22    \n",
       "2 B    27    \n",
       "3 C    38    \n",
       "4 D    22    \n",
       "5 E    14    \n",
       "6 F    20    \n",
       "7 G    11    \n",
       "8 H    15    \n",
       "9 I    18    "
      ]
     },
     "metadata": {},
     "output_type": "display_data"
    }
   ],
   "source": [
    "#create three data frames\n",
    "df1 <- data.frame(team=c('A', 'B', 'C'),\n",
    "                  points=c(22, 27, 38))\n",
    "\n",
    "df2 <- data.frame(team=c('D', 'E', 'F'),\n",
    "                  points=c(22, 14, 20))\n",
    "\n",
    "df3 <- data.frame(team=c('G', 'H', 'I'),\n",
    "                  points=c(11, 15, 18))\n",
    "\n",
    "#place three data frames into list\n",
    "df_list <- list(df1, df2, df3)\n",
    "\n",
    "#row bind together all three data frames\n",
    "do.call(rbind, df_list)"
   ]
  },
  {
   "cell_type": "markdown",
   "id": "1180c992-286c-4c9a-a9c9-ae64327f5ee1",
   "metadata": {},
   "source": [
    "‎结果是一个数据框，其中包含三个数据框中每个数据框中的行。‎\n",
    "\n",
    "‎请注意，如果我们尝试将 ‎‎rbind（）‎‎ 直接与列表一起使用，则不会收到所需的数据帧：‎"
   ]
  },
  {
   "cell_type": "code",
   "execution_count": 27,
   "id": "e0dff0cb-6b12-4057-87c9-91a8e25f6dda",
   "metadata": {},
   "outputs": [
    {
     "data": {
      "text/html": [
       "<table>\n",
       "<tbody>\n",
       "\t<tr><th scope=row>df_list</th><td>1, 2, 3, 22, 27, 38</td><td>1, 2, 3, 22, 14, 20</td><td>1, 2, 3, 11, 15, 18</td></tr>\n",
       "</tbody>\n",
       "</table>\n"
      ],
      "text/latex": [
       "\\begin{tabular}{r|lll}\n",
       "\tdf\\_list & 1, 2, 3, 22, 27, 38 & 1, 2, 3, 22, 14, 20 & 1, 2, 3, 11, 15, 18\\\\\n",
       "\\end{tabular}\n"
      ],
      "text/markdown": [
       "\n",
       "| df_list | 1, 2, 3, 22, 27, 38 | 1, 2, 3, 22, 14, 20 | 1, 2, 3, 11, 15, 18 |\n",
       "\n"
      ],
      "text/plain": [
       "        [,1]                [,2]                [,3]               \n",
       "df_list 1, 2, 3, 22, 27, 38 1, 2, 3, 22, 14, 20 1, 2, 3, 11, 15, 18"
      ]
     },
     "metadata": {},
     "output_type": "display_data"
    }
   ],
   "source": [
    "#create three data frames\n",
    "df1 <- data.frame(team=c('A', 'B', 'C'),\n",
    "                  points=c(22, 27, 38))\n",
    "\n",
    "df2 <- data.frame(team=c('D', 'E', 'F'),\n",
    "                  points=c(22, 14, 20))\n",
    "\n",
    "df3 <- data.frame(team=c('G', 'H', 'I'),\n",
    "                  points=c(11, 15, 18))\n",
    "\n",
    "#place three data frames into list\n",
    "df_list <- list(df1, df2, df3)\n",
    "\n",
    "#attmempt to row bind together all three data frames\n",
    "rbind(df_list)"
   ]
  },
  {
   "cell_type": "markdown",
   "id": "09473f30-e232-4589-a76a-b1b020d72258",
   "metadata": {},
   "source": [
    "## 34. unlist()"
   ]
  },
  {
   "cell_type": "markdown",
   "id": "af0ddf1f-d901-4449-95bd-9cd0708b9379",
   "metadata": {},
   "source": [
    "### 示例 1：使用 unlist（） 将列表转换为向"
   ]
  },
  {
   "cell_type": "code",
   "execution_count": 28,
   "id": "7d8c6741-eb2c-4250-bb88-1a81443bf02a",
   "metadata": {},
   "outputs": [
    {
     "data": {
      "text/html": [
       "<dl>\n",
       "\t<dt>$A</dt>\n",
       "\t\t<dd><ol class=list-inline>\n",
       "\t<li>1</li>\n",
       "\t<li>2</li>\n",
       "\t<li>3</li>\n",
       "</ol>\n",
       "</dd>\n",
       "\t<dt>$B</dt>\n",
       "\t\t<dd><ol class=list-inline>\n",
       "\t<li>4</li>\n",
       "\t<li>5</li>\n",
       "</ol>\n",
       "</dd>\n",
       "\t<dt>$C</dt>\n",
       "\t\t<dd>6</dd>\n",
       "</dl>\n"
      ],
      "text/latex": [
       "\\begin{description}\n",
       "\\item[\\$A] \\begin{enumerate*}\n",
       "\\item 1\n",
       "\\item 2\n",
       "\\item 3\n",
       "\\end{enumerate*}\n",
       "\n",
       "\\item[\\$B] \\begin{enumerate*}\n",
       "\\item 4\n",
       "\\item 5\n",
       "\\end{enumerate*}\n",
       "\n",
       "\\item[\\$C] 6\n",
       "\\end{description}\n"
      ],
      "text/markdown": [
       "$A\n",
       ":   1. 1\n",
       "2. 2\n",
       "3. 3\n",
       "\n",
       "\n",
       "\n",
       "$B\n",
       ":   1. 4\n",
       "2. 5\n",
       "\n",
       "\n",
       "\n",
       "$C\n",
       ":   6\n",
       "\n",
       "\n"
      ],
      "text/plain": [
       "$A\n",
       "[1] 1 2 3\n",
       "\n",
       "$B\n",
       "[1] 4 5\n",
       "\n",
       "$C\n",
       "[1] 6\n"
      ]
     },
     "metadata": {},
     "output_type": "display_data"
    }
   ],
   "source": [
    "#create list\n",
    "my_list <- list(A = c(1, 2, 3),\n",
    "                B = c(4, 5),\n",
    "                C = 6)\n",
    "\n",
    "#display list\n",
    "my_list"
   ]
  },
  {
   "cell_type": "code",
   "execution_count": 29,
   "id": "212d89b5-ba81-4fc4-a241-3fb1beef74ba",
   "metadata": {},
   "outputs": [
    {
     "data": {
      "text/html": [
       "<dl class=dl-horizontal>\n",
       "\t<dt>A1</dt>\n",
       "\t\t<dd>1</dd>\n",
       "\t<dt>A2</dt>\n",
       "\t\t<dd>2</dd>\n",
       "\t<dt>A3</dt>\n",
       "\t\t<dd>3</dd>\n",
       "\t<dt>B1</dt>\n",
       "\t\t<dd>4</dd>\n",
       "\t<dt>B2</dt>\n",
       "\t\t<dd>5</dd>\n",
       "\t<dt>C</dt>\n",
       "\t\t<dd>6</dd>\n",
       "</dl>\n"
      ],
      "text/latex": [
       "\\begin{description*}\n",
       "\\item[A1] 1\n",
       "\\item[A2] 2\n",
       "\\item[A3] 3\n",
       "\\item[B1] 4\n",
       "\\item[B2] 5\n",
       "\\item[C] 6\n",
       "\\end{description*}\n"
      ],
      "text/markdown": [
       "A1\n",
       ":   1A2\n",
       ":   2A3\n",
       ":   3B1\n",
       ":   4B2\n",
       ":   5C\n",
       ":   6\n",
       "\n"
      ],
      "text/plain": [
       "A1 A2 A3 B1 B2  C \n",
       " 1  2  3  4  5  6 "
      ]
     },
     "metadata": {},
     "output_type": "display_data"
    }
   ],
   "source": [
    "#convert list to vector\n",
    "new_vector <- unlist(my_list)\n",
    "\n",
    "#display vector\n",
    "new_vector"
   ]
  },
  {
   "cell_type": "code",
   "execution_count": 30,
   "id": "986af7d9-89c3-42a6-8f89-f50d5c35ffbe",
   "metadata": {},
   "outputs": [
    {
     "data": {
      "text/html": [
       "<ol class=list-inline>\n",
       "\t<li>1</li>\n",
       "\t<li>2</li>\n",
       "\t<li>3</li>\n",
       "\t<li>4</li>\n",
       "\t<li>5</li>\n",
       "\t<li>6</li>\n",
       "</ol>\n"
      ],
      "text/latex": [
       "\\begin{enumerate*}\n",
       "\\item 1\n",
       "\\item 2\n",
       "\\item 3\n",
       "\\item 4\n",
       "\\item 5\n",
       "\\item 6\n",
       "\\end{enumerate*}\n"
      ],
      "text/markdown": [
       "1. 1\n",
       "2. 2\n",
       "3. 3\n",
       "4. 4\n",
       "5. 5\n",
       "6. 6\n",
       "\n",
       "\n"
      ],
      "text/plain": [
       "[1] 1 2 3 4 5 6"
      ]
     },
     "metadata": {},
     "output_type": "display_data"
    }
   ],
   "source": [
    "#convert list to vector\n",
    "new_vector <- unlist(my_list, use.names = FALSE)\n",
    "\n",
    "#display vector\n",
    "new_vector"
   ]
  },
  {
   "cell_type": "markdown",
   "id": "346d69c7-2829-44ee-adca-a01086522b1a",
   "metadata": {},
   "source": [
    "### 示例 2：使用 unlist（） 将列表转换为矩阵‎"
   ]
  },
  {
   "cell_type": "code",
   "execution_count": 31,
   "id": "eff9e631-e146-490b-8de4-fc799794fbb5",
   "metadata": {},
   "outputs": [
    {
     "data": {
      "text/html": [
       "<table>\n",
       "<tbody>\n",
       "\t<tr><td> 1</td><td> 2</td><td> 3</td></tr>\n",
       "\t<tr><td> 4</td><td> 5</td><td> 6</td></tr>\n",
       "\t<tr><td> 7</td><td> 8</td><td> 9</td></tr>\n",
       "\t<tr><td>10</td><td>11</td><td>12</td></tr>\n",
       "\t<tr><td>13</td><td>14</td><td>15</td></tr>\n",
       "</tbody>\n",
       "</table>\n"
      ],
      "text/latex": [
       "\\begin{tabular}{lll}\n",
       "\t  1 &  2 &  3\\\\\n",
       "\t  4 &  5 &  6\\\\\n",
       "\t  7 &  8 &  9\\\\\n",
       "\t 10 & 11 & 12\\\\\n",
       "\t 13 & 14 & 15\\\\\n",
       "\\end{tabular}\n"
      ],
      "text/markdown": [
       "\n",
       "|  1 |  2 |  3 |\n",
       "|  4 |  5 |  6 |\n",
       "|  7 |  8 |  9 |\n",
       "| 10 | 11 | 12 |\n",
       "| 13 | 14 | 15 |\n",
       "\n"
      ],
      "text/plain": [
       "     [,1] [,2] [,3]\n",
       "[1,]  1    2    3  \n",
       "[2,]  4    5    6  \n",
       "[3,]  7    8    9  \n",
       "[4,] 10   11   12  \n",
       "[5,] 13   14   15  "
      ]
     },
     "metadata": {},
     "output_type": "display_data"
    }
   ],
   "source": [
    "#create list\n",
    "my_list <- list(1:3, 4:6, 7:9, 10:12, 13:15)\n",
    "\n",
    "#convert list to matrix\n",
    "matrix(unlist(my_list), ncol=3, byrow=TRUE)"
   ]
  },
  {
   "cell_type": "markdown",
   "id": "4a8e1d27-0e48-4812-aede-090edbb32627",
   "metadata": {},
   "source": [
    "### ‎示例 3：使用 unlist（） 对 List 中的值进行排序‎"
   ]
  },
  {
   "cell_type": "code",
   "execution_count": 32,
   "id": "cf20740e-1ae7-42ad-973b-8dbd31c2025e",
   "metadata": {},
   "outputs": [
    {
     "data": {
      "text/html": [
       "<ol>\n",
       "\t<li><ol class=list-inline>\n",
       "\t<li>4</li>\n",
       "\t<li>3</li>\n",
       "\t<li>7</li>\n",
       "</ol>\n",
       "</li>\n",
       "\t<li>2</li>\n",
       "\t<li><ol class=list-inline>\n",
       "\t<li>5</li>\n",
       "\t<li>12</li>\n",
       "\t<li>19</li>\n",
       "</ol>\n",
       "</li>\n",
       "</ol>\n"
      ],
      "text/latex": [
       "\\begin{enumerate}\n",
       "\\item \\begin{enumerate*}\n",
       "\\item 4\n",
       "\\item 3\n",
       "\\item 7\n",
       "\\end{enumerate*}\n",
       "\n",
       "\\item 2\n",
       "\\item \\begin{enumerate*}\n",
       "\\item 5\n",
       "\\item 12\n",
       "\\item 19\n",
       "\\end{enumerate*}\n",
       "\n",
       "\\end{enumerate}\n"
      ],
      "text/markdown": [
       "1. 1. 4\n",
       "2. 3\n",
       "3. 7\n",
       "\n",
       "\n",
       "\n",
       "2. 2\n",
       "3. 1. 5\n",
       "2. 12\n",
       "3. 19\n",
       "\n",
       "\n",
       "\n",
       "\n",
       "\n"
      ],
      "text/plain": [
       "[[1]]\n",
       "[1] 4 3 7\n",
       "\n",
       "[[2]]\n",
       "[1] 2\n",
       "\n",
       "[[3]]\n",
       "[1]  5 12 19\n"
      ]
     },
     "metadata": {},
     "output_type": "display_data"
    }
   ],
   "source": [
    "#create list\n",
    "some_list <- list(c(4, 3, 7), 2, c(5, 12, 19)) \n",
    "\n",
    "#view list\n",
    "some_list"
   ]
  },
  {
   "cell_type": "code",
   "execution_count": 33,
   "id": "e54d01ff-a1ad-4325-94db-b30c5511eff4",
   "metadata": {},
   "outputs": [
    {
     "ename": "ERROR",
     "evalue": "Error in sort.int(x, na.last = na.last, decreasing = decreasing, ...): 'x' must be atomic\n",
     "output_type": "error",
     "traceback": [
      "Error in sort.int(x, na.last = na.last, decreasing = decreasing, ...): 'x' must be atomic\nTraceback:\n",
      "1. sort(some_list)",
      "2. sort.default(some_list)",
      "3. sort.int(x, na.last = na.last, decreasing = decreasing, ...)",
      "4. stop(\"'x' must be atomic\")"
     ]
    }
   ],
   "source": [
    "#attempt to sort the values in the list\n",
    "sort(some_list)"
   ]
  },
  {
   "cell_type": "code",
   "execution_count": 34,
   "id": "07f288dd-b19a-46f7-a9ef-85f60d69eaa8",
   "metadata": {},
   "outputs": [
    {
     "data": {
      "text/html": [
       "<ol class=list-inline>\n",
       "\t<li>2</li>\n",
       "\t<li>3</li>\n",
       "\t<li>4</li>\n",
       "\t<li>5</li>\n",
       "\t<li>7</li>\n",
       "\t<li>12</li>\n",
       "\t<li>19</li>\n",
       "</ol>\n"
      ],
      "text/latex": [
       "\\begin{enumerate*}\n",
       "\\item 2\n",
       "\\item 3\n",
       "\\item 4\n",
       "\\item 5\n",
       "\\item 7\n",
       "\\item 12\n",
       "\\item 19\n",
       "\\end{enumerate*}\n"
      ],
      "text/markdown": [
       "1. 2\n",
       "2. 3\n",
       "3. 4\n",
       "4. 5\n",
       "5. 7\n",
       "6. 12\n",
       "7. 19\n",
       "\n",
       "\n"
      ],
      "text/plain": [
       "[1]  2  3  4  5  7 12 19"
      ]
     },
     "metadata": {},
     "output_type": "display_data"
    }
   ],
   "source": [
    "#sort values in list\n",
    "sort(unlist(some_list))"
   ]
  },
  {
   "cell_type": "markdown",
   "id": "e5522139-7ba1-49c9-89d4-ee846146e6d7",
   "metadata": {},
   "source": [
    "## 35.  length()"
   ]
  },
  {
   "cell_type": "code",
   "execution_count": 35,
   "id": "7547e7e7-618a-442d-bf7f-b67c33e6ea39",
   "metadata": {},
   "outputs": [
    {
     "data": {
      "text/html": [
       "11"
      ],
      "text/latex": [
       "11"
      ],
      "text/markdown": [
       "11"
      ],
      "text/plain": [
       "[1] 11"
      ]
     },
     "metadata": {},
     "output_type": "display_data"
    }
   ],
   "source": [
    "#create vector\n",
    "my_vector <- c(2, 7, 6, 6, 9, 10, 14, 13, 4, 20, NA)\n",
    "\n",
    "#calculate length of vector\n",
    "length(my_vector)"
   ]
  },
  {
   "cell_type": "code",
   "execution_count": 36,
   "id": "29ef396b-0750-4246-9cf8-99f35275330d",
   "metadata": {},
   "outputs": [
    {
     "data": {
      "text/html": [
       "10"
      ],
      "text/latex": [
       "10"
      ],
      "text/markdown": [
       "10"
      ],
      "text/plain": [
       "[1] 10"
      ]
     },
     "metadata": {},
     "output_type": "display_data"
    }
   ],
   "source": [
    "#create vector\n",
    "my_vector <- c(2, 7, 6, 6, 9, 10, 14, 13, 4, 20, NA)\n",
    "\n",
    "#calculate length of vector, excluding NA values\n",
    "sum(!is.na(my_vector))"
   ]
  },
  {
   "cell_type": "code",
   "execution_count": 37,
   "id": "3ab722af-b285-437a-b388-f05779a4dbae",
   "metadata": {},
   "outputs": [
    {
     "data": {
      "text/html": [
       "3"
      ],
      "text/latex": [
       "3"
      ],
      "text/markdown": [
       "3"
      ],
      "text/plain": [
       "[1] 3"
      ]
     },
     "metadata": {},
     "output_type": "display_data"
    }
   ],
   "source": [
    "#create list\n",
    "my_list <- list(A=1:5, B=c('hey', 'hi'), C=c(3, 5, 7))\n",
    "\n",
    "#calculate length of entire list\n",
    "length(my_list)\n"
   ]
  },
  {
   "cell_type": "code",
   "execution_count": 38,
   "id": "1d85afff-31e4-4e2d-a138-688cb88e5cdf",
   "metadata": {},
   "outputs": [
    {
     "data": {
      "text/html": [
       "5"
      ],
      "text/latex": [
       "5"
      ],
      "text/markdown": [
       "5"
      ],
      "text/plain": [
       "[1] 5"
      ]
     },
     "metadata": {},
     "output_type": "display_data"
    }
   ],
   "source": [
    "#calculate length of first element in list\n",
    "length(my_list[[1]])"
   ]
  },
  {
   "cell_type": "code",
   "execution_count": 39,
   "id": "b4da8f40-c2b9-454e-bf83-244915b5e133",
   "metadata": {},
   "outputs": [
    {
     "data": {
      "text/html": [
       "<table>\n",
       "<thead><tr><th scope=col>team</th><th scope=col>points</th></tr></thead>\n",
       "<tbody>\n",
       "\t<tr><td>A </td><td>10</td></tr>\n",
       "\t<tr><td>B </td><td>15</td></tr>\n",
       "\t<tr><td>B </td><td>29</td></tr>\n",
       "\t<tr><td>B </td><td>24</td></tr>\n",
       "\t<tr><td>C </td><td>30</td></tr>\n",
       "\t<tr><td>D </td><td>31</td></tr>\n",
       "</tbody>\n",
       "</table>\n"
      ],
      "text/latex": [
       "\\begin{tabular}{r|ll}\n",
       " team & points\\\\\n",
       "\\hline\n",
       "\t A  & 10\\\\\n",
       "\t B  & 15\\\\\n",
       "\t B  & 29\\\\\n",
       "\t B  & 24\\\\\n",
       "\t C  & 30\\\\\n",
       "\t D  & 31\\\\\n",
       "\\end{tabular}\n"
      ],
      "text/markdown": [
       "\n",
       "| team | points |\n",
       "|---|---|\n",
       "| A  | 10 |\n",
       "| B  | 15 |\n",
       "| B  | 29 |\n",
       "| B  | 24 |\n",
       "| C  | 30 |\n",
       "| D  | 31 |\n",
       "\n"
      ],
      "text/plain": [
       "  team points\n",
       "1 A    10    \n",
       "2 B    15    \n",
       "3 B    29    \n",
       "4 B    24    \n",
       "5 C    30    \n",
       "6 D    31    "
      ]
     },
     "metadata": {},
     "output_type": "display_data"
    }
   ],
   "source": [
    "#create data frame\n",
    "df <- data.frame(team=c('A', 'B', 'B', 'B', 'C', 'D'),\n",
    "                 points=c(10, 15, 29, 24, 30, 31))\n",
    "\n",
    "#view data frame\n",
    "df"
   ]
  },
  {
   "cell_type": "code",
   "execution_count": 40,
   "id": "4ff3e7b0-009c-44a6-a786-469c71e43b58",
   "metadata": {},
   "outputs": [
    {
     "data": {
      "text/html": [
       "2"
      ],
      "text/latex": [
       "2"
      ],
      "text/markdown": [
       "2"
      ],
      "text/plain": [
       "[1] 2"
      ]
     },
     "metadata": {},
     "output_type": "display_data"
    }
   ],
   "source": [
    "#calculate length of data frame (returns number of columns)\n",
    "length(df)"
   ]
  },
  {
   "cell_type": "code",
   "execution_count": 41,
   "id": "8803d81e-b31c-4d5c-b93a-9a959d49ebd5",
   "metadata": {},
   "outputs": [
    {
     "data": {
      "text/html": [
       "6"
      ],
      "text/latex": [
       "6"
      ],
      "text/markdown": [
       "6"
      ],
      "text/plain": [
       "[1] 6"
      ]
     },
     "metadata": {},
     "output_type": "display_data"
    }
   ],
   "source": [
    "#calculate number of rows in data frame\n",
    "nrow(df)"
   ]
  },
  {
   "cell_type": "code",
   "execution_count": 42,
   "id": "5040f704-6824-4597-b021-8b79045e5081",
   "metadata": {},
   "outputs": [
    {
     "data": {
      "text/html": [
       "1"
      ],
      "text/latex": [
       "1"
      ],
      "text/markdown": [
       "1"
      ],
      "text/plain": [
       "[1] 1"
      ]
     },
     "metadata": {},
     "output_type": "display_data"
    }
   ],
   "source": [
    "#define string\n",
    "my_string <- \"hey there\"\n",
    "\n",
    "#calculate length of string\n",
    "length(my_string)"
   ]
  },
  {
   "cell_type": "code",
   "execution_count": 43,
   "id": "ac6bc52e-0004-47a5-b4ad-ce7cd54845a8",
   "metadata": {},
   "outputs": [
    {
     "data": {
      "text/html": [
       "9"
      ],
      "text/latex": [
       "9"
      ],
      "text/markdown": [
       "9"
      ],
      "text/plain": [
       "[1] 9"
      ]
     },
     "metadata": {},
     "output_type": "display_data"
    }
   ],
   "source": [
    "#define string\n",
    "my_string <- \"hey there\"\n",
    "\n",
    "#calculate total characters in string\n",
    "nchar(my_string)\n"
   ]
  },
  {
   "cell_type": "markdown",
   "id": "f65c6cf1-5a9e-4a5c-995b-2f4fbed24834",
   "metadata": {},
   "source": [
    "## 35. attach()"
   ]
  },
  {
   "cell_type": "code",
   "execution_count": 44,
   "id": "bd466693-4576-4600-9820-276e108effe2",
   "metadata": {},
   "outputs": [
    {
     "data": {
      "text/html": [
       "<table>\n",
       "<thead><tr><th scope=col>team</th><th scope=col>points</th><th scope=col>assists</th><th scope=col>rebounds</th></tr></thead>\n",
       "<tbody>\n",
       "\t<tr><td>A </td><td>99</td><td>33</td><td>30</td></tr>\n",
       "\t<tr><td>B </td><td>90</td><td>28</td><td>28</td></tr>\n",
       "\t<tr><td>C </td><td>86</td><td>31</td><td>24</td></tr>\n",
       "\t<tr><td>D </td><td>88</td><td>39</td><td>24</td></tr>\n",
       "\t<tr><td>E </td><td>95</td><td>34</td><td>28</td></tr>\n",
       "</tbody>\n",
       "</table>\n"
      ],
      "text/latex": [
       "\\begin{tabular}{r|llll}\n",
       " team & points & assists & rebounds\\\\\n",
       "\\hline\n",
       "\t A  & 99 & 33 & 30\\\\\n",
       "\t B  & 90 & 28 & 28\\\\\n",
       "\t C  & 86 & 31 & 24\\\\\n",
       "\t D  & 88 & 39 & 24\\\\\n",
       "\t E  & 95 & 34 & 28\\\\\n",
       "\\end{tabular}\n"
      ],
      "text/markdown": [
       "\n",
       "| team | points | assists | rebounds |\n",
       "|---|---|---|---|\n",
       "| A  | 99 | 33 | 30 |\n",
       "| B  | 90 | 28 | 28 |\n",
       "| C  | 86 | 31 | 24 |\n",
       "| D  | 88 | 39 | 24 |\n",
       "| E  | 95 | 34 | 28 |\n",
       "\n"
      ],
      "text/plain": [
       "  team points assists rebounds\n",
       "1 A    99     33      30      \n",
       "2 B    90     28      28      \n",
       "3 C    86     31      24      \n",
       "4 D    88     39      24      \n",
       "5 E    95     34      28      "
      ]
     },
     "metadata": {},
     "output_type": "display_data"
    }
   ],
   "source": [
    "#create data frame\n",
    "df <- data.frame(team=c('A', 'B', 'C', 'D', 'E'),\n",
    "                 points=c(99, 90, 86, 88, 95),\n",
    "                 assists=c(33, 28, 31, 39, 34),\n",
    "                 rebounds=c(30, 28, 24, 24, 28))\n",
    "\n",
    "#view data frame\n",
    "df"
   ]
  },
  {
   "cell_type": "code",
   "execution_count": 45,
   "id": "c05a7046-5aef-4396-91a8-1c328135f0a6",
   "metadata": {},
   "outputs": [
    {
     "data": {
      "text/html": [
       "26.8"
      ],
      "text/latex": [
       "26.8"
      ],
      "text/markdown": [
       "26.8"
      ],
      "text/plain": [
       "[1] 26.8"
      ]
     },
     "metadata": {},
     "output_type": "display_data"
    }
   ],
   "source": [
    "#calculate mean of rebounds column\n",
    "mean(df$rebounds)"
   ]
  },
  {
   "cell_type": "code",
   "execution_count": 46,
   "id": "3650ecd4-eac5-4647-ac12-68c835dbdb39",
   "metadata": {},
   "outputs": [
    {
     "data": {
      "text/html": [
       "28"
      ],
      "text/latex": [
       "28"
      ],
      "text/markdown": [
       "28"
      ],
      "text/plain": [
       "[1] 28"
      ]
     },
     "metadata": {},
     "output_type": "display_data"
    }
   ],
   "source": [
    "#calculate median of rebounds column\n",
    "median(df$rebounds)"
   ]
  },
  {
   "cell_type": "code",
   "execution_count": 47,
   "id": "211221d9-8806-400c-b9dc-cbae8c5d2151",
   "metadata": {},
   "outputs": [
    {
     "data": {
      "text/html": [
       "<ol class=list-inline>\n",
       "\t<li>24</li>\n",
       "\t<li>30</li>\n",
       "</ol>\n"
      ],
      "text/latex": [
       "\\begin{enumerate*}\n",
       "\\item 24\n",
       "\\item 30\n",
       "\\end{enumerate*}\n"
      ],
      "text/markdown": [
       "1. 24\n",
       "2. 30\n",
       "\n",
       "\n"
      ],
      "text/plain": [
       "[1] 24 30"
      ]
     },
     "metadata": {},
     "output_type": "display_data"
    }
   ],
   "source": [
    "#calculate range of rebounds column\n",
    "range(df$rebounds)"
   ]
  },
  {
   "cell_type": "code",
   "execution_count": 48,
   "id": "d3c14418-5ed3-412d-acff-42f8bcd58f3d",
   "metadata": {},
   "outputs": [
    {
     "data": {
      "text/html": [
       "26.8"
      ],
      "text/latex": [
       "26.8"
      ],
      "text/markdown": [
       "26.8"
      ],
      "text/plain": [
       "[1] 26.8"
      ]
     },
     "metadata": {},
     "output_type": "display_data"
    },
    {
     "data": {
      "text/html": [
       "28"
      ],
      "text/latex": [
       "28"
      ],
      "text/markdown": [
       "28"
      ],
      "text/plain": [
       "[1] 28"
      ]
     },
     "metadata": {},
     "output_type": "display_data"
    },
    {
     "data": {
      "text/html": [
       "<ol class=list-inline>\n",
       "\t<li>24</li>\n",
       "\t<li>30</li>\n",
       "</ol>\n"
      ],
      "text/latex": [
       "\\begin{enumerate*}\n",
       "\\item 24\n",
       "\\item 30\n",
       "\\end{enumerate*}\n"
      ],
      "text/markdown": [
       "1. 24\n",
       "2. 30\n",
       "\n",
       "\n"
      ],
      "text/plain": [
       "[1] 24 30"
      ]
     },
     "metadata": {},
     "output_type": "display_data"
    }
   ],
   "source": [
    "attach(df)\n",
    "\n",
    "#calculate mean of rebounds column\n",
    "mean(rebounds)\n",
    "\n",
    "\n",
    "#calculate median of rebounds column\n",
    "median(rebounds)\n",
    "\n",
    "\n",
    "#calculate range of rebounds column\n",
    "range(rebounds)\n",
    "\n"
   ]
  },
  {
   "cell_type": "code",
   "execution_count": 49,
   "id": "e6790873-43e0-4fe3-b681-f6209b964eb1",
   "metadata": {},
   "outputs": [
    {
     "data": {
      "text/html": [
       "<table>\n",
       "<thead><tr><th></th><th scope=col>Estimate</th><th scope=col>Std. Error</th><th scope=col>t value</th><th scope=col>Pr(&gt;|t|)</th></tr></thead>\n",
       "<tbody>\n",
       "\t<tr><th scope=row>(Intercept)</th><td>18.7071984</td><td>13.2030474</td><td>1.416885  </td><td>0.29222633</td></tr>\n",
       "\t<tr><th scope=row>assists</th><td> 0.5194553</td><td> 0.2162095</td><td>2.402555  </td><td>0.13821408</td></tr>\n",
       "\t<tr><th scope=row>rebounds</th><td> 2.0802529</td><td> 0.3273034</td><td>6.355733  </td><td>0.02387244</td></tr>\n",
       "</tbody>\n",
       "</table>\n"
      ],
      "text/latex": [
       "\\begin{tabular}{r|llll}\n",
       "  & Estimate & Std. Error & t value & Pr(>\\textbar{}t\\textbar{})\\\\\n",
       "\\hline\n",
       "\t(Intercept) & 18.7071984 & 13.2030474 & 1.416885   & 0.29222633\\\\\n",
       "\tassists &  0.5194553 &  0.2162095 & 2.402555   & 0.13821408\\\\\n",
       "\trebounds &  2.0802529 &  0.3273034 & 6.355733   & 0.02387244\\\\\n",
       "\\end{tabular}\n"
      ],
      "text/markdown": [
       "\n",
       "| <!--/--> | Estimate | Std. Error | t value | Pr(>|t|) |\n",
       "|---|---|---|---|---|\n",
       "| (Intercept) | 18.7071984 | 13.2030474 | 1.416885   | 0.29222633 |\n",
       "| assists |  0.5194553 |  0.2162095 | 2.402555   | 0.13821408 |\n",
       "| rebounds |  2.0802529 |  0.3273034 | 6.355733   | 0.02387244 |\n",
       "\n"
      ],
      "text/plain": [
       "            Estimate   Std. Error t value  Pr(>|t|)  \n",
       "(Intercept) 18.7071984 13.2030474 1.416885 0.29222633\n",
       "assists      0.5194553  0.2162095 2.402555 0.13821408\n",
       "rebounds     2.0802529  0.3273034 6.355733 0.02387244"
      ]
     },
     "metadata": {},
     "output_type": "display_data"
    }
   ],
   "source": [
    "#fit regression model\n",
    "fit <- lm(points ~ assists + rebounds, data=df)\n",
    "\n",
    "#view coefficients of regression model\n",
    "summary(fit)$coef"
   ]
  },
  {
   "cell_type": "code",
   "execution_count": 50,
   "id": "2999c2e1-3e58-40fc-b56f-1dabec6ca205",
   "metadata": {},
   "outputs": [
    {
     "data": {
      "text/html": [
       "<table>\n",
       "<thead><tr><th></th><th scope=col>Estimate</th><th scope=col>Std. Error</th><th scope=col>t value</th><th scope=col>Pr(&gt;|t|)</th></tr></thead>\n",
       "<tbody>\n",
       "\t<tr><th scope=row>(Intercept)</th><td>18.7071984</td><td>13.2030474</td><td>1.416885  </td><td>0.29222633</td></tr>\n",
       "\t<tr><th scope=row>assists</th><td> 0.5194553</td><td> 0.2162095</td><td>2.402555  </td><td>0.13821408</td></tr>\n",
       "\t<tr><th scope=row>rebounds</th><td> 2.0802529</td><td> 0.3273034</td><td>6.355733  </td><td>0.02387244</td></tr>\n",
       "</tbody>\n",
       "</table>\n"
      ],
      "text/latex": [
       "\\begin{tabular}{r|llll}\n",
       "  & Estimate & Std. Error & t value & Pr(>\\textbar{}t\\textbar{})\\\\\n",
       "\\hline\n",
       "\t(Intercept) & 18.7071984 & 13.2030474 & 1.416885   & 0.29222633\\\\\n",
       "\tassists &  0.5194553 &  0.2162095 & 2.402555   & 0.13821408\\\\\n",
       "\trebounds &  2.0802529 &  0.3273034 & 6.355733   & 0.02387244\\\\\n",
       "\\end{tabular}\n"
      ],
      "text/markdown": [
       "\n",
       "| <!--/--> | Estimate | Std. Error | t value | Pr(>|t|) |\n",
       "|---|---|---|---|---|\n",
       "| (Intercept) | 18.7071984 | 13.2030474 | 1.416885   | 0.29222633 |\n",
       "| assists |  0.5194553 |  0.2162095 | 2.402555   | 0.13821408 |\n",
       "| rebounds |  2.0802529 |  0.3273034 | 6.355733   | 0.02387244 |\n",
       "\n"
      ],
      "text/plain": [
       "            Estimate   Std. Error t value  Pr(>|t|)  \n",
       "(Intercept) 18.7071984 13.2030474 1.416885 0.29222633\n",
       "assists      0.5194553  0.2162095 2.402555 0.13821408\n",
       "rebounds     2.0802529  0.3273034 6.355733 0.02387244"
      ]
     },
     "metadata": {},
     "output_type": "display_data"
    }
   ],
   "source": [
    "#fit regression model\n",
    "fit <- lm(points ~ assists + rebounds)\n",
    "\n",
    "#view coefficients of regression model\n",
    "summary(fit)$coef"
   ]
  },
  {
   "cell_type": "code",
   "execution_count": 51,
   "id": "fe34f340-b7a9-4f0f-8db5-0867b0098515",
   "metadata": {},
   "outputs": [
    {
     "data": {
      "text/html": [
       "<ol class=list-inline>\n",
       "\t<li>'.GlobalEnv'</li>\n",
       "\t<li>'df'</li>\n",
       "\t<li>'jupyter:irkernel'</li>\n",
       "\t<li>'package:stats'</li>\n",
       "\t<li>'package:graphics'</li>\n",
       "\t<li>'package:grDevices'</li>\n",
       "\t<li>'package:utils'</li>\n",
       "\t<li>'package:datasets'</li>\n",
       "\t<li>'package:methods'</li>\n",
       "\t<li>'Autoloads'</li>\n",
       "\t<li>'package:base'</li>\n",
       "</ol>\n"
      ],
      "text/latex": [
       "\\begin{enumerate*}\n",
       "\\item '.GlobalEnv'\n",
       "\\item 'df'\n",
       "\\item 'jupyter:irkernel'\n",
       "\\item 'package:stats'\n",
       "\\item 'package:graphics'\n",
       "\\item 'package:grDevices'\n",
       "\\item 'package:utils'\n",
       "\\item 'package:datasets'\n",
       "\\item 'package:methods'\n",
       "\\item 'Autoloads'\n",
       "\\item 'package:base'\n",
       "\\end{enumerate*}\n"
      ],
      "text/markdown": [
       "1. '.GlobalEnv'\n",
       "2. 'df'\n",
       "3. 'jupyter:irkernel'\n",
       "4. 'package:stats'\n",
       "5. 'package:graphics'\n",
       "6. 'package:grDevices'\n",
       "7. 'package:utils'\n",
       "8. 'package:datasets'\n",
       "9. 'package:methods'\n",
       "10. 'Autoloads'\n",
       "11. 'package:base'\n",
       "\n",
       "\n"
      ],
      "text/plain": [
       " [1] \".GlobalEnv\"        \"df\"                \"jupyter:irkernel\" \n",
       " [4] \"package:stats\"     \"package:graphics\"  \"package:grDevices\"\n",
       " [7] \"package:utils\"     \"package:datasets\"  \"package:methods\"  \n",
       "[10] \"Autoloads\"         \"package:base\"     "
      ]
     },
     "metadata": {},
     "output_type": "display_data"
    }
   ],
   "source": [
    "#show all attached objects\n",
    "search()"
   ]
  },
  {
   "cell_type": "code",
   "execution_count": 52,
   "id": "d3ba4104-a063-4380-af65-7da7770e68f7",
   "metadata": {},
   "outputs": [],
   "source": [
    "#detach data frame\n",
    "detach(df)"
   ]
  },
  {
   "cell_type": "markdown",
   "id": "de794c5f-29cb-46d5-9887-de0ffb6023c4",
   "metadata": {},
   "source": [
    "## 36. dim()"
   ]
  },
  {
   "cell_type": "code",
   "execution_count": 53,
   "id": "9b2af4e3-61e5-4fb3-9e9f-513cc07553e8",
   "metadata": {},
   "outputs": [
    {
     "data": {
      "text/html": [
       "<table>\n",
       "<thead><tr><th scope=col>team</th><th scope=col>points</th><th scope=col>assists</th><th scope=col>rebounds</th></tr></thead>\n",
       "<tbody>\n",
       "\t<tr><td>A </td><td>99</td><td>33</td><td>30</td></tr>\n",
       "\t<tr><td>B </td><td>90</td><td>28</td><td>28</td></tr>\n",
       "\t<tr><td>C </td><td>86</td><td>31</td><td>24</td></tr>\n",
       "\t<tr><td>D </td><td>88</td><td>39</td><td>24</td></tr>\n",
       "\t<tr><td>E </td><td>95</td><td>34</td><td>28</td></tr>\n",
       "</tbody>\n",
       "</table>\n"
      ],
      "text/latex": [
       "\\begin{tabular}{r|llll}\n",
       " team & points & assists & rebounds\\\\\n",
       "\\hline\n",
       "\t A  & 99 & 33 & 30\\\\\n",
       "\t B  & 90 & 28 & 28\\\\\n",
       "\t C  & 86 & 31 & 24\\\\\n",
       "\t D  & 88 & 39 & 24\\\\\n",
       "\t E  & 95 & 34 & 28\\\\\n",
       "\\end{tabular}\n"
      ],
      "text/markdown": [
       "\n",
       "| team | points | assists | rebounds |\n",
       "|---|---|---|---|\n",
       "| A  | 99 | 33 | 30 |\n",
       "| B  | 90 | 28 | 28 |\n",
       "| C  | 86 | 31 | 24 |\n",
       "| D  | 88 | 39 | 24 |\n",
       "| E  | 95 | 34 | 28 |\n",
       "\n"
      ],
      "text/plain": [
       "  team points assists rebounds\n",
       "1 A    99     33      30      \n",
       "2 B    90     28      28      \n",
       "3 C    86     31      24      \n",
       "4 D    88     39      24      \n",
       "5 E    95     34      28      "
      ]
     },
     "metadata": {},
     "output_type": "display_data"
    }
   ],
   "source": [
    "#create data frame\n",
    "df <- data.frame(team=c('A', 'B', 'C', 'D', 'E'),\n",
    "                 points=c(99, 90, 86, 88, 95),\n",
    "                 assists=c(33, 28, 31, 39, 34),\n",
    "                 rebounds=c(30, 28, 24, 24, 28))\n",
    "\n",
    "#view data frame\n",
    "df"
   ]
  },
  {
   "cell_type": "code",
   "execution_count": 54,
   "id": "5a1ba278-fd45-437b-a5cd-cb32fc4a3297",
   "metadata": {},
   "outputs": [
    {
     "data": {
      "text/html": [
       "<ol class=list-inline>\n",
       "\t<li>5</li>\n",
       "\t<li>4</li>\n",
       "</ol>\n"
      ],
      "text/latex": [
       "\\begin{enumerate*}\n",
       "\\item 5\n",
       "\\item 4\n",
       "\\end{enumerate*}\n"
      ],
      "text/markdown": [
       "1. 5\n",
       "2. 4\n",
       "\n",
       "\n"
      ],
      "text/plain": [
       "[1] 5 4"
      ]
     },
     "metadata": {},
     "output_type": "display_data"
    }
   ],
   "source": [
    "#get dimensions of data frame\n",
    "dim(df)"
   ]
  },
  {
   "cell_type": "code",
   "execution_count": 55,
   "id": "a6a5abae-5cee-40c3-95d0-5dac62b9d11f",
   "metadata": {},
   "outputs": [
    {
     "data": {
      "text/html": [
       "<table>\n",
       "<tbody>\n",
       "\t<tr><td>1</td><td>5</td></tr>\n",
       "\t<tr><td>4</td><td>4</td></tr>\n",
       "\t<tr><td>4</td><td>3</td></tr>\n",
       "\t<tr><td>8</td><td>8</td></tr>\n",
       "</tbody>\n",
       "</table>\n"
      ],
      "text/latex": [
       "\\begin{tabular}{ll}\n",
       "\t 1 & 5\\\\\n",
       "\t 4 & 4\\\\\n",
       "\t 4 & 3\\\\\n",
       "\t 8 & 8\\\\\n",
       "\\end{tabular}\n"
      ],
      "text/markdown": [
       "\n",
       "| 1 | 5 |\n",
       "| 4 | 4 |\n",
       "| 4 | 3 |\n",
       "| 8 | 8 |\n",
       "\n"
      ],
      "text/plain": [
       "     [,1] [,2]\n",
       "[1,] 1    5   \n",
       "[2,] 4    4   \n",
       "[3,] 4    3   \n",
       "[4,] 8    8   "
      ]
     },
     "metadata": {},
     "output_type": "display_data"
    }
   ],
   "source": [
    "#create matrix\n",
    "mat <- matrix(c(1, 4, 4, 8, 5, 4, 3, 8), nrow=4)\n",
    "\n",
    "#view matrix\n",
    "mat"
   ]
  },
  {
   "cell_type": "code",
   "execution_count": 56,
   "id": "71866045-9d0c-40c5-833b-fbe3c333f2cd",
   "metadata": {},
   "outputs": [
    {
     "data": {
      "text/html": [
       "<ol class=list-inline>\n",
       "\t<li>4</li>\n",
       "\t<li>2</li>\n",
       "</ol>\n"
      ],
      "text/latex": [
       "\\begin{enumerate*}\n",
       "\\item 4\n",
       "\\item 2\n",
       "\\end{enumerate*}\n"
      ],
      "text/markdown": [
       "1. 4\n",
       "2. 2\n",
       "\n",
       "\n"
      ],
      "text/plain": [
       "[1] 4 2"
      ]
     },
     "metadata": {},
     "output_type": "display_data"
    }
   ],
   "source": [
    "#get dimensions of matrix\n",
    "dim(mat)"
   ]
  },
  {
   "cell_type": "code",
   "execution_count": 57,
   "id": "65e6e628-088c-4bb6-9a32-fdf1ef1db840",
   "metadata": {},
   "outputs": [
    {
     "data": {
      "text/html": [
       "<table>\n",
       "<tbody>\n",
       "\t<tr><td>1</td><td>5</td></tr>\n",
       "\t<tr><td>4</td><td>4</td></tr>\n",
       "\t<tr><td>4</td><td>3</td></tr>\n",
       "\t<tr><td>8</td><td>8</td></tr>\n",
       "</tbody>\n",
       "</table>\n"
      ],
      "text/latex": [
       "\\begin{tabular}{ll}\n",
       "\t 1 & 5\\\\\n",
       "\t 4 & 4\\\\\n",
       "\t 4 & 3\\\\\n",
       "\t 8 & 8\\\\\n",
       "\\end{tabular}\n"
      ],
      "text/markdown": [
       "\n",
       "| 1 | 5 |\n",
       "| 4 | 4 |\n",
       "| 4 | 3 |\n",
       "| 8 | 8 |\n",
       "\n"
      ],
      "text/plain": [
       "     [,1] [,2]\n",
       "[1,] 1    5   \n",
       "[2,] 4    4   \n",
       "[3,] 4    3   \n",
       "[4,] 8    8   "
      ]
     },
     "metadata": {},
     "output_type": "display_data"
    }
   ],
   "source": [
    "#create vector of values\n",
    "x <- c(1, 4, 4, 8, 5, 4, 3, 8)\n",
    "\n",
    "#define dimensions for values \n",
    "dim(x) <- c(4, 2)\n",
    "\n",
    "#view result\n",
    "x"
   ]
  },
  {
   "cell_type": "code",
   "execution_count": 58,
   "id": "a8a4ef86-85fb-4974-8177-24fa9b80c7b1",
   "metadata": {},
   "outputs": [
    {
     "data": {
      "text/html": [
       "<table>\n",
       "<tbody>\n",
       "\t<tr><td>1</td><td>5</td></tr>\n",
       "\t<tr><td>4</td><td>4</td></tr>\n",
       "\t<tr><td>4</td><td>3</td></tr>\n",
       "\t<tr><td>8</td><td>8</td></tr>\n",
       "</tbody>\n",
       "</table>\n"
      ],
      "text/latex": [
       "\\begin{tabular}{ll}\n",
       "\t 1 & 5\\\\\n",
       "\t 4 & 4\\\\\n",
       "\t 4 & 3\\\\\n",
       "\t 8 & 8\\\\\n",
       "\\end{tabular}\n"
      ],
      "text/markdown": [
       "\n",
       "| 1 | 5 |\n",
       "| 4 | 4 |\n",
       "| 4 | 3 |\n",
       "| 8 | 8 |\n",
       "\n"
      ],
      "text/plain": [
       "     [,1] [,2]\n",
       "[1,] 1    5   \n",
       "[2,] 4    4   \n",
       "[3,] 4    3   \n",
       "[4,] 8    8   "
      ]
     },
     "metadata": {},
     "output_type": "display_data"
    }
   ],
   "source": [
    "#create matrix\n",
    "x <- matrix(c(1, 4, 4, 8, 5, 4, 3, 8), nrow=4)\n",
    "\n",
    "#view matrix\n",
    "x"
   ]
  },
  {
   "cell_type": "code",
   "execution_count": 59,
   "id": "722160a5-0993-403f-8a68-a1caab86ba77",
   "metadata": {},
   "outputs": [
    {
     "data": {
      "text/html": [
       "4"
      ],
      "text/latex": [
       "4"
      ],
      "text/markdown": [
       "4"
      ],
      "text/plain": [
       "[1] 4"
      ]
     },
     "metadata": {},
     "output_type": "display_data"
    }
   ],
   "source": [
    "#display number of rows in matrix\n",
    "dim(x)[1]"
   ]
  },
  {
   "cell_type": "code",
   "execution_count": 60,
   "id": "a385a963-7644-4b8c-9284-be124c45cd40",
   "metadata": {},
   "outputs": [
    {
     "data": {
      "text/html": [
       "2"
      ],
      "text/latex": [
       "2"
      ],
      "text/markdown": [
       "2"
      ],
      "text/plain": [
       "[1] 2"
      ]
     },
     "metadata": {},
     "output_type": "display_data"
    }
   ],
   "source": [
    "#display number of columns in matrix\n",
    "dim(x)[2]"
   ]
  },
  {
   "cell_type": "markdown",
   "id": "ed3be73f-6a79-4dec-a503-de2edb26ad51",
   "metadata": {},
   "source": [
    "## 37. str()"
   ]
  },
  {
   "cell_type": "code",
   "execution_count": 61,
   "id": "af365b90-992f-4006-abeb-b50da1f7c4aa",
   "metadata": {},
   "outputs": [
    {
     "name": "stdout",
     "output_type": "stream",
     "text": [
      " num [1:12] 2 4 4 5 8 10 NA 15 12 12 ...\n"
     ]
    }
   ],
   "source": [
    "#create vector\n",
    "x <- c(2, 4, 4, 5, 8, 10, NA, 15, 12, 12, 19, 24)\n",
    "\n",
    "#display internal structure of vector\n",
    "str(x)"
   ]
  },
  {
   "cell_type": "code",
   "execution_count": 62,
   "id": "036fe3df-3941-4972-ba37-9cb6ca26b4d6",
   "metadata": {},
   "outputs": [
    {
     "name": "stdout",
     "output_type": "stream",
     "text": [
      "'data.frame':\t5 obs. of  4 variables:\n",
      " $ team    : Factor w/ 5 levels \"A\",\"B\",\"C\",\"D\",..: 1 2 3 4 5\n",
      " $ points  : num  99 90 86 88 95\n",
      " $ assists : num  33 28 31 39 34\n",
      " $ rebounds: num  30 28 24 24 28\n"
     ]
    }
   ],
   "source": [
    "#create data frame\n",
    "df <- data.frame(team=c('A', 'B', 'C', 'D', 'E'),\n",
    "                 points=c(99, 90, 86, 88, 95),\n",
    "                 assists=c(33, 28, 31, 39, 34),\n",
    "                 rebounds=c(30, 28, 24, 24, 28))\t\n",
    "\n",
    "#display internal structure of data frame\n",
    "str(df)"
   ]
  },
  {
   "cell_type": "markdown",
   "id": "b03b9cc7-a245-4cec-b30b-0f173104fd5a",
   "metadata": {},
   "source": [
    "‎从输出中我们可以看到：‎\n",
    "\n",
    "‎该对象具有一类 data.frame‎\n",
    "\n",
    "‎数据框具有 5 个观测值（行）和 4 个变量（列）‎\n",
    "\n",
    "‎数据框中每个变量的名称也会与每个变量的类和前几个值一起显示。‎\n",
    "\n",
    "‎使用 ‎‎str（）‎‎ 函数是快速了解数据帧的绝佳方法，尤其是在数据帧非常大的情况下。‎"
   ]
  },
  {
   "cell_type": "code",
   "execution_count": 63,
   "id": "4793d234-91a1-4e56-b3f2-6aa71ea6e70c",
   "metadata": {},
   "outputs": [
    {
     "data": {
      "text/html": [
       "<table>\n",
       "<tbody>\n",
       "\t<tr><td>1 </td><td> 6</td><td>11</td></tr>\n",
       "\t<tr><td>2 </td><td> 7</td><td>12</td></tr>\n",
       "\t<tr><td>3 </td><td> 8</td><td>13</td></tr>\n",
       "\t<tr><td>4 </td><td> 9</td><td>14</td></tr>\n",
       "\t<tr><td>5 </td><td>10</td><td>15</td></tr>\n",
       "</tbody>\n",
       "</table>\n"
      ],
      "text/latex": [
       "\\begin{tabular}{lll}\n",
       "\t 1  &  6 & 11\\\\\n",
       "\t 2  &  7 & 12\\\\\n",
       "\t 3  &  8 & 13\\\\\n",
       "\t 4  &  9 & 14\\\\\n",
       "\t 5  & 10 & 15\\\\\n",
       "\\end{tabular}\n"
      ],
      "text/markdown": [
       "\n",
       "| 1  |  6 | 11 |\n",
       "| 2  |  7 | 12 |\n",
       "| 3  |  8 | 13 |\n",
       "| 4  |  9 | 14 |\n",
       "| 5  | 10 | 15 |\n",
       "\n"
      ],
      "text/plain": [
       "     [,1] [,2] [,3]\n",
       "[1,] 1     6   11  \n",
       "[2,] 2     7   12  \n",
       "[3,] 3     8   13  \n",
       "[4,] 4     9   14  \n",
       "[5,] 5    10   15  "
      ]
     },
     "metadata": {},
     "output_type": "display_data"
    },
    {
     "name": "stdout",
     "output_type": "stream",
     "text": [
      " int [1:5, 1:3] 1 2 3 4 5 6 7 8 9 10 ...\n"
     ]
    }
   ],
   "source": [
    "#create matrix\n",
    "mat <- matrix(1:15, nrow=5)\n",
    "\n",
    "#view matrix\n",
    "mat\n",
    "\n",
    "str(mat)"
   ]
  },
  {
   "cell_type": "code",
   "execution_count": 64,
   "id": "403c3221-227b-42e8-bd90-5863e58cf8f4",
   "metadata": {},
   "outputs": [
    {
     "data": {
      "text/html": [
       "<dl>\n",
       "\t<dt>$A</dt>\n",
       "\t\t<dd><ol class=list-inline>\n",
       "\t<li>1</li>\n",
       "\t<li>2</li>\n",
       "\t<li>3</li>\n",
       "\t<li>4</li>\n",
       "\t<li>5</li>\n",
       "</ol>\n",
       "</dd>\n",
       "\t<dt>$B</dt>\n",
       "\t\t<dd><ol class=list-inline>\n",
       "\t<li>2</li>\n",
       "\t<li>9</li>\n",
       "</ol>\n",
       "</dd>\n",
       "\t<dt>$C</dt>\n",
       "\t\t<dd><ol class=list-inline>\n",
       "\t<li>'hey'</li>\n",
       "\t<li>'hello'</li>\n",
       "</ol>\n",
       "</dd>\n",
       "</dl>\n"
      ],
      "text/latex": [
       "\\begin{description}\n",
       "\\item[\\$A] \\begin{enumerate*}\n",
       "\\item 1\n",
       "\\item 2\n",
       "\\item 3\n",
       "\\item 4\n",
       "\\item 5\n",
       "\\end{enumerate*}\n",
       "\n",
       "\\item[\\$B] \\begin{enumerate*}\n",
       "\\item 2\n",
       "\\item 9\n",
       "\\end{enumerate*}\n",
       "\n",
       "\\item[\\$C] \\begin{enumerate*}\n",
       "\\item 'hey'\n",
       "\\item 'hello'\n",
       "\\end{enumerate*}\n",
       "\n",
       "\\end{description}\n"
      ],
      "text/markdown": [
       "$A\n",
       ":   1. 1\n",
       "2. 2\n",
       "3. 3\n",
       "4. 4\n",
       "5. 5\n",
       "\n",
       "\n",
       "\n",
       "$B\n",
       ":   1. 2\n",
       "2. 9\n",
       "\n",
       "\n",
       "\n",
       "$C\n",
       ":   1. 'hey'\n",
       "2. 'hello'\n",
       "\n",
       "\n",
       "\n",
       "\n",
       "\n"
      ],
      "text/plain": [
       "$A\n",
       "[1] 1 2 3 4 5\n",
       "\n",
       "$B\n",
       "[1] 2 9\n",
       "\n",
       "$C\n",
       "[1] \"hey\"   \"hello\"\n"
      ]
     },
     "metadata": {},
     "output_type": "display_data"
    },
    {
     "name": "stdout",
     "output_type": "stream",
     "text": [
      "List of 3\n",
      " $ A: int [1:5] 1 2 3 4 5\n",
      " $ B: num [1:2] 2 9\n",
      " $ C: chr [1:2] \"hey\" \"hello\"\n"
     ]
    }
   ],
   "source": [
    "#create list\n",
    "my_list <- list(A=1:5, B=c(2, 9), C=c('hey', 'hello'))\n",
    "\n",
    "#view list\n",
    "my_list\n",
    "\n",
    "#display internal structure of list\n",
    "str(my_list)"
   ]
  },
  {
   "cell_type": "markdown",
   "id": "a4b26ee8-e60d-4844-b167-ac80176cb1e4",
   "metadata": {},
   "source": [
    "## 38. optim 回归"
   ]
  },
  {
   "cell_type": "markdown",
   "id": "f6f6ff7e-0d82-46dc-8c29-d4780235df9e",
   "metadata": {},
   "source": [
    "**‎可以使用 R 中的 ‎‎optim‎‎ 函数进行常规用途优化。‎**"
   ]
  },
  {
   "cell_type": "markdown",
   "id": "9fe04de3-6174-4cd2-badc-cced23e8b6b9",
   "metadata": {},
   "source": [
    "‎哪里：‎\n",
    "\n",
    "‎par‎‎：要优化的参数的初始值‎\n",
    "\n",
    "‎fn‎‎：要最小化或最大化的函数‎\n",
    "\n",
    "‎data‎‎：R 中包含数据的对象的名称‎\n",
    "\n",
    "‎以下示例演示如何在以下方案中使用此函数：‎\n",
    "\n",
    "‎1.‎‎ 查找线性回归模型的系数。‎\n",
    "\n",
    "‎2.‎‎ 查找二次回归模型的系数。‎"
   ]
  },
  {
   "cell_type": "code",
   "execution_count": 66,
   "id": "939e8131-6da5-4ea9-8d5b-40e74aaa848e",
   "metadata": {},
   "outputs": [
    {
     "data": {
      "text/html": [
       "<dl>\n",
       "\t<dt>$par</dt>\n",
       "\t\t<dd><ol class=list-inline>\n",
       "\t<li>2.31859166362285</li>\n",
       "\t<li>1.16201244494941</li>\n",
       "</ol>\n",
       "</dd>\n",
       "\t<dt>$value</dt>\n",
       "\t\t<dd>11.1508382021032</dd>\n",
       "\t<dt>$counts</dt>\n",
       "\t\t<dd><dl class=dl-horizontal>\n",
       "\t<dt>function</dt>\n",
       "\t\t<dd>79</dd>\n",
       "\t<dt>gradient</dt>\n",
       "\t\t<dd>&lt;NA&gt;</dd>\n",
       "</dl>\n",
       "</dd>\n",
       "\t<dt>$convergence</dt>\n",
       "\t\t<dd>0</dd>\n",
       "\t<dt>$message</dt>\n",
       "\t\t<dd>NULL</dd>\n",
       "</dl>\n"
      ],
      "text/latex": [
       "\\begin{description}\n",
       "\\item[\\$par] \\begin{enumerate*}\n",
       "\\item 2.31859166362285\n",
       "\\item 1.16201244494941\n",
       "\\end{enumerate*}\n",
       "\n",
       "\\item[\\$value] 11.1508382021032\n",
       "\\item[\\$counts] \\begin{description*}\n",
       "\\item[function] 79\n",
       "\\item[gradient] <NA>\n",
       "\\end{description*}\n",
       "\n",
       "\\item[\\$convergence] 0\n",
       "\\item[\\$message] NULL\n",
       "\\end{description}\n"
      ],
      "text/markdown": [
       "$par\n",
       ":   1. 2.31859166362285\n",
       "2. 1.16201244494941\n",
       "\n",
       "\n",
       "\n",
       "$value\n",
       ":   11.1508382021032\n",
       "$counts\n",
       ":   function\n",
       ":   79gradient\n",
       ":   &lt;NA&gt;\n",
       "\n",
       "\n",
       "$convergence\n",
       ":   0\n",
       "$message\n",
       ":   NULL\n",
       "\n",
       "\n"
      ],
      "text/plain": [
       "$par\n",
       "[1] 2.318592 1.162012\n",
       "\n",
       "$value\n",
       "[1] 11.15084\n",
       "\n",
       "$counts\n",
       "function gradient \n",
       "      79       NA \n",
       "\n",
       "$convergence\n",
       "[1] 0\n",
       "\n",
       "$message\n",
       "NULL\n"
      ]
     },
     "metadata": {},
     "output_type": "display_data"
    }
   ],
   "source": [
    "#create data frame\n",
    "df <- data.frame(x=c(1, 3, 3, 5, 6, 7, 9, 12),\n",
    "                 y=c(4, 5, 8, 6, 9, 10, 13, 17))\n",
    "\n",
    "#define function to minimize residual sum of squares\n",
    "min_residuals <- function(data, par) {\n",
    "                   with(data, sum((par[1] + par[2] * x - y)^2))\n",
    "}\n",
    "\n",
    "#find coefficients of linear regression model\n",
    "optim(par=c(0, 1), fn=min_residuals, data=df)"
   ]
  },
  {
   "cell_type": "markdown",
   "id": "c3f5c7aa-20f2-4670-9987-7b30ec57a1b2",
   "metadata": {},
   "source": [
    "‎使用‎‎$par‎‎下返回的值，我们可以编写以下拟合线性回归模型：‎\n",
    "\n",
    "y = 2.318 + 1.162x\n",
    "\n",
    "‎我们可以通过使用 R 中的内置 ‎‎lm（）‎‎ 函数来计算回归系数来验证这是正确的"
   ]
  },
  {
   "cell_type": "code",
   "execution_count": 67,
   "id": "0a5fc192-e793-4e74-bfad-35b0883b50e7",
   "metadata": {},
   "outputs": [
    {
     "data": {
      "text/plain": [
       "\n",
       "Call:\n",
       "lm(formula = y ~ x, data = df)\n",
       "\n",
       "Coefficients:\n",
       "(Intercept)            x  \n",
       "      2.318        1.162  \n"
      ]
     },
     "metadata": {},
     "output_type": "display_data"
    }
   ],
   "source": [
    "#find coefficients of linear regression model using lm() function\n",
    "lm(y ~ x, data=df)"
   ]
  },
  {
   "cell_type": "markdown",
   "id": "467079ac-94e4-4c1f-bf52-793de820313a",
   "metadata": {},
   "source": [
    "下面的代码演示如何使用 ‎‎optim（）‎‎ 函数通过最小化残差平方和来查找‎‎二次回归模型‎‎的系数：‎"
   ]
  },
  {
   "cell_type": "code",
   "execution_count": 68,
   "id": "88d3e883-4a16-4300-a259-cd338b0ee9b0",
   "metadata": {},
   "outputs": [
    {
     "data": {
      "text/html": [
       "<dl>\n",
       "\t<dt>$par</dt>\n",
       "\t\t<dd><ol class=list-inline>\n",
       "\t<li>-18.2613196646701</li>\n",
       "\t<li>6.74453145198965</li>\n",
       "\t<li>-0.101200993602955</li>\n",
       "</ol>\n",
       "</dd>\n",
       "\t<dt>$value</dt>\n",
       "\t\t<dd>309.341229145144</dd>\n",
       "\t<dt>$counts</dt>\n",
       "\t\t<dd><dl class=dl-horizontal>\n",
       "\t<dt>function</dt>\n",
       "\t\t<dd>218</dd>\n",
       "\t<dt>gradient</dt>\n",
       "\t\t<dd>&lt;NA&gt;</dd>\n",
       "</dl>\n",
       "</dd>\n",
       "\t<dt>$convergence</dt>\n",
       "\t\t<dd>0</dd>\n",
       "\t<dt>$message</dt>\n",
       "\t\t<dd>NULL</dd>\n",
       "</dl>\n"
      ],
      "text/latex": [
       "\\begin{description}\n",
       "\\item[\\$par] \\begin{enumerate*}\n",
       "\\item -18.2613196646701\n",
       "\\item 6.74453145198965\n",
       "\\item -0.101200993602955\n",
       "\\end{enumerate*}\n",
       "\n",
       "\\item[\\$value] 309.341229145144\n",
       "\\item[\\$counts] \\begin{description*}\n",
       "\\item[function] 218\n",
       "\\item[gradient] <NA>\n",
       "\\end{description*}\n",
       "\n",
       "\\item[\\$convergence] 0\n",
       "\\item[\\$message] NULL\n",
       "\\end{description}\n"
      ],
      "text/markdown": [
       "$par\n",
       ":   1. -18.2613196646701\n",
       "2. 6.74453145198965\n",
       "3. -0.101200993602955\n",
       "\n",
       "\n",
       "\n",
       "$value\n",
       ":   309.341229145144\n",
       "$counts\n",
       ":   function\n",
       ":   218gradient\n",
       ":   &lt;NA&gt;\n",
       "\n",
       "\n",
       "$convergence\n",
       ":   0\n",
       "$message\n",
       ":   NULL\n",
       "\n",
       "\n"
      ],
      "text/plain": [
       "$par\n",
       "[1] -18.261320   6.744531  -0.101201\n",
       "\n",
       "$value\n",
       "[1] 309.3412\n",
       "\n",
       "$counts\n",
       "function gradient \n",
       "     218       NA \n",
       "\n",
       "$convergence\n",
       "[1] 0\n",
       "\n",
       "$message\n",
       "NULL\n"
      ]
     },
     "metadata": {},
     "output_type": "display_data"
    }
   ],
   "source": [
    "#create data frame\n",
    "df <- data.frame(x=c(6, 9, 12, 14, 30, 35, 40, 47, 51, 55, 60),\n",
    "                 y=c(14, 28, 50, 70, 89, 94, 90, 75, 59, 44, 27))\n",
    "\n",
    "#define function to minimize residual sum of squares\n",
    "min_residuals <- function(data, par) {\n",
    "                   with(data, sum((par[1] + par[2]*x + par[3]*x^2 - y)^2))\n",
    "}\n",
    "\n",
    "#find coefficients of quadratic regression model\n",
    "optim(par=c(0, 0, 0), fn=min_residuals, data=df)"
   ]
  },
  {
   "cell_type": "markdown",
   "id": "085bb114-65e8-41d9-a014-fb6c6d8567de",
   "metadata": {},
   "source": [
    "‎使用‎‎$par‎‎下返回的值，我们可以编写以下拟合二次回归模型：‎\n",
    "\n",
    "y = -18.261 + 6.744x – 0.101x2\n",
    "\n",
    "‎我们可以通过使用 R 中内置的 ‎‎lm（）‎‎ 函数来验证这是正确的：‎"
   ]
  },
  {
   "cell_type": "code",
   "execution_count": 69,
   "id": "3e0422e9-3d8e-42f6-88cd-a83df881f5c6",
   "metadata": {},
   "outputs": [
    {
     "data": {
      "text/html": [
       "<table>\n",
       "<thead><tr><th></th><th scope=col>Estimate</th><th scope=col>Std. Error</th><th scope=col>t value</th><th scope=col>Pr(&gt;|t|)</th></tr></thead>\n",
       "<tbody>\n",
       "\t<tr><th scope=row>(Intercept)</th><td>-18.2536400 </td><td>6.185069026 </td><td> -2.951243  </td><td>1.839072e-02</td></tr>\n",
       "\t<tr><th scope=row>x</th><td>  6.7443581 </td><td>0.485515334 </td><td> 13.891133  </td><td>6.978849e-07</td></tr>\n",
       "\t<tr><th scope=row>x2</th><td> -0.1011996 </td><td>0.007460089 </td><td>-13.565470  </td><td>8.378822e-07</td></tr>\n",
       "</tbody>\n",
       "</table>\n"
      ],
      "text/latex": [
       "\\begin{tabular}{r|llll}\n",
       "  & Estimate & Std. Error & t value & Pr(>\\textbar{}t\\textbar{})\\\\\n",
       "\\hline\n",
       "\t(Intercept) & -18.2536400  & 6.185069026  &  -2.951243   & 1.839072e-02\\\\\n",
       "\tx &   6.7443581  & 0.485515334  &  13.891133   & 6.978849e-07\\\\\n",
       "\tx2 &  -0.1011996  & 0.007460089  & -13.565470   & 8.378822e-07\\\\\n",
       "\\end{tabular}\n"
      ],
      "text/markdown": [
       "\n",
       "| <!--/--> | Estimate | Std. Error | t value | Pr(>|t|) |\n",
       "|---|---|---|---|---|\n",
       "| (Intercept) | -18.2536400  | 6.185069026  |  -2.951243   | 1.839072e-02 |\n",
       "| x |   6.7443581  | 0.485515334  |  13.891133   | 6.978849e-07 |\n",
       "| x2 |  -0.1011996  | 0.007460089  | -13.565470   | 8.378822e-07 |\n",
       "\n"
      ],
      "text/plain": [
       "            Estimate    Std. Error  t value    Pr(>|t|)    \n",
       "(Intercept) -18.2536400 6.185069026  -2.951243 1.839072e-02\n",
       "x             6.7443581 0.485515334  13.891133 6.978849e-07\n",
       "x2           -0.1011996 0.007460089 -13.565470 8.378822e-07"
      ]
     },
     "metadata": {},
     "output_type": "display_data"
    }
   ],
   "source": [
    "#create data frame\n",
    "df <- data.frame(x=c(6, 9, 12, 14, 30, 35, 40, 47, 51, 55, 60),\n",
    "                 y=c(14, 28, 50, 70, 89, 94, 90, 75, 59, 44, 27))\n",
    "\n",
    "#create a new variable for x^2\n",
    "df$x2 <- df$x^2\n",
    "\n",
    "#fit quadratic regression model\n",
    "quadraticModel <- lm(y ~ x + x2, data=df)\n",
    "\n",
    "#display coefficients of quadratic regression model\n",
    "summary(quadraticModel)$coef"
   ]
  },
  {
   "cell_type": "markdown",
   "id": "369b9837-a7ab-4b8d-b4a9-ecdfc417a743",
   "metadata": {},
   "source": [
    "## 39.  cat（） 函数连接对象"
   ]
  },
  {
   "cell_type": "markdown",
   "id": "34fc8bf9-4d04-40bb-9e24-0cf1dfa767d7",
   "metadata": {},
   "source": [
    "‎此函数使用以下基本语法：‎\n",
    "\n",
    "cat(..., file = \"\", sep = \" \", append = FALSE))\n",
    "‎哪里：‎\n",
    "\n",
    "‎...‎‎：要连接的对象‎\n",
    "\n",
    "‎文件‎‎：要将输出发送到的文件名‎\n",
    "\n",
    "‎sep‎‎：要在对象之间使用的分隔符‎\n",
    "\n",
    "‎追加‎‎：是将输出追加到现有文件还是创建新文件‎\n",
    "\n",
    "‎下面的示例演示如何以不同的方式使用此函数。‎"
   ]
  },
  {
   "cell_type": "code",
   "execution_count": 70,
   "id": "cda3f948-6f4b-44b6-a348-927964ec690c",
   "metadata": {},
   "outputs": [
    {
     "name": "stdout",
     "output_type": "stream",
     "text": [
      "hey there everyone"
     ]
    }
   ],
   "source": [
    "#concatenate three strings\n",
    "cat(\"hey\", \"there\", \"everyone\")"
   ]
  },
  {
   "cell_type": "code",
   "execution_count": 71,
   "id": "c172f35f-377f-491d-8db3-168bdfdc1591",
   "metadata": {},
   "outputs": [
    {
     "name": "stdout",
     "output_type": "stream",
     "text": [
      "hey-there-everyone"
     ]
    }
   ],
   "source": [
    "#concatenate three strings, using dash as separator\n",
    "cat(\"hey\", \"there\", \"everyone\", sep=\"-\")"
   ]
  },
  {
   "cell_type": "code",
   "execution_count": 72,
   "id": "2643bbb1-99c6-41e7-b138-37b0fdfce3de",
   "metadata": {},
   "outputs": [
    {
     "name": "stdout",
     "output_type": "stream",
     "text": [
      "hey\n",
      "there\n",
      "everyone\n"
     ]
    }
   ],
   "source": [
    "#concatenate three strings, using new line as separator\n",
    "cat(\"hey\", \"there\", \"everyone\", sep=\"\\n\")"
   ]
  },
  {
   "cell_type": "code",
   "execution_count": null,
   "id": "debd7ad6-8af7-47de-95d0-27e298ad2953",
   "metadata": {},
   "outputs": [],
   "source": [
    "#concatenate three strings and output results to txt file\n",
    "cat(\"hey\", \"there\", \"everyone\", sep=\"\\n\", file=\"my_data.txt\")"
   ]
  },
  {
   "cell_type": "code",
   "execution_count": null,
   "id": "aface886-29f0-4144-b977-92270335b938",
   "metadata": {},
   "outputs": [],
   "source": [
    "#concatenate three strings and output results to CSV file\n",
    "cat(\"hey\", \"there\", \"everyone\", sep=\"\\n\", file=\"my_data.csv\")"
   ]
  },
  {
   "cell_type": "code",
   "execution_count": null,
   "id": "22ba47be-e77b-4069-ba28-22f22824b7e7",
   "metadata": {},
   "outputs": [],
   "source": [
    "#concatenate three strings and output results to CSV file\n",
    "cat(\"hey\", \"there\", \"everyone\", sep=\"\\n\", file=\"my_data.csv\")\n",
    "\n",
    "#append results of this concatenation to first file\n",
    "cat(\"how\", \"are\", \"you\", sep=\"\\n\", file=\"my_data.csv\", append=TRUE)"
   ]
  },
  {
   "cell_type": "markdown",
   "id": "d950409f-8704-4b66-a13d-c06b28404ae3",
   "metadata": {},
   "source": [
    "## 40. 使用 strsplit（） 函数拆分字符串"
   ]
  },
  {
   "cell_type": "code",
   "execution_count": 73,
   "id": "52735665-5da8-4d0e-9b3d-47d82a239902",
   "metadata": {},
   "outputs": [
    {
     "data": {
      "text/html": [
       "<ol>\n",
       "\t<li><ol class=list-inline>\n",
       "\t<li>'Hey'</li>\n",
       "\t<li>'there'</li>\n",
       "\t<li>'people'</li>\n",
       "</ol>\n",
       "</li>\n",
       "</ol>\n"
      ],
      "text/latex": [
       "\\begin{enumerate}\n",
       "\\item \\begin{enumerate*}\n",
       "\\item 'Hey'\n",
       "\\item 'there'\n",
       "\\item 'people'\n",
       "\\end{enumerate*}\n",
       "\n",
       "\\end{enumerate}\n"
      ],
      "text/markdown": [
       "1. 1. 'Hey'\n",
       "2. 'there'\n",
       "3. 'people'\n",
       "\n",
       "\n",
       "\n",
       "\n",
       "\n"
      ],
      "text/plain": [
       "[[1]]\n",
       "[1] \"Hey\"    \"there\"  \"people\"\n"
      ]
     },
     "metadata": {},
     "output_type": "display_data"
    }
   ],
   "source": [
    "#split string based on spaces\n",
    "split_up <- strsplit(\"Hey there people\", split=\" \")\n",
    "\n",
    "#view results\n",
    "split_up"
   ]
  },
  {
   "cell_type": "code",
   "execution_count": 74,
   "id": "09848908-3efc-4091-a1d3-a76204ec57a0",
   "metadata": {},
   "outputs": [
    {
     "data": {
      "text/html": [
       "<ol class=list-inline>\n",
       "\t<li>'Hey'</li>\n",
       "\t<li>'there'</li>\n",
       "\t<li>'people'</li>\n",
       "</ol>\n"
      ],
      "text/latex": [
       "\\begin{enumerate*}\n",
       "\\item 'Hey'\n",
       "\\item 'there'\n",
       "\\item 'people'\n",
       "\\end{enumerate*}\n"
      ],
      "text/markdown": [
       "1. 'Hey'\n",
       "2. 'there'\n",
       "3. 'people'\n",
       "\n",
       "\n"
      ],
      "text/plain": [
       "[1] \"Hey\"    \"there\"  \"people\""
      ]
     },
     "metadata": {},
     "output_type": "display_data"
    }
   ],
   "source": [
    "#split string based on spaces\n",
    "split_up <- unlist(strsplit(\"Hey there people\", split=\" \"))\n",
    "\n",
    "#view results\n",
    "split_up"
   ]
  },
  {
   "cell_type": "code",
   "execution_count": 75,
   "id": "42c024ce-35a0-4401-8ba7-f78a29a60906",
   "metadata": {},
   "outputs": [
    {
     "data": {
      "text/html": [
       "<ol>\n",
       "\t<li><ol class=list-inline>\n",
       "\t<li>'Hey'</li>\n",
       "\t<li>'there'</li>\n",
       "\t<li>'people'</li>\n",
       "</ol>\n",
       "</li>\n",
       "</ol>\n"
      ],
      "text/latex": [
       "\\begin{enumerate}\n",
       "\\item \\begin{enumerate*}\n",
       "\\item 'Hey'\n",
       "\\item 'there'\n",
       "\\item 'people'\n",
       "\\end{enumerate*}\n",
       "\n",
       "\\end{enumerate}\n"
      ],
      "text/markdown": [
       "1. 1. 'Hey'\n",
       "2. 'there'\n",
       "3. 'people'\n",
       "\n",
       "\n",
       "\n",
       "\n",
       "\n"
      ],
      "text/plain": [
       "[[1]]\n",
       "[1] \"Hey\"    \"there\"  \"people\"\n"
      ]
     },
     "metadata": {},
     "output_type": "display_data"
    }
   ],
   "source": [
    "#split string based on dashes\n",
    "strsplit(\"Hey-there-people\", split=\"-\")"
   ]
  },
  {
   "cell_type": "code",
   "execution_count": 76,
   "id": "d0f6270a-1eb6-4263-8616-bceb6cf2ad4d",
   "metadata": {},
   "outputs": [
    {
     "data": {
      "text/html": [
       "<ol>\n",
       "\t<li><ol class=list-inline>\n",
       "\t<li>'Hey'</li>\n",
       "\t<li>'there'</li>\n",
       "\t<li>'you'</li>\n",
       "\t<li>'people'</li>\n",
       "</ol>\n",
       "</li>\n",
       "</ol>\n"
      ],
      "text/latex": [
       "\\begin{enumerate}\n",
       "\\item \\begin{enumerate*}\n",
       "\\item 'Hey'\n",
       "\\item 'there'\n",
       "\\item 'you'\n",
       "\\item 'people'\n",
       "\\end{enumerate*}\n",
       "\n",
       "\\end{enumerate}\n"
      ],
      "text/markdown": [
       "1. 1. 'Hey'\n",
       "2. 'there'\n",
       "3. 'you'\n",
       "4. 'people'\n",
       "\n",
       "\n",
       "\n",
       "\n",
       "\n"
      ],
      "text/plain": [
       "[[1]]\n",
       "[1] \"Hey\"    \"there\"  \"you\"    \"people\"\n"
      ]
     },
     "metadata": {},
     "output_type": "display_data"
    }
   ],
   "source": [
    "#split string based on several delimiters\n",
    "strsplit(\"Hey&there-you/people\", split=\"[&-/]\")"
   ]
  },
  {
   "cell_type": "markdown",
   "id": "40b9b304-96ab-40bf-83ef-15c86341d1f1",
   "metadata": {},
   "source": [
    "## 41. substring "
   ]
  },
  {
   "cell_type": "code",
   "execution_count": 77,
   "id": "c0220f43-7129-4ff4-886c-436cdc7ff36b",
   "metadata": {},
   "outputs": [
    {
     "data": {
      "text/html": [
       "<table>\n",
       "<thead><tr><th scope=col>team</th></tr></thead>\n",
       "<tbody>\n",
       "\t<tr><td>Mavericks</td></tr>\n",
       "\t<tr><td>Hornets  </td></tr>\n",
       "\t<tr><td>Rockets  </td></tr>\n",
       "\t<tr><td>Grizzlies</td></tr>\n",
       "</tbody>\n",
       "</table>\n"
      ],
      "text/latex": [
       "\\begin{tabular}{r|l}\n",
       " team\\\\\n",
       "\\hline\n",
       "\t Mavericks\\\\\n",
       "\t Hornets  \\\\\n",
       "\t Rockets  \\\\\n",
       "\t Grizzlies\\\\\n",
       "\\end{tabular}\n"
      ],
      "text/markdown": [
       "\n",
       "| team |\n",
       "|---|\n",
       "| Mavericks |\n",
       "| Hornets   |\n",
       "| Rockets   |\n",
       "| Grizzlies |\n",
       "\n"
      ],
      "text/plain": [
       "  team     \n",
       "1 Mavericks\n",
       "2 Hornets  \n",
       "3 Rockets  \n",
       "4 Grizzlies"
      ]
     },
     "metadata": {},
     "output_type": "display_data"
    }
   ],
   "source": [
    "#create data frame\n",
    "df <- data.frame(team=c('Mavericks', 'Hornets', 'Rockets', 'Grizzlies'))\n",
    "\n",
    "#view data frame\n",
    "df"
   ]
  },
  {
   "cell_type": "code",
   "execution_count": 78,
   "id": "280ee607-9dd0-4103-b8a3-3baf3cad185d",
   "metadata": {},
   "outputs": [
    {
     "data": {
      "text/html": [
       "<table>\n",
       "<thead><tr><th scope=col>team</th><th scope=col>between2_5</th></tr></thead>\n",
       "<tbody>\n",
       "\t<tr><td>Mavericks</td><td>aver     </td></tr>\n",
       "\t<tr><td>Hornets  </td><td>orne     </td></tr>\n",
       "\t<tr><td>Rockets  </td><td>ocke     </td></tr>\n",
       "\t<tr><td>Grizzlies</td><td>rizz     </td></tr>\n",
       "</tbody>\n",
       "</table>\n"
      ],
      "text/latex": [
       "\\begin{tabular}{r|ll}\n",
       " team & between2\\_5\\\\\n",
       "\\hline\n",
       "\t Mavericks & aver     \\\\\n",
       "\t Hornets   & orne     \\\\\n",
       "\t Rockets   & ocke     \\\\\n",
       "\t Grizzlies & rizz     \\\\\n",
       "\\end{tabular}\n"
      ],
      "text/markdown": [
       "\n",
       "| team | between2_5 |\n",
       "|---|---|\n",
       "| Mavericks | aver      |\n",
       "| Hornets   | orne      |\n",
       "| Rockets   | ocke      |\n",
       "| Grizzlies | rizz      |\n",
       "\n"
      ],
      "text/plain": [
       "  team      between2_5\n",
       "1 Mavericks aver      \n",
       "2 Hornets   orne      \n",
       "3 Rockets   ocke      \n",
       "4 Grizzlies rizz      "
      ]
     },
     "metadata": {},
     "output_type": "display_data"
    }
   ],
   "source": [
    "#create new column that contains characters between positions 2 and 5\n",
    "df$between2_5 <- substring(df$team, first=2, last=5)\n",
    "\n",
    "#view updated data frame\n",
    "df"
   ]
  },
  {
   "cell_type": "code",
   "execution_count": 79,
   "id": "13e5bce8-1417-4585-b43c-66038b6d07ff",
   "metadata": {},
   "outputs": [
    {
     "data": {
      "text/html": [
       "<table>\n",
       "<thead><tr><th scope=col>team</th><th scope=col>between2_5</th><th scope=col>first3</th></tr></thead>\n",
       "<tbody>\n",
       "\t<tr><td>Mavericks</td><td>aver     </td><td>Mav      </td></tr>\n",
       "\t<tr><td>Hornets  </td><td>orne     </td><td>Hor      </td></tr>\n",
       "\t<tr><td>Rockets  </td><td>ocke     </td><td>Roc      </td></tr>\n",
       "\t<tr><td>Grizzlies</td><td>rizz     </td><td>Gri      </td></tr>\n",
       "</tbody>\n",
       "</table>\n"
      ],
      "text/latex": [
       "\\begin{tabular}{r|lll}\n",
       " team & between2\\_5 & first3\\\\\n",
       "\\hline\n",
       "\t Mavericks & aver      & Mav      \\\\\n",
       "\t Hornets   & orne      & Hor      \\\\\n",
       "\t Rockets   & ocke      & Roc      \\\\\n",
       "\t Grizzlies & rizz      & Gri      \\\\\n",
       "\\end{tabular}\n"
      ],
      "text/markdown": [
       "\n",
       "| team | between2_5 | first3 |\n",
       "|---|---|---|\n",
       "| Mavericks | aver      | Mav       |\n",
       "| Hornets   | orne      | Hor       |\n",
       "| Rockets   | ocke      | Roc       |\n",
       "| Grizzlies | rizz      | Gri       |\n",
       "\n"
      ],
      "text/plain": [
       "  team      between2_5 first3\n",
       "1 Mavericks aver       Mav   \n",
       "2 Hornets   orne       Hor   \n",
       "3 Rockets   ocke       Roc   \n",
       "4 Grizzlies rizz       Gri   "
      ]
     },
     "metadata": {},
     "output_type": "display_data"
    }
   ],
   "source": [
    "#create new column that contains first 3 characters\n",
    "df$first3 <- substring(df$team, first=1, last=3)\n",
    "\n",
    "#view updated data frame\n",
    "df"
   ]
  },
  {
   "cell_type": "code",
   "execution_count": 85,
   "id": "656280b8-cd8c-4aec-b87b-02519a9974f3",
   "metadata": {},
   "outputs": [
    {
     "ename": "ERROR",
     "evalue": "Error in nchar(df$team): 'nchar()'需要字符矢量\n",
     "output_type": "error",
     "traceback": [
      "Error in nchar(df$team): 'nchar()'需要字符矢量\nTraceback:\n",
      "1. substring(df$team, nchar(df$team) - 3 + 1, nchar(df$team))",
      "2. nchar(df$team)"
     ]
    }
   ],
   "source": [
    "#create new column that contains last 3 characters\n",
    "df$last3 <- substring(df$team, nchar(df$team)-3+1, nchar(df$team))\n",
    "\n",
    "#view updated data frame\n",
    "df"
   ]
  },
  {
   "cell_type": "code",
   "execution_count": 86,
   "id": "09e4eb44-3dd7-4e11-8c4e-79ee426c4df2",
   "metadata": {},
   "outputs": [
    {
     "ename": "ERROR",
     "evalue": "Error in `substring<-`(`*tmp*`, first = 1, last = 3, value = \"***\"): 无法在非字符的对象里替换子字串\n",
     "output_type": "error",
     "traceback": [
      "Error in `substring<-`(`*tmp*`, first = 1, last = 3, value = \"***\"): 无法在非字符的对象里替换子字串\nTraceback:\n",
      "1. `substring<-`(`*tmp*`, first = 1, last = 3, value = \"***\")"
     ]
    }
   ],
   "source": [
    "#replace first 3 characters with asterisks in team column\n",
    "substring(df$team, first=1, last=3) <- \"***\"\n",
    "\n",
    "#view updated data frame\n",
    "df"
   ]
  },
  {
   "cell_type": "markdown",
   "id": "4adee815-8331-4cfe-a28a-66db6dc1d086",
   "metadata": {},
   "source": [
    "## 42. Add Text to Plot"
   ]
  },
  {
   "cell_type": "code",
   "execution_count": 87,
   "id": "f814afbf-e38f-456f-98c9-7ecdfab31e8d",
   "metadata": {},
   "outputs": [
    {
     "data": {
      "image/png": "[encoded data removed]",
      "text/plain": [
       "plot without title"
      ]
     },
     "metadata": {},
     "output_type": "display_data"
    }
   ],
   "source": [
    "#create data frame with values to plot\n",
    "df <- data.frame(x=c(1, 4, 7, 8, 8, 10),\n",
    "                 y=c(4, 9, 16, 14, 12, 20))\n",
    "\n",
    "#create scatterplot\n",
    "plot(df$x, df$y)\n",
    "\n",
    "#add text element at (5, 18)\n",
    "text(x=5, y=18, \"this is my text\")"
   ]
  },
  {
   "cell_type": "code",
   "execution_count": 88,
   "id": "c6b1dbd8-7b66-4fcf-bd4b-7fafbee074a8",
   "metadata": {},
   "outputs": [
    {
     "data": {
      "image/png": "[encoded data removed]",
      "text/plain": [
       "plot without title"
      ]
     },
     "metadata": {},
     "output_type": "display_data"
    }
   ],
   "source": [
    "#create data frame with values to plot\n",
    "df <- data.frame(x=c(1, 4, 7, 8, 8, 10),\n",
    "                 y=c(4, 9, 16, 14, 12, 20))\n",
    "\n",
    "#create scatterplot\n",
    "plot(df$x, df$y)\n",
    "\n",
    "#add text elements\n",
    "text(x=5, y=18, \"first text\")\n",
    "text(x=5, y=10, \"second text\") \n",
    "text(x=5, y=5, \"third text\") "
   ]
  },
  {
   "cell_type": "code",
   "execution_count": 89,
   "id": "397c3ee8-8852-4bf4-80c5-f3da094ed5a9",
   "metadata": {},
   "outputs": [
    {
     "data": {
      "image/png": "[encoded data removed]",
      "text/plain": [
       "plot without title"
      ]
     },
     "metadata": {},
     "output_type": "display_data"
    }
   ],
   "source": [
    "#create data frame with values to plot\n",
    "df <- data.frame(x=c(1, 4, 7, 8, 8, 10),\n",
    "                 y=c(4, 9, 16, 14, 12, 20))\n",
    "\n",
    "#create scatterplot\n",
    "plot(df$x, df$y)\n",
    "\n",
    "#add text elements with custom appearance\n",
    "text(x=5, y=18, \"first text\", col='red')\n",
    "text(x=5, y=10, \"second text\", col='blue', cex=3) \n",
    "text(x=5, y=5, \"third text\", col='green', cex=5, font=3) "
   ]
  },
  {
   "cell_type": "code",
   "execution_count": 90,
   "id": "2bd1976e-cce4-4a42-8026-77c6febd03fe",
   "metadata": {},
   "outputs": [
    {
     "data": {
      "image/png": "[encoded data removed]",
      "text/plain": [
       "plot without title"
      ]
     },
     "metadata": {},
     "output_type": "display_data"
    }
   ],
   "source": [
    "#create data frame with values to plot\n",
    "df <- data.frame(teams=c('A', 'B', 'C', 'D', 'E', 'F'),\n",
    "                 x=c(1, 4, 7, 8, 8, 10),\n",
    "                 y=c(4, 9, 16, 14, 12, 20))\n",
    "\n",
    "#create scatterplot\n",
    "plot(df$x, df$y)\n",
    "\n",
    "#add text label to each point in plot\n",
    "text(df$x, df$y, labels=df$teams, pos=4)"
   ]
  },
  {
   "cell_type": "markdown",
   "id": "5cf60737-be0a-4556-ab3f-42f55aa463ce",
   "metadata": {},
   "source": [
    "## 43. sign() "
   ]
  },
  {
   "cell_type": "markdown",
   "id": "669a20c8-3626-4936-b116-1b05e406f701",
   "metadata": {},
   "source": [
    "‎可以使用 base R 中的 ‎‎sign（）‎‎ 函数返回向量中每个元素的符号。‎"
   ]
  },
  {
   "cell_type": "code",
   "execution_count": 91,
   "id": "fc38b0cf-dee6-4577-bca0-06123c30338d",
   "metadata": {},
   "outputs": [
    {
     "data": {
      "text/html": [
       "<ol class=list-inline>\n",
       "\t<li>-1</li>\n",
       "\t<li>0</li>\n",
       "\t<li>1</li>\n",
       "</ol>\n"
      ],
      "text/latex": [
       "\\begin{enumerate*}\n",
       "\\item -1\n",
       "\\item 0\n",
       "\\item 1\n",
       "\\end{enumerate*}\n"
      ],
      "text/markdown": [
       "1. -1\n",
       "2. 0\n",
       "3. 1\n",
       "\n",
       "\n"
      ],
      "text/plain": [
       "[1] -1  0  1"
      ]
     },
     "metadata": {},
     "output_type": "display_data"
    }
   ],
   "source": [
    "#define vector of values\n",
    "x <- c(-3, 0, 3)\n",
    "\n",
    "#return sign of each element in vector\n",
    "sign(x)"
   ]
  },
  {
   "cell_type": "code",
   "execution_count": 93,
   "id": "79f61c86-00ef-4aa2-afd9-a6fd95875831",
   "metadata": {},
   "outputs": [
    {
     "data": {
      "text/html": [
       "<table>\n",
       "<thead><tr><th scope=col>x</th><th scope=col>y</th></tr></thead>\n",
       "<tbody>\n",
       "\t<tr><td> 0.0</td><td> 3  </td></tr>\n",
       "\t<tr><td> 1.4</td><td> 4  </td></tr>\n",
       "\t<tr><td>-1.0</td><td> 3  </td></tr>\n",
       "\t<tr><td> 5.0</td><td> 6  </td></tr>\n",
       "\t<tr><td>-4.0</td><td>10  </td></tr>\n",
       "\t<tr><td>12.0</td><td>11  </td></tr>\n",
       "</tbody>\n",
       "</table>\n"
      ],
      "text/latex": [
       "\\begin{tabular}{r|ll}\n",
       " x & y\\\\\n",
       "\\hline\n",
       "\t  0.0 &  3  \\\\\n",
       "\t  1.4 &  4  \\\\\n",
       "\t -1.0 &  3  \\\\\n",
       "\t  5.0 &  6  \\\\\n",
       "\t -4.0 & 10  \\\\\n",
       "\t 12.0 & 11  \\\\\n",
       "\\end{tabular}\n"
      ],
      "text/markdown": [
       "\n",
       "| x | y |\n",
       "|---|---|\n",
       "|  0.0 |  3   |\n",
       "|  1.4 |  4   |\n",
       "| -1.0 |  3   |\n",
       "|  5.0 |  6   |\n",
       "| -4.0 | 10   |\n",
       "| 12.0 | 11   |\n",
       "\n"
      ],
      "text/plain": [
       "  x    y \n",
       "1  0.0  3\n",
       "2  1.4  4\n",
       "3 -1.0  3\n",
       "4  5.0  6\n",
       "5 -4.0 10\n",
       "6 12.0 11"
      ]
     },
     "metadata": {},
     "output_type": "display_data"
    },
    {
     "data": {
      "text/html": [
       "<ol class=list-inline>\n",
       "\t<li>0</li>\n",
       "\t<li>1</li>\n",
       "\t<li>-1</li>\n",
       "\t<li>1</li>\n",
       "\t<li>-1</li>\n",
       "\t<li>1</li>\n",
       "</ol>\n"
      ],
      "text/latex": [
       "\\begin{enumerate*}\n",
       "\\item 0\n",
       "\\item 1\n",
       "\\item -1\n",
       "\\item 1\n",
       "\\item -1\n",
       "\\item 1\n",
       "\\end{enumerate*}\n"
      ],
      "text/markdown": [
       "1. 0\n",
       "2. 1\n",
       "3. -1\n",
       "4. 1\n",
       "5. -1\n",
       "6. 1\n",
       "\n",
       "\n"
      ],
      "text/plain": [
       "[1]  0  1 -1  1 -1  1"
      ]
     },
     "metadata": {},
     "output_type": "display_data"
    }
   ],
   "source": [
    "#create data frame\n",
    "df <- data.frame(x=c(0, 1.4, -1, 5, -4, 12),\n",
    "                 y=c(3, 4, 3, 6, 10, 11))\n",
    "\n",
    "#view data frame\n",
    "df\n",
    "\n",
    "#view sign of each value in column x\n",
    "sign(df$x)"
   ]
  },
  {
   "cell_type": "code",
   "execution_count": 94,
   "id": "a988c061-9f3f-4963-bf4b-610698cb0003",
   "metadata": {},
   "outputs": [
    {
     "data": {
      "text/html": [
       "<table>\n",
       "<thead><tr><th scope=col>x</th><th scope=col>y</th></tr></thead>\n",
       "<tbody>\n",
       "\t<tr><td> 0.0</td><td> 3  </td></tr>\n",
       "\t<tr><td> 1.4</td><td> 4  </td></tr>\n",
       "\t<tr><td>-1.0</td><td> 3  </td></tr>\n",
       "\t<tr><td> 5.0</td><td> 6  </td></tr>\n",
       "\t<tr><td>-4.0</td><td>10  </td></tr>\n",
       "\t<tr><td>12.0</td><td>11  </td></tr>\n",
       "</tbody>\n",
       "</table>\n"
      ],
      "text/latex": [
       "\\begin{tabular}{r|ll}\n",
       " x & y\\\\\n",
       "\\hline\n",
       "\t  0.0 &  3  \\\\\n",
       "\t  1.4 &  4  \\\\\n",
       "\t -1.0 &  3  \\\\\n",
       "\t  5.0 &  6  \\\\\n",
       "\t -4.0 & 10  \\\\\n",
       "\t 12.0 & 11  \\\\\n",
       "\\end{tabular}\n"
      ],
      "text/markdown": [
       "\n",
       "| x | y |\n",
       "|---|---|\n",
       "|  0.0 |  3   |\n",
       "|  1.4 |  4   |\n",
       "| -1.0 |  3   |\n",
       "|  5.0 |  6   |\n",
       "| -4.0 | 10   |\n",
       "| 12.0 | 11   |\n",
       "\n"
      ],
      "text/plain": [
       "  x    y \n",
       "1  0.0  3\n",
       "2  1.4  4\n",
       "3 -1.0  3\n",
       "4  5.0  6\n",
       "5 -4.0 10\n",
       "6 12.0 11"
      ]
     },
     "metadata": {},
     "output_type": "display_data"
    }
   ],
   "source": [
    "#create data frame\n",
    "df <- data.frame(x=c(0, 1.4, -1, 5, -4, 12),\n",
    "                 y=c(3, 4, 3, 6, 10, 11))\n",
    "\n",
    "#view data frame\n",
    "df"
   ]
  },
  {
   "cell_type": "code",
   "execution_count": 95,
   "id": "5db63b08-df6f-4458-822d-a02e5ca5fca6",
   "metadata": {},
   "outputs": [
    {
     "data": {
      "text/html": [
       "<table>\n",
       "<thead><tr><th scope=col>x</th><th scope=col>y</th><th scope=col>z</th></tr></thead>\n",
       "<tbody>\n",
       "\t<tr><td> 0.0    </td><td> 3      </td><td>zero    </td></tr>\n",
       "\t<tr><td> 1.4    </td><td> 4      </td><td>positive</td></tr>\n",
       "\t<tr><td>-1.0    </td><td> 3      </td><td>negative</td></tr>\n",
       "\t<tr><td> 5.0    </td><td> 6      </td><td>positive</td></tr>\n",
       "\t<tr><td>-4.0    </td><td>10      </td><td>negative</td></tr>\n",
       "\t<tr><td>12.0    </td><td>11      </td><td>positive</td></tr>\n",
       "</tbody>\n",
       "</table>\n"
      ],
      "text/latex": [
       "\\begin{tabular}{r|lll}\n",
       " x & y & z\\\\\n",
       "\\hline\n",
       "\t  0.0     &  3       & zero    \\\\\n",
       "\t  1.4     &  4       & positive\\\\\n",
       "\t -1.0     &  3       & negative\\\\\n",
       "\t  5.0     &  6       & positive\\\\\n",
       "\t -4.0     & 10       & negative\\\\\n",
       "\t 12.0     & 11       & positive\\\\\n",
       "\\end{tabular}\n"
      ],
      "text/markdown": [
       "\n",
       "| x | y | z |\n",
       "|---|---|---|\n",
       "|  0.0     |  3       | zero     |\n",
       "|  1.4     |  4       | positive |\n",
       "| -1.0     |  3       | negative |\n",
       "|  5.0     |  6       | positive |\n",
       "| -4.0     | 10       | negative |\n",
       "| 12.0     | 11       | positive |\n",
       "\n"
      ],
      "text/plain": [
       "  x    y  z       \n",
       "1  0.0  3 zero    \n",
       "2  1.4  4 positive\n",
       "3 -1.0  3 negative\n",
       "4  5.0  6 positive\n",
       "5 -4.0 10 negative\n",
       "6 12.0 11 positive"
      ]
     },
     "metadata": {},
     "output_type": "display_data"
    }
   ],
   "source": [
    "#create new column 'z' based on sign of values in column 'x'\n",
    "df$z <- with(df, ifelse(sign(x) == -1, 'negative',\n",
    "                   ifelse(sign(x) == 0, 'zero', 'positive')))\n",
    "\n",
    "#view updated data frame\n",
    "df"
   ]
  },
  {
   "cell_type": "markdown",
   "id": "5640e64c-2a1c-4efa-9e4f-df7528e36154",
   "metadata": {},
   "source": [
    "## 44. sprintf "
   ]
  },
  {
   "cell_type": "code",
   "execution_count": 96,
   "id": "0fbe2db1-01a4-45d6-aea2-d3ccaf6fae3c",
   "metadata": {},
   "outputs": [
    {
     "data": {
      "text/html": [
       "'15.49'"
      ],
      "text/latex": [
       "'15.49'"
      ],
      "text/markdown": [
       "'15.49'"
      ],
      "text/plain": [
       "[1] \"15.49\""
      ]
     },
     "metadata": {},
     "output_type": "display_data"
    }
   ],
   "source": [
    "#define value\n",
    "x <- 15.49347782\n",
    "\n",
    "#only display 2 digits after decimal place\n",
    "sprintf(\"%.2f\", x)"
   ]
  },
  {
   "cell_type": "code",
   "execution_count": 97,
   "id": "a75375db-2a72-4ee3-af6e-76a973f68b5b",
   "metadata": {},
   "outputs": [
    {
     "data": {
      "text/html": [
       "<span style=white-space:pre-wrap>'     15435'</span>"
      ],
      "text/latex": [
       "'     15435'"
      ],
      "text/markdown": [
       "<span style=white-space:pre-wrap>'     15435'</span>"
      ],
      "text/plain": [
       "[1] \"     15435\""
      ]
     },
     "metadata": {},
     "output_type": "display_data"
    }
   ],
   "source": [
    "#define value\n",
    "x <- 15435.4\n",
    "\n",
    "#display 10 total digits before decimal place\n",
    "sprintf(\"%10.f\", x)"
   ]
  },
  {
   "cell_type": "code",
   "execution_count": 98,
   "id": "0988b2a1-0cd4-46fd-85ba-d5b5e778d340",
   "metadata": {},
   "outputs": [
    {
     "data": {
      "text/html": [
       "'1.543540e+04'"
      ],
      "text/latex": [
       "'1.543540e+04'"
      ],
      "text/markdown": [
       "'1.543540e+04'"
      ],
      "text/plain": [
       "[1] \"1.543540e+04\""
      ]
     },
     "metadata": {},
     "output_type": "display_data"
    }
   ],
   "source": [
    "#define value\n",
    "x <- 15435.4\n",
    "\n",
    "#display in scientific notation using lowercase e\n",
    "sprintf(\"%e\", x)"
   ]
  },
  {
   "cell_type": "code",
   "execution_count": 99,
   "id": "f31e390e-0de3-4d45-99a3-2f4d3d6f1395",
   "metadata": {},
   "outputs": [
    {
     "data": {
      "text/html": [
       "'1.543540E+04'"
      ],
      "text/latex": [
       "'1.543540E+04'"
      ],
      "text/markdown": [
       "'1.543540E+04'"
      ],
      "text/plain": [
       "[1] \"1.543540E+04\""
      ]
     },
     "metadata": {},
     "output_type": "display_data"
    }
   ],
   "source": [
    "#display in scientific notation using uppercase E\n",
    "sprintf(\"%E\", x)"
   ]
  },
  {
   "cell_type": "code",
   "execution_count": 100,
   "id": "8d2cc6d6-52db-441f-a109-1a57595cc51e",
   "metadata": {},
   "outputs": [
    {
     "data": {
      "text/html": [
       "'I rode my bike about 5.4 miles'"
      ],
      "text/latex": [
       "'I rode my bike about 5.4 miles'"
      ],
      "text/markdown": [
       "'I rode my bike about 5.4 miles'"
      ],
      "text/plain": [
       "[1] \"I rode my bike about 5.4 miles\""
      ]
     },
     "metadata": {},
     "output_type": "display_data"
    }
   ],
   "source": [
    "#define value\n",
    "x <- 5.4431\n",
    "\n",
    "#display string with formatted value\n",
    "sprintf(\"I rode my bike about %.1f miles\", x)"
   ]
  },
  {
   "cell_type": "code",
   "execution_count": 101,
   "id": "88546ffb-56cd-4967-be19-ac836cc4ba54",
   "metadata": {},
   "outputs": [
    {
     "data": {
      "text/html": [
       "'I rode my bike 5.4 miles and then ran 10.78 miles'"
      ],
      "text/latex": [
       "'I rode my bike 5.4 miles and then ran 10.78 miles'"
      ],
      "text/markdown": [
       "'I rode my bike 5.4 miles and then ran 10.78 miles'"
      ],
      "text/plain": [
       "[1] \"I rode my bike 5.4 miles and then ran 10.78 miles\""
      ]
     },
     "metadata": {},
     "output_type": "display_data"
    }
   ],
   "source": [
    "#define values\n",
    "x1 <- 5.4431\n",
    "x2 <- 10.778342\n",
    "\n",
    "#display string with formatted values\n",
    "sprintf(\"I rode my bike %.1f miles and then ran %.2f miles\", x1, x2)"
   ]
  },
  {
   "cell_type": "markdown",
   "id": "f4f2bcf8-e683-4cd7-839f-69c98a4b3d1a",
   "metadata": {},
   "source": [
    "## 45. match()"
   ]
  },
  {
   "cell_type": "code",
   "execution_count": 102,
   "id": "f3740c5e-f16b-4747-9508-75a514752678",
   "metadata": {},
   "outputs": [
    {
     "data": {
      "text/html": [
       "4"
      ],
      "text/latex": [
       "4"
      ],
      "text/markdown": [
       "4"
      ],
      "text/plain": [
       "[1] 4"
      ]
     },
     "metadata": {},
     "output_type": "display_data"
    }
   ],
   "source": [
    "#define value to look for in vector\n",
    "value <- 10\n",
    "\n",
    "#define vector of values\n",
    "vector1 <- c(8, 9, 1, 10, 13, 15)\n",
    "\n",
    "#find first occurrence of 10\n",
    "match(value, vector1)"
   ]
  },
  {
   "cell_type": "code",
   "execution_count": 103,
   "id": "fc6aea57-bc44-4a60-ac49-792777a7b8b9",
   "metadata": {},
   "outputs": [
    {
     "data": {
      "text/html": [
       "4"
      ],
      "text/latex": [
       "4"
      ],
      "text/markdown": [
       "4"
      ],
      "text/plain": [
       "[1] 4"
      ]
     },
     "metadata": {},
     "output_type": "display_data"
    }
   ],
   "source": [
    "#define value to look for in vector\n",
    "value <- 10\n",
    "\n",
    "#define vector of values with multiple '10' values\n",
    "vector1 <- c(8, 9, 1, 10, 10, 10)\n",
    "\n",
    "#find first occurrence of 10\n",
    "match(value, vector1)"
   ]
  },
  {
   "cell_type": "code",
   "execution_count": 104,
   "id": "3cdee583-afde-41df-9633-9ceb7c6d21eb",
   "metadata": {},
   "outputs": [
    {
     "data": {
      "text/html": [
       "<ol class=list-inline>\n",
       "\t<li>3</li>\n",
       "\t<li>&lt;NA&gt;</li>\n",
       "\t<li>&lt;NA&gt;</li>\n",
       "\t<li>&lt;NA&gt;</li>\n",
       "\t<li>&lt;NA&gt;</li>\n",
       "\t<li>2</li>\n",
       "</ol>\n"
      ],
      "text/latex": [
       "\\begin{enumerate*}\n",
       "\\item 3\n",
       "\\item <NA>\n",
       "\\item <NA>\n",
       "\\item <NA>\n",
       "\\item <NA>\n",
       "\\item 2\n",
       "\\end{enumerate*}\n"
      ],
      "text/markdown": [
       "1. 3\n",
       "2. &lt;NA&gt;\n",
       "3. &lt;NA&gt;\n",
       "4. &lt;NA&gt;\n",
       "5. &lt;NA&gt;\n",
       "6. 2\n",
       "\n",
       "\n"
      ],
      "text/plain": [
       "[1]  3 NA NA NA NA  2"
      ]
     },
     "metadata": {},
     "output_type": "display_data"
    }
   ],
   "source": [
    "#define vectors of values\n",
    "vector1 <- c(1, 2, 3, 4, 5, 6)\n",
    "vector2 <- c(8, 6, 1, 10, 10, 15)\n",
    "\n",
    "#find first occurrence of values in vector1 within vector2\n",
    "match(vector1, vector2)"
   ]
  },
  {
   "cell_type": "code",
   "execution_count": 105,
   "id": "03533961-9de4-4671-9cb9-039fe3e87908",
   "metadata": {},
   "outputs": [
    {
     "data": {
      "text/html": [
       "<ol class=list-inline>\n",
       "\t<li>3</li>\n",
       "\t<li>0</li>\n",
       "\t<li>0</li>\n",
       "\t<li>0</li>\n",
       "\t<li>0</li>\n",
       "\t<li>2</li>\n",
       "</ol>\n"
      ],
      "text/latex": [
       "\\begin{enumerate*}\n",
       "\\item 3\n",
       "\\item 0\n",
       "\\item 0\n",
       "\\item 0\n",
       "\\item 0\n",
       "\\item 2\n",
       "\\end{enumerate*}\n"
      ],
      "text/markdown": [
       "1. 3\n",
       "2. 0\n",
       "3. 0\n",
       "4. 0\n",
       "5. 0\n",
       "6. 2\n",
       "\n",
       "\n"
      ],
      "text/plain": [
       "[1] 3 0 0 0 0 2"
      ]
     },
     "metadata": {},
     "output_type": "display_data"
    }
   ],
   "source": [
    "#define vectors of values\n",
    "vector1 <- c(1, 2, 3, 4, 5, 6)\n",
    "vector2 <- c(8, 6, 1, 10, 10, 15)\n",
    "\n",
    "#find first occurrence of values in vector1 within vector2\n",
    "match(vector1, vector2, nomatch=0)"
   ]
  },
  {
   "cell_type": "markdown",
   "id": "6830d35d-2e67-41d0-ab76-4fbedae3e6a0",
   "metadata": {},
   "source": [
    "## 46. split()"
   ]
  },
  {
   "cell_type": "code",
   "execution_count": 106,
   "id": "b33f57ff-675f-45fa-bbb1-186b839ee56a",
   "metadata": {},
   "outputs": [
    {
     "data": {
      "text/html": [
       "<dl>\n",
       "\t<dt>$A</dt>\n",
       "\t\t<dd>1</dd>\n",
       "\t<dt>$B</dt>\n",
       "\t\t<dd><ol class=list-inline>\n",
       "\t<li>2</li>\n",
       "\t<li>3</li>\n",
       "\t<li>4</li>\n",
       "</ol>\n",
       "</dd>\n",
       "\t<dt>$C</dt>\n",
       "\t\t<dd><ol class=list-inline>\n",
       "\t<li>5</li>\n",
       "\t<li>6</li>\n",
       "</ol>\n",
       "</dd>\n",
       "</dl>\n"
      ],
      "text/latex": [
       "\\begin{description}\n",
       "\\item[\\$A] 1\n",
       "\\item[\\$B] \\begin{enumerate*}\n",
       "\\item 2\n",
       "\\item 3\n",
       "\\item 4\n",
       "\\end{enumerate*}\n",
       "\n",
       "\\item[\\$C] \\begin{enumerate*}\n",
       "\\item 5\n",
       "\\item 6\n",
       "\\end{enumerate*}\n",
       "\n",
       "\\end{description}\n"
      ],
      "text/markdown": [
       "$A\n",
       ":   1\n",
       "$B\n",
       ":   1. 2\n",
       "2. 3\n",
       "3. 4\n",
       "\n",
       "\n",
       "\n",
       "$C\n",
       ":   1. 5\n",
       "2. 6\n",
       "\n",
       "\n",
       "\n",
       "\n",
       "\n"
      ],
      "text/plain": [
       "$A\n",
       "[1] 1\n",
       "\n",
       "$B\n",
       "[1] 2 3 4\n",
       "\n",
       "$C\n",
       "[1] 5 6\n"
      ]
     },
     "metadata": {},
     "output_type": "display_data"
    }
   ],
   "source": [
    "#create vector of data values\n",
    "data <- c(1, 2, 3, 4, 5, 6)\n",
    "\n",
    "#create vector of groupings\n",
    "groups <- c('A', 'B', 'B', 'B', 'C', 'C')\n",
    "\n",
    "#split vector of data values into groups\n",
    "split(x = data, f = groups)"
   ]
  },
  {
   "cell_type": "code",
   "execution_count": 108,
   "id": "e3758cea-9958-43fa-964d-71ad4e67109d",
   "metadata": {},
   "outputs": [
    {
     "data": {
      "text/html": [
       "<strong>$B</strong> = <ol class=list-inline>\n",
       "\t<li>2</li>\n",
       "\t<li>3</li>\n",
       "\t<li>4</li>\n",
       "</ol>\n"
      ],
      "text/latex": [
       "\\textbf{\\$B} = \\begin{enumerate*}\n",
       "\\item 2\n",
       "\\item 3\n",
       "\\item 4\n",
       "\\end{enumerate*}\n"
      ],
      "text/markdown": [
       "**$B** = 1. 2\n",
       "2. 3\n",
       "3. 4\n",
       "\n",
       "\n"
      ],
      "text/plain": [
       "$B\n",
       "[1] 2 3 4\n"
      ]
     },
     "metadata": {},
     "output_type": "display_data"
    }
   ],
   "source": [
    "#split vector of data values into groups and only display second group\n",
    "split(x = data, f = groups)[2]\n"
   ]
  },
  {
   "cell_type": "code",
   "execution_count": 109,
   "id": "71af466b-e256-44e1-8b58-bd6cc88d6630",
   "metadata": {},
   "outputs": [
    {
     "data": {
      "text/html": [
       "<table>\n",
       "<thead><tr><th scope=col>team</th><th scope=col>position</th><th scope=col>points</th><th scope=col>assists</th></tr></thead>\n",
       "<tbody>\n",
       "\t<tr><td>A </td><td>G </td><td>33</td><td>30</td></tr>\n",
       "\t<tr><td>A </td><td>G </td><td>28</td><td>28</td></tr>\n",
       "\t<tr><td>A </td><td>F </td><td>31</td><td>24</td></tr>\n",
       "\t<tr><td>B </td><td>G </td><td>39</td><td>24</td></tr>\n",
       "\t<tr><td>B </td><td>F </td><td>34</td><td>28</td></tr>\n",
       "\t<tr><td>B </td><td>F </td><td>44</td><td>19</td></tr>\n",
       "</tbody>\n",
       "</table>\n"
      ],
      "text/latex": [
       "\\begin{tabular}{r|llll}\n",
       " team & position & points & assists\\\\\n",
       "\\hline\n",
       "\t A  & G  & 33 & 30\\\\\n",
       "\t A  & G  & 28 & 28\\\\\n",
       "\t A  & F  & 31 & 24\\\\\n",
       "\t B  & G  & 39 & 24\\\\\n",
       "\t B  & F  & 34 & 28\\\\\n",
       "\t B  & F  & 44 & 19\\\\\n",
       "\\end{tabular}\n"
      ],
      "text/markdown": [
       "\n",
       "| team | position | points | assists |\n",
       "|---|---|---|---|\n",
       "| A  | G  | 33 | 30 |\n",
       "| A  | G  | 28 | 28 |\n",
       "| A  | F  | 31 | 24 |\n",
       "| B  | G  | 39 | 24 |\n",
       "| B  | F  | 34 | 28 |\n",
       "| B  | F  | 44 | 19 |\n",
       "\n"
      ],
      "text/plain": [
       "  team position points assists\n",
       "1 A    G        33     30     \n",
       "2 A    G        28     28     \n",
       "3 A    F        31     24     \n",
       "4 B    G        39     24     \n",
       "5 B    F        34     28     \n",
       "6 B    F        44     19     "
      ]
     },
     "metadata": {},
     "output_type": "display_data"
    }
   ],
   "source": [
    "#create data frame\n",
    "df <- data.frame(team=c('A', 'A', 'A', 'B', 'B', 'B'),\n",
    "                 position=c('G', 'G', 'F', 'G', 'F', 'F'),\n",
    "                 points=c(33, 28, 31, 39, 34, 44),\n",
    "                 assists=c(30, 28, 24, 24, 28, 19))\n",
    "\n",
    "#view data frame\n",
    "df\n"
   ]
  },
  {
   "cell_type": "code",
   "execution_count": 110,
   "id": "90fe7d15-8d62-4466-b330-ea8bdb690ce0",
   "metadata": {},
   "outputs": [
    {
     "data": {
      "text/html": [
       "<dl>\n",
       "\t<dt>$A</dt>\n",
       "\t\t<dd><table>\n",
       "<thead><tr><th scope=col>team</th><th scope=col>position</th><th scope=col>points</th><th scope=col>assists</th></tr></thead>\n",
       "<tbody>\n",
       "\t<tr><td>A </td><td>G </td><td>33</td><td>30</td></tr>\n",
       "\t<tr><td>A </td><td>G </td><td>28</td><td>28</td></tr>\n",
       "\t<tr><td>A </td><td>F </td><td>31</td><td>24</td></tr>\n",
       "</tbody>\n",
       "</table>\n",
       "</dd>\n",
       "\t<dt>$B</dt>\n",
       "\t\t<dd><table>\n",
       "<thead><tr><th></th><th scope=col>team</th><th scope=col>position</th><th scope=col>points</th><th scope=col>assists</th></tr></thead>\n",
       "<tbody>\n",
       "\t<tr><th scope=row>4</th><td>B </td><td>G </td><td>39</td><td>24</td></tr>\n",
       "\t<tr><th scope=row>5</th><td>B </td><td>F </td><td>34</td><td>28</td></tr>\n",
       "\t<tr><th scope=row>6</th><td>B </td><td>F </td><td>44</td><td>19</td></tr>\n",
       "</tbody>\n",
       "</table>\n",
       "</dd>\n",
       "</dl>\n"
      ],
      "text/latex": [
       "\\begin{description}\n",
       "\\item[\\$A] \\begin{tabular}{r|llll}\n",
       " team & position & points & assists\\\\\n",
       "\\hline\n",
       "\t A  & G  & 33 & 30\\\\\n",
       "\t A  & G  & 28 & 28\\\\\n",
       "\t A  & F  & 31 & 24\\\\\n",
       "\\end{tabular}\n",
       "\n",
       "\\item[\\$B] \\begin{tabular}{r|llll}\n",
       "  & team & position & points & assists\\\\\n",
       "\\hline\n",
       "\t4 & B  & G  & 39 & 24\\\\\n",
       "\t5 & B  & F  & 34 & 28\\\\\n",
       "\t6 & B  & F  & 44 & 19\\\\\n",
       "\\end{tabular}\n",
       "\n",
       "\\end{description}\n"
      ],
      "text/markdown": [
       "$A\n",
       ":   \n",
       "| team | position | points | assists |\n",
       "|---|---|---|---|\n",
       "| A  | G  | 33 | 30 |\n",
       "| A  | G  | 28 | 28 |\n",
       "| A  | F  | 31 | 24 |\n",
       "\n",
       "\n",
       "$B\n",
       ":   \n",
       "| <!--/--> | team | position | points | assists |\n",
       "|---|---|---|---|---|\n",
       "| 4 | B  | G  | 39 | 24 |\n",
       "| 5 | B  | F  | 34 | 28 |\n",
       "| 6 | B  | F  | 44 | 19 |\n",
       "\n",
       "\n",
       "\n",
       "\n"
      ],
      "text/plain": [
       "$A\n",
       "  team position points assists\n",
       "1    A        G     33      30\n",
       "2    A        G     28      28\n",
       "3    A        F     31      24\n",
       "\n",
       "$B\n",
       "  team position points assists\n",
       "4    B        G     39      24\n",
       "5    B        F     34      28\n",
       "6    B        F     44      19\n"
      ]
     },
     "metadata": {},
     "output_type": "display_data"
    }
   ],
   "source": [
    "#split data frame into groups based on 'team'\n",
    "split(df, f = df$team)"
   ]
  },
  {
   "cell_type": "code",
   "execution_count": 111,
   "id": "00329bc7-bb49-493a-b214-1b699c9aa999",
   "metadata": {},
   "outputs": [
    {
     "data": {
      "text/html": [
       "<dl>\n",
       "\t<dt>$A.F</dt>\n",
       "\t\t<dd><table>\n",
       "<thead><tr><th></th><th scope=col>team</th><th scope=col>position</th><th scope=col>points</th><th scope=col>assists</th></tr></thead>\n",
       "<tbody>\n",
       "\t<tr><th scope=row>3</th><td>A </td><td>F </td><td>31</td><td>24</td></tr>\n",
       "</tbody>\n",
       "</table>\n",
       "</dd>\n",
       "\t<dt>$B.F</dt>\n",
       "\t\t<dd><table>\n",
       "<thead><tr><th></th><th scope=col>team</th><th scope=col>position</th><th scope=col>points</th><th scope=col>assists</th></tr></thead>\n",
       "<tbody>\n",
       "\t<tr><th scope=row>5</th><td>B </td><td>F </td><td>34</td><td>28</td></tr>\n",
       "\t<tr><th scope=row>6</th><td>B </td><td>F </td><td>44</td><td>19</td></tr>\n",
       "</tbody>\n",
       "</table>\n",
       "</dd>\n",
       "\t<dt>$A.G</dt>\n",
       "\t\t<dd><table>\n",
       "<thead><tr><th scope=col>team</th><th scope=col>position</th><th scope=col>points</th><th scope=col>assists</th></tr></thead>\n",
       "<tbody>\n",
       "\t<tr><td>A </td><td>G </td><td>33</td><td>30</td></tr>\n",
       "\t<tr><td>A </td><td>G </td><td>28</td><td>28</td></tr>\n",
       "</tbody>\n",
       "</table>\n",
       "</dd>\n",
       "\t<dt>$B.G</dt>\n",
       "\t\t<dd><table>\n",
       "<thead><tr><th></th><th scope=col>team</th><th scope=col>position</th><th scope=col>points</th><th scope=col>assists</th></tr></thead>\n",
       "<tbody>\n",
       "\t<tr><th scope=row>4</th><td>B </td><td>G </td><td>39</td><td>24</td></tr>\n",
       "</tbody>\n",
       "</table>\n",
       "</dd>\n",
       "</dl>\n"
      ],
      "text/latex": [
       "\\begin{description}\n",
       "\\item[\\$A.F] \\begin{tabular}{r|llll}\n",
       "  & team & position & points & assists\\\\\n",
       "\\hline\n",
       "\t3 & A  & F  & 31 & 24\\\\\n",
       "\\end{tabular}\n",
       "\n",
       "\\item[\\$B.F] \\begin{tabular}{r|llll}\n",
       "  & team & position & points & assists\\\\\n",
       "\\hline\n",
       "\t5 & B  & F  & 34 & 28\\\\\n",
       "\t6 & B  & F  & 44 & 19\\\\\n",
       "\\end{tabular}\n",
       "\n",
       "\\item[\\$A.G] \\begin{tabular}{r|llll}\n",
       " team & position & points & assists\\\\\n",
       "\\hline\n",
       "\t A  & G  & 33 & 30\\\\\n",
       "\t A  & G  & 28 & 28\\\\\n",
       "\\end{tabular}\n",
       "\n",
       "\\item[\\$B.G] \\begin{tabular}{r|llll}\n",
       "  & team & position & points & assists\\\\\n",
       "\\hline\n",
       "\t4 & B  & G  & 39 & 24\\\\\n",
       "\\end{tabular}\n",
       "\n",
       "\\end{description}\n"
      ],
      "text/markdown": [
       "$A.F\n",
       ":   \n",
       "| <!--/--> | team | position | points | assists |\n",
       "|---|---|---|---|---|\n",
       "| 3 | A  | F  | 31 | 24 |\n",
       "\n",
       "\n",
       "$B.F\n",
       ":   \n",
       "| <!--/--> | team | position | points | assists |\n",
       "|---|---|---|---|---|\n",
       "| 5 | B  | F  | 34 | 28 |\n",
       "| 6 | B  | F  | 44 | 19 |\n",
       "\n",
       "\n",
       "$A.G\n",
       ":   \n",
       "| team | position | points | assists |\n",
       "|---|---|---|---|\n",
       "| A  | G  | 33 | 30 |\n",
       "| A  | G  | 28 | 28 |\n",
       "\n",
       "\n",
       "$B.G\n",
       ":   \n",
       "| <!--/--> | team | position | points | assists |\n",
       "|---|---|---|---|---|\n",
       "| 4 | B  | G  | 39 | 24 |\n",
       "\n",
       "\n",
       "\n",
       "\n"
      ],
      "text/plain": [
       "$A.F\n",
       "  team position points assists\n",
       "3    A        F     31      24\n",
       "\n",
       "$B.F\n",
       "  team position points assists\n",
       "5    B        F     34      28\n",
       "6    B        F     44      19\n",
       "\n",
       "$A.G\n",
       "  team position points assists\n",
       "1    A        G     33      30\n",
       "2    A        G     28      28\n",
       "\n",
       "$B.G\n",
       "  team position points assists\n",
       "4    B        G     39      24\n"
      ]
     },
     "metadata": {},
     "output_type": "display_data"
    }
   ],
   "source": [
    "#split data frame into groups based on 'team' and 'position' variables\n",
    "split(df, f = list(df$team, df$position))"
   ]
  },
  {
   "cell_type": "markdown",
   "id": "3c6f2f6a-2c18-496e-a4ad-77d84a26b3a5",
   "metadata": {},
   "source": [
    "## 47. tabulate（）计数"
   ]
  },
  {
   "cell_type": "code",
   "execution_count": 112,
   "id": "9281a4db-6cad-4b6f-a513-b7fc155bed70",
   "metadata": {},
   "outputs": [
    {
     "data": {
      "text/html": [
       "<ol class=list-inline>\n",
       "\t<li>3</li>\n",
       "\t<li>1</li>\n",
       "\t<li>3</li>\n",
       "\t<li>1</li>\n",
       "\t<li>0</li>\n",
       "\t<li>0</li>\n",
       "\t<li>1</li>\n",
       "\t<li>1</li>\n",
       "</ol>\n"
      ],
      "text/latex": [
       "\\begin{enumerate*}\n",
       "\\item 3\n",
       "\\item 1\n",
       "\\item 3\n",
       "\\item 1\n",
       "\\item 0\n",
       "\\item 0\n",
       "\\item 1\n",
       "\\item 1\n",
       "\\end{enumerate*}\n"
      ],
      "text/markdown": [
       "1. 3\n",
       "2. 1\n",
       "3. 3\n",
       "4. 1\n",
       "5. 0\n",
       "6. 0\n",
       "7. 1\n",
       "8. 1\n",
       "\n",
       "\n"
      ],
      "text/plain": [
       "[1] 3 1 3 1 0 0 1 1"
      ]
     },
     "metadata": {},
     "output_type": "display_data"
    }
   ],
   "source": [
    "#create vector of data values\n",
    "data <- c(1, 1, 1, 2, 3, 3, 3, 4, 7, 8)\n",
    "\n",
    "#count occurrences of integers in vector\n",
    "tabulate(data)"
   ]
  },
  {
   "cell_type": "markdown",
   "id": "45477b3c-7432-4f25-8009-08cf72de2d09",
   "metadata": {},
   "source": [
    "‎整数 1 在向量中出现 ‎‎3‎‎ 次。‎\n",
    "\n",
    "‎整数 2 在向量中出现 ‎‎1‎‎ 次。‎\n",
    "\n",
    "‎整数 3 在向量中出现 ‎‎3‎‎ 次。‎\n",
    "\n",
    "‎整数 4 在向量中出现 ‎‎1‎‎ 次。‎\n",
    "\n",
    "‎整数 5 在向量中出现 ‎‎0‎‎ 次。‎\n",
    "‎等等。‎"
   ]
  },
  {
   "cell_type": "code",
   "execution_count": 113,
   "id": "a15a8f8d-3e5b-4ff3-83a7-ac99f445fddd",
   "metadata": {},
   "outputs": [
    {
     "data": {
      "text/html": [
       "<ol class=list-inline>\n",
       "\t<li>3</li>\n",
       "\t<li>1</li>\n",
       "\t<li>3</li>\n",
       "\t<li>1</li>\n",
       "\t<li>0</li>\n",
       "</ol>\n"
      ],
      "text/latex": [
       "\\begin{enumerate*}\n",
       "\\item 3\n",
       "\\item 1\n",
       "\\item 3\n",
       "\\item 1\n",
       "\\item 0\n",
       "\\end{enumerate*}\n"
      ],
      "text/markdown": [
       "1. 3\n",
       "2. 1\n",
       "3. 3\n",
       "4. 1\n",
       "5. 0\n",
       "\n",
       "\n"
      ],
      "text/plain": [
       "[1] 3 1 3 1 0"
      ]
     },
     "metadata": {},
     "output_type": "display_data"
    }
   ],
   "source": [
    "#count occurrences of integers but limit output to 5\n",
    "tabulate(data, nbins=5)"
   ]
  },
  {
   "cell_type": "markdown",
   "id": "e5ae05ce-7861-4e90-a5e1-5b172eddce05",
   "metadata": {},
   "source": [
    "‎如果我们将‎‎tabulate（）‎‎函数与包含小数的向量一起使用，则该函数将简单地告诉我们每个整数值出现的频率：‎"
   ]
  },
  {
   "cell_type": "code",
   "execution_count": 114,
   "id": "ac82ff79-5243-4228-93d3-1a78f2c3ddc8",
   "metadata": {},
   "outputs": [
    {
     "data": {
      "text/html": [
       "<ol class=list-inline>\n",
       "\t<li>3</li>\n",
       "\t<li>1</li>\n",
       "\t<li>2</li>\n",
       "</ol>\n"
      ],
      "text/latex": [
       "\\begin{enumerate*}\n",
       "\\item 3\n",
       "\\item 1\n",
       "\\item 2\n",
       "\\end{enumerate*}\n"
      ],
      "text/markdown": [
       "1. 3\n",
       "2. 1\n",
       "3. 2\n",
       "\n",
       "\n"
      ],
      "text/plain": [
       "[1] 3 1 2"
      ]
     },
     "metadata": {},
     "output_type": "display_data"
    }
   ],
   "source": [
    "#create vector of data values with decimals\n",
    "data <- c(1.2, 1.4, 1.7, 2, 3.1, 3.5)\n",
    "\n",
    "#count occurrences of integers\n",
    "tabulate(data)"
   ]
  },
  {
   "cell_type": "markdown",
   "id": "c88174d7-7c63-4385-909b-7fe7bade49fc",
   "metadata": {},
   "source": [
    "‎如果我们将 ‎‎tabulate（）‎‎ 函数与包含负值或零的向量一起使用，则该函数将简单地忽略负值和零：‎"
   ]
  },
  {
   "cell_type": "code",
   "execution_count": 115,
   "id": "c5dce29d-3069-4511-9f2f-fab406d0f321",
   "metadata": {},
   "outputs": [
    {
     "data": {
      "text/html": [
       "<ol class=list-inline>\n",
       "\t<li>2</li>\n",
       "\t<li>1</li>\n",
       "\t<li>0</li>\n",
       "\t<li>1</li>\n",
       "</ol>\n"
      ],
      "text/latex": [
       "\\begin{enumerate*}\n",
       "\\item 2\n",
       "\\item 1\n",
       "\\item 0\n",
       "\\item 1\n",
       "\\end{enumerate*}\n"
      ],
      "text/markdown": [
       "1. 2\n",
       "2. 1\n",
       "3. 0\n",
       "4. 1\n",
       "\n",
       "\n"
      ],
      "text/plain": [
       "[1] 2 1 0 1"
      ]
     },
     "metadata": {},
     "output_type": "display_data"
    }
   ],
   "source": [
    "#create vector with some negative values and zeros\n",
    "data <- c(-5, -5, -2, 0, 1, 1, 2, 4)\n",
    "\n",
    "#count occurrences of integers\n",
    "tabulate(data)"
   ]
  },
  {
   "cell_type": "markdown",
   "id": "95a065ef-7b14-4ba0-b508-be4fe9586083",
   "metadata": {},
   "source": [
    "‎如果要计算向量中每个值的出现次数，最好使用 ‎‎table（）‎‎ 函数：‎"
   ]
  },
  {
   "cell_type": "code",
   "execution_count": 116,
   "id": "2e70b727-2488-40e1-b4ab-52845b3f5879",
   "metadata": {},
   "outputs": [
    {
     "data": {
      "text/plain": [
       "data\n",
       " -5  -2   0   1 2.5   4 \n",
       "  2   1   1   2   1   1 "
      ]
     },
     "metadata": {},
     "output_type": "display_data"
    }
   ],
   "source": [
    "#create vector with a variety of numbers\n",
    "data <- c(-5, -5, -2, 0, 1, 1, 2.5, 4)\n",
    "\n",
    "#count occurrences of each unique value in vector\n",
    "table(data)\n"
   ]
  },
  {
   "cell_type": "markdown",
   "id": "4aa98960-712a-4bc0-abc0-f05545e07db1",
   "metadata": {},
   "source": [
    "## 48. scale()"
   ]
  },
  {
   "cell_type": "markdown",
   "id": "1f007085-1ac8-4597-a66f-11551b7ee6f8",
   "metadata": {},
   "source": [
    "‎x‎‎：要缩放的对象的名称‎\n",
    "\n",
    "‎中心‎‎：缩放时是否减去平均值。默认值为 TRUE。‎\n",
    "\n",
    "‎缩放：缩放‎‎时是否除以标准偏差。默认值为 TRUE。‎\n",
    "\n",
    "‎此函数使用以下公式来计算缩放值：‎\n",
    "\n",
    "xscaled = (xoriginal – x̄) / s\n",
    "\n",
    "where:\n",
    "\n",
    "xoriginal: The original x-value\n",
    "x̄: The sample mean\n",
    "s: The sample standard deviation\n",
    "\n",
    "‎这也称为‎‎标准化‎‎数据，它只是将每个原始值转换为 ‎‎z 得分‎‎。‎"
   ]
  },
  {
   "cell_type": "code",
   "execution_count": 117,
   "id": "0d7bb527-3aca-4001-8d23-d3a8e5697935",
   "metadata": {},
   "outputs": [
    {
     "data": {
      "text/html": [
       "5"
      ],
      "text/latex": [
       "5"
      ],
      "text/markdown": [
       "5"
      ],
      "text/plain": [
       "[1] 5"
      ]
     },
     "metadata": {},
     "output_type": "display_data"
    }
   ],
   "source": [
    "#define vector of values\n",
    "x <- c(1, 2, 3, 4, 5, 6, 7, 8, 9)\n",
    "\n",
    "#view mean and standard deviation of values\n",
    "mean(x)"
   ]
  },
  {
   "cell_type": "code",
   "execution_count": 118,
   "id": "fc64d890-8bd0-430c-a791-6900ee2a00b8",
   "metadata": {},
   "outputs": [
    {
     "data": {
      "text/html": [
       "<table>\n",
       "<tbody>\n",
       "\t<tr><td>-1.4605935</td></tr>\n",
       "\t<tr><td>-1.0954451</td></tr>\n",
       "\t<tr><td>-0.7302967</td></tr>\n",
       "\t<tr><td>-0.3651484</td></tr>\n",
       "\t<tr><td> 0.0000000</td></tr>\n",
       "\t<tr><td> 0.3651484</td></tr>\n",
       "\t<tr><td> 0.7302967</td></tr>\n",
       "\t<tr><td> 1.0954451</td></tr>\n",
       "\t<tr><td> 1.4605935</td></tr>\n",
       "</tbody>\n",
       "</table>\n"
      ],
      "text/latex": [
       "\\begin{tabular}{l}\n",
       "\t -1.4605935\\\\\n",
       "\t -1.0954451\\\\\n",
       "\t -0.7302967\\\\\n",
       "\t -0.3651484\\\\\n",
       "\t  0.0000000\\\\\n",
       "\t  0.3651484\\\\\n",
       "\t  0.7302967\\\\\n",
       "\t  1.0954451\\\\\n",
       "\t  1.4605935\\\\\n",
       "\\end{tabular}\n"
      ],
      "text/markdown": [
       "\n",
       "| -1.4605935 |\n",
       "| -1.0954451 |\n",
       "| -0.7302967 |\n",
       "| -0.3651484 |\n",
       "|  0.0000000 |\n",
       "|  0.3651484 |\n",
       "|  0.7302967 |\n",
       "|  1.0954451 |\n",
       "|  1.4605935 |\n",
       "\n"
      ],
      "text/plain": [
       "      [,1]      \n",
       " [1,] -1.4605935\n",
       " [2,] -1.0954451\n",
       " [3,] -0.7302967\n",
       " [4,] -0.3651484\n",
       " [5,]  0.0000000\n",
       " [6,]  0.3651484\n",
       " [7,]  0.7302967\n",
       " [8,]  1.0954451\n",
       " [9,]  1.4605935"
      ]
     },
     "metadata": {},
     "output_type": "display_data"
    }
   ],
   "source": [
    "#scale the values of x\n",
    "x_scaled <- scale(x)\n",
    "\n",
    "#view scaled values\n",
    "x_scaled"
   ]
  },
  {
   "cell_type": "markdown",
   "id": "f8b81bbe-f038-4073-9640-2aeaa2b34b9d",
   "metadata": {},
   "source": [
    "- Value 1: (1 – 5) / 2.738613 = **-1.46**\n",
    "- Value 2: (2 – 5) / 2.738613 = **-1.09**\n",
    "- Value 3: (3 – 5) / 2.738613 = **-0.73**"
   ]
  },
  {
   "cell_type": "markdown",
   "id": "dff776b8-fbe1-48a5-b7df-9d466d9931f3",
   "metadata": {},
   "source": [
    "‎请注意，如果我们指定 ‎‎scale=FALSE‎‎，则在执行缩放时，函数不会除以标准差：‎"
   ]
  },
  {
   "cell_type": "code",
   "execution_count": 119,
   "id": "ee1ceba6-f6d1-4fe3-819b-35d925cbd293",
   "metadata": {},
   "outputs": [
    {
     "data": {
      "text/html": [
       "<table>\n",
       "<tbody>\n",
       "\t<tr><td>-4</td></tr>\n",
       "\t<tr><td>-3</td></tr>\n",
       "\t<tr><td>-2</td></tr>\n",
       "\t<tr><td>-1</td></tr>\n",
       "\t<tr><td> 0</td></tr>\n",
       "\t<tr><td> 1</td></tr>\n",
       "\t<tr><td> 2</td></tr>\n",
       "\t<tr><td> 3</td></tr>\n",
       "\t<tr><td> 4</td></tr>\n",
       "</tbody>\n",
       "</table>\n"
      ],
      "text/latex": [
       "\\begin{tabular}{l}\n",
       "\t -4\\\\\n",
       "\t -3\\\\\n",
       "\t -2\\\\\n",
       "\t -1\\\\\n",
       "\t  0\\\\\n",
       "\t  1\\\\\n",
       "\t  2\\\\\n",
       "\t  3\\\\\n",
       "\t  4\\\\\n",
       "\\end{tabular}\n"
      ],
      "text/markdown": [
       "\n",
       "| -4 |\n",
       "| -3 |\n",
       "| -2 |\n",
       "| -1 |\n",
       "|  0 |\n",
       "|  1 |\n",
       "|  2 |\n",
       "|  3 |\n",
       "|  4 |\n",
       "\n"
      ],
      "text/plain": [
       "      [,1]\n",
       " [1,] -4  \n",
       " [2,] -3  \n",
       " [3,] -2  \n",
       " [4,] -1  \n",
       " [5,]  0  \n",
       " [6,]  1  \n",
       " [7,]  2  \n",
       " [8,]  3  \n",
       " [9,]  4  "
      ]
     },
     "metadata": {},
     "output_type": "display_data"
    }
   ],
   "source": [
    "#scale the values of x but don't divide by standard deviation\n",
    "x_scaled <- scale(x, scale = FALSE)\n",
    "\n",
    "#view scaled values\n",
    "x_scaled"
   ]
  },
  {
   "cell_type": "markdown",
   "id": "15c6b4ec-f977-4a32-8b8a-2e54a19d8266",
   "metadata": {},
   "source": [
    "- Value 1: 1 – 5 = **-4**\n",
    "- Value 2: 2 – 5 = **-3**\n",
    "- Value 3: 3 – 5 = **-2**"
   ]
  },
  {
   "cell_type": "code",
   "execution_count": 120,
   "id": "8da7a0ac-e7ef-44a9-aba7-9d8803a96e40",
   "metadata": {},
   "outputs": [
    {
     "data": {
      "text/html": [
       "<table>\n",
       "<thead><tr><th scope=col>x</th><th scope=col>y</th></tr></thead>\n",
       "<tbody>\n",
       "\t<tr><td>1 </td><td>10</td></tr>\n",
       "\t<tr><td>2 </td><td>20</td></tr>\n",
       "\t<tr><td>3 </td><td>30</td></tr>\n",
       "\t<tr><td>4 </td><td>40</td></tr>\n",
       "\t<tr><td>5 </td><td>50</td></tr>\n",
       "\t<tr><td>6 </td><td>60</td></tr>\n",
       "\t<tr><td>7 </td><td>70</td></tr>\n",
       "\t<tr><td>8 </td><td>80</td></tr>\n",
       "\t<tr><td>9 </td><td>90</td></tr>\n",
       "</tbody>\n",
       "</table>\n"
      ],
      "text/latex": [
       "\\begin{tabular}{r|ll}\n",
       " x & y\\\\\n",
       "\\hline\n",
       "\t 1  & 10\\\\\n",
       "\t 2  & 20\\\\\n",
       "\t 3  & 30\\\\\n",
       "\t 4  & 40\\\\\n",
       "\t 5  & 50\\\\\n",
       "\t 6  & 60\\\\\n",
       "\t 7  & 70\\\\\n",
       "\t 8  & 80\\\\\n",
       "\t 9  & 90\\\\\n",
       "\\end{tabular}\n"
      ],
      "text/markdown": [
       "\n",
       "| x | y |\n",
       "|---|---|\n",
       "| 1  | 10 |\n",
       "| 2  | 20 |\n",
       "| 3  | 30 |\n",
       "| 4  | 40 |\n",
       "| 5  | 50 |\n",
       "| 6  | 60 |\n",
       "| 7  | 70 |\n",
       "| 8  | 80 |\n",
       "| 9  | 90 |\n",
       "\n"
      ],
      "text/plain": [
       "  x y \n",
       "1 1 10\n",
       "2 2 20\n",
       "3 3 30\n",
       "4 4 40\n",
       "5 5 50\n",
       "6 6 60\n",
       "7 7 70\n",
       "8 8 80\n",
       "9 9 90"
      ]
     },
     "metadata": {},
     "output_type": "display_data"
    }
   ],
   "source": [
    "#create data frame\n",
    "df <- data.frame(x=c(1, 2, 3, 4, 5, 6, 7, 8, 9),\n",
    "                 y=c(10, 20, 30, 40, 50, 60, 70, 80, 90))\n",
    "\n",
    "#view data frame\n",
    "df\n"
   ]
  },
  {
   "cell_type": "code",
   "execution_count": 121,
   "id": "6e2dcebe-61fd-46d2-ad1c-7ac8f4f6096a",
   "metadata": {},
   "outputs": [
    {
     "data": {
      "text/html": [
       "<table>\n",
       "<thead><tr><th scope=col>x</th><th scope=col>y</th></tr></thead>\n",
       "<tbody>\n",
       "\t<tr><td>-1.4605935</td><td>-1.4605935</td></tr>\n",
       "\t<tr><td>-1.0954451</td><td>-1.0954451</td></tr>\n",
       "\t<tr><td>-0.7302967</td><td>-0.7302967</td></tr>\n",
       "\t<tr><td>-0.3651484</td><td>-0.3651484</td></tr>\n",
       "\t<tr><td> 0.0000000</td><td> 0.0000000</td></tr>\n",
       "\t<tr><td> 0.3651484</td><td> 0.3651484</td></tr>\n",
       "\t<tr><td> 0.7302967</td><td> 0.7302967</td></tr>\n",
       "\t<tr><td> 1.0954451</td><td> 1.0954451</td></tr>\n",
       "\t<tr><td> 1.4605935</td><td> 1.4605935</td></tr>\n",
       "</tbody>\n",
       "</table>\n"
      ],
      "text/latex": [
       "\\begin{tabular}{ll}\n",
       " x & y\\\\\n",
       "\\hline\n",
       "\t -1.4605935 & -1.4605935\\\\\n",
       "\t -1.0954451 & -1.0954451\\\\\n",
       "\t -0.7302967 & -0.7302967\\\\\n",
       "\t -0.3651484 & -0.3651484\\\\\n",
       "\t  0.0000000 &  0.0000000\\\\\n",
       "\t  0.3651484 &  0.3651484\\\\\n",
       "\t  0.7302967 &  0.7302967\\\\\n",
       "\t  1.0954451 &  1.0954451\\\\\n",
       "\t  1.4605935 &  1.4605935\\\\\n",
       "\\end{tabular}\n"
      ],
      "text/markdown": [
       "\n",
       "| x | y |\n",
       "|---|---|\n",
       "| -1.4605935 | -1.4605935 |\n",
       "| -1.0954451 | -1.0954451 |\n",
       "| -0.7302967 | -0.7302967 |\n",
       "| -0.3651484 | -0.3651484 |\n",
       "|  0.0000000 |  0.0000000 |\n",
       "|  0.3651484 |  0.3651484 |\n",
       "|  0.7302967 |  0.7302967 |\n",
       "|  1.0954451 |  1.0954451 |\n",
       "|  1.4605935 |  1.4605935 |\n",
       "\n"
      ],
      "text/plain": [
       "      x          y         \n",
       " [1,] -1.4605935 -1.4605935\n",
       " [2,] -1.0954451 -1.0954451\n",
       " [3,] -0.7302967 -0.7302967\n",
       " [4,] -0.3651484 -0.3651484\n",
       " [5,]  0.0000000  0.0000000\n",
       " [6,]  0.3651484  0.3651484\n",
       " [7,]  0.7302967  0.7302967\n",
       " [8,]  1.0954451  1.0954451\n",
       " [9,]  1.4605935  1.4605935"
      ]
     },
     "metadata": {},
     "output_type": "display_data"
    }
   ],
   "source": [
    "#scale values in each column of data frame\n",
    "df_scaled <- scale(df)\n",
    "\n",
    "#view scaled data frame\n",
    "df_scaled"
   ]
  },
  {
   "cell_type": "markdown",
   "id": "380657e9-b510-4bd6-92ef-17bb6964891f",
   "metadata": {},
   "source": [
    "## 49. Table 函数"
   ]
  },
  {
   "cell_type": "code",
   "execution_count": 122,
   "id": "d7f32515-5ce3-4aae-91bf-52f71fe7fc3b",
   "metadata": {},
   "outputs": [
    {
     "data": {
      "text/html": [
       "<table>\n",
       "<thead><tr><th scope=col>player</th><th scope=col>position</th><th scope=col>points</th></tr></thead>\n",
       "<tbody>\n",
       "\t<tr><td>AJ   </td><td>A    </td><td>1    </td></tr>\n",
       "\t<tr><td>Bob  </td><td>B    </td><td>2    </td></tr>\n",
       "\t<tr><td>Chad </td><td>B    </td><td>2    </td></tr>\n",
       "\t<tr><td>Dan  </td><td>B    </td><td>1    </td></tr>\n",
       "\t<tr><td>Eric </td><td>B    </td><td>0    </td></tr>\n",
       "\t<tr><td>Frank</td><td>A    </td><td>0    </td></tr>\n",
       "</tbody>\n",
       "</table>\n"
      ],
      "text/latex": [
       "\\begin{tabular}{r|lll}\n",
       " player & position & points\\\\\n",
       "\\hline\n",
       "\t AJ    & A     & 1    \\\\\n",
       "\t Bob   & B     & 2    \\\\\n",
       "\t Chad  & B     & 2    \\\\\n",
       "\t Dan   & B     & 1    \\\\\n",
       "\t Eric  & B     & 0    \\\\\n",
       "\t Frank & A     & 0    \\\\\n",
       "\\end{tabular}\n"
      ],
      "text/markdown": [
       "\n",
       "| player | position | points |\n",
       "|---|---|---|\n",
       "| AJ    | A     | 1     |\n",
       "| Bob   | B     | 2     |\n",
       "| Chad  | B     | 2     |\n",
       "| Dan   | B     | 1     |\n",
       "| Eric  | B     | 0     |\n",
       "| Frank | A     | 0     |\n",
       "\n"
      ],
      "text/plain": [
       "  player position points\n",
       "1 AJ     A        1     \n",
       "2 Bob    B        2     \n",
       "3 Chad   B        2     \n",
       "4 Dan    B        1     \n",
       "5 Eric   B        0     \n",
       "6 Frank  A        0     "
      ]
     },
     "metadata": {},
     "output_type": "display_data"
    }
   ],
   "source": [
    "#create data frame\n",
    "df <- data.frame(player = c('AJ', 'Bob', 'Chad', 'Dan', 'Eric', 'Frank'),\n",
    "                 position = c('A', 'B', 'B', 'B', 'B', 'A'),\n",
    "                 points = c(1, 2, 2, 1, 0, 0))\n",
    "\n",
    "#view data frame\n",
    "df"
   ]
  },
  {
   "cell_type": "code",
   "execution_count": 123,
   "id": "b0768132-ae5a-411f-96a6-9c80c1790c7c",
   "metadata": {},
   "outputs": [
    {
     "data": {
      "text/plain": [
       "\n",
       "A B \n",
       "2 4 "
      ]
     },
     "metadata": {},
     "output_type": "display_data"
    }
   ],
   "source": [
    "#calculate frequency table for position variable\n",
    "table(df$position)"
   ]
  },
  {
   "cell_type": "markdown",
   "id": "84f7a002-3e3b-4d21-8e86-b271e9fa053b",
   "metadata": {},
   "source": [
    "‎下面的代码演示如何使用 ‎‎prop.table（）‎‎ 为数据框中‎‎的位置‎‎变量创建比例的频率表：‎"
   ]
  },
  {
   "cell_type": "code",
   "execution_count": 124,
   "id": "dabb02c8-6fbe-4181-a36c-e81f5fae342f",
   "metadata": {},
   "outputs": [
    {
     "data": {
      "text/plain": [
       "\n",
       "        A         B \n",
       "0.3333333 0.6666667 "
      ]
     },
     "metadata": {},
     "output_type": "display_data"
    }
   ],
   "source": [
    "#calculate frequency table of proportions for position variable\n",
    "prop.table(table(df$position))"
   ]
  },
  {
   "cell_type": "markdown",
   "id": "252bf8d6-83a2-41cf-ae24-f1573b82a813",
   "metadata": {},
   "source": [
    "33.33% of players in the data frame have a position of ‘A‘\n",
    "\n",
    "66.67% of players in the data frame have a position of ‘B‘"
   ]
  },
  {
   "cell_type": "code",
   "execution_count": 125,
   "id": "69dded49-0b6c-4329-8e21-121bb7274119",
   "metadata": {},
   "outputs": [
    {
     "data": {
      "text/plain": [
       "   \n",
       "    0 1 2\n",
       "  A 1 1 0\n",
       "  B 1 1 2"
      ]
     },
     "metadata": {},
     "output_type": "display_data"
    }
   ],
   "source": [
    "#calculate frequency table for position and points variable\n",
    "table(df$position, df$points)"
   ]
  },
  {
   "cell_type": "markdown",
   "id": "95811a91-2c2a-47ae-a68c-bc56b2bdb2fe",
   "metadata": {},
   "source": [
    "- 1 player in the data frame has a position of ‘**A**‘ and **0** points\n",
    "- 1 player in the data frame has a position of ‘**A**‘ and **1** point\n",
    "- 0 players in the data frame have a position of ‘**A**‘ and **2** points\n",
    "- 1 player in the data frame has a position of ‘**B**‘ and **0** points\n",
    "- 1 player in the data frame has a position of ‘**B**‘ and **1** point\n",
    "- 2 players in the data frame have a position of ‘**B**‘ and **2** points"
   ]
  },
  {
   "cell_type": "code",
   "execution_count": 126,
   "id": "609ab0e8-24b0-470c-8def-62b27c3a6cbe",
   "metadata": {},
   "outputs": [
    {
     "data": {
      "text/plain": [
       "   \n",
       "            0         1         2\n",
       "  A 0.1666667 0.1666667 0.0000000\n",
       "  B 0.1666667 0.1666667 0.3333333"
      ]
     },
     "metadata": {},
     "output_type": "display_data"
    }
   ],
   "source": [
    "#calculate frequency table of proportions for position and points variable\n",
    "prop.table(table(df$position, df$points))"
   ]
  },
  {
   "cell_type": "markdown",
   "id": "bc20536d-d001-4e4e-8454-cd7c61dba8af",
   "metadata": {},
   "source": [
    "## 50. par() 画图"
   ]
  },
  {
   "cell_type": "code",
   "execution_count": 127,
   "id": "941f2bdd-bcad-4786-895d-eab9daa02a09",
   "metadata": {},
   "outputs": [
    {
     "data": {
      "image/png": "[encoded data removed]",
      "text/plain": [
       "plot without title"
      ]
     },
     "metadata": {},
     "output_type": "display_data"
    }
   ],
   "source": [
    "#define plot area as three rows and one column\n",
    "par(mfrow = c(3, 1))    \n",
    "\n",
    "#create plots\n",
    "plot(1:5, pch=19, col='red')\n",
    "plot(1:10, pch=19, col='blue')\n",
    "plot(1:20, pch=19, col='green')"
   ]
  },
  {
   "cell_type": "markdown",
   "id": "45eab60d-c98a-4ea3-ae2d-d2a2786850c2",
   "metadata": {},
   "source": [
    "‎下面的代码演示如何使用 ‎‎mar（）‎‎ 参数按以下顺序指定每个绘图周围的边距：底部、左侧、顶部、右侧。‎"
   ]
  },
  {
   "cell_type": "code",
   "execution_count": 128,
   "id": "e73cb070-456a-4ee4-b0c6-894f8799137a",
   "metadata": {},
   "outputs": [
    {
     "data": {
      "image/png": "[encoded data removed]",
      "text/plain": [
       "plot without title"
      ]
     },
     "metadata": {},
     "output_type": "display_data"
    }
   ],
   "source": [
    "#define plot area with tiny bottom margin and huge right margin\n",
    "par(mfrow = c(3, 1), mar = c(0.5, 4, 4, 20))    \n",
    "\n",
    "#create plots\n",
    "plot(1:5, pch=19, col='red')\n",
    "plot(1:10, pch=19, col='blue')\n",
    "plot(1:20, pch=19, col='green')"
   ]
  },
  {
   "cell_type": "markdown",
   "id": "27fa1442-8757-4b04-b8c0-b7c13bff1c0d",
   "metadata": {},
   "source": [
    "‎下面的代码演示如何使用 ‎**‎cex.lab（）‎**‎ 和 ‎**‎cex.axis（）‎**‎ 参数分别指定轴标签和刻度标签的大小。‎\n",
    "\n",
    "**‎注意：‎**‎默认值为 cex.lab = 1，cex.axis = 1‎"
   ]
  },
  {
   "cell_type": "code",
   "execution_count": 129,
   "id": "b0ebdeb0-9c3d-475e-b605-d5ba21ceb77a",
   "metadata": {},
   "outputs": [
    {
     "data": {
      "image/png": "[encoded data removed]",
      "text/plain": [
       "plot without title"
      ]
     },
     "metadata": {},
     "output_type": "display_data"
    }
   ],
   "source": [
    "#define plot area with large axis labels\n",
    "par(mfrow = c(3, 1), mar = c(5, 10, 4, 1), cex.axis = 3, cex.lab = 3)    \n",
    "\n",
    "#create plots\n",
    "plot(1:5, pch=19, col='red')\n",
    "plot(1:10, pch=19, col='blue')\n",
    "plot(1:20, pch=19, col='green')"
   ]
  },
  {
   "cell_type": "code",
   "execution_count": 130,
   "id": "d4779ccc-7256-4720-a270-f0989185c7b7",
   "metadata": {},
   "outputs": [
    {
     "data": {
      "text/html": [
       "<strong>null device:</strong> 1"
      ],
      "text/latex": [
       "\\textbf{null device:} 1"
      ],
      "text/markdown": [
       "**null device:** 1"
      ],
      "text/plain": [
       "null device \n",
       "          1 "
      ]
     },
     "metadata": {},
     "output_type": "display_data"
    }
   ],
   "source": [
    "#reset par() options\n",
    "dev.off()"
   ]
  },
  {
   "cell_type": "markdown",
   "id": "45feea92-1028-40a8-9193-87411e72aba9",
   "metadata": {},
   "source": [
    "## 51. aggregate()"
   ]
  },
  {
   "cell_type": "code",
   "execution_count": 131,
   "id": "619976c6-12f3-4d9f-9f88-ee0f90ac4180",
   "metadata": {},
   "outputs": [
    {
     "data": {
      "text/html": [
       "<table>\n",
       "<thead><tr><th scope=col>team</th><th scope=col>position</th><th scope=col>points</th><th scope=col>assists</th><th scope=col>rebounds</th></tr></thead>\n",
       "<tbody>\n",
       "\t<tr><td>A </td><td>G </td><td>99</td><td>33</td><td>30</td></tr>\n",
       "\t<tr><td>A </td><td>G </td><td>90</td><td>28</td><td>28</td></tr>\n",
       "\t<tr><td>A </td><td>F </td><td>86</td><td>31</td><td>24</td></tr>\n",
       "\t<tr><td>B </td><td>G </td><td>88</td><td>39</td><td>24</td></tr>\n",
       "\t<tr><td>B </td><td>F </td><td>95</td><td>34</td><td>28</td></tr>\n",
       "\t<tr><td>B </td><td>F </td><td>99</td><td>23</td><td>33</td></tr>\n",
       "</tbody>\n",
       "</table>\n"
      ],
      "text/latex": [
       "\\begin{tabular}{r|lllll}\n",
       " team & position & points & assists & rebounds\\\\\n",
       "\\hline\n",
       "\t A  & G  & 99 & 33 & 30\\\\\n",
       "\t A  & G  & 90 & 28 & 28\\\\\n",
       "\t A  & F  & 86 & 31 & 24\\\\\n",
       "\t B  & G  & 88 & 39 & 24\\\\\n",
       "\t B  & F  & 95 & 34 & 28\\\\\n",
       "\t B  & F  & 99 & 23 & 33\\\\\n",
       "\\end{tabular}\n"
      ],
      "text/markdown": [
       "\n",
       "| team | position | points | assists | rebounds |\n",
       "|---|---|---|---|---|\n",
       "| A  | G  | 99 | 33 | 30 |\n",
       "| A  | G  | 90 | 28 | 28 |\n",
       "| A  | F  | 86 | 31 | 24 |\n",
       "| B  | G  | 88 | 39 | 24 |\n",
       "| B  | F  | 95 | 34 | 28 |\n",
       "| B  | F  | 99 | 23 | 33 |\n",
       "\n"
      ],
      "text/plain": [
       "  team position points assists rebounds\n",
       "1 A    G        99     33      30      \n",
       "2 A    G        90     28      28      \n",
       "3 A    F        86     31      24      \n",
       "4 B    G        88     39      24      \n",
       "5 B    F        95     34      28      \n",
       "6 B    F        99     23      33      "
      ]
     },
     "metadata": {},
     "output_type": "display_data"
    }
   ],
   "source": [
    "#create data frame\n",
    "df <- data.frame(team=c('A', 'A', 'A', 'B', 'B', 'B'),\n",
    "                 position=c('G', 'G', 'F', 'G', 'F', 'F'),\n",
    "                 points=c(99, 90, 86, 88, 95, 99),\n",
    "                 assists=c(33, 28, 31, 39, 34, 23),\n",
    "                 rebounds=c(30, 28, 24, 24, 28, 33))\n",
    "\n",
    "#view data frame\n",
    "df"
   ]
  },
  {
   "cell_type": "code",
   "execution_count": 132,
   "id": "469432b6-25cf-4e49-a46d-47275b317b07",
   "metadata": {},
   "outputs": [
    {
     "data": {
      "text/html": [
       "<table>\n",
       "<thead><tr><th scope=col>Group.1</th><th scope=col>x</th></tr></thead>\n",
       "<tbody>\n",
       "\t<tr><td>A       </td><td>91.66667</td></tr>\n",
       "\t<tr><td>B       </td><td>94.00000</td></tr>\n",
       "</tbody>\n",
       "</table>\n"
      ],
      "text/latex": [
       "\\begin{tabular}{r|ll}\n",
       " Group.1 & x\\\\\n",
       "\\hline\n",
       "\t A        & 91.66667\\\\\n",
       "\t B        & 94.00000\\\\\n",
       "\\end{tabular}\n"
      ],
      "text/markdown": [
       "\n",
       "| Group.1 | x |\n",
       "|---|---|\n",
       "| A        | 91.66667 |\n",
       "| B        | 94.00000 |\n",
       "\n"
      ],
      "text/plain": [
       "  Group.1 x       \n",
       "1 A       91.66667\n",
       "2 B       94.00000"
      ]
     },
     "metadata": {},
     "output_type": "display_data"
    }
   ],
   "source": [
    "#find mean points by team\n",
    "aggregate(df$points, by=list(df$team), FUN=mean)"
   ]
  },
  {
   "cell_type": "code",
   "execution_count": 133,
   "id": "54696959-4455-4b7a-a127-1eb1592934ac",
   "metadata": {},
   "outputs": [
    {
     "data": {
      "text/html": [
       "<table>\n",
       "<thead><tr><th scope=col>Team</th><th scope=col>Mean_Points</th></tr></thead>\n",
       "<tbody>\n",
       "\t<tr><td>A       </td><td>91.66667</td></tr>\n",
       "\t<tr><td>B       </td><td>94.00000</td></tr>\n",
       "</tbody>\n",
       "</table>\n"
      ],
      "text/latex": [
       "\\begin{tabular}{r|ll}\n",
       " Team & Mean\\_Points\\\\\n",
       "\\hline\n",
       "\t A        & 91.66667\\\\\n",
       "\t B        & 94.00000\\\\\n",
       "\\end{tabular}\n"
      ],
      "text/markdown": [
       "\n",
       "| Team | Mean_Points |\n",
       "|---|---|\n",
       "| A        | 91.66667 |\n",
       "| B        | 94.00000 |\n",
       "\n"
      ],
      "text/plain": [
       "  Team Mean_Points\n",
       "1 A    91.66667   \n",
       "2 B    94.00000   "
      ]
     },
     "metadata": {},
     "output_type": "display_data"
    }
   ],
   "source": [
    "#find mean points by team\n",
    "agg <- aggregate(df$points, by=list(df$team), FUN=mean)\n",
    "\n",
    "#rename columns in output\n",
    "colnames(agg) <- c('Team', 'Mean_Points')\n",
    "\n",
    "#view output\n",
    "agg"
   ]
  },
  {
   "cell_type": "code",
   "execution_count": 134,
   "id": "22b08926-c7dd-4c38-b734-dc9dd0ff9389",
   "metadata": {},
   "outputs": [
    {
     "data": {
      "text/html": [
       "<table>\n",
       "<thead><tr><th scope=col>Group.1</th><th scope=col>x</th></tr></thead>\n",
       "<tbody>\n",
       "\t<tr><td>A</td><td>3</td></tr>\n",
       "\t<tr><td>B</td><td>3</td></tr>\n",
       "</tbody>\n",
       "</table>\n"
      ],
      "text/latex": [
       "\\begin{tabular}{r|ll}\n",
       " Group.1 & x\\\\\n",
       "\\hline\n",
       "\t A & 3\\\\\n",
       "\t B & 3\\\\\n",
       "\\end{tabular}\n"
      ],
      "text/markdown": [
       "\n",
       "| Group.1 | x |\n",
       "|---|---|\n",
       "| A | 3 |\n",
       "| B | 3 |\n",
       "\n"
      ],
      "text/plain": [
       "  Group.1 x\n",
       "1 A       3\n",
       "2 B       3"
      ]
     },
     "metadata": {},
     "output_type": "display_data"
    }
   ],
   "source": [
    "#count number of players by team\n",
    "aggregate(df$points, by=list(df$team), FUN=length)"
   ]
  },
  {
   "cell_type": "code",
   "execution_count": 135,
   "id": "ce986a87-20db-45fc-9e50-97e95ffabe84",
   "metadata": {},
   "outputs": [
    {
     "data": {
      "text/html": [
       "<table>\n",
       "<thead><tr><th scope=col>Group.1</th><th scope=col>x</th></tr></thead>\n",
       "<tbody>\n",
       "\t<tr><td>A  </td><td>275</td></tr>\n",
       "\t<tr><td>B  </td><td>282</td></tr>\n",
       "</tbody>\n",
       "</table>\n"
      ],
      "text/latex": [
       "\\begin{tabular}{r|ll}\n",
       " Group.1 & x\\\\\n",
       "\\hline\n",
       "\t A   & 275\\\\\n",
       "\t B   & 282\\\\\n",
       "\\end{tabular}\n"
      ],
      "text/markdown": [
       "\n",
       "| Group.1 | x |\n",
       "|---|---|\n",
       "| A   | 275 |\n",
       "| B   | 282 |\n",
       "\n"
      ],
      "text/plain": [
       "  Group.1 x  \n",
       "1 A       275\n",
       "2 B       282"
      ]
     },
     "metadata": {},
     "output_type": "display_data"
    }
   ],
   "source": [
    "#find sum of points scored by team\n",
    "aggregate(df$points, by=list(df$team), FUN=sum)"
   ]
  },
  {
   "cell_type": "code",
   "execution_count": 136,
   "id": "bf05b522-06eb-48bd-ba7e-f51a7058d3d5",
   "metadata": {},
   "outputs": [
    {
     "data": {
      "text/html": [
       "<table>\n",
       "<thead><tr><th scope=col>Group.1</th><th scope=col>Group.2</th><th scope=col>x</th></tr></thead>\n",
       "<tbody>\n",
       "\t<tr><td>A   </td><td>F   </td><td>86.0</td></tr>\n",
       "\t<tr><td>B   </td><td>F   </td><td>97.0</td></tr>\n",
       "\t<tr><td>A   </td><td>G   </td><td>94.5</td></tr>\n",
       "\t<tr><td>B   </td><td>G   </td><td>88.0</td></tr>\n",
       "</tbody>\n",
       "</table>\n"
      ],
      "text/latex": [
       "\\begin{tabular}{r|lll}\n",
       " Group.1 & Group.2 & x\\\\\n",
       "\\hline\n",
       "\t A    & F    & 86.0\\\\\n",
       "\t B    & F    & 97.0\\\\\n",
       "\t A    & G    & 94.5\\\\\n",
       "\t B    & G    & 88.0\\\\\n",
       "\\end{tabular}\n"
      ],
      "text/markdown": [
       "\n",
       "| Group.1 | Group.2 | x |\n",
       "|---|---|---|\n",
       "| A    | F    | 86.0 |\n",
       "| B    | F    | 97.0 |\n",
       "| A    | G    | 94.5 |\n",
       "| B    | G    | 88.0 |\n",
       "\n"
      ],
      "text/plain": [
       "  Group.1 Group.2 x   \n",
       "1 A       F       86.0\n",
       "2 B       F       97.0\n",
       "3 A       G       94.5\n",
       "4 B       G       88.0"
      ]
     },
     "metadata": {},
     "output_type": "display_data"
    }
   ],
   "source": [
    "#find mean of points scored, grouped by team and position\n",
    "aggregate(df$points, by=list(df$team, df$position), FUN=mean)"
   ]
  },
  {
   "cell_type": "markdown",
   "id": "e9265b8e-fd80-444d-b537-0125eb7965e5",
   "metadata": {},
   "source": [
    "## 52. nrow "
   ]
  },
  {
   "cell_type": "code",
   "execution_count": 137,
   "id": "043f409c-7de4-432c-a0b6-dc5d66a4edb6",
   "metadata": {},
   "outputs": [
    {
     "data": {
      "text/html": [
       "<table>\n",
       "<thead><tr><th scope=col>x</th><th scope=col>y</th></tr></thead>\n",
       "<tbody>\n",
       "\t<tr><td> 1</td><td> 8</td></tr>\n",
       "\t<tr><td> 2</td><td>14</td></tr>\n",
       "\t<tr><td> 3</td><td>NA</td></tr>\n",
       "\t<tr><td> 3</td><td>25</td></tr>\n",
       "\t<tr><td> 5</td><td>29</td></tr>\n",
       "\t<tr><td>NA</td><td>NA</td></tr>\n",
       "</tbody>\n",
       "</table>\n"
      ],
      "text/latex": [
       "\\begin{tabular}{r|ll}\n",
       " x & y\\\\\n",
       "\\hline\n",
       "\t  1 &  8\\\\\n",
       "\t  2 & 14\\\\\n",
       "\t  3 & NA\\\\\n",
       "\t  3 & 25\\\\\n",
       "\t  5 & 29\\\\\n",
       "\t NA & NA\\\\\n",
       "\\end{tabular}\n"
      ],
      "text/markdown": [
       "\n",
       "| x | y |\n",
       "|---|---|\n",
       "|  1 |  8 |\n",
       "|  2 | 14 |\n",
       "|  3 | NA |\n",
       "|  3 | 25 |\n",
       "|  5 | 29 |\n",
       "| NA | NA |\n",
       "\n"
      ],
      "text/plain": [
       "  x  y \n",
       "1  1  8\n",
       "2  2 14\n",
       "3  3 NA\n",
       "4  3 25\n",
       "5  5 29\n",
       "6 NA NA"
      ]
     },
     "metadata": {},
     "output_type": "display_data"
    }
   ],
   "source": [
    "#create data frame\n",
    "df <- data.frame(x=c(1, 2, 3, 3, 5, NA),\n",
    "                 y=c(8, 14, NA, 25, 29, NA)) \n",
    "\n",
    "#view data frame\n",
    "df"
   ]
  },
  {
   "cell_type": "code",
   "execution_count": 138,
   "id": "7ab4faec-33b6-448c-ad41-d90f021d7de1",
   "metadata": {},
   "outputs": [
    {
     "data": {
      "text/html": [
       "6"
      ],
      "text/latex": [
       "6"
      ],
      "text/markdown": [
       "6"
      ],
      "text/plain": [
       "[1] 6"
      ]
     },
     "metadata": {},
     "output_type": "display_data"
    }
   ],
   "source": [
    "#count total rows in data frame\n",
    "nrow(df)"
   ]
  },
  {
   "cell_type": "code",
   "execution_count": 139,
   "id": "673b97a0-c9ee-462d-a623-649cdf38317d",
   "metadata": {},
   "outputs": [
    {
     "data": {
      "text/html": [
       "1"
      ],
      "text/latex": [
       "1"
      ],
      "text/markdown": [
       "1"
      ],
      "text/plain": [
       "[1] 1"
      ]
     },
     "metadata": {},
     "output_type": "display_data"
    }
   ],
   "source": [
    "#count total rows in data frame where 'x' is greater than 3 and not blank\n",
    "nrow(df[df$x>3 & !is.na(df$x), ])"
   ]
  },
  {
   "cell_type": "code",
   "execution_count": 140,
   "id": "d51ad3a8-a370-402c-9da8-54e31b467921",
   "metadata": {},
   "outputs": [
    {
     "data": {
      "text/html": [
       "4"
      ],
      "text/latex": [
       "4"
      ],
      "text/markdown": [
       "4"
      ],
      "text/plain": [
       "[1] 4"
      ]
     },
     "metadata": {},
     "output_type": "display_data"
    }
   ],
   "source": [
    "#count total rows in data frame with no missing values in any column\n",
    "nrow(df[complete.cases(df), ])"
   ]
  },
  {
   "cell_type": "code",
   "execution_count": 141,
   "id": "24fbb4c4-aed8-4f00-b2b5-b3bcba356420",
   "metadata": {},
   "outputs": [
    {
     "data": {
      "text/html": [
       "2"
      ],
      "text/latex": [
       "2"
      ],
      "text/markdown": [
       "2"
      ],
      "text/plain": [
       "[1] 2"
      ]
     },
     "metadata": {},
     "output_type": "display_data"
    }
   ],
   "source": [
    "#count total rows in with missing value in 'y' column\n",
    "nrow(df[is.na(df$y), ])"
   ]
  },
  {
   "cell_type": "code",
   "execution_count": 142,
   "id": "2a52c4cf-2c32-4e2d-a658-5ecef1bc492c",
   "metadata": {},
   "outputs": [
    {
     "data": {
      "text/html": [
       "2"
      ],
      "text/latex": [
       "2"
      ],
      "text/markdown": [
       "2"
      ],
      "text/plain": [
       "[1] 2"
      ]
     },
     "metadata": {},
     "output_type": "display_data"
    }
   ],
   "source": [
    "#display number of columns in data frame\n",
    "ncol(df)"
   ]
  },
  {
   "cell_type": "markdown",
   "id": "30b5fbe7-b1d5-46f1-8673-a594bf791adb",
   "metadata": {},
   "source": [
    "## 53. gsub()替换字符串"
   ]
  },
  {
   "cell_type": "code",
   "execution_count": 143,
   "id": "25bcd481-3179-4c71-85b8-bad873bfe5b3",
   "metadata": {},
   "outputs": [
    {
     "data": {
      "text/html": [
       "'This is a great sentence'"
      ],
      "text/latex": [
       "'This is a great sentence'"
      ],
      "text/markdown": [
       "'This is a great sentence'"
      ],
      "text/plain": [
       "[1] \"This is a great sentence\""
      ]
     },
     "metadata": {},
     "output_type": "display_data"
    }
   ],
   "source": [
    "#define string\n",
    "x <- \"This is a fun sentence\"\n",
    "\n",
    "#replace 'fun' with 'great'\n",
    "x <- gsub('fun', 'great', x)\n",
    "\n",
    "#view updated string\n",
    "x"
   ]
  },
  {
   "cell_type": "code",
   "execution_count": 144,
   "id": "74c9df86-9a27-45c0-a507-455c7cc11a49",
   "metadata": {},
   "outputs": [
    {
     "data": {
      "text/html": [
       "<ol class=list-inline>\n",
       "\t<li>'M'</li>\n",
       "\t<li>'M'</li>\n",
       "\t<li>'Spurs'</li>\n",
       "\t<li>'Nets'</li>\n",
       "\t<li>'Spurs'</li>\n",
       "\t<li>'M'</li>\n",
       "</ol>\n"
      ],
      "text/latex": [
       "\\begin{enumerate*}\n",
       "\\item 'M'\n",
       "\\item 'M'\n",
       "\\item 'Spurs'\n",
       "\\item 'Nets'\n",
       "\\item 'Spurs'\n",
       "\\item 'M'\n",
       "\\end{enumerate*}\n"
      ],
      "text/markdown": [
       "1. 'M'\n",
       "2. 'M'\n",
       "3. 'Spurs'\n",
       "4. 'Nets'\n",
       "5. 'Spurs'\n",
       "6. 'M'\n",
       "\n",
       "\n"
      ],
      "text/plain": [
       "[1] \"M\"     \"M\"     \"Spurs\" \"Nets\"  \"Spurs\" \"M\"    "
      ]
     },
     "metadata": {},
     "output_type": "display_data"
    }
   ],
   "source": [
    "#define vector\n",
    "x <- c('Mavs', 'Mavs', 'Spurs', 'Nets', 'Spurs', 'Mavs')\n",
    "\n",
    "#replace 'Mavs' with 'M'\n",
    "x <- gsub('Mavs', 'M', x)\n",
    "\n",
    "#view updated vector\n",
    "x"
   ]
  },
  {
   "cell_type": "code",
   "execution_count": 145,
   "id": "863660f2-3927-403a-9bcf-71d57bf676b5",
   "metadata": {},
   "outputs": [
    {
     "data": {
      "text/html": [
       "<ol class=list-inline>\n",
       "\t<li>'X'</li>\n",
       "\t<li>'X'</li>\n",
       "\t<li>'X'</li>\n",
       "\t<li>'X'</li>\n",
       "\t<li>'D'</li>\n",
       "\t<li>'D'</li>\n",
       "</ol>\n"
      ],
      "text/latex": [
       "\\begin{enumerate*}\n",
       "\\item 'X'\n",
       "\\item 'X'\n",
       "\\item 'X'\n",
       "\\item 'X'\n",
       "\\item 'D'\n",
       "\\item 'D'\n",
       "\\end{enumerate*}\n"
      ],
      "text/markdown": [
       "1. 'X'\n",
       "2. 'X'\n",
       "3. 'X'\n",
       "4. 'X'\n",
       "5. 'D'\n",
       "6. 'D'\n",
       "\n",
       "\n"
      ],
      "text/plain": [
       "[1] \"X\" \"X\" \"X\" \"X\" \"D\" \"D\""
      ]
     },
     "metadata": {},
     "output_type": "display_data"
    }
   ],
   "source": [
    "#define vector\n",
    "x <- c('A', 'A', 'B', 'C', 'D', 'D')\n",
    "\n",
    "#replace 'A' or 'B' or 'C' with 'X'\n",
    "x <- gsub('A|B|C', 'X', x)\n",
    "\n",
    "#view updated string\n",
    "x"
   ]
  },
  {
   "cell_type": "code",
   "execution_count": 146,
   "id": "900d7a77-1dba-46b8-8252-c8f9dcf1248f",
   "metadata": {},
   "outputs": [
    {
     "data": {
      "text/html": [
       "<table>\n",
       "<thead><tr><th scope=col>team</th><th scope=col>conf</th><th scope=col>points</th><th scope=col>rebounds</th></tr></thead>\n",
       "<tbody>\n",
       "\t<tr><td>A   </td><td>West</td><td>99  </td><td>18  </td></tr>\n",
       "\t<tr><td>B   </td><td>West</td><td>98  </td><td>22  </td></tr>\n",
       "\t<tr><td>C   </td><td>East</td><td>92  </td><td>26  </td></tr>\n",
       "\t<tr><td>D   </td><td>East</td><td>87  </td><td>19  </td></tr>\n",
       "</tbody>\n",
       "</table>\n"
      ],
      "text/latex": [
       "\\begin{tabular}{r|llll}\n",
       " team & conf & points & rebounds\\\\\n",
       "\\hline\n",
       "\t A    & West & 99   & 18  \\\\\n",
       "\t B    & West & 98   & 22  \\\\\n",
       "\t C    & East & 92   & 26  \\\\\n",
       "\t D    & East & 87   & 19  \\\\\n",
       "\\end{tabular}\n"
      ],
      "text/markdown": [
       "\n",
       "| team | conf | points | rebounds |\n",
       "|---|---|---|---|\n",
       "| A    | West | 99   | 18   |\n",
       "| B    | West | 98   | 22   |\n",
       "| C    | East | 92   | 26   |\n",
       "| D    | East | 87   | 19   |\n",
       "\n"
      ],
      "text/plain": [
       "  team conf points rebounds\n",
       "1 A    West 99     18      \n",
       "2 B    West 98     22      \n",
       "3 C    East 92     26      \n",
       "4 D    East 87     19      "
      ]
     },
     "metadata": {},
     "output_type": "display_data"
    }
   ],
   "source": [
    "#define data frame\n",
    "df <- data.frame(team=c('A', 'B', 'C', 'D'),\n",
    "                 conf=c('West', 'West', 'East', 'East'),\n",
    "                 points=c(99, 98, 92, 87),\n",
    "                 rebounds=c(18, 22, 26, 19))\n",
    "\n",
    "#view data frame\n",
    "df"
   ]
  },
  {
   "cell_type": "code",
   "execution_count": 147,
   "id": "58d891cb-7788-4a0e-99f9-79b8bb63da0d",
   "metadata": {},
   "outputs": [
    {
     "data": {
      "text/html": [
       "<table>\n",
       "<thead><tr><th scope=col>team</th><th scope=col>conf</th><th scope=col>points</th><th scope=col>rebounds</th></tr></thead>\n",
       "<tbody>\n",
       "\t<tr><td>A </td><td>W </td><td>99</td><td>18</td></tr>\n",
       "\t<tr><td>B </td><td>W </td><td>98</td><td>22</td></tr>\n",
       "\t<tr><td>C </td><td>E </td><td>92</td><td>26</td></tr>\n",
       "\t<tr><td>D </td><td>E </td><td>87</td><td>19</td></tr>\n",
       "</tbody>\n",
       "</table>\n"
      ],
      "text/latex": [
       "\\begin{tabular}{r|llll}\n",
       " team & conf & points & rebounds\\\\\n",
       "\\hline\n",
       "\t A  & W  & 99 & 18\\\\\n",
       "\t B  & W  & 98 & 22\\\\\n",
       "\t C  & E  & 92 & 26\\\\\n",
       "\t D  & E  & 87 & 19\\\\\n",
       "\\end{tabular}\n"
      ],
      "text/markdown": [
       "\n",
       "| team | conf | points | rebounds |\n",
       "|---|---|---|---|\n",
       "| A  | W  | 99 | 18 |\n",
       "| B  | W  | 98 | 22 |\n",
       "| C  | E  | 92 | 26 |\n",
       "| D  | E  | 87 | 19 |\n",
       "\n"
      ],
      "text/plain": [
       "  team conf points rebounds\n",
       "1 A    W    99     18      \n",
       "2 B    W    98     22      \n",
       "3 C    E    92     26      \n",
       "4 D    E    87     19      "
      ]
     },
     "metadata": {},
     "output_type": "display_data"
    }
   ],
   "source": [
    "#replace 'West' and 'East' with 'W' and 'E'\n",
    "df$conf <- gsub('West', 'W', df$conf)\n",
    "df$conf <- gsub('East', 'E', df$conf)\n",
    "\n",
    "#view updated data frame\n",
    "df"
   ]
  },
  {
   "cell_type": "markdown",
   "id": "d7343a44-ba92-45fa-a337-b3af44bb630d",
   "metadata": {},
   "source": [
    "## 54. summary（） "
   ]
  },
  {
   "cell_type": "markdown",
   "id": "ebf3a191-af2f-422b-9f96-afe9560afc98",
   "metadata": {},
   "source": [
    "### ‎示例 1：summary（） Vector"
   ]
  },
  {
   "cell_type": "code",
   "execution_count": 148,
   "id": "e123b84d-049e-4643-ab3d-e52cfecc82ea",
   "metadata": {},
   "outputs": [
    {
     "data": {
      "text/plain": [
       "   Min. 1st Qu.  Median    Mean 3rd Qu.    Max. \n",
       "   3.00    5.00    9.00   10.23   13.00   21.00 "
      ]
     },
     "metadata": {},
     "output_type": "display_data"
    }
   ],
   "source": [
    "#define vector\n",
    "x <- c(3, 4, 4, 5, 7, 8, 9, 12, 13, 13, 15, 19, 21)\n",
    "\n",
    "#summarize values in vector\n",
    "summary(x)\n"
   ]
  },
  {
   "cell_type": "code",
   "execution_count": 149,
   "id": "962ebfcf-a543-46b0-8ed6-f9e81fd56e4f",
   "metadata": {},
   "outputs": [
    {
     "data": {
      "text/plain": [
       "   Min. 1st Qu.  Median    Mean 3rd Qu.    Max.    NA's \n",
       "   3.00    5.00    9.00   10.23   13.00   21.00       2 "
      ]
     },
     "metadata": {},
     "output_type": "display_data"
    }
   ],
   "source": [
    "#define vector\n",
    "x <- c(3, 4, 4, 5, 7, 8, 9, 12, 13, 13, 15, 19, 21, NA, NA)\n",
    "\n",
    "#summarize values in vector\n",
    "summary(x)"
   ]
  },
  {
   "cell_type": "markdown",
   "id": "06e05897-7094-463e-a984-154e641d2fe9",
   "metadata": {},
   "source": [
    "### Example 2: Using summary() with Data Frame"
   ]
  },
  {
   "cell_type": "code",
   "execution_count": 150,
   "id": "e6d18635-76b3-4369-8ccd-f655d42424a8",
   "metadata": {},
   "outputs": [
    {
     "data": {
      "text/plain": [
       " team      points        assists      rebounds   \n",
       " A:1   Min.   :86.0   Min.   :28   Min.   :24.0  \n",
       " B:1   1st Qu.:88.0   1st Qu.:31   1st Qu.:24.0  \n",
       " C:1   Median :90.0   Median :33   Median :28.0  \n",
       " D:1   Mean   :91.6   Mean   :33   Mean   :26.8  \n",
       " E:1   3rd Qu.:95.0   3rd Qu.:34   3rd Qu.:28.0  \n",
       "       Max.   :99.0   Max.   :39   Max.   :30.0  "
      ]
     },
     "metadata": {},
     "output_type": "display_data"
    }
   ],
   "source": [
    "#define data frame\n",
    "df <- data.frame(team=c('A', 'B', 'C', 'D', 'E'),\n",
    "                 points=c(99, 90, 86, 88, 95),\n",
    "                 assists=c(33, 28, 31, 39, 34),\n",
    "                 rebounds=c(30, 28, 24, 24, 28))\n",
    "\n",
    "#summarize every column in data frame\n",
    "summary(df)"
   ]
  },
  {
   "cell_type": "markdown",
   "id": "410519ba-01ff-48b5-8859-9a74733dac81",
   "metadata": {},
   "source": [
    "### Example 3: Using summary() with Specific Data Frame Columns"
   ]
  },
  {
   "cell_type": "code",
   "execution_count": 151,
   "id": "669c667a-3ed9-4a29-ab8e-6ef1b942fca3",
   "metadata": {},
   "outputs": [
    {
     "data": {
      "text/plain": [
       "     points        rebounds   \n",
       " Min.   :86.0   Min.   :24.0  \n",
       " 1st Qu.:88.0   1st Qu.:24.0  \n",
       " Median :90.0   Median :28.0  \n",
       " Mean   :91.6   Mean   :26.8  \n",
       " 3rd Qu.:95.0   3rd Qu.:28.0  \n",
       " Max.   :99.0   Max.   :30.0  "
      ]
     },
     "metadata": {},
     "output_type": "display_data"
    }
   ],
   "source": [
    "#define data frame\n",
    "df <- data.frame(team=c('A', 'B', 'C', 'D', 'E'),\n",
    "                 points=c(99, 90, 86, 88, 95),\n",
    "                 assists=c(33, 28, 31, 39, 34),\n",
    "                 rebounds=c(30, 28, 24, 24, 28))\n",
    "\n",
    "#summarize every column in data frame\n",
    "summary(df[c('points', 'rebounds')])"
   ]
  },
  {
   "cell_type": "markdown",
   "id": "6390c063-06dd-421a-9e66-ae0733085428",
   "metadata": {},
   "source": [
    "### Example 4: Using summary() with Regression Model"
   ]
  },
  {
   "cell_type": "code",
   "execution_count": 152,
   "id": "bef32d96-c514-4b73-a67b-9c86589076f2",
   "metadata": {},
   "outputs": [
    {
     "data": {
      "text/plain": [
       "\n",
       "Call:\n",
       "lm(formula = y ~ x, data = df)\n",
       "\n",
       "Residuals:\n",
       "     1      2      3      4      5      6      7 \n",
       " 6.515 -1.879 -6.242 -5.212  2.394  6.273 -1.848 \n",
       "\n",
       "Coefficients:\n",
       "            Estimate Std. Error t value Pr(>|t|)  \n",
       "(Intercept)  88.4848    22.1050   4.003   0.0103 *\n",
       "x             0.1212     0.6526   0.186   0.8599  \n",
       "---\n",
       "Signif. codes:  0 '***' 0.001 '**' 0.01 '*' 0.05 '.' 0.1 ' ' 1\n",
       "\n",
       "Residual standard error: 5.668 on 5 degrees of freedom\n",
       "Multiple R-squared:  0.006853,\tAdjusted R-squared:  -0.1918 \n",
       "F-statistic: 0.0345 on 1 and 5 DF,  p-value: 0.8599\n"
      ]
     },
     "metadata": {},
     "output_type": "display_data"
    }
   ],
   "source": [
    "#define data\n",
    "df <- data.frame(y=c(99, 90, 86, 88, 95, 99, 91),\n",
    "                 x=c(33, 28, 31, 39, 34, 35, 36))\n",
    "\n",
    "#fit linear regression model\n",
    "model <- lm(y~x, data=df)\n",
    "\n",
    "#summarize model fit\n",
    "summary(model)"
   ]
  },
  {
   "cell_type": "markdown",
   "id": "1c78b43c-8abe-44ed-816e-208c07841130",
   "metadata": {},
   "source": [
    "### Example 5: Using summary() with ANOVA Model"
   ]
  },
  {
   "cell_type": "code",
   "execution_count": 153,
   "id": "6a35a534-366f-4702-b3a3-b16b81e1a4aa",
   "metadata": {},
   "outputs": [
    {
     "data": {
      "text/plain": [
       "            Df Sum Sq Mean Sq F value   Pr(>F)    \n",
       "program      2  98.93   49.46   30.83 7.55e-11 ***\n",
       "Residuals   87 139.57    1.60                     \n",
       "---\n",
       "Signif. codes:  0 '***' 0.001 '**' 0.01 '*' 0.05 '.' 0.1 ' ' 1"
      ]
     },
     "metadata": {},
     "output_type": "display_data"
    }
   ],
   "source": [
    "#make this example reproducible\n",
    "set.seed(0)\n",
    "\n",
    "#create data frame\n",
    "data <- data.frame(program = rep(c(\"A\", \"B\", \"C\"), each = 30),\n",
    "                   weight_loss = c(runif(30, 0, 3),\n",
    "                                   runif(30, 0, 5),\n",
    "                                   runif(30, 1, 7)))\n",
    "\n",
    "#fit ANOVA model\n",
    "model <- aov(weight_loss ~ program, data = data)\n",
    "\n",
    "#summarize model fit\n",
    "summary(model)"
   ]
  },
  {
   "cell_type": "markdown",
   "id": "a0c12061-4a59-413e-b7c8-7394219712d2",
   "metadata": {},
   "source": [
    "## 55. colMeans() "
   ]
  },
  {
   "cell_type": "markdown",
   "id": "2e8aa577-30c9-44a2-b278-580f0ca7ead7",
   "metadata": {},
   "source": [
    "### Example 1: Calculate Mean of Every Column"
   ]
  },
  {
   "cell_type": "code",
   "execution_count": 154,
   "id": "4f24e034-d47b-46fd-a55a-740902638548",
   "metadata": {},
   "outputs": [
    {
     "data": {
      "text/html": [
       "<dl class=dl-horizontal>\n",
       "\t<dt>points</dt>\n",
       "\t\t<dd>91.8</dd>\n",
       "\t<dt>assists</dt>\n",
       "\t\t<dd>33</dd>\n",
       "\t<dt>rebounds</dt>\n",
       "\t\t<dd>26.8</dd>\n",
       "\t<dt>blocks</dt>\n",
       "\t\t<dd>3.6</dd>\n",
       "</dl>\n"
      ],
      "text/latex": [
       "\\begin{description*}\n",
       "\\item[points] 91.8\n",
       "\\item[assists] 33\n",
       "\\item[rebounds] 26.8\n",
       "\\item[blocks] 3.6\n",
       "\\end{description*}\n"
      ],
      "text/markdown": [
       "points\n",
       ":   91.8assists\n",
       ":   33rebounds\n",
       ":   26.8blocks\n",
       ":   3.6\n",
       "\n"
      ],
      "text/plain": [
       "  points  assists rebounds   blocks \n",
       "    91.8     33.0     26.8      3.6 "
      ]
     },
     "metadata": {},
     "output_type": "display_data"
    }
   ],
   "source": [
    "#create data frame\n",
    "df <- data.frame(points=c(99, 91, 86, 88, 95),\n",
    "                 assists=c(33, 28, 31, 39, 34),\n",
    "                 rebounds=c(30, 28, 24, 24, 28),\n",
    "                 blocks=c(1, 4, 11, 0, 2))\n",
    "\n",
    "#calculate column means\n",
    "colMeans(df)"
   ]
  },
  {
   "cell_type": "markdown",
   "id": "80fa8cde-2c56-4e89-a428-06eaae03d9af",
   "metadata": {},
   "source": [
    "### Example 2: Calculate Mean of Every Column & Exclude NA’s"
   ]
  },
  {
   "cell_type": "code",
   "execution_count": 155,
   "id": "1c7d6ac7-335d-4a1c-8f21-365bcde11c0e",
   "metadata": {},
   "outputs": [
    {
     "data": {
      "text/html": [
       "<dl class=dl-horizontal>\n",
       "\t<dt>points</dt>\n",
       "\t\t<dd>91.8</dd>\n",
       "\t<dt>assists</dt>\n",
       "\t\t<dd>34.25</dd>\n",
       "\t<dt>rebounds</dt>\n",
       "\t\t<dd>28.6666666666667</dd>\n",
       "\t<dt>blocks</dt>\n",
       "\t\t<dd>3.6</dd>\n",
       "</dl>\n"
      ],
      "text/latex": [
       "\\begin{description*}\n",
       "\\item[points] 91.8\n",
       "\\item[assists] 34.25\n",
       "\\item[rebounds] 28.6666666666667\n",
       "\\item[blocks] 3.6\n",
       "\\end{description*}\n"
      ],
      "text/markdown": [
       "points\n",
       ":   91.8assists\n",
       ":   34.25rebounds\n",
       ":   28.6666666666667blocks\n",
       ":   3.6\n",
       "\n"
      ],
      "text/plain": [
       "  points  assists rebounds   blocks \n",
       "91.80000 34.25000 28.66667  3.60000 "
      ]
     },
     "metadata": {},
     "output_type": "display_data"
    }
   ],
   "source": [
    "#create data frame with some NA values\n",
    "df <- data.frame(points=c(99, 91, 86, 88, 95),\n",
    "                 assists=c(33, NA, 31, 39, 34),\n",
    "                 rebounds=c(30, 28, NA, NA, 28),\n",
    "                 blocks=c(1, 4, 11, 0, 2))\n",
    "\n",
    "#calculate column means\n",
    "colMeans(df, na.rm=T)"
   ]
  },
  {
   "cell_type": "markdown",
   "id": "cf734b76-91d5-4f9b-9482-bb39b1680a5f",
   "metadata": {},
   "source": [
    "### Example 3: Calculate Mean of Specific Columns"
   ]
  },
  {
   "cell_type": "code",
   "execution_count": 156,
   "id": "0db6dba5-7781-4849-852a-c0d09658ba7d",
   "metadata": {},
   "outputs": [
    {
     "data": {
      "text/html": [
       "<dl class=dl-horizontal>\n",
       "\t<dt>points</dt>\n",
       "\t\t<dd>91.8</dd>\n",
       "\t<dt>blocks</dt>\n",
       "\t\t<dd>3.6</dd>\n",
       "</dl>\n"
      ],
      "text/latex": [
       "\\begin{description*}\n",
       "\\item[points] 91.8\n",
       "\\item[blocks] 3.6\n",
       "\\end{description*}\n"
      ],
      "text/markdown": [
       "points\n",
       ":   91.8blocks\n",
       ":   3.6\n",
       "\n"
      ],
      "text/plain": [
       "points blocks \n",
       "  91.8    3.6 "
      ]
     },
     "metadata": {},
     "output_type": "display_data"
    }
   ],
   "source": [
    "#create data frame\n",
    "df <- data.frame(points=c(99, 91, 86, 88, 95),\n",
    "                 assists=c(33, 28, 31, 39, 34),\n",
    "                 rebounds=c(30, 28, 24, 24, 28),\n",
    "                 blocks=c(1, 4, 11, 0, 2))\n",
    "\n",
    "#calculate column means for 'points' and 'blocks' columns\n",
    "colMeans(df[c('points', 'blocks')])"
   ]
  },
  {
   "cell_type": "code",
   "execution_count": 157,
   "id": "1730545c-45ed-4a91-b2b7-3fbe4441cb43",
   "metadata": {},
   "outputs": [
    {
     "data": {
      "text/html": [
       "<dl class=dl-horizontal>\n",
       "\t<dt>points</dt>\n",
       "\t\t<dd>91.8</dd>\n",
       "\t<dt>blocks</dt>\n",
       "\t\t<dd>3.6</dd>\n",
       "</dl>\n"
      ],
      "text/latex": [
       "\\begin{description*}\n",
       "\\item[points] 91.8\n",
       "\\item[blocks] 3.6\n",
       "\\end{description*}\n"
      ],
      "text/markdown": [
       "points\n",
       ":   91.8blocks\n",
       ":   3.6\n",
       "\n"
      ],
      "text/plain": [
       "points blocks \n",
       "  91.8    3.6 "
      ]
     },
     "metadata": {},
     "output_type": "display_data"
    }
   ],
   "source": [
    "#create data frame\n",
    "df <- data.frame(points=c(99, 91, 86, 88, 95),\n",
    "                 assists=c(33, 28, 31, 39, 34),\n",
    "                 rebounds=c(30, 28, 24, 24, 28),\n",
    "                 blocks=c(1, 4, 11, 0, 2))\n",
    "\n",
    "#calculate column means for columns in position 1 and 4\n",
    "colMeans(df[c(1, 4)])"
   ]
  },
  {
   "cell_type": "markdown",
   "id": "b4e7feba-021f-422a-afba-9f2767480701",
   "metadata": {},
   "source": [
    "### rowMeans()"
   ]
  },
  {
   "cell_type": "code",
   "execution_count": 158,
   "id": "2987d6da-9251-4a90-84cb-5b2e221bd02e",
   "metadata": {},
   "outputs": [
    {
     "data": {
      "text/html": [
       "<dl class=dl-horizontal>\n",
       "\t<dt>1</dt>\n",
       "\t\t<dd>40.75</dd>\n",
       "\t<dt>2</dt>\n",
       "\t\t<dd>37.75</dd>\n",
       "\t<dt>3</dt>\n",
       "\t\t<dd>38</dd>\n",
       "</dl>\n"
      ],
      "text/latex": [
       "\\begin{description*}\n",
       "\\item[1] 40.75\n",
       "\\item[2] 37.75\n",
       "\\item[3] 38\n",
       "\\end{description*}\n"
      ],
      "text/markdown": [
       "1\n",
       ":   40.752\n",
       ":   37.753\n",
       ":   38\n",
       "\n"
      ],
      "text/plain": [
       "    1     2     3 \n",
       "40.75 37.75 38.00 "
      ]
     },
     "metadata": {},
     "output_type": "display_data"
    }
   ],
   "source": [
    "#create data frame\n",
    "df <- data.frame(points=c(99, 91, 86, 88, 95),\n",
    "                 assists=c(33, 28, 31, 39, 34),\n",
    "                 rebounds=c(30, 28, 24, 24, 28),\n",
    "                 blocks=c(1, 4, 11, 0, 2))\n",
    "\n",
    "#calculate row means for first three rows only\n",
    "rowMeans(df[1:3, ])"
   ]
  },
  {
   "cell_type": "code",
   "execution_count": 159,
   "id": "1a99b7d8-8dab-4971-87c6-faab65cb6654",
   "metadata": {},
   "outputs": [
    {
     "data": {
      "text/html": [
       "<dl class=dl-horizontal>\n",
       "\t<dt>1</dt>\n",
       "\t\t<dd>40.75</dd>\n",
       "\t<dt>4</dt>\n",
       "\t\t<dd>37.75</dd>\n",
       "\t<dt>5</dt>\n",
       "\t\t<dd>39.75</dd>\n",
       "</dl>\n"
      ],
      "text/latex": [
       "\\begin{description*}\n",
       "\\item[1] 40.75\n",
       "\\item[4] 37.75\n",
       "\\item[5] 39.75\n",
       "\\end{description*}\n"
      ],
      "text/markdown": [
       "1\n",
       ":   40.754\n",
       ":   37.755\n",
       ":   39.75\n",
       "\n"
      ],
      "text/plain": [
       "    1     4     5 \n",
       "40.75 37.75 39.75 "
      ]
     },
     "metadata": {},
     "output_type": "display_data"
    }
   ],
   "source": [
    "#calculate row means for rows 1, 4, and 5\n",
    "rowMeans(df[c(1, 4, 5), ])"
   ]
  },
  {
   "cell_type": "markdown",
   "id": "61c425c1-62c1-47e4-952e-094d2a27d38d",
   "metadata": {},
   "source": [
    "## 56. pmax & pmin"
   ]
  },
  {
   "cell_type": "code",
   "execution_count": 160,
   "id": "0074b1c0-64db-42b5-97f0-33de6a6f67c4",
   "metadata": {},
   "outputs": [],
   "source": [
    "#define three vectors\n",
    "vector1 <- c(2, 2, 3, 4, 5, 6, 9)\n",
    "vector2 <- c(1, 2, 4, 3, 3, 5, 4)\n",
    "vector3 <- c(0, 4, 3, 12, 5, 8, 8)"
   ]
  },
  {
   "cell_type": "code",
   "execution_count": 161,
   "id": "7e2312ac-a06a-45ce-a4e5-bb4c0bb71dae",
   "metadata": {},
   "outputs": [
    {
     "data": {
      "text/html": [
       "<ol class=list-inline>\n",
       "\t<li>2</li>\n",
       "\t<li>4</li>\n",
       "\t<li>4</li>\n",
       "\t<li>12</li>\n",
       "\t<li>5</li>\n",
       "\t<li>8</li>\n",
       "\t<li>9</li>\n",
       "</ol>\n"
      ],
      "text/latex": [
       "\\begin{enumerate*}\n",
       "\\item 2\n",
       "\\item 4\n",
       "\\item 4\n",
       "\\item 12\n",
       "\\item 5\n",
       "\\item 8\n",
       "\\item 9\n",
       "\\end{enumerate*}\n"
      ],
      "text/markdown": [
       "1. 2\n",
       "2. 4\n",
       "3. 4\n",
       "4. 12\n",
       "5. 5\n",
       "6. 8\n",
       "7. 9\n",
       "\n",
       "\n"
      ],
      "text/plain": [
       "[1]  2  4  4 12  5  8  9"
      ]
     },
     "metadata": {},
     "output_type": "display_data"
    }
   ],
   "source": [
    "#find max value across vectors\n",
    "pmax(vector1, vector2, vector3)"
   ]
  },
  {
   "cell_type": "code",
   "execution_count": 162,
   "id": "633ba722-ece9-49ff-b353-aaf791162add",
   "metadata": {},
   "outputs": [
    {
     "data": {
      "text/html": [
       "<table>\n",
       "<thead><tr><th scope=col>team</th><th scope=col>steals</th><th scope=col>assists</th><th scope=col>rebounds</th></tr></thead>\n",
       "<tbody>\n",
       "\t<tr><td>A </td><td>24</td><td>33</td><td>30</td></tr>\n",
       "\t<tr><td>B </td><td>22</td><td>28</td><td>28</td></tr>\n",
       "\t<tr><td>C </td><td>36</td><td>31</td><td>24</td></tr>\n",
       "\t<tr><td>D </td><td>33</td><td>39</td><td>24</td></tr>\n",
       "\t<tr><td>E </td><td>30</td><td>34</td><td>41</td></tr>\n",
       "</tbody>\n",
       "</table>\n"
      ],
      "text/latex": [
       "\\begin{tabular}{r|llll}\n",
       " team & steals & assists & rebounds\\\\\n",
       "\\hline\n",
       "\t A  & 24 & 33 & 30\\\\\n",
       "\t B  & 22 & 28 & 28\\\\\n",
       "\t C  & 36 & 31 & 24\\\\\n",
       "\t D  & 33 & 39 & 24\\\\\n",
       "\t E  & 30 & 34 & 41\\\\\n",
       "\\end{tabular}\n"
      ],
      "text/markdown": [
       "\n",
       "| team | steals | assists | rebounds |\n",
       "|---|---|---|---|\n",
       "| A  | 24 | 33 | 30 |\n",
       "| B  | 22 | 28 | 28 |\n",
       "| C  | 36 | 31 | 24 |\n",
       "| D  | 33 | 39 | 24 |\n",
       "| E  | 30 | 34 | 41 |\n",
       "\n"
      ],
      "text/plain": [
       "  team steals assists rebounds\n",
       "1 A    24     33      30      \n",
       "2 B    22     28      28      \n",
       "3 C    36     31      24      \n",
       "4 D    33     39      24      \n",
       "5 E    30     34      41      "
      ]
     },
     "metadata": {},
     "output_type": "display_data"
    }
   ],
   "source": [
    "#create data frame\n",
    "df <- data.frame(team=c('A', 'B', 'C', 'D', 'E'),\n",
    "                 steals=c(24, 22, 36, 33, 30),\n",
    "                 assists=c(33, 28, 31, 39, 34),\n",
    "                 rebounds=c(30, 28, 24, 24, 41))\n",
    "\n",
    "#view data frame\n",
    "df"
   ]
  },
  {
   "cell_type": "code",
   "execution_count": null,
   "id": "f1ef0460-5293-40c2-ba14-2f01bde75f01",
   "metadata": {},
   "outputs": [],
   "source": []
  }
 ],
 "metadata": {
  "celltoolbar": "原始单元格格式",
  "kernelspec": {
   "display_name": "R",
   "language": "R",
   "name": "ir"
  },
  "language_info": {
   "codemirror_mode": "r",
   "file_extension": ".r",
   "mimetype": "text/x-r-source",
   "name": "R",
   "pygments_lexer": "r",
   "version": "3.6.1"
  }
 },
 "nbformat": 4,
 "nbformat_minor": 5
}
